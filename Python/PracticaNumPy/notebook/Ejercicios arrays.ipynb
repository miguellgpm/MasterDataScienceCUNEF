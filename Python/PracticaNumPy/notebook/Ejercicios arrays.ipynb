{
 "cells": [
  {
   "cell_type": "markdown",
   "metadata": {},
   "source": [
    "# Ejercicios "
   ]
  },
  {
   "cell_type": "markdown",
   "metadata": {},
   "source": [
    "Los enlaces que te encuentres en esta página, solo funcionan desde el formato html, no desde el notebook una vez descargado."
   ]
  },
  {
   "cell_type": "code",
   "execution_count": 2,
   "metadata": {},
   "outputs": [],
   "source": [
    "import numpy as np"
   ]
  },
  {
   "cell_type": "markdown",
   "metadata": {},
   "source": [
    "## Ejercicio 1"
   ]
  },
  {
   "cell_type": "markdown",
   "metadata": {},
   "source": [
    "Dos niños están haciendo una colección de cromos. Cada cromo tiene asignado un número entero entre 1 y 200.\n",
    "\n",
    "* Los cromos que tiene Juan se encuentran en el fichero [juan.txt](./datos/col_juan.txt). La primera columna representa el número asociado al cromo y la segunda columna representa el número de cromos con ese número que tiene Juan.\n",
    "\n",
    "* Los cromos que tiene Pedro se encuentran en el fichero [pedro.txt](./datos/col_pedro.txt). La primera columna representa el número asociado al cromo y la segunda columna representa el número de cromos con ese número que tiene Pedro.\n",
    "\n",
    "__a)__ Crear un array de `numpy` con los datos de cada una de las colecciones. Los arrays han de llamarse `juan`y `pedro`.\n",
    "\n",
    "   * Descarga los ficheros  en tu directorio de trabajo.\n",
    "   * Carga cada uno de los ficheros mediante la función `loadtxt`. Usa el parámetro  `delimiter` con valor `,`. Usa el parámetro `dtype` para indicar que los valores sean de tipo `int`."
   ]
  },
  {
   "cell_type": "code",
   "execution_count": 2,
   "metadata": {
    "ExecuteTime": {
     "end_time": "2019-01-04T13:46:15.191779Z",
     "start_time": "2019-01-04T13:46:15.182881Z"
    }
   },
   "outputs": [
    {
     "data": {
      "text/plain": [
       "array([[  2,   4],\n",
       "       [  4,   1],\n",
       "       [  6,   9],\n",
       "       [  7,   4],\n",
       "       [  9,  10],\n",
       "       [ 10,  10],\n",
       "       [ 11,  10],\n",
       "       [ 13,  10],\n",
       "       [ 14,  19],\n",
       "       [ 15,   5],\n",
       "       [ 18,  16],\n",
       "       [ 19,  14],\n",
       "       [ 20,  13],\n",
       "       [ 22,  17],\n",
       "       [ 23,   9],\n",
       "       [ 24,  15],\n",
       "       [ 26,  14],\n",
       "       [ 27,  11],\n",
       "       [ 28,  10],\n",
       "       [ 29,  17],\n",
       "       [ 31,   1],\n",
       "       [ 32,   9],\n",
       "       [ 35,  18],\n",
       "       [ 36,   1],\n",
       "       [ 39,  10],\n",
       "       [ 40,  12],\n",
       "       [ 42,  12],\n",
       "       [ 43,  14],\n",
       "       [ 44,   6],\n",
       "       [ 47,   6],\n",
       "       [ 49,   4],\n",
       "       [ 50,  11],\n",
       "       [ 51,  13],\n",
       "       [ 53,  16],\n",
       "       [ 54,   9],\n",
       "       [ 56,  10],\n",
       "       [ 58,  16],\n",
       "       [ 59,  14],\n",
       "       [ 60,  14],\n",
       "       [ 61,  16],\n",
       "       [ 63,   3],\n",
       "       [ 64,   5],\n",
       "       [ 65,   5],\n",
       "       [ 68,  11],\n",
       "       [ 71,  18],\n",
       "       [ 73,   8],\n",
       "       [ 74,  11],\n",
       "       [ 77,  13],\n",
       "       [ 78,  13],\n",
       "       [ 79,  16],\n",
       "       [ 80,   3],\n",
       "       [ 83,  10],\n",
       "       [ 84,  13],\n",
       "       [ 85,  12],\n",
       "       [ 86,  17],\n",
       "       [ 87,  18],\n",
       "       [ 88,  18],\n",
       "       [ 89,  12],\n",
       "       [ 90,   8],\n",
       "       [ 93,  15],\n",
       "       [ 94,  14],\n",
       "       [ 95,  14],\n",
       "       [ 97,  17],\n",
       "       [ 98,  14],\n",
       "       [ 99,  11],\n",
       "       [101,  19],\n",
       "       [102,  19],\n",
       "       [103,   2],\n",
       "       [104,  10],\n",
       "       [109,  11],\n",
       "       [112,  14],\n",
       "       [115,  13],\n",
       "       [117,   1],\n",
       "       [118,   4],\n",
       "       [120,  16],\n",
       "       [121,   3],\n",
       "       [123,  14],\n",
       "       [126,   4],\n",
       "       [128,   7],\n",
       "       [130,   8],\n",
       "       [131,  17],\n",
       "       [134,  18],\n",
       "       [135,   9],\n",
       "       [136,   3],\n",
       "       [141,   4],\n",
       "       [143,  15],\n",
       "       [145,  17],\n",
       "       [147,   8],\n",
       "       [149,  12],\n",
       "       [150,   3],\n",
       "       [152,   5],\n",
       "       [153,   7],\n",
       "       [156,   4],\n",
       "       [157,  15],\n",
       "       [160,   8],\n",
       "       [161,   7],\n",
       "       [162,   4],\n",
       "       [163,  13],\n",
       "       [164,  15],\n",
       "       [165,   7],\n",
       "       [166,   5],\n",
       "       [167,  15],\n",
       "       [168,   4],\n",
       "       [169,  18],\n",
       "       [170,   7],\n",
       "       [171,  11],\n",
       "       [172,  18],\n",
       "       [174,  17],\n",
       "       [175,  10],\n",
       "       [177,  19],\n",
       "       [178,  14],\n",
       "       [179,   6],\n",
       "       [182,   4],\n",
       "       [183,  15],\n",
       "       [187,   8],\n",
       "       [188,  14],\n",
       "       [189,  14],\n",
       "       [191,   5],\n",
       "       [192,  11],\n",
       "       [193,  11],\n",
       "       [195,  12],\n",
       "       [196,   1],\n",
       "       [197,   3],\n",
       "       [198,  19]])"
      ]
     },
     "execution_count": 2,
     "metadata": {},
     "output_type": "execute_result"
    }
   ],
   "source": [
    "# Sol: \n",
    "pedro = np.loadtxt('./col_pedro.txt', delimiter = ',', dtype = int)\n",
    "pedro"
   ]
  },
  {
   "cell_type": "code",
   "execution_count": 3,
   "metadata": {},
   "outputs": [
    {
     "data": {
      "text/plain": [
       "array([[  2,   4],\n",
       "       [  5,   5],\n",
       "       [  8,  13],\n",
       "       [ 15,  11],\n",
       "       [ 25,   4],\n",
       "       [ 28,  14],\n",
       "       [ 31,  15],\n",
       "       [ 33,  17],\n",
       "       [ 37,   7],\n",
       "       [ 40,   3],\n",
       "       [ 41,   1],\n",
       "       [ 42,   9],\n",
       "       [ 43,   3],\n",
       "       [ 49,   6],\n",
       "       [ 53,   8],\n",
       "       [ 54,  14],\n",
       "       [ 57,  10],\n",
       "       [ 60,  10],\n",
       "       [ 61,   2],\n",
       "       [ 62,  15],\n",
       "       [ 67,   3],\n",
       "       [ 68,   5],\n",
       "       [ 70,  14],\n",
       "       [ 71,  10],\n",
       "       [ 74,   9],\n",
       "       [ 80,  16],\n",
       "       [ 90,   1],\n",
       "       [ 97,  17],\n",
       "       [105,  15],\n",
       "       [108,  18],\n",
       "       [110,  15],\n",
       "       [111,   2],\n",
       "       [112,   6],\n",
       "       [116,   9],\n",
       "       [117,   5],\n",
       "       [123,  10],\n",
       "       [127,  10],\n",
       "       [130,  17],\n",
       "       [132,   3],\n",
       "       [133,   4],\n",
       "       [134,   7],\n",
       "       [135,   9],\n",
       "       [137,  14],\n",
       "       [142,   7],\n",
       "       [143,  10],\n",
       "       [144,   3],\n",
       "       [145,  15],\n",
       "       [148,   3],\n",
       "       [152,  11],\n",
       "       [153,   5],\n",
       "       [157,  10],\n",
       "       [158,  12],\n",
       "       [159,   2],\n",
       "       [160,  16],\n",
       "       [163,   5],\n",
       "       [164,   3],\n",
       "       [166,  19],\n",
       "       [167,  17],\n",
       "       [168,   7],\n",
       "       [170,  13],\n",
       "       [171,  15],\n",
       "       [172,  15],\n",
       "       [178,  12],\n",
       "       [182,   2],\n",
       "       [183,   2],\n",
       "       [192,   2],\n",
       "       [197,  14],\n",
       "       [198,   9]])"
      ]
     },
     "execution_count": 3,
     "metadata": {},
     "output_type": "execute_result"
    }
   ],
   "source": [
    "juan = np.loadtxt('./col_juan.txt', delimiter = ',', dtype = int)\n",
    "juan"
   ]
  },
  {
   "cell_type": "markdown",
   "metadata": {},
   "source": [
    "__b)__ Calcula el número de cromos diferentes que tiene cada niño. "
   ]
  },
  {
   "cell_type": "code",
   "execution_count": 10,
   "metadata": {
    "ExecuteTime": {
     "end_time": "2019-01-04T13:59:53.267589Z",
     "start_time": "2019-01-04T13:59:53.264120Z"
    }
   },
   "outputs": [
    {
     "data": {
      "text/plain": [
       "(68, 124)"
      ]
     },
     "execution_count": 10,
     "metadata": {},
     "output_type": "execute_result"
    }
   ],
   "source": [
    "len(juan[:, 0]), len(pedro[:, 0])"
   ]
  },
  {
   "cell_type": "markdown",
   "metadata": {},
   "source": [
    "__c)__ Calcula el número de cromos totales que tiene cada niño (contando los cromos repetidos). "
   ]
  },
  {
   "cell_type": "code",
   "execution_count": 14,
   "metadata": {
    "ExecuteTime": {
     "end_time": "2019-01-04T13:59:59.450302Z",
     "start_time": "2019-01-04T13:59:59.447330Z"
    }
   },
   "outputs": [
    {
     "data": {
      "text/plain": [
       "(619, 1326)"
      ]
     },
     "execution_count": 14,
     "metadata": {},
     "output_type": "execute_result"
    }
   ],
   "source": [
    "np.sum(juan[:, 1]), np.sum(pedro[:, 1])"
   ]
  },
  {
   "cell_type": "markdown",
   "metadata": {},
   "source": [
    "__d)__ Calcula el número de cromos que aparecen en las dos colecciones. Puedes usar la función `np.intersect1d`."
   ]
  },
  {
   "cell_type": "code",
   "execution_count": 16,
   "metadata": {
    "ExecuteTime": {
     "end_time": "2019-01-04T14:00:50.965063Z",
     "start_time": "2019-01-04T14:00:50.960103Z"
    }
   },
   "outputs": [
    {
     "data": {
      "text/plain": [
       "44"
      ]
     },
     "execution_count": 16,
     "metadata": {},
     "output_type": "execute_result"
    }
   ],
   "source": [
    "len(np.intersect1d(juan[:, 0],pedro[:, 0]))"
   ]
  },
  {
   "cell_type": "markdown",
   "metadata": {},
   "source": [
    "__e)__ Entre los dos niños, ¿forman la colección completa?. Puedes usar la función `np.union1d`."
   ]
  },
  {
   "cell_type": "code",
   "execution_count": 28,
   "metadata": {
    "ExecuteTime": {
     "end_time": "2019-01-04T14:01:31.596336Z",
     "start_time": "2019-01-04T14:01:31.592867Z"
    }
   },
   "outputs": [
    {
     "name": "stdout",
     "output_type": "stream",
     "text": [
      "Tienen 148 cromos\n"
     ]
    }
   ],
   "source": [
    "cromos_tienen = np.union1d(juan[:, 0], pedro[:, 0])\n",
    "print('Tienen', len(cromos_tienen), 'cromos')"
   ]
  },
  {
   "cell_type": "markdown",
   "metadata": {},
   "source": [
    "__f)__ ¿Qué números faltan para tener la colección completa?\n",
    "\n",
    "* Puedes generar un array de todos los cromos de la colección con la función `arange`.\n",
    "* Usa la función `np.in1d` "
   ]
  },
  {
   "cell_type": "code",
   "execution_count": 43,
   "metadata": {
    "ExecuteTime": {
     "end_time": "2019-01-04T14:01:07.241500Z",
     "start_time": "2019-01-04T14:01:07.238035Z"
    }
   },
   "outputs": [
    {
     "data": {
      "text/plain": [
       "array([False,  True, False,  True,  True,  True,  True,  True,  True,\n",
       "        True,  True, False,  True,  True,  True, False, False,  True,\n",
       "        True,  True, False,  True,  True,  True,  True,  True,  True,\n",
       "        True,  True, False,  True,  True,  True, False,  True,  True,\n",
       "        True, False,  True,  True,  True,  True,  True,  True, False,\n",
       "       False,  True, False,  True,  True,  True, False,  True,  True,\n",
       "       False,  True,  True,  True,  True,  True,  True,  True,  True,\n",
       "        True,  True, False,  True,  True, False,  True,  True, False,\n",
       "        True,  True, False, False,  True,  True,  True,  True, False,\n",
       "       False,  True,  True,  True,  True,  True,  True,  True,  True,\n",
       "       False, False,  True,  True,  True, False,  True,  True,  True,\n",
       "       False,  True,  True,  True,  True,  True, False, False,  True,\n",
       "        True,  True,  True,  True, False, False,  True,  True,  True,\n",
       "        True, False,  True,  True, False,  True, False, False,  True,\n",
       "        True,  True, False,  True,  True,  True,  True,  True,  True,\n",
       "        True,  True, False, False, False,  True,  True,  True,  True,\n",
       "        True, False,  True,  True,  True,  True, False,  True,  True,\n",
       "       False, False,  True,  True,  True,  True,  True,  True,  True,\n",
       "        True,  True,  True,  True,  True,  True,  True,  True,  True,\n",
       "        True, False,  True,  True, False,  True,  True,  True, False,\n",
       "       False,  True,  True, False, False, False,  True,  True,  True,\n",
       "       False,  True,  True,  True, False,  True,  True,  True,  True,\n",
       "       False, False])"
      ]
     },
     "execution_count": 43,
     "metadata": {},
     "output_type": "execute_result"
    }
   ],
   "source": [
    "cromos_tienen2 = np.array(cromos_tienen)\n",
    "todos_cromos = np.arange(1, 201)\n",
    "faltan_posicion = np.in1d(todos_cromos, cromos_tienen)\n",
    "faltan_posicion"
   ]
  },
  {
   "cell_type": "code",
   "execution_count": 44,
   "metadata": {},
   "outputs": [
    {
     "data": {
      "text/plain": [
       "array([  1,   3,  12,  16,  17,  21,  30,  34,  38,  45,  46,  48,  52,\n",
       "        55,  66,  69,  72,  75,  76,  81,  82,  91,  92,  96, 100, 106,\n",
       "       107, 113, 114, 119, 122, 124, 125, 129, 138, 139, 140, 146, 151,\n",
       "       154, 155, 173, 176, 180, 181, 184, 185, 186, 190, 194, 199, 200])"
      ]
     },
     "execution_count": 44,
     "metadata": {},
     "output_type": "execute_result"
    }
   ],
   "source": [
    "todos_cromos[faltan_posicion == False]"
   ]
  },
  {
   "cell_type": "markdown",
   "metadata": {},
   "source": [
    "# Ejercicio 2"
   ]
  },
  {
   "cell_type": "markdown",
   "metadata": {},
   "source": [
    "El fichero [tips.txt](./datos/tips.txt) recoge los datos asociados a las reservas de un restaurante durante un periodo de tiempo. Muestra los datos de 6 variables numéricas:\n",
    "\n",
    "* El precio de la factura, \n",
    "* La propina asociada a la factura, \n",
    "* El sexo de la persona que hizo la reserva (1=Hombre, 2=Mujer),\n",
    "* Si es una reserva para fumadores o no (0 = No Fumadores, 1 = Fumadores),\n",
    "* El día de la semana (1 = Lunes, ... , 7 = Domingo),\n",
    "* El número de comensales.\n",
    "\n",
    "Haz una pequeña exploración de los datos del fichero. Observa que el separador de datos es el símbolo coma(,).\n",
    "\n",
    "Realiza la carga de los datos con la función __loadtxt__ del módulo __NumPy__. El array devuelto por __loadtxt__ se llamará __tips__."
   ]
  },
  {
   "cell_type": "code",
   "execution_count": 3,
   "metadata": {},
   "outputs": [
    {
     "data": {
      "text/plain": [
       "array([[16.99,  1.01,  2.  ,  0.  ,  7.  ,  2.  ],\n",
       "       [10.34,  1.66,  1.  ,  0.  ,  7.  ,  3.  ],\n",
       "       [21.01,  3.5 ,  1.  ,  0.  ,  7.  ,  3.  ],\n",
       "       ...,\n",
       "       [22.67,  2.  ,  1.  ,  1.  ,  6.  ,  2.  ],\n",
       "       [17.82,  1.75,  1.  ,  0.  ,  6.  ,  2.  ],\n",
       "       [18.78,  3.  ,  2.  ,  0.  ,  4.  ,  2.  ]])"
      ]
     },
     "execution_count": 3,
     "metadata": {},
     "output_type": "execute_result"
    }
   ],
   "source": [
    "import numpy as np \n",
    "\n",
    "import matplotlib.pyplot as plt\n",
    "%matplotlib inline\n",
    "\n",
    "tips = np.loadtxt('./tips.txt', delimiter = ',')\n",
    "tips"
   ]
  },
  {
   "cell_type": "markdown",
   "metadata": {},
   "source": [
    "__a)__ ¿Cuántas filas hemos cargado?\n"
   ]
  },
  {
   "cell_type": "code",
   "execution_count": 46,
   "metadata": {},
   "outputs": [
    {
     "data": {
      "text/plain": [
       "(244, 6)"
      ]
     },
     "execution_count": 46,
     "metadata": {},
     "output_type": "execute_result"
    }
   ],
   "source": [
    "tips.shape"
   ]
  },
  {
   "cell_type": "markdown",
   "metadata": {},
   "source": [
    "__b)__ Muestra las 10 primeras filas"
   ]
  },
  {
   "cell_type": "code",
   "execution_count": 47,
   "metadata": {},
   "outputs": [
    {
     "data": {
      "text/plain": [
       "array([[16.99,  1.01,  2.  ,  0.  ,  7.  ,  2.  ],\n",
       "       [10.34,  1.66,  1.  ,  0.  ,  7.  ,  3.  ],\n",
       "       [21.01,  3.5 ,  1.  ,  0.  ,  7.  ,  3.  ],\n",
       "       [23.68,  3.31,  1.  ,  0.  ,  7.  ,  2.  ],\n",
       "       [24.59,  3.61,  2.  ,  0.  ,  7.  ,  4.  ],\n",
       "       [25.29,  4.71,  1.  ,  0.  ,  7.  ,  4.  ],\n",
       "       [ 8.77,  2.  ,  1.  ,  0.  ,  7.  ,  2.  ],\n",
       "       [26.88,  3.12,  1.  ,  0.  ,  7.  ,  4.  ],\n",
       "       [15.04,  1.96,  1.  ,  0.  ,  7.  ,  2.  ],\n",
       "       [14.78,  3.23,  1.  ,  0.  ,  7.  ,  2.  ]])"
      ]
     },
     "execution_count": 47,
     "metadata": {},
     "output_type": "execute_result"
    }
   ],
   "source": [
    "tips[0:10,]"
   ]
  },
  {
   "cell_type": "markdown",
   "metadata": {},
   "source": [
    "__c)__ Calcula el importe máximo y mínimo de las facturas. El importe de la factura es la columna que ocupa la posición 0 en el array __tips__.\n",
    "\n"
   ]
  },
  {
   "cell_type": "code",
   "execution_count": 50,
   "metadata": {},
   "outputs": [
    {
     "data": {
      "text/plain": [
       "(50.81, 3.07)"
      ]
     },
     "execution_count": 50,
     "metadata": {},
     "output_type": "execute_result"
    }
   ],
   "source": [
    "np.max(tips[:, 0]), np.min(tips[:, 0])"
   ]
  },
  {
   "cell_type": "code",
   "execution_count": 4,
   "metadata": {},
   "outputs": [
    {
     "data": {
      "text/plain": [
       "array([19.78594262,  2.99827869])"
      ]
     },
     "execution_count": 4,
     "metadata": {},
     "output_type": "execute_result"
    }
   ],
   "source": [
    "np.mean(tips[:, :2], axis = 0)"
   ]
  },
  {
   "cell_type": "markdown",
   "metadata": {},
   "source": [
    "__d)__ Representa gráficamente mediante un diagrama de caja los datos correspondientes al importe de la factura. Puedes utilizar la función __boxplot__."
   ]
  },
  {
   "cell_type": "code",
   "execution_count": 49,
   "metadata": {},
   "outputs": [
    {
     "data": {
      "image/png": "[encoded data removed]",
      "text/plain": [
       "<Figure size 720x360 with 1 Axes>"
      ]
     },
     "metadata": {
      "needs_background": "light"
     },
     "output_type": "display_data"
    }
   ],
   "source": [
    "fig, ax = plt.subplots(1, figsize=(10,5))\n",
    "\n",
    "# una cuadrícula en la gráfica\n",
    "ax.grid(True) \n",
    "ax.boxplot(tips[:, :2])          # representamos las dos variables (las dos columnas)\n",
    "\n",
    "ax.set_title('BoxPlot')\n",
    "ax.set_xticklabels(['Importe', 'Propina']);"
   ]
  },
  {
   "cell_type": "code",
   "execution_count": 16,
   "metadata": {},
   "outputs": [
    {
     "data": {
      "image/png": "[encoded data removed]",
      "text/plain": [
       "<Figure size 720x360 with 2 Axes>"
      ]
     },
     "metadata": {
      "needs_background": "light"
     },
     "output_type": "display_data"
    }
   ],
   "source": [
    "# Mismo gráfico que el anterior pero dividido en dos\n",
    "\n",
    "fig, (ax, ax2) = plt.subplots(1, 2, figsize = (10, 5))\n",
    "\n",
    "# Opción: Pinta una cuadrícula en la gráfica\n",
    "ax.grid(True) \n",
    "ax.boxplot(tips[:, 0]) \n",
    "\n",
    "ax2.grid(True) \n",
    "ax2.boxplot(tips[:, 1])\n",
    "\n",
    "ax.set_title('BoxPlot')\n",
    "ax.set_xticklabels(['Importe'])\n",
    "\n",
    "ax2.set_title('BoxPlot')\n",
    "ax2.set_xticklabels(['Propina']);"
   ]
  },
  {
   "cell_type": "markdown",
   "metadata": {},
   "source": [
    "__e)__  Representa gráficamente la relación entre el importe de la factura y la propina. Genera un diagrama de dispersión utilizando la función __scatter__.\n",
    "\n"
   ]
  },
  {
   "cell_type": "code",
   "execution_count": 20,
   "metadata": {},
   "outputs": [
    {
     "data": {
      "image/png": "[encoded data removed]",
      "text/plain": [
       "<Figure size 720x360 with 1 Axes>"
      ]
     },
     "metadata": {
      "needs_background": "light"
     },
     "output_type": "display_data"
    }
   ],
   "source": [
    "fig, ax1 = plt.subplots(nrows = 1, figsize = (10, 5))   \n",
    "\n",
    "importe = tips[:, 0]\n",
    "propina = tips[:, 1]\n",
    "\n",
    "ax1.scatter(importe, propina, marker = 'o') # c = 'red' para cambiar el color de los puntos\n",
    "ax1.set_title('Diagrama de dispersion')\n",
    "ax1.set_xlabel('Importe')\n",
    "ax1.set_ylabel('Propina');"
   ]
  },
  {
   "cell_type": "markdown",
   "metadata": {},
   "source": [
    "__f)__ Representa gráficamente la relación entre el importe de la factura y la propina. Genera un diagrama de dispersión utilizando la función __scatter__. Añade una tercera dimensión que será representada mediante distintos colores. La tercera dimensión se corresponde al sexo. Así podremos ver las facturas de los hombres y las de las mujeres. El sexo se corresponde con la variable en la posición 2 del array __tips__.\n"
   ]
  },
  {
   "cell_type": "code",
   "execution_count": 52,
   "metadata": {},
   "outputs": [
    {
     "data": {
      "image/png": "[encoded data removed]",
      "text/plain": [
       "<Figure size 720x360 with 1 Axes>"
      ]
     },
     "metadata": {
      "needs_background": "light"
     },
     "output_type": "display_data"
    }
   ],
   "source": [
    "fig, ax1 = plt.subplots(nrows = 1, figsize = (10, 5))   \n",
    "\n",
    "importe = tips[:, 0]\n",
    "propina = tips[:, 1]\n",
    "sexo    = tips[:, 2]\n",
    "\n",
    "ax1.scatter(importe, propina, marker = 'o', c = sexo)    \n",
    "ax1.set_title('Diagrama de dispersion')\n",
    "ax1.set_xlabel('Importe')\n",
    "ax1.set_ylabel('Propina');"
   ]
  },
  {
   "cell_type": "markdown",
   "metadata": {},
   "source": [
    "__f)__ Calcula la media del número de comensales."
   ]
  },
  {
   "cell_type": "code",
   "execution_count": 55,
   "metadata": {},
   "outputs": [
    {
     "data": {
      "text/plain": [
       "2.57"
      ]
     },
     "execution_count": 55,
     "metadata": {},
     "output_type": "execute_result"
    }
   ],
   "source": [
    "round(np.mean([tips[:, -1]]), 2)"
   ]
  },
  {
   "cell_type": "markdown",
   "metadata": {},
   "source": [
    "__g)__ Calcula el coeficiente de correlación entre el importe y la propina."
   ]
  },
  {
   "cell_type": "code",
   "execution_count": 56,
   "metadata": {},
   "outputs": [
    {
     "data": {
      "text/plain": [
       "array([[1.        , 0.67573411],\n",
       "       [0.67573411, 1.        ]])"
      ]
     },
     "execution_count": 56,
     "metadata": {},
     "output_type": "execute_result"
    }
   ],
   "source": [
    "np.corrcoef(tips[:, 0],tips[:, 1])"
   ]
  },
  {
   "cell_type": "markdown",
   "metadata": {},
   "source": [
    "__h)__ Importe medio de factura de las mujeres fumadoras."
   ]
  },
  {
   "cell_type": "code",
   "execution_count": 60,
   "metadata": {},
   "outputs": [
    {
     "data": {
      "text/plain": [
       "17.98"
      ]
     },
     "execution_count": 60,
     "metadata": {},
     "output_type": "execute_result"
    }
   ],
   "source": [
    "mujeres_fumadoras = tips[(tips[:,2] == 2) & (tips[:,3] == 1)]\n",
    "round(np.mean(mujeres_fumadoras[:,0]),2)"
   ]
  },
  {
   "cell_type": "markdown",
   "metadata": {},
   "source": [
    "__i)__ Calcula la mediana del importe de la factura de los hombres."
   ]
  },
  {
   "cell_type": "code",
   "execution_count": 65,
   "metadata": {},
   "outputs": [
    {
     "data": {
      "text/plain": [
       "18.35"
      ]
     },
     "execution_count": 65,
     "metadata": {},
     "output_type": "execute_result"
    }
   ],
   "source": [
    "hombres = tips[tips[:, 2] == 1] \n",
    "np.median(hombres[:, 0])"
   ]
  },
  {
   "cell_type": "markdown",
   "metadata": {},
   "source": [
    "__j)__ Calcula el importe total pagado (importe factura + propina)."
   ]
  },
  {
   "cell_type": "code",
   "execution_count": 23,
   "metadata": {},
   "outputs": [
    {
     "data": {
      "text/plain": [
       "array([18.  , 12.  , 24.51, 26.99, 28.2 , 30.  , 10.77, 30.  , 17.  ,\n",
       "       18.01, 11.98, 40.26, 16.99, 21.43, 17.85, 25.5 , 12.  , 20.  ,\n",
       "       20.47, 24.  , 22.  , 23.04, 18.  , 47.  , 23.  , 20.15, 15.37,\n",
       "       14.69, 26.  , 22.65, 11.  , 20.85, 18.06, 23.14, 21.05, 27.66,\n",
       "       18.31, 20.  , 21.  , 36.27, 18.28, 20.  , 17.  , 11.  , 36.  ,\n",
       "       21.29, 27.23, 38.4 , 30.6 , 21.04, 15.04, 12.89, 40.01, 11.5 ,\n",
       "       29.9 , 23.  , 41.01, 27.91, 13.  , 55.  , 23.5 , 15.81, 13.  ,\n",
       "       22.05, 20.23, 23.23, 18.92,  4.07, 22.24, 17.1 , 13.99, 20.07,\n",
       "       30.  , 30.28, 16.93, 11.76, 21.  , 31.2 , 25.76, 20.  , 22.44,\n",
       "       20.06, 11.9 , 37.68, 18.01, 40.  , 15.03, 22.28, 30.56, 24.16,\n",
       "       31.97, 25.99,  6.75, 20.62, 26.  , 44.9 , 31.28, 13.53, 24.01,\n",
       "       13.96, 13.85, 18.38, 46.8 , 25.9 , 25.  , 17.  , 24.55, 29.5 ,\n",
       "       22.  , 18.31, 17.  ,  8.25, 42.07, 26.5 , 29.71, 20.81, 35.  ,\n",
       "       12.15, 14.23, 27.  , 14.  , 15.1 , 16.76, 17.95, 15.  , 34.  ,\n",
       "       10.  , 16.52, 13.38, 25.  , 20.58, 23.1 , 12.67, 14.26, 21.51,\n",
       "        9.76, 12.33, 16.15, 18.  , 15.91, 20.97, 41.  , 46.19, 32.05,\n",
       "       18.73,  9.85, 20.  , 13.5 , 11.51,  9.51, 16.57, 15.13, 20.  ,\n",
       "       26.55, 21.77, 34.99, 53.17, 28.75, 16.  , 18.49, 25.  , 15.16,\n",
       "       18.21, 15.81, 20.51, 28.  , 23.  , 36.21, 12.2 , 12.63, 60.81,\n",
       "       18.97, 12.4 , 35.03, 20.82, 36.01, 19.89, 16.48, 13.6 , 38.18,\n",
       "       38.33, 28.98, 48.85, 29.67, 43.55, 25.69, 24.4 , 32.46, 21.65,\n",
       "       27.1 , 17.19, 24.  , 31.  , 17.5 , 20.58,  9.  , 12.34, 48.11,\n",
       "       15.  , 15.51, 22.71, 14.75, 15.  , 18.9 , 24.53, 19.7 , 30.  ,\n",
       "       41.73, 26.3 , 14.99, 32.06, 31.05, 57.33, 15.77, 34.67, 14.  ,\n",
       "       31.15, 13.09,  9.18, 33.23, 14.36, 16.9 , 10.5 , 18.98, 15.  ,\n",
       "       18.77, 12.09, 23.45, 16.  , 25.  , 26.01, 18.69, 15.  , 12.24,\n",
       "       18.53, 11.32, 13.6 , 34.  , 40.5 , 34.95, 29.18, 24.67, 19.57,\n",
       "       21.78])"
      ]
     },
     "execution_count": 23,
     "metadata": {},
     "output_type": "execute_result"
    }
   ],
   "source": [
    "total = tips[:, 0] + tips[:, 1]\n",
    "total"
   ]
  },
  {
   "cell_type": "code",
   "execution_count": 26,
   "metadata": {},
   "outputs": [
    {
     "data": {
      "text/plain": [
       "array([[16.99,  1.01,  2.  , ...,  7.  ,  2.  , 18.  ],\n",
       "       [10.34,  1.66,  1.  , ...,  7.  ,  3.  , 12.  ],\n",
       "       [21.01,  3.5 ,  1.  , ...,  7.  ,  3.  , 24.51],\n",
       "       ...,\n",
       "       [22.67,  2.  ,  1.  , ...,  6.  ,  2.  , 24.67],\n",
       "       [17.82,  1.75,  1.  , ...,  6.  ,  2.  , 19.57],\n",
       "       [18.78,  3.  ,  2.  , ...,  4.  ,  2.  , 21.78]])"
      ]
     },
     "execution_count": 26,
     "metadata": {},
     "output_type": "execute_result"
    }
   ],
   "source": [
    "np.hstack([tips, total.reshape(len(tips), 1)])"
   ]
  },
  {
   "cell_type": "markdown",
   "metadata": {},
   "source": [
    "---------------------"
   ]
  }
 ],
 "metadata": {
  "anaconda-cloud": {},
  "kernelspec": {
   "display_name": "Python 3",
   "language": "python",
   "name": "python3"
  },
  "language_info": {
   "codemirror_mode": {
    "name": "ipython",
    "version": 3
   },
   "file_extension": ".py",
   "mimetype": "text/x-python",
   "name": "python",
   "nbconvert_exporter": "python",
   "pygments_lexer": "ipython3",
   "version": "3.7.3"
  },
  "nbTranslate": {
   "displayLangs": [
    "en",
    "es"
   ],
   "hotkey": "alt-t",
   "langInMainMenu": true,
   "sourceLang": "es",
   "targetLang": "en",
   "useGoogleTranslate": true
  },
  "toc": {
   "base_numbering": 1,
   "nav_menu": {
    "height": "68px",
    "width": "252px"
   },
   "number_sections": true,
   "sideBar": true,
   "skip_h1_title": false,
   "title_cell": "Table of Contents",
   "title_sidebar": "Contents",
   "toc_cell": false,
   "toc_position": {},
   "toc_section_display": "block",
   "toc_window_display": false
  }
 },
 "nbformat": 4,
 "nbformat_minor": 1
}
