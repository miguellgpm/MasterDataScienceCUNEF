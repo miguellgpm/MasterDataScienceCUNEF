{
 "cells": [
  {
   "cell_type": "markdown",
   "metadata": {},
   "source": [
    "#  Datos abiertos\n",
    "\n",
    "En los últimos años, muchos gobiernos e instituciones públicas y privadas se han encargado de construir los llamados portales de datos abiertos. Estos portales tienen como objetivo final el almacenamiento de datos y la compartición de éstos con terceros\n",
    "(investigadores, desarrolladores de aplicaciones, ciudadanos, empresas, etc.). Estos portales son de acceso libre y roporcionan gran variedad de conjuntos de datos aptos para el desarrollo de procesos relacionados con tareas análisis y de aprendizaje.\n",
    "\n",
    "Proponemos explorar el portal de datos abiertos de la Comunidad de Madrid http://www.comunidad.madrid/gobierno/datos-abiertos\n",
    "\n",
    "En particular se pide la descarga los datos de Nacimientos en la Comunidad de Madrid por grupos de edad de la madre (Opción CM y formato JSON)\n",
    "\n",
    "http://datos.comunidad.madrid/catalogo/dataset/nacimientos_por_grupos_edad_de_la_madre\n",
    "\n",
    "El enlace de descarga es:\n",
    "\n",
    "http://datos.comunidad.madrid/catalogo/dataset/nacimientos_por_grupos_edad_de_la_madre/resource/1c9d0b82-1b43-4624-b0f4-4d1cd763b873\n",
    "\n",
    "Como se puede observar, se trata de un fichero en formato JSON (similar a los diccionarios de Python). Contiene información de las personas nacidas en alguno de los municipios de la Comunidad de Madrid por grupos de edad y sexo. En el caso del Municipio de Madrid, la información está desagregada por distrito y barrio. Los grupos de edad son quinquenales salvo en el primer grupo que son menores de 15 años, y el último grupo de 100 y más años que es abierto. Los datos proceden de la última explotación del Movimiento Natural de la Población. La explotación completa y de años anteriores se puede consultar en www.madrid.org/iestadis."
   ]
  },
  {
   "cell_type": "markdown",
   "metadata": {},
   "source": [
    "####  Lectura del fichero en Python\n",
    "\n",
    "Una vez descargado el fichero, ejecuta la siguiente celda para leer los datos. Ten en cuenta que la ruta es importante y has de ponerla bien para que Python encuentre el fichero. "
   ]
  },
  {
   "cell_type": "code",
   "execution_count": 25,
   "metadata": {
    "scrolled": true
   },
   "outputs": [],
   "source": [
    "import json\n",
    "l = open('C:/Users/migue/Desktop/CUNEF/Python/Practicas/Practica 2/cm.json', encoding=\"utf8\")\n",
    "data = json.load(l)"
   ]
  },
  {
   "cell_type": "markdown",
   "metadata": {},
   "source": [
    "#### 1\n",
    "\n",
    "Diseña una función llamada `municipios` cuyo dato de entrada sea el contenido del fichero y la salida sea la lista de municipios contenidos en el fichero. ¿Cuantos municipios hay? "
   ]
  },
  {
   "cell_type": "code",
   "execution_count": 19,
   "metadata": {},
   "outputs": [],
   "source": [
    "def municipios(fichero):\n",
    "    lista_municipios = [] # lista vacía para añadir municipios\n",
    "    i = 0\n",
    "    while i < len(fichero['data']):\n",
    "        nombre = fichero['data'][i]['municipio_nombre'] # nombre de cada municipio\n",
    "        if nombre in lista_municipios: # si el nombre está en lista_municipios solo suma 1 a i\n",
    "            i = i + 1\n",
    "        else: # si no está en lista_municipios suma 1 a i y añade el nombre a la lista\n",
    "            i = i + 1\n",
    "            lista_municipios.append(nombre)\n",
    "    print(len(lista_municipios)) # muestra el número de municipios total\n",
    "    return lista_municipios"
   ]
  },
  {
   "cell_type": "code",
   "execution_count": 20,
   "metadata": {},
   "outputs": [
    {
     "name": "stdout",
     "output_type": "stream",
     "text": [
      "179\n"
     ]
    },
    {
     "data": {
      "text/plain": [
       "[' Acebeda (La)',\n",
       " ' Ajalvir',\n",
       " ' Alameda del Valle',\n",
       " ' Álamo (El)',\n",
       " ' Alcalá de Henares',\n",
       " ' Alcobendas',\n",
       " ' Alcorcón',\n",
       " ' Aldea del Fresno',\n",
       " ' Algete',\n",
       " ' Alpedrete',\n",
       " ' Ambite',\n",
       " ' Anchuelo',\n",
       " ' Aranjuez',\n",
       " ' Arganda del Rey',\n",
       " ' Arroyomolinos',\n",
       " ' Atazar (El)',\n",
       " ' Batres',\n",
       " ' Becerril de la Sierra',\n",
       " ' Belmonte de Tajo',\n",
       " ' Berrueco (El)',\n",
       " ' Berzosa del Lozoya',\n",
       " ' Boadilla del Monte',\n",
       " ' Boalo (El)',\n",
       " ' Braojos',\n",
       " ' Brea de Tajo',\n",
       " ' Brunete',\n",
       " ' Buitrago del Lozoya',\n",
       " ' Bustarviejo',\n",
       " ' Cabanillas de la Sierra',\n",
       " ' Cabrera (La)',\n",
       " ' Cadalso de los Vidrios',\n",
       " ' Camarma de Esteruelas',\n",
       " ' Campo Real',\n",
       " ' Canencia',\n",
       " ' Carabaña',\n",
       " ' Casarrubuelos',\n",
       " ' Cenicientos',\n",
       " ' Cercedilla',\n",
       " ' Cervera de Buitrago',\n",
       " ' Chapinería',\n",
       " ' Chinchón',\n",
       " ' Ciempozuelos',\n",
       " ' Cobeña',\n",
       " ' Collado Mediano',\n",
       " ' Collado Villalba',\n",
       " ' Colmenar de Oreja',\n",
       " ' Colmenar del Arroyo',\n",
       " ' Colmenar Viejo',\n",
       " ' Colmenarejo',\n",
       " ' Corpa',\n",
       " ' Coslada',\n",
       " ' Cubas de la Sagra',\n",
       " ' Daganzo de Arriba',\n",
       " ' Escorial (El)',\n",
       " ' Estremera',\n",
       " ' Fresnedillas de la Oliva',\n",
       " ' Fresno de Torote',\n",
       " ' Fuenlabrada',\n",
       " ' Fuente el Saz de Jarama',\n",
       " ' Fuentidueña de Tajo',\n",
       " ' Galapagar',\n",
       " ' Garganta de los Montes',\n",
       " ' Gargantilla del Lozoya y Pinilla de Buitrago',\n",
       " ' Gascones',\n",
       " ' Getafe',\n",
       " ' Griñón',\n",
       " ' Guadalix de la Sierra',\n",
       " ' Guadarrama',\n",
       " ' Hiruela (La)',\n",
       " ' Horcajo de la Sierra',\n",
       " ' Horcajuelo de la Sierra',\n",
       " ' Hoyo de Manzanares',\n",
       " ' Humanes de Madrid',\n",
       " ' Leganés',\n",
       " ' Loeches',\n",
       " ' Lozoya',\n",
       " ' Lozoyuela-Navas-Sieteiglesias',\n",
       " ' Madarcos',\n",
       " ' Madrid',\n",
       " ' Majadahonda',\n",
       " ' Manzanares el Real',\n",
       " ' Meco',\n",
       " ' Mejorada del Campo',\n",
       " ' Miraflores de la Sierra',\n",
       " ' Molar (El)',\n",
       " ' Molinos (Los)',\n",
       " ' Montejo de la Sierra',\n",
       " ' Moraleja de Enmedio',\n",
       " ' Moralzarzal',\n",
       " ' Morata de Tajuña',\n",
       " ' Móstoles',\n",
       " ' Navacerrada',\n",
       " ' Navalafuente',\n",
       " ' Navalagamella',\n",
       " ' Navalcarnero',\n",
       " ' Navarredonda y San Mamés',\n",
       " ' Navas del Rey',\n",
       " ' Nuevo Baztán',\n",
       " ' Olmeda de las Fuentes',\n",
       " ' Orusco de Tajuña',\n",
       " ' Paracuellos de Jarama',\n",
       " ' Parla',\n",
       " ' Patones',\n",
       " ' Pedrezuela',\n",
       " ' Pelayos de la Presa',\n",
       " ' Perales de Tajuña',\n",
       " ' Pezuela de las Torres',\n",
       " ' Pinilla del Valle',\n",
       " ' Pinto',\n",
       " ' Piñuécar',\n",
       " ' Pozuelo de Alarcón',\n",
       " ' Pozuelo del Rey',\n",
       " ' Prádena del Rincón',\n",
       " ' Puebla de la Sierra',\n",
       " ' Puentes Viejas',\n",
       " ' Quijorna',\n",
       " ' Rascafría',\n",
       " ' Redueña',\n",
       " ' Ribatejada',\n",
       " ' Rivas-Vaciamadrid',\n",
       " ' Robledillo de la Jara',\n",
       " ' Robledo de Chavela',\n",
       " ' Robregordo',\n",
       " ' Rozas de Madrid (Las)',\n",
       " ' Rozas de Puerto Real',\n",
       " ' San Agustín del Guadalix',\n",
       " ' San Fernando de Henares',\n",
       " ' San Lorenzo de El Escorial',\n",
       " ' San Martín de la Vega',\n",
       " ' San Martín de Valdeiglesias',\n",
       " ' San Sebastián de los Reyes',\n",
       " ' Santa María de la Alameda',\n",
       " ' Santorcaz',\n",
       " ' Santos de la Humosa (Los)',\n",
       " ' Serna del Monte (La)',\n",
       " ' Serranillos del Valle',\n",
       " ' Sevilla la Nueva',\n",
       " ' Somosierra',\n",
       " ' Soto del Real',\n",
       " ' Talamanca de Jarama',\n",
       " ' Tielmes',\n",
       " ' Titulcia',\n",
       " ' Torrejón de Ardoz',\n",
       " ' Torrejón de la Calzada',\n",
       " ' Torrejón de Velasco',\n",
       " ' Torrelaguna',\n",
       " ' Torrelodones',\n",
       " ' Torremocha de Jarama',\n",
       " ' Torres de la Alameda',\n",
       " ' Tres Cantos',\n",
       " ' Valdaracete',\n",
       " ' Valdeavero',\n",
       " ' Valdelaguna',\n",
       " ' Valdemanco',\n",
       " ' Valdemaqueda',\n",
       " ' Valdemorillo',\n",
       " ' Valdemoro',\n",
       " ' Valdeolmos-Alalpardo',\n",
       " ' Valdepiélagos',\n",
       " ' Valdetorres de Jarama',\n",
       " ' Valdilecha',\n",
       " ' Valverde de Alcalá',\n",
       " ' Velilla de San Antonio',\n",
       " ' Vellón (El)',\n",
       " ' Venturada',\n",
       " ' Villa del Prado',\n",
       " ' Villaconejos',\n",
       " ' Villalbilla',\n",
       " ' Villamanrique de Tajo',\n",
       " ' Villamanta',\n",
       " ' Villamantilla',\n",
       " ' Villanueva de la Cañada',\n",
       " ' Villanueva de Perales',\n",
       " ' Villanueva del Pardillo',\n",
       " ' Villar del Olmo',\n",
       " ' Villarejo de Salvanés',\n",
       " ' Villaviciosa de Odón',\n",
       " ' Villavieja del Lozoya',\n",
       " ' Zarzalejo']"
      ]
     },
     "execution_count": 20,
     "metadata": {},
     "output_type": "execute_result"
    }
   ],
   "source": [
    "municipios(data)"
   ]
  },
  {
   "cell_type": "markdown",
   "metadata": {},
   "source": [
    "#### 2\n",
    "\n",
    "Diseña una función llamada `nacimientos` cuyo dato de entrada sea el contenido del fichero y la salida sea el número total de nacimientos registrados en el fichero. "
   ]
  },
  {
   "cell_type": "code",
   "execution_count": 21,
   "metadata": {},
   "outputs": [],
   "source": [
    "# Sol: \n",
    "def nacimientos(fichero):\n",
    "    lista_nacimientos = [] # lista vacía\n",
    "    i = 0\n",
    "    while i < len(fichero['data']):\n",
    "        num_nacimientos = fichero['data'][i]['numero_nacimientos']\n",
    "        lista_nacimientos.append(num_nacimientos)\n",
    "        i = i + 1\n",
    "    return sum(lista_nacimientos)"
   ]
  },
  {
   "cell_type": "code",
   "execution_count": 22,
   "metadata": {},
   "outputs": [
    {
     "data": {
      "text/plain": [
       "60555"
      ]
     },
     "execution_count": 22,
     "metadata": {},
     "output_type": "execute_result"
    }
   ],
   "source": [
    "nacimientos(data)"
   ]
  },
  {
   "cell_type": "markdown",
   "metadata": {},
   "source": [
    "#### 3\n",
    "\n",
    "Diseña una función llamada `nacimientos_mujeres` cuyo dato de entrada sea el contenido del fichero y la salida sea el número total de niñas nacidas registradas en el fichero. "
   ]
  },
  {
   "cell_type": "code",
   "execution_count": 23,
   "metadata": {},
   "outputs": [],
   "source": [
    "# Sol: \n",
    "def nacimientos_mujeres(fichero):\n",
    "    lista_nacimientos_mujeres = []\n",
    "    i = 0\n",
    "    while i < len(fichero['data']):\n",
    "        num_nacimientos_mujer = fichero['data'][i]['numero_nacimientos']\n",
    "        if fichero['data'][i]['sexo'] == 'Mujer':\n",
    "            lista_nacimientos_mujeres.append(num_nacimientos_mujer)\n",
    "            i = i + 1\n",
    "        else:\n",
    "            i = i + 1\n",
    "    return sum(lista_nacimientos_mujeres)"
   ]
  },
  {
   "cell_type": "code",
   "execution_count": 24,
   "metadata": {},
   "outputs": [
    {
     "data": {
      "text/plain": [
       "29419"
      ]
     },
     "execution_count": 24,
     "metadata": {},
     "output_type": "execute_result"
    }
   ],
   "source": [
    "nacimientos_mujeres(data)"
   ]
  },
  {
   "cell_type": "markdown",
   "metadata": {},
   "source": [
    "#### 4\n",
    "\n",
    "Diseña una función llamada `rangos_edad` cuyo dato de entrada sea el contenido del fichero y la salida sea la lista de los distintos rangos de edad contenidos en el fichero. "
   ]
  },
  {
   "cell_type": "code",
   "execution_count": 14,
   "metadata": {},
   "outputs": [],
   "source": [
    "def rangos_de_edad(fichero):\n",
    "    rangos_de_edad_2 = [] # añado cada rango a la lista vacía\n",
    "    i = 0\n",
    "    while i < len(fichero['data']):\n",
    "        rango = fichero['data'][i]['rango_edad_de_la_madre']\n",
    "        if rango in rangos_de_edad_2: # si ya está el rango en la lista solo suma 1 a i\n",
    "            i = i + 1\n",
    "        else: # si no está en la lista suma 1 a i y añade el rango a la lista\n",
    "            rangos_de_edad_2.append(rango)\n",
    "            i = i + 1\n",
    "    return rangos_de_edad_2"
   ]
  },
  {
   "cell_type": "code",
   "execution_count": 15,
   "metadata": {},
   "outputs": [
    {
     "data": {
      "text/plain": [
       "['Menores de 15 años',\n",
       " 'De 15 a 19 años',\n",
       " 'De 20 a 24 años',\n",
       " 'De 25 a 29 años',\n",
       " 'De 30 a 34 años',\n",
       " 'De 35 a 39 años',\n",
       " 'De 40 a 44 años',\n",
       " 'De 45 a 49 años',\n",
       " 'De 50 años y más']"
      ]
     },
     "execution_count": 15,
     "metadata": {},
     "output_type": "execute_result"
    }
   ],
   "source": [
    "rangos_de_edad(data)"
   ]
  },
  {
   "cell_type": "markdown",
   "metadata": {},
   "source": [
    "#### 5\n",
    "\n",
    "Diseña una función llamada `nacimientos_mujeres_15` cuyo dato de entrada sea el contenido del fichero y la salida sea el número total de nacimientos cuyas madres tengan menos de 15 años. "
   ]
  },
  {
   "cell_type": "code",
   "execution_count": 11,
   "metadata": {},
   "outputs": [],
   "source": [
    "# Sol :\n",
    "def nacimientos_mujeres_menores15(fichero):\n",
    "    i = 0\n",
    "    lista_nacimientos_mujeres_menores15 = []\n",
    "    while i < len(fichero['data']):\n",
    "        numero_nacimientos_mujeres_menos_15 = fichero['data'][i]['numero_nacimientos'] \n",
    "        if fichero['data'][i]['rango_edad_de_la_madre'] == 'Menores de 15 años': # si el rango de edad es menores de 15 años suma el número de nacimientos\n",
    "            lista_nacimientos_mujeres_menores15.append(numero_nacimientos_mujeres_menos_15)\n",
    "            i = i + 1\n",
    "        else: # si el rango de edad no es menores de 15 pasa al siguiente caso\n",
    "            i = i + 1\n",
    "    return sum(lista_nacimientos_mujeres_menores15)"
   ]
  },
  {
   "cell_type": "code",
   "execution_count": 12,
   "metadata": {},
   "outputs": [
    {
     "data": {
      "text/plain": [
       "12"
      ]
     },
     "execution_count": 12,
     "metadata": {},
     "output_type": "execute_result"
    }
   ],
   "source": [
    "nacimientos_mujeres_menores15(data)"
   ]
  },
  {
   "cell_type": "markdown",
   "metadata": {},
   "source": [
    "#### 6\n",
    "\n",
    "Diseña una función llamada `nacimientos_por_localidad` cuyo dato de entrada sea el contenido del fichero y la salida sea un nuevo diccionario donde las claves sean la localidad y el valor sea el número total de nacimientos en dicha localidad."
   ]
  },
  {
   "cell_type": "code",
   "execution_count": 16,
   "metadata": {},
   "outputs": [],
   "source": [
    "# Hecho con diccionario\n",
    "\n",
    "def nacimientos_por_localidad(fichero):\n",
    "    nacimientos_por_municipio = {} # diccionario vacío\n",
    "    i = 0\n",
    "    while i < len(fichero['data']):\n",
    "        if fichero['data'][i]['municipio_nombre'] in nacimientos_por_municipio: # si el nombre del municipio se encuentra en el diccionario creado suma el número de nacimientos en dicho diccionario más los nuevos\n",
    "            nacimientos_por_municipio[fichero['data'][i]['municipio_nombre']] = nacimientos_por_municipio[fichero['data'][i]['municipio_nombre']] + fichero['data'][i]['numero_nacimientos']\n",
    "            i = i + 1\n",
    "        else: # si no está el municipio en el diccionario creado añade el nuevo municipio y los nacimientos de dicho caso\n",
    "            nacimientos_por_municipio.update({fichero['data'][i]['municipio_nombre']:fichero['data'][i]['numero_nacimientos']})\n",
    "            i = i + 1\n",
    "    return nacimientos_por_municipio"
   ]
  },
  {
   "cell_type": "code",
   "execution_count": 17,
   "metadata": {},
   "outputs": [
    {
     "data": {
      "text/plain": [
       "{' Acebeda (La)': 0,\n",
       " ' Ajalvir': 36,\n",
       " ' Alameda del Valle': 0,\n",
       " ' Álamo (El)': 90,\n",
       " ' Alcalá de Henares': 1609,\n",
       " ' Alcobendas': 985,\n",
       " ' Alcorcón': 1449,\n",
       " ' Aldea del Fresno': 24,\n",
       " ' Algete': 160,\n",
       " ' Alpedrete': 112,\n",
       " ' Ambite': 4,\n",
       " ' Anchuelo': 20,\n",
       " ' Aranjuez': 579,\n",
       " ' Arganda del Rey': 564,\n",
       " ' Arroyomolinos': 469,\n",
       " ' Atazar (El)': 0,\n",
       " ' Batres': 15,\n",
       " ' Becerril de la Sierra': 44,\n",
       " ' Belmonte de Tajo': 12,\n",
       " ' Berrueco (El)': 6,\n",
       " ' Berzosa del Lozoya': 1,\n",
       " ' Boadilla del Monte': 447,\n",
       " ' Boalo (El)': 46,\n",
       " ' Braojos': 2,\n",
       " ' Brea de Tajo': 5,\n",
       " ' Brunete': 103,\n",
       " ' Buitrago del Lozoya': 10,\n",
       " ' Bustarviejo': 21,\n",
       " ' Cabanillas de la Sierra': 6,\n",
       " ' Cabrera (La)': 16,\n",
       " ' Cadalso de los Vidrios': 36,\n",
       " ' Camarma de Esteruelas': 61,\n",
       " ' Campo Real': 70,\n",
       " ' Canencia': 1,\n",
       " ' Carabaña': 13,\n",
       " ' Casarrubuelos': 26,\n",
       " ' Cenicientos': 19,\n",
       " ' Cercedilla': 71,\n",
       " ' Cervera de Buitrago': 0,\n",
       " ' Chapinería': 16,\n",
       " ' Chinchón': 51,\n",
       " ' Ciempozuelos': 273,\n",
       " ' Cobeña': 87,\n",
       " ' Collado Mediano': 51,\n",
       " ' Collado Villalba': 614,\n",
       " ' Colmenar de Oreja': 59,\n",
       " ' Colmenar del Arroyo': 12,\n",
       " ' Colmenar Viejo': 491,\n",
       " ' Colmenarejo': 66,\n",
       " ' Corpa': 4,\n",
       " ' Coslada': 651,\n",
       " ' Cubas de la Sagra': 63,\n",
       " ' Daganzo de Arriba': 82,\n",
       " ' Escorial (El)': 131,\n",
       " ' Estremera': 5,\n",
       " ' Fresnedillas de la Oliva': 10,\n",
       " ' Fresno de Torote': 19,\n",
       " ' Fuenlabrada': 1677,\n",
       " ' Fuente el Saz de Jarama': 53,\n",
       " ' Fuentidueña de Tajo': 16,\n",
       " ' Galapagar': 300,\n",
       " ' Garganta de los Montes': 1,\n",
       " ' Gargantilla del Lozoya y Pinilla de Buitrago': 3,\n",
       " ' Gascones': 2,\n",
       " ' Getafe': 1911,\n",
       " ' Griñón': 71,\n",
       " ' Guadalix de la Sierra': 54,\n",
       " ' Guadarrama': 132,\n",
       " ' Hiruela (La)': 0,\n",
       " ' Horcajo de la Sierra': 0,\n",
       " ' Horcajuelo de la Sierra': 1,\n",
       " ' Hoyo de Manzanares': 56,\n",
       " ' Humanes de Madrid': 217,\n",
       " ' Leganés': 1522,\n",
       " ' Loeches': 109,\n",
       " ' Lozoya': 4,\n",
       " ' Lozoyuela-Navas-Sieteiglesias': 8,\n",
       " ' Madarcos': 1,\n",
       " ' Madrid': 29032,\n",
       " ' Majadahonda': 640,\n",
       " ' Manzanares el Real': 82,\n",
       " ' Meco': 114,\n",
       " ' Mejorada del Campo': 218,\n",
       " ' Miraflores de la Sierra': 33,\n",
       " ' Molar (El)': 105,\n",
       " ' Molinos (Los)': 27,\n",
       " ' Montejo de la Sierra': 0,\n",
       " ' Moraleja de Enmedio': 32,\n",
       " ' Moralzarzal': 77,\n",
       " ' Morata de Tajuña': 69,\n",
       " ' Móstoles': 1899,\n",
       " ' Navacerrada': 8,\n",
       " ' Navalafuente': 19,\n",
       " ' Navalagamella': 33,\n",
       " ' Navalcarnero': 367,\n",
       " ' Navarredonda y San Mamés': 1,\n",
       " ' Navas del Rey': 30,\n",
       " ' Nuevo Baztán': 43,\n",
       " ' Olmeda de las Fuentes': 5,\n",
       " ' Orusco de Tajuña': 12,\n",
       " ' Paracuellos de Jarama': 327,\n",
       " ' Parla': 1615,\n",
       " ' Patones': 4,\n",
       " ' Pedrezuela': 66,\n",
       " ' Pelayos de la Presa': 17,\n",
       " ' Perales de Tajuña': 28,\n",
       " ' Pezuela de las Torres': 9,\n",
       " ' Pinilla del Valle': 0,\n",
       " ' Pinto': 597,\n",
       " ' Piñuécar': 0,\n",
       " ' Pozuelo de Alarcón': 700,\n",
       " ' Pozuelo del Rey': 7,\n",
       " ' Prádena del Rincón': 0,\n",
       " ' Puebla de la Sierra': 0,\n",
       " ' Puentes Viejas': 2,\n",
       " ' Quijorna': 23,\n",
       " ' Rascafría': 8,\n",
       " ' Redueña': 1,\n",
       " ' Ribatejada': 9,\n",
       " ' Rivas-Vaciamadrid': 1023,\n",
       " ' Robledillo de la Jara': 0,\n",
       " ' Robledo de Chavela': 24,\n",
       " ' Robregordo': 0,\n",
       " ' Rozas de Madrid (Las)': 910,\n",
       " ' Rozas de Puerto Real': 2,\n",
       " ' San Agustín del Guadalix': 106,\n",
       " ' San Fernando de Henares': 314,\n",
       " ' San Lorenzo de El Escorial': 156,\n",
       " ' San Martín de la Vega': 189,\n",
       " ' San Martín de Valdeiglesias': 67,\n",
       " ' San Sebastián de los Reyes': 902,\n",
       " ' Santa María de la Alameda': 11,\n",
       " ' Santorcaz': 4,\n",
       " ' Santos de la Humosa (Los)': 32,\n",
       " ' Serna del Monte (La)': 0,\n",
       " ' Serranillos del Valle': 39,\n",
       " ' Sevilla la Nueva': 83,\n",
       " ' Somosierra': 0,\n",
       " ' Soto del Real': 46,\n",
       " ' Talamanca de Jarama': 41,\n",
       " ' Tielmes': 19,\n",
       " ' Titulcia': 16,\n",
       " ' Torrejón de Ardoz': 1419,\n",
       " ' Torrejón de la Calzada': 98,\n",
       " ' Torrejón de Velasco': 33,\n",
       " ' Torrelaguna': 33,\n",
       " ' Torrelodones': 159,\n",
       " ' Torremocha de Jarama': 6,\n",
       " ' Torres de la Alameda': 71,\n",
       " ' Tres Cantos': 490,\n",
       " ' Valdaracete': 2,\n",
       " ' Valdeavero': 19,\n",
       " ' Valdelaguna': 7,\n",
       " ' Valdemanco': 6,\n",
       " ' Valdemaqueda': 7,\n",
       " ' Valdemorillo': 105,\n",
       " ' Valdemoro': 760,\n",
       " ' Valdeolmos-Alalpardo': 35,\n",
       " ' Valdepiélagos': 5,\n",
       " ' Valdetorres de Jarama': 36,\n",
       " ' Valdilecha': 22,\n",
       " ' Valverde de Alcalá': 3,\n",
       " ' Velilla de San Antonio': 98,\n",
       " ' Vellón (El)': 27,\n",
       " ' Venturada': 10,\n",
       " ' Villa del Prado': 61,\n",
       " ' Villaconejos': 8,\n",
       " ' Villalbilla': 186,\n",
       " ' Villamanrique de Tajo': 3,\n",
       " ' Villamanta': 17,\n",
       " ' Villamantilla': 14,\n",
       " ' Villanueva de la Cañada': 179,\n",
       " ' Villanueva de Perales': 13,\n",
       " ' Villanueva del Pardillo': 140,\n",
       " ' Villar del Olmo': 11,\n",
       " ' Villarejo de Salvanés': 71,\n",
       " ' Villaviciosa de Odón': 183,\n",
       " ' Villavieja del Lozoya': 2,\n",
       " ' Zarzalejo': 18}"
      ]
     },
     "execution_count": 17,
     "metadata": {},
     "output_type": "execute_result"
    }
   ],
   "source": [
    "nacimientos_por_localidad(data)"
   ]
  },
  {
   "cell_type": "code",
   "execution_count": null,
   "metadata": {},
   "outputs": [],
   "source": []
  }
 ],
 "metadata": {
  "anaconda-cloud": {},
  "kernelspec": {
   "display_name": "Python 3",
   "language": "python",
   "name": "python3"
  },
  "language_info": {
   "codemirror_mode": {
    "name": "ipython",
    "version": 3
   },
   "file_extension": ".py",
   "mimetype": "text/x-python",
   "name": "python",
   "nbconvert_exporter": "python",
   "pygments_lexer": "ipython3",
   "version": "3.7.3"
  },
  "nbTranslate": {
   "displayLangs": [
    "en",
    "es"
   ],
   "hotkey": "alt-t",
   "langInMainMenu": true,
   "sourceLang": "es",
   "targetLang": "en",
   "useGoogleTranslate": true
  },
  "toc": {
   "base_numbering": 1,
   "nav_menu": {
    "height": "161px",
    "width": "252px"
   },
   "number_sections": true,
   "sideBar": true,
   "skip_h1_title": false,
   "title_cell": "Table of Contents",
   "title_sidebar": "Contents",
   "toc_cell": false,
   "toc_position": {},
   "toc_section_display": "block",
   "toc_window_display": false
  }
 },
 "nbformat": 4,
 "nbformat_minor": 1
}
