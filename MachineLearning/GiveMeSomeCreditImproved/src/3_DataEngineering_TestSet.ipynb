{
 "cells": [
  {
   "cell_type": "markdown",
   "metadata": {},
   "source": [
    "# Predicting defaults on Lending Club database\n",
    "\n",
    "\n",
    "- Authors: Beltrán Aller López and Miguel López Garralón\n",
    "- Date: 13/12/2019\n",
    "- Email: beltran.aller@cunef.edu and m.lopez@cunef.edu\n",
    "- Institution: CUNEF\n",
    "- Version: 1.0"
   ]
  },
  {
   "cell_type": "markdown",
   "metadata": {},
   "source": [
    "We are going to do the same operations that we made in the DataEngineering notebook. The only thing that we don´t do is to quit outliers values"
   ]
  },
  {
   "cell_type": "markdown",
   "metadata": {},
   "source": [
    "Before doing anything, we will import the necessaries libraries."
   ]
  },
  {
   "cell_type": "code",
   "execution_count": 1,
   "metadata": {},
   "outputs": [],
   "source": [
    "# Libraries\n",
    "\n",
    "import numpy as np\n",
    "import pandas as pd\n",
    "import matplotlib\n",
    "from matplotlib import pyplot as plt # plots\n",
    "import seaborn as sns # plots\n",
    "from scipy import stats as sts # normality test JB\n",
    "from sklearn import model_selection\n",
    "from sklearn import linear_model\n",
    "from sklearn import metrics\n",
    "from sklearn.metrics import mean_squared_error # MSE\n",
    "from sklearn.preprocessing import StandardScaler \n",
    "from sklearn import preprocessing # estandarization\n",
    "from math import sqrt # sqrt\n",
    "import itertools # aplanar arrays\n",
    "import math\n",
    "import random\n",
    "random.seed(1122019)"
   ]
  },
  {
   "cell_type": "markdown",
   "metadata": {},
   "source": [
    "The following variable indicates the route in which we have our dataset."
   ]
  },
  {
   "cell_type": "code",
   "execution_count": 2,
   "metadata": {},
   "outputs": [],
   "source": [
    "data_path = '../data/test_set.csv'"
   ]
  },
  {
   "cell_type": "markdown",
   "metadata": {},
   "source": [
    "## 1. READING THE DATA"
   ]
  },
  {
   "cell_type": "markdown",
   "metadata": {},
   "source": [
    "The dataset is kept into the data directory. In the same folder you can find the data dictionary."
   ]
  },
  {
   "cell_type": "code",
   "execution_count": 3,
   "metadata": {},
   "outputs": [],
   "source": [
    "loan = pd.read_csv(data_path, index_col='Unnamed: 0')"
   ]
  },
  {
   "cell_type": "code",
   "execution_count": 4,
   "metadata": {},
   "outputs": [
    {
     "data": {
      "text/html": [
       "<div>\n",
       "<style scoped>\n",
       "    .dataframe tbody tr th:only-of-type {\n",
       "        vertical-align: middle;\n",
       "    }\n",
       "\n",
       "    .dataframe tbody tr th {\n",
       "        vertical-align: top;\n",
       "    }\n",
       "\n",
       "    .dataframe thead th {\n",
       "        text-align: right;\n",
       "    }\n",
       "</style>\n",
       "<table border=\"1\" class=\"dataframe\">\n",
       "  <thead>\n",
       "    <tr style=\"text-align: right;\">\n",
       "      <th></th>\n",
       "      <th>id</th>\n",
       "      <th>member_id</th>\n",
       "      <th>loan_amnt</th>\n",
       "      <th>funded_amnt</th>\n",
       "      <th>funded_amnt_inv</th>\n",
       "      <th>term</th>\n",
       "      <th>int_rate</th>\n",
       "      <th>installment</th>\n",
       "      <th>grade</th>\n",
       "      <th>sub_grade</th>\n",
       "      <th>...</th>\n",
       "      <th>hardship_last_payment_amount</th>\n",
       "      <th>disbursement_method</th>\n",
       "      <th>debt_settlement_flag</th>\n",
       "      <th>debt_settlement_flag_date</th>\n",
       "      <th>settlement_status</th>\n",
       "      <th>settlement_date</th>\n",
       "      <th>settlement_amount</th>\n",
       "      <th>settlement_percentage</th>\n",
       "      <th>settlement_term</th>\n",
       "      <th>target</th>\n",
       "    </tr>\n",
       "  </thead>\n",
       "  <tbody>\n",
       "    <tr>\n",
       "      <td>1000000</td>\n",
       "      <td>NaN</td>\n",
       "      <td>NaN</td>\n",
       "      <td>20000</td>\n",
       "      <td>20000</td>\n",
       "      <td>20000.0</td>\n",
       "      <td>36 months</td>\n",
       "      <td>9.49</td>\n",
       "      <td>640.57</td>\n",
       "      <td>B</td>\n",
       "      <td>B2</td>\n",
       "      <td>...</td>\n",
       "      <td>NaN</td>\n",
       "      <td>Cash</td>\n",
       "      <td>N</td>\n",
       "      <td>NaN</td>\n",
       "      <td>NaN</td>\n",
       "      <td>NaN</td>\n",
       "      <td>NaN</td>\n",
       "      <td>NaN</td>\n",
       "      <td>NaN</td>\n",
       "      <td>0</td>\n",
       "    </tr>\n",
       "    <tr>\n",
       "      <td>1000001</td>\n",
       "      <td>NaN</td>\n",
       "      <td>NaN</td>\n",
       "      <td>2500</td>\n",
       "      <td>2500</td>\n",
       "      <td>2500.0</td>\n",
       "      <td>36 months</td>\n",
       "      <td>11.47</td>\n",
       "      <td>82.41</td>\n",
       "      <td>B</td>\n",
       "      <td>B5</td>\n",
       "      <td>...</td>\n",
       "      <td>NaN</td>\n",
       "      <td>Cash</td>\n",
       "      <td>N</td>\n",
       "      <td>NaN</td>\n",
       "      <td>NaN</td>\n",
       "      <td>NaN</td>\n",
       "      <td>NaN</td>\n",
       "      <td>NaN</td>\n",
       "      <td>NaN</td>\n",
       "      <td>0</td>\n",
       "    </tr>\n",
       "    <tr>\n",
       "      <td>1000002</td>\n",
       "      <td>NaN</td>\n",
       "      <td>NaN</td>\n",
       "      <td>17825</td>\n",
       "      <td>17825</td>\n",
       "      <td>17825.0</td>\n",
       "      <td>36 months</td>\n",
       "      <td>17.99</td>\n",
       "      <td>644.33</td>\n",
       "      <td>D</td>\n",
       "      <td>D2</td>\n",
       "      <td>...</td>\n",
       "      <td>NaN</td>\n",
       "      <td>Cash</td>\n",
       "      <td>N</td>\n",
       "      <td>NaN</td>\n",
       "      <td>NaN</td>\n",
       "      <td>NaN</td>\n",
       "      <td>NaN</td>\n",
       "      <td>NaN</td>\n",
       "      <td>NaN</td>\n",
       "      <td>1</td>\n",
       "    </tr>\n",
       "    <tr>\n",
       "      <td>1000003</td>\n",
       "      <td>NaN</td>\n",
       "      <td>NaN</td>\n",
       "      <td>9500</td>\n",
       "      <td>9500</td>\n",
       "      <td>9500.0</td>\n",
       "      <td>36 months</td>\n",
       "      <td>8.18</td>\n",
       "      <td>298.49</td>\n",
       "      <td>B</td>\n",
       "      <td>B1</td>\n",
       "      <td>...</td>\n",
       "      <td>NaN</td>\n",
       "      <td>Cash</td>\n",
       "      <td>N</td>\n",
       "      <td>NaN</td>\n",
       "      <td>NaN</td>\n",
       "      <td>NaN</td>\n",
       "      <td>NaN</td>\n",
       "      <td>NaN</td>\n",
       "      <td>NaN</td>\n",
       "      <td>0</td>\n",
       "    </tr>\n",
       "    <tr>\n",
       "      <td>1000004</td>\n",
       "      <td>NaN</td>\n",
       "      <td>NaN</td>\n",
       "      <td>15000</td>\n",
       "      <td>15000</td>\n",
       "      <td>14800.0</td>\n",
       "      <td>36 months</td>\n",
       "      <td>12.49</td>\n",
       "      <td>501.74</td>\n",
       "      <td>B</td>\n",
       "      <td>B4</td>\n",
       "      <td>...</td>\n",
       "      <td>NaN</td>\n",
       "      <td>Cash</td>\n",
       "      <td>N</td>\n",
       "      <td>NaN</td>\n",
       "      <td>NaN</td>\n",
       "      <td>NaN</td>\n",
       "      <td>NaN</td>\n",
       "      <td>NaN</td>\n",
       "      <td>NaN</td>\n",
       "      <td>1</td>\n",
       "    </tr>\n",
       "    <tr>\n",
       "      <td>1000005</td>\n",
       "      <td>NaN</td>\n",
       "      <td>NaN</td>\n",
       "      <td>6000</td>\n",
       "      <td>6000</td>\n",
       "      <td>6000.0</td>\n",
       "      <td>36 months</td>\n",
       "      <td>9.17</td>\n",
       "      <td>191.28</td>\n",
       "      <td>B</td>\n",
       "      <td>B1</td>\n",
       "      <td>...</td>\n",
       "      <td>NaN</td>\n",
       "      <td>Cash</td>\n",
       "      <td>N</td>\n",
       "      <td>NaN</td>\n",
       "      <td>NaN</td>\n",
       "      <td>NaN</td>\n",
       "      <td>NaN</td>\n",
       "      <td>NaN</td>\n",
       "      <td>NaN</td>\n",
       "      <td>0</td>\n",
       "    </tr>\n",
       "    <tr>\n",
       "      <td>1000006</td>\n",
       "      <td>NaN</td>\n",
       "      <td>NaN</td>\n",
       "      <td>11875</td>\n",
       "      <td>11875</td>\n",
       "      <td>11875.0</td>\n",
       "      <td>60 months</td>\n",
       "      <td>14.49</td>\n",
       "      <td>279.34</td>\n",
       "      <td>C</td>\n",
       "      <td>C4</td>\n",
       "      <td>...</td>\n",
       "      <td>NaN</td>\n",
       "      <td>Cash</td>\n",
       "      <td>N</td>\n",
       "      <td>NaN</td>\n",
       "      <td>NaN</td>\n",
       "      <td>NaN</td>\n",
       "      <td>NaN</td>\n",
       "      <td>NaN</td>\n",
       "      <td>NaN</td>\n",
       "      <td>0</td>\n",
       "    </tr>\n",
       "    <tr>\n",
       "      <td>1000007</td>\n",
       "      <td>NaN</td>\n",
       "      <td>NaN</td>\n",
       "      <td>24000</td>\n",
       "      <td>24000</td>\n",
       "      <td>24000.0</td>\n",
       "      <td>36 months</td>\n",
       "      <td>7.90</td>\n",
       "      <td>750.97</td>\n",
       "      <td>A</td>\n",
       "      <td>A4</td>\n",
       "      <td>...</td>\n",
       "      <td>NaN</td>\n",
       "      <td>Cash</td>\n",
       "      <td>N</td>\n",
       "      <td>NaN</td>\n",
       "      <td>NaN</td>\n",
       "      <td>NaN</td>\n",
       "      <td>NaN</td>\n",
       "      <td>NaN</td>\n",
       "      <td>NaN</td>\n",
       "      <td>0</td>\n",
       "    </tr>\n",
       "    <tr>\n",
       "      <td>1000008</td>\n",
       "      <td>NaN</td>\n",
       "      <td>NaN</td>\n",
       "      <td>21000</td>\n",
       "      <td>21000</td>\n",
       "      <td>21000.0</td>\n",
       "      <td>60 months</td>\n",
       "      <td>16.55</td>\n",
       "      <td>516.84</td>\n",
       "      <td>D</td>\n",
       "      <td>D2</td>\n",
       "      <td>...</td>\n",
       "      <td>NaN</td>\n",
       "      <td>Cash</td>\n",
       "      <td>N</td>\n",
       "      <td>NaN</td>\n",
       "      <td>NaN</td>\n",
       "      <td>NaN</td>\n",
       "      <td>NaN</td>\n",
       "      <td>NaN</td>\n",
       "      <td>NaN</td>\n",
       "      <td>1</td>\n",
       "    </tr>\n",
       "    <tr>\n",
       "      <td>1000009</td>\n",
       "      <td>NaN</td>\n",
       "      <td>NaN</td>\n",
       "      <td>21500</td>\n",
       "      <td>21500</td>\n",
       "      <td>21400.0</td>\n",
       "      <td>36 months</td>\n",
       "      <td>9.17</td>\n",
       "      <td>685.40</td>\n",
       "      <td>B</td>\n",
       "      <td>B2</td>\n",
       "      <td>...</td>\n",
       "      <td>NaN</td>\n",
       "      <td>Cash</td>\n",
       "      <td>N</td>\n",
       "      <td>NaN</td>\n",
       "      <td>NaN</td>\n",
       "      <td>NaN</td>\n",
       "      <td>NaN</td>\n",
       "      <td>NaN</td>\n",
       "      <td>NaN</td>\n",
       "      <td>0</td>\n",
       "    </tr>\n",
       "  </tbody>\n",
       "</table>\n",
       "<p>10 rows × 145 columns</p>\n",
       "</div>"
      ],
      "text/plain": [
       "         id  member_id  loan_amnt  funded_amnt  funded_amnt_inv        term  \\\n",
       "1000000 NaN        NaN      20000        20000          20000.0   36 months   \n",
       "1000001 NaN        NaN       2500         2500           2500.0   36 months   \n",
       "1000002 NaN        NaN      17825        17825          17825.0   36 months   \n",
       "1000003 NaN        NaN       9500         9500           9500.0   36 months   \n",
       "1000004 NaN        NaN      15000        15000          14800.0   36 months   \n",
       "1000005 NaN        NaN       6000         6000           6000.0   36 months   \n",
       "1000006 NaN        NaN      11875        11875          11875.0   60 months   \n",
       "1000007 NaN        NaN      24000        24000          24000.0   36 months   \n",
       "1000008 NaN        NaN      21000        21000          21000.0   60 months   \n",
       "1000009 NaN        NaN      21500        21500          21400.0   36 months   \n",
       "\n",
       "         int_rate  installment grade sub_grade  ...  \\\n",
       "1000000      9.49       640.57     B        B2  ...   \n",
       "1000001     11.47        82.41     B        B5  ...   \n",
       "1000002     17.99       644.33     D        D2  ...   \n",
       "1000003      8.18       298.49     B        B1  ...   \n",
       "1000004     12.49       501.74     B        B4  ...   \n",
       "1000005      9.17       191.28     B        B1  ...   \n",
       "1000006     14.49       279.34     C        C4  ...   \n",
       "1000007      7.90       750.97     A        A4  ...   \n",
       "1000008     16.55       516.84     D        D2  ...   \n",
       "1000009      9.17       685.40     B        B2  ...   \n",
       "\n",
       "        hardship_last_payment_amount disbursement_method debt_settlement_flag  \\\n",
       "1000000                          NaN                Cash                    N   \n",
       "1000001                          NaN                Cash                    N   \n",
       "1000002                          NaN                Cash                    N   \n",
       "1000003                          NaN                Cash                    N   \n",
       "1000004                          NaN                Cash                    N   \n",
       "1000005                          NaN                Cash                    N   \n",
       "1000006                          NaN                Cash                    N   \n",
       "1000007                          NaN                Cash                    N   \n",
       "1000008                          NaN                Cash                    N   \n",
       "1000009                          NaN                Cash                    N   \n",
       "\n",
       "         debt_settlement_flag_date settlement_status settlement_date  \\\n",
       "1000000                        NaN               NaN             NaN   \n",
       "1000001                        NaN               NaN             NaN   \n",
       "1000002                        NaN               NaN             NaN   \n",
       "1000003                        NaN               NaN             NaN   \n",
       "1000004                        NaN               NaN             NaN   \n",
       "1000005                        NaN               NaN             NaN   \n",
       "1000006                        NaN               NaN             NaN   \n",
       "1000007                        NaN               NaN             NaN   \n",
       "1000008                        NaN               NaN             NaN   \n",
       "1000009                        NaN               NaN             NaN   \n",
       "\n",
       "        settlement_amount  settlement_percentage settlement_term target  \n",
       "1000000               NaN                    NaN             NaN      0  \n",
       "1000001               NaN                    NaN             NaN      0  \n",
       "1000002               NaN                    NaN             NaN      1  \n",
       "1000003               NaN                    NaN             NaN      0  \n",
       "1000004               NaN                    NaN             NaN      1  \n",
       "1000005               NaN                    NaN             NaN      0  \n",
       "1000006               NaN                    NaN             NaN      0  \n",
       "1000007               NaN                    NaN             NaN      0  \n",
       "1000008               NaN                    NaN             NaN      1  \n",
       "1000009               NaN                    NaN             NaN      0  \n",
       "\n",
       "[10 rows x 145 columns]"
      ]
     },
     "execution_count": 4,
     "metadata": {},
     "output_type": "execute_result"
    }
   ],
   "source": [
    "loan.head(10)"
   ]
  },
  {
   "cell_type": "markdown",
   "metadata": {},
   "source": [
    "## 2. FILTERING DATA"
   ]
  },
  {
   "cell_type": "code",
   "execution_count": 5,
   "metadata": {},
   "outputs": [],
   "source": [
    "del loan['num_rev_tl_bal_gt_0'] # run only if the EDA has not been run"
   ]
  },
  {
   "cell_type": "markdown",
   "metadata": {},
   "source": [
    "We want to keep the biggest number of variables at the beggining, because the more number of variables you have, the more possibilities you have to generate a better prediction model. In order to continue with that philosophy, we will only delete the variables with a percentage over the 95%."
   ]
  },
  {
   "cell_type": "code",
   "execution_count": 6,
   "metadata": {},
   "outputs": [],
   "source": [
    "NaN = pd.DataFrame(round(loan.isnull().sum()/len(loan.index)*100,2),columns=['null_percent'])"
   ]
  },
  {
   "cell_type": "code",
   "execution_count": 7,
   "metadata": {},
   "outputs": [],
   "source": [
    "Filtro = NaN['null_percent']>95\n",
    "Nulls = NaN[Filtro]\n",
    "loan_filtered = loan.drop(list(Nulls.index), axis=1)"
   ]
  },
  {
   "cell_type": "markdown",
   "metadata": {},
   "source": [
    "We check the dimension of the dataset."
   ]
  },
  {
   "cell_type": "code",
   "execution_count": 8,
   "metadata": {},
   "outputs": [
    {
     "name": "stdout",
     "output_type": "stream",
     "text": [
      "<class 'pandas.core.frame.DataFrame'>\n",
      "Int64Index: 332020 entries, 1000000 to 1332019\n",
      "Columns: 106 entries, loan_amnt to target\n",
      "dtypes: float64(79), int64(5), object(22)\n",
      "memory usage: 271.0+ MB\n"
     ]
    }
   ],
   "source": [
    "loan_filtered.info()"
   ]
  },
  {
   "cell_type": "markdown",
   "metadata": {},
   "source": [
    "The percentage of NaN is the following."
   ]
  },
  {
   "cell_type": "code",
   "execution_count": 9,
   "metadata": {},
   "outputs": [
    {
     "data": {
      "text/plain": [
       "desc                              0.905292\n",
       "mths_since_last_record            0.830146\n",
       "mths_since_recent_bc_dlq          0.763722\n",
       "mths_since_last_major_derog       0.737919\n",
       "mths_since_recent_revol_delinq    0.667300\n",
       "il_util                           0.660424\n",
       "mths_since_rcnt_il                0.618390\n",
       "all_util                          0.608189\n",
       "open_act_il                       0.608153\n",
       "open_rv_24m                       0.608153\n",
       "open_rv_12m                       0.608153\n",
       "total_bal_il                      0.608153\n",
       "inq_fi                            0.608153\n",
       "open_acc_6m                       0.608153\n",
       "open_il_24m                       0.608153\n",
       "open_il_12m                       0.608153\n",
       "total_cu_tl                       0.608153\n",
       "inq_last_12m                      0.608153\n",
       "max_bal_bc                        0.608153\n",
       "mths_since_last_delinq            0.505295\n",
       "mths_since_recent_inq             0.130480\n",
       "num_tl_120dpd_2m                  0.089618\n",
       "mo_sin_old_il_acct                0.081092\n",
       "emp_title                         0.063987\n",
       "emp_length                        0.058304\n",
       "pct_tl_nvr_dlq                    0.052753\n",
       "avg_cur_bal                       0.052641\n",
       "mo_sin_rcnt_rev_tl_op             0.052638\n",
       "mo_sin_old_rev_tl_op              0.052638\n",
       "tot_cur_bal                       0.052635\n",
       "tot_coll_amt                      0.052635\n",
       "total_rev_hi_lim                  0.052635\n",
       "mo_sin_rcnt_tl                    0.052635\n",
       "num_actv_rev_tl                   0.052635\n",
       "num_tl_op_past_12m                0.052635\n",
       "num_tl_90g_dpd_24m                0.052635\n",
       "num_tl_30dpd                      0.052635\n",
       "num_rev_accts                     0.052635\n",
       "num_op_rev_tl                     0.052635\n",
       "num_il_tl                         0.052635\n",
       "dtype: float64"
      ]
     },
     "execution_count": 9,
     "metadata": {},
     "output_type": "execute_result"
    }
   ],
   "source": [
    "percentage_NaN = loan_filtered.apply(lambda x: sum(x.isna()/len(loan_filtered)))\n",
    "percentage_NaN.sort_values(ascending = False).head(40)"
   ]
  },
  {
   "cell_type": "markdown",
   "metadata": {},
   "source": [
    "We will proceed with the attribution of the NaN, some of those variables could have a NaN as value due to the inexistance of that type of account, so the correctly assignment will be give them a zero or calculateing the maximum. "
   ]
  },
  {
   "cell_type": "markdown",
   "metadata": {},
   "source": [
    "Values will be zero due to the customer has never done that action or now he/she is not commiting it and if he/she has not that type of account at this moment or or he/she has never had that type of account."
   ]
  },
  {
   "cell_type": "markdown",
   "metadata": {},
   "source": [
    "* 'il_util', ratio of total current balance to high credit/credit limit on all install account. \n",
    "* 'all_util', balance to credit limit on all trades. \n",
    "* 'inq_last_12m', number of credit inquiries in past 12 months. \n",
    "* 'total_cu_tl', number of finance trades.\n",
    "* 'open_acc_6m', number of open trades in last 6 months.\n",
    "* 'open_act_il', number of currently active installment trades.\n",
    "* 'inq_fi', number of personal finance inquiries.\n",
    "* 'max_bal_bc', maximum current balance owed on all revolving accounts.\n",
    "* 'open_rv_12m', number of revolving trades opened in past 12 months.\n",
    "* 'open_rv_24m', number of revolving trades opened in past 24 months.\n",
    "* 'total_bal_il', total current balance of all installment accounts.\n",
    "* 'open_il_12m', number of installment accounts opened in past 12 months.\n",
    "* 'open_il_24m', number of installment accounts opened in past 24 months."
   ]
  },
  {
   "cell_type": "markdown",
   "metadata": {},
   "source": [
    "There are other kind of variables that they will be enconding calculateing the maximum of them."
   ]
  },
  {
   "cell_type": "markdown",
   "metadata": {},
   "source": [
    "* 'mths_since_last_record', the number of months since the last public record.\n",
    "* 'mths_since_recent_bc_dlq', months since most recent bankcard delinquency,\n",
    "* 'mths_since_recent_revol_delinq', months since most recent revolving delinquency.\n",
    "* 'mths_since_rcnt_il', months since most recent installment accounts opened.\n",
    "* 'mths_since_last_delinq', the number of months since the borrower's last delinquency.\n",
    "* 'mths_since_recent_inq', months since most recent inquiry."
   ]
  },
  {
   "cell_type": "code",
   "execution_count": 10,
   "metadata": {},
   "outputs": [],
   "source": [
    "def fill_w_0(data, column):\n",
    "    data[column].fillna(0, inplace = True)"
   ]
  },
  {
   "cell_type": "code",
   "execution_count": 11,
   "metadata": {},
   "outputs": [],
   "source": [
    "def fill_max(data, column):\n",
    "    data[column].fillna(data[column].max(), inplace = True) "
   ]
  },
  {
   "cell_type": "code",
   "execution_count": 12,
   "metadata": {},
   "outputs": [],
   "source": [
    "# refilling with 0\n",
    "\n",
    "fill_w_0(loan_filtered, 'il_util')\n",
    "fill_w_0(loan_filtered, 'all_util')\n",
    "fill_w_0(loan_filtered, 'inq_last_12m')\n",
    "fill_w_0(loan_filtered, 'total_cu_tl')\n",
    "fill_w_0(loan_filtered, 'open_acc_6m')\n",
    "fill_w_0(loan_filtered, 'open_act_il')\n",
    "fill_w_0(loan_filtered, 'inq_fi')\n",
    "fill_w_0(loan_filtered, 'max_bal_bc')\n",
    "fill_w_0(loan_filtered, 'open_rv_12m')\n",
    "fill_w_0(loan_filtered, 'open_rv_24m')\n",
    "fill_w_0(loan_filtered, 'total_bal_il')\n",
    "fill_w_0(loan_filtered, 'open_il_12m')\n",
    "fill_w_0(loan_filtered, 'open_il_24m')"
   ]
  },
  {
   "cell_type": "code",
   "execution_count": 13,
   "metadata": {},
   "outputs": [],
   "source": [
    "# refilling with the maximum\n",
    "\n",
    "fill_max(loan_filtered, 'mths_since_last_record')\n",
    "fill_max(loan_filtered, 'mths_since_recent_bc_dlq')\n",
    "fill_max(loan_filtered, 'mths_since_recent_revol_delinq')\n",
    "fill_max(loan_filtered, 'mths_since_last_major_derog')\n",
    "fill_max(loan_filtered, 'mths_since_rcnt_il')\n",
    "fill_max(loan_filtered, 'mths_since_last_delinq')\n",
    "fill_max(loan_filtered, 'mths_since_recent_inq')"
   ]
  },
  {
   "cell_type": "markdown",
   "metadata": {},
   "source": [
    "Now the percentage of NaN is:"
   ]
  },
  {
   "cell_type": "code",
   "execution_count": 14,
   "metadata": {},
   "outputs": [
    {
     "data": {
      "text/plain": [
       "desc                          0.905292\n",
       "num_tl_120dpd_2m              0.089618\n",
       "mo_sin_old_il_acct            0.081092\n",
       "emp_title                     0.063987\n",
       "emp_length                    0.058304\n",
       "pct_tl_nvr_dlq                0.052753\n",
       "avg_cur_bal                   0.052641\n",
       "mo_sin_old_rev_tl_op          0.052638\n",
       "mo_sin_rcnt_rev_tl_op         0.052638\n",
       "num_rev_accts                 0.052635\n",
       "mo_sin_rcnt_tl                0.052635\n",
       "num_actv_rev_tl               0.052635\n",
       "num_bc_tl                     0.052635\n",
       "num_il_tl                     0.052635\n",
       "num_op_rev_tl                 0.052635\n",
       "num_actv_bc_tl                0.052635\n",
       "tot_coll_amt                  0.052635\n",
       "num_tl_op_past_12m            0.052635\n",
       "num_tl_30dpd                  0.052635\n",
       "num_tl_90g_dpd_24m            0.052635\n",
       "tot_cur_bal                   0.052635\n",
       "tot_hi_cred_lim               0.052635\n",
       "total_rev_hi_lim              0.052635\n",
       "total_il_high_credit_limit    0.052635\n",
       "num_accts_ever_120_pd         0.052635\n",
       "dtype: float64"
      ]
     },
     "execution_count": 14,
     "metadata": {},
     "output_type": "execute_result"
    }
   ],
   "source": [
    "percentage_NaN = loan_filtered.apply(lambda x: sum(x.isna()/len(loan_filtered)))\n",
    "percentage_NaN.sort_values(ascending = False).head(25)"
   ]
  },
  {
   "cell_type": "markdown",
   "metadata": {},
   "source": [
    "Now, we are going to fill de NAs values of the 'desc' column with zeros. We will transform this column in a dummy variable, if we don´t have the description we will obtain a 0, if something was written at the description, we will obtain the value = 1."
   ]
  },
  {
   "cell_type": "code",
   "execution_count": 15,
   "metadata": {},
   "outputs": [
    {
     "data": {
      "text/plain": [
       "0    0.905292\n",
       "1    0.094708\n",
       "Name: desc, dtype: float64"
      ]
     },
     "execution_count": 15,
     "metadata": {},
     "output_type": "execute_result"
    }
   ],
   "source": [
    "loan_filtered['desc'].fillna(0, inplace = True)\n",
    "loan_filtered['desc'] = np.where(loan_filtered['desc'] != 0, 1, 0)\n",
    "loan_filtered['desc'].value_counts(normalize=True)"
   ]
  },
  {
   "cell_type": "markdown",
   "metadata": {},
   "source": [
    "We want to know hoy many samples have we got with NAs, so we will count the number rows with NAs."
   ]
  },
  {
   "cell_type": "code",
   "execution_count": 16,
   "metadata": {},
   "outputs": [
    {
     "data": {
      "text/plain": [
       "63619"
      ]
     },
     "execution_count": 16,
     "metadata": {},
     "output_type": "execute_result"
    }
   ],
   "source": [
    "len(loan_filtered) - len(loan_filtered.dropna())"
   ]
  },
  {
   "cell_type": "markdown",
   "metadata": {},
   "source": [
    "We have around 192 000 of rows with NAs."
   ]
  },
  {
   "cell_type": "markdown",
   "metadata": {},
   "source": [
    "Now we will create 2 distinct dataframes ir order to split numerical and categorical variables, we need to work in a different way with them."
   ]
  },
  {
   "cell_type": "code",
   "execution_count": 17,
   "metadata": {},
   "outputs": [],
   "source": [
    "numericas = loan_filtered.select_dtypes(include = [np.number])\n",
    "categoricas = loan_filtered.select_dtypes(include = [np.object])"
   ]
  },
  {
   "cell_type": "code",
   "execution_count": 18,
   "metadata": {},
   "outputs": [
    {
     "name": "stdout",
     "output_type": "stream",
     "text": [
      "<class 'pandas.core.frame.DataFrame'>\n",
      "Int64Index: 332020 entries, 1000000 to 1332019\n",
      "Data columns (total 85 columns):\n",
      "loan_amnt                         332020 non-null int64\n",
      "funded_amnt                       332020 non-null int64\n",
      "funded_amnt_inv                   332020 non-null float64\n",
      "int_rate                          332020 non-null float64\n",
      "installment                       332020 non-null float64\n",
      "annual_inc                        332020 non-null float64\n",
      "desc                              332020 non-null int32\n",
      "dti                               331934 non-null float64\n",
      "delinq_2yrs                       332016 non-null float64\n",
      "inq_last_6mths                    332016 non-null float64\n",
      "mths_since_last_delinq            332020 non-null float64\n",
      "mths_since_last_record            332020 non-null float64\n",
      "open_acc                          332016 non-null float64\n",
      "pub_rec                           332016 non-null float64\n",
      "revol_bal                         332020 non-null int64\n",
      "revol_util                        331805 non-null float64\n",
      "total_acc                         332016 non-null float64\n",
      "out_prncp                         332020 non-null float64\n",
      "out_prncp_inv                     332020 non-null float64\n",
      "total_pymnt                       332020 non-null float64\n",
      "total_pymnt_inv                   332020 non-null float64\n",
      "total_rec_prncp                   332020 non-null float64\n",
      "total_rec_int                     332020 non-null float64\n",
      "total_rec_late_fee                332020 non-null float64\n",
      "recoveries                        332020 non-null float64\n",
      "collection_recovery_fee           332020 non-null float64\n",
      "last_pymnt_amnt                   332020 non-null float64\n",
      "collections_12_mths_ex_med        331989 non-null float64\n",
      "mths_since_last_major_derog       332020 non-null float64\n",
      "policy_code                       332020 non-null int64\n",
      "acc_now_delinq                    332016 non-null float64\n",
      "tot_coll_amt                      314544 non-null float64\n",
      "tot_cur_bal                       314544 non-null float64\n",
      "open_acc_6m                       332020 non-null float64\n",
      "open_act_il                       332020 non-null float64\n",
      "open_il_12m                       332020 non-null float64\n",
      "open_il_24m                       332020 non-null float64\n",
      "mths_since_rcnt_il                332020 non-null float64\n",
      "total_bal_il                      332020 non-null float64\n",
      "il_util                           332020 non-null float64\n",
      "open_rv_12m                       332020 non-null float64\n",
      "open_rv_24m                       332020 non-null float64\n",
      "max_bal_bc                        332020 non-null float64\n",
      "all_util                          332020 non-null float64\n",
      "total_rev_hi_lim                  314544 non-null float64\n",
      "inq_fi                            332020 non-null float64\n",
      "total_cu_tl                       332020 non-null float64\n",
      "inq_last_12m                      332020 non-null float64\n",
      "acc_open_past_24mths              319615 non-null float64\n",
      "avg_cur_bal                       314542 non-null float64\n",
      "bc_open_to_buy                    316074 non-null float64\n",
      "bc_util                           315874 non-null float64\n",
      "chargeoff_within_12_mths          331989 non-null float64\n",
      "delinq_amnt                       332016 non-null float64\n",
      "mo_sin_old_il_acct                305096 non-null float64\n",
      "mo_sin_old_rev_tl_op              314543 non-null float64\n",
      "mo_sin_rcnt_rev_tl_op             314543 non-null float64\n",
      "mo_sin_rcnt_tl                    314544 non-null float64\n",
      "mort_acc                          319615 non-null float64\n",
      "mths_since_recent_bc              316292 non-null float64\n",
      "mths_since_recent_bc_dlq          332020 non-null float64\n",
      "mths_since_recent_inq             332020 non-null float64\n",
      "mths_since_recent_revol_delinq    332020 non-null float64\n",
      "num_accts_ever_120_pd             314544 non-null float64\n",
      "num_actv_bc_tl                    314544 non-null float64\n",
      "num_actv_rev_tl                   314544 non-null float64\n",
      "num_bc_sats                       317414 non-null float64\n",
      "num_bc_tl                         314544 non-null float64\n",
      "num_il_tl                         314544 non-null float64\n",
      "num_op_rev_tl                     314544 non-null float64\n",
      "num_rev_accts                     314544 non-null float64\n",
      "num_sats                          317414 non-null float64\n",
      "num_tl_120dpd_2m                  302265 non-null float64\n",
      "num_tl_30dpd                      314544 non-null float64\n",
      "num_tl_90g_dpd_24m                314544 non-null float64\n",
      "num_tl_op_past_12m                314544 non-null float64\n",
      "pct_tl_nvr_dlq                    314505 non-null float64\n",
      "percent_bc_gt_75                  315980 non-null float64\n",
      "pub_rec_bankruptcies              331674 non-null float64\n",
      "tax_liens                         331995 non-null float64\n",
      "tot_hi_cred_lim                   314544 non-null float64\n",
      "total_bal_ex_mort                 319615 non-null float64\n",
      "total_bc_limit                    319615 non-null float64\n",
      "total_il_high_credit_limit        314544 non-null float64\n",
      "target                            332020 non-null int64\n",
      "dtypes: float64(79), int32(1), int64(5)\n",
      "memory usage: 216.6 MB\n"
     ]
    }
   ],
   "source": [
    "numericas.info()"
   ]
  },
  {
   "cell_type": "code",
   "execution_count": 19,
   "metadata": {},
   "outputs": [
    {
     "name": "stdout",
     "output_type": "stream",
     "text": [
      "<class 'pandas.core.frame.DataFrame'>\n",
      "Int64Index: 332020 entries, 1000000 to 1332019\n",
      "Data columns (total 21 columns):\n",
      "term                    332020 non-null object\n",
      "grade                   332020 non-null object\n",
      "sub_grade               332020 non-null object\n",
      "emp_title               310775 non-null object\n",
      "emp_length              312662 non-null object\n",
      "home_ownership          332020 non-null object\n",
      "verification_status     332020 non-null object\n",
      "issue_d                 332020 non-null object\n",
      "pymnt_plan              332020 non-null object\n",
      "purpose                 332020 non-null object\n",
      "title                   328143 non-null object\n",
      "zip_code                332020 non-null object\n",
      "addr_state              332020 non-null object\n",
      "earliest_cr_line        332016 non-null object\n",
      "initial_list_status     332020 non-null object\n",
      "last_pymnt_d            331440 non-null object\n",
      "last_credit_pull_d      332009 non-null object\n",
      "application_type        332020 non-null object\n",
      "hardship_flag           332020 non-null object\n",
      "disbursement_method     332020 non-null object\n",
      "debt_settlement_flag    332020 non-null object\n",
      "dtypes: object(21)\n",
      "memory usage: 55.7+ MB\n"
     ]
    }
   ],
   "source": [
    "categoricas.info()"
   ]
  },
  {
   "cell_type": "code",
   "execution_count": 20,
   "metadata": {},
   "outputs": [
    {
     "data": {
      "text/plain": [
       "term                         2\n",
       "grade                        7\n",
       "sub_grade                   35\n",
       "emp_title               121292\n",
       "emp_length                  11\n",
       "home_ownership               6\n",
       "verification_status          3\n",
       "issue_d                    139\n",
       "pymnt_plan                   2\n",
       "purpose                     14\n",
       "title                    19161\n",
       "zip_code                   906\n",
       "addr_state                  51\n",
       "earliest_cr_line           696\n",
       "initial_list_status          2\n",
       "last_pymnt_d               135\n",
       "last_credit_pull_d         134\n",
       "application_type             2\n",
       "hardship_flag                2\n",
       "disbursement_method          2\n",
       "debt_settlement_flag         2\n",
       "dtype: int64"
      ]
     },
     "execution_count": 20,
     "metadata": {},
     "output_type": "execute_result"
    }
   ],
   "source": [
    "categoricas.nunique()"
   ]
  },
  {
   "cell_type": "markdown",
   "metadata": {},
   "source": [
    "We impute the NaN of numeric variables by the mean of each variable."
   ]
  },
  {
   "cell_type": "code",
   "execution_count": 21,
   "metadata": {},
   "outputs": [],
   "source": [
    "numericas = numericas.apply(lambda x: x.replace(\"\", np.nan))\n",
    "numericas = numericas.apply(lambda x: x.fillna(x.mean()))"
   ]
  },
  {
   "cell_type": "code",
   "execution_count": 22,
   "metadata": {},
   "outputs": [
    {
     "name": "stdout",
     "output_type": "stream",
     "text": [
      "<class 'pandas.core.frame.DataFrame'>\n",
      "Int64Index: 332020 entries, 1000000 to 1332019\n",
      "Data columns (total 85 columns):\n",
      "loan_amnt                         332020 non-null int64\n",
      "funded_amnt                       332020 non-null int64\n",
      "funded_amnt_inv                   332020 non-null float64\n",
      "int_rate                          332020 non-null float64\n",
      "installment                       332020 non-null float64\n",
      "annual_inc                        332020 non-null float64\n",
      "desc                              332020 non-null int64\n",
      "dti                               332020 non-null float64\n",
      "delinq_2yrs                       332020 non-null float64\n",
      "inq_last_6mths                    332020 non-null float64\n",
      "mths_since_last_delinq            332020 non-null float64\n",
      "mths_since_last_record            332020 non-null float64\n",
      "open_acc                          332020 non-null float64\n",
      "pub_rec                           332020 non-null float64\n",
      "revol_bal                         332020 non-null int64\n",
      "revol_util                        332020 non-null float64\n",
      "total_acc                         332020 non-null float64\n",
      "out_prncp                         332020 non-null float64\n",
      "out_prncp_inv                     332020 non-null float64\n",
      "total_pymnt                       332020 non-null float64\n",
      "total_pymnt_inv                   332020 non-null float64\n",
      "total_rec_prncp                   332020 non-null float64\n",
      "total_rec_int                     332020 non-null float64\n",
      "total_rec_late_fee                332020 non-null float64\n",
      "recoveries                        332020 non-null float64\n",
      "collection_recovery_fee           332020 non-null float64\n",
      "last_pymnt_amnt                   332020 non-null float64\n",
      "collections_12_mths_ex_med        332020 non-null float64\n",
      "mths_since_last_major_derog       332020 non-null float64\n",
      "policy_code                       332020 non-null int64\n",
      "acc_now_delinq                    332020 non-null float64\n",
      "tot_coll_amt                      332020 non-null float64\n",
      "tot_cur_bal                       332020 non-null float64\n",
      "open_acc_6m                       332020 non-null float64\n",
      "open_act_il                       332020 non-null float64\n",
      "open_il_12m                       332020 non-null float64\n",
      "open_il_24m                       332020 non-null float64\n",
      "mths_since_rcnt_il                332020 non-null float64\n",
      "total_bal_il                      332020 non-null float64\n",
      "il_util                           332020 non-null float64\n",
      "open_rv_12m                       332020 non-null float64\n",
      "open_rv_24m                       332020 non-null float64\n",
      "max_bal_bc                        332020 non-null float64\n",
      "all_util                          332020 non-null float64\n",
      "total_rev_hi_lim                  332020 non-null float64\n",
      "inq_fi                            332020 non-null float64\n",
      "total_cu_tl                       332020 non-null float64\n",
      "inq_last_12m                      332020 non-null float64\n",
      "acc_open_past_24mths              332020 non-null float64\n",
      "avg_cur_bal                       332020 non-null float64\n",
      "bc_open_to_buy                    332020 non-null float64\n",
      "bc_util                           332020 non-null float64\n",
      "chargeoff_within_12_mths          332020 non-null float64\n",
      "delinq_amnt                       332020 non-null float64\n",
      "mo_sin_old_il_acct                332020 non-null float64\n",
      "mo_sin_old_rev_tl_op              332020 non-null float64\n",
      "mo_sin_rcnt_rev_tl_op             332020 non-null float64\n",
      "mo_sin_rcnt_tl                    332020 non-null float64\n",
      "mort_acc                          332020 non-null float64\n",
      "mths_since_recent_bc              332020 non-null float64\n",
      "mths_since_recent_bc_dlq          332020 non-null float64\n",
      "mths_since_recent_inq             332020 non-null float64\n",
      "mths_since_recent_revol_delinq    332020 non-null float64\n",
      "num_accts_ever_120_pd             332020 non-null float64\n",
      "num_actv_bc_tl                    332020 non-null float64\n",
      "num_actv_rev_tl                   332020 non-null float64\n",
      "num_bc_sats                       332020 non-null float64\n",
      "num_bc_tl                         332020 non-null float64\n",
      "num_il_tl                         332020 non-null float64\n",
      "num_op_rev_tl                     332020 non-null float64\n",
      "num_rev_accts                     332020 non-null float64\n",
      "num_sats                          332020 non-null float64\n",
      "num_tl_120dpd_2m                  332020 non-null float64\n",
      "num_tl_30dpd                      332020 non-null float64\n",
      "num_tl_90g_dpd_24m                332020 non-null float64\n",
      "num_tl_op_past_12m                332020 non-null float64\n",
      "pct_tl_nvr_dlq                    332020 non-null float64\n",
      "percent_bc_gt_75                  332020 non-null float64\n",
      "pub_rec_bankruptcies              332020 non-null float64\n",
      "tax_liens                         332020 non-null float64\n",
      "tot_hi_cred_lim                   332020 non-null float64\n",
      "total_bal_ex_mort                 332020 non-null float64\n",
      "total_bc_limit                    332020 non-null float64\n",
      "total_il_high_credit_limit        332020 non-null float64\n",
      "target                            332020 non-null int64\n",
      "dtypes: float64(79), int64(6)\n",
      "memory usage: 217.8 MB\n"
     ]
    }
   ],
   "source": [
    "numericas.info()"
   ]
  },
  {
   "cell_type": "markdown",
   "metadata": {},
   "source": [
    "We impute the NaN of categorical variables by the mode of each variable."
   ]
  },
  {
   "cell_type": "code",
   "execution_count": 23,
   "metadata": {},
   "outputs": [],
   "source": [
    "categoricas = categoricas.apply(lambda x: x.replace(\"\", np.nan))\n",
    "categoricas = categoricas.apply(lambda x: x.fillna(x.value_counts().index[0]))"
   ]
  },
  {
   "cell_type": "code",
   "execution_count": 24,
   "metadata": {},
   "outputs": [
    {
     "name": "stdout",
     "output_type": "stream",
     "text": [
      "<class 'pandas.core.frame.DataFrame'>\n",
      "Int64Index: 332020 entries, 1000000 to 1332019\n",
      "Data columns (total 21 columns):\n",
      "term                    332020 non-null object\n",
      "grade                   332020 non-null object\n",
      "sub_grade               332020 non-null object\n",
      "emp_title               332020 non-null object\n",
      "emp_length              332020 non-null object\n",
      "home_ownership          332020 non-null object\n",
      "verification_status     332020 non-null object\n",
      "issue_d                 332020 non-null object\n",
      "pymnt_plan              332020 non-null object\n",
      "purpose                 332020 non-null object\n",
      "title                   332020 non-null object\n",
      "zip_code                332020 non-null object\n",
      "addr_state              332020 non-null object\n",
      "earliest_cr_line        332020 non-null object\n",
      "initial_list_status     332020 non-null object\n",
      "last_pymnt_d            332020 non-null object\n",
      "last_credit_pull_d      332020 non-null object\n",
      "application_type        332020 non-null object\n",
      "hardship_flag           332020 non-null object\n",
      "disbursement_method     332020 non-null object\n",
      "debt_settlement_flag    332020 non-null object\n",
      "dtypes: object(21)\n",
      "memory usage: 55.7+ MB\n"
     ]
    }
   ],
   "source": [
    "categoricas.info()"
   ]
  },
  {
   "cell_type": "code",
   "execution_count": 25,
   "metadata": {},
   "outputs": [
    {
     "data": {
      "text/plain": [
       "term                         2\n",
       "grade                        7\n",
       "sub_grade                   35\n",
       "emp_title               121292\n",
       "emp_length                  11\n",
       "home_ownership               6\n",
       "verification_status          3\n",
       "issue_d                    139\n",
       "pymnt_plan                   2\n",
       "purpose                     14\n",
       "title                    19161\n",
       "zip_code                   906\n",
       "addr_state                  51\n",
       "earliest_cr_line           696\n",
       "initial_list_status          2\n",
       "last_pymnt_d               135\n",
       "last_credit_pull_d         134\n",
       "application_type             2\n",
       "hardship_flag                2\n",
       "disbursement_method          2\n",
       "debt_settlement_flag         2\n",
       "dtype: int64"
      ]
     },
     "execution_count": 25,
     "metadata": {},
     "output_type": "execute_result"
    }
   ],
   "source": [
    "categoricas.nunique()"
   ]
  },
  {
   "cell_type": "code",
   "execution_count": 26,
   "metadata": {},
   "outputs": [],
   "source": [
    "loan_filtered = pd.concat([numericas, categoricas], axis = 1)"
   ]
  },
  {
   "cell_type": "code",
   "execution_count": 27,
   "metadata": {},
   "outputs": [
    {
     "data": {
      "text/html": [
       "<div>\n",
       "<style scoped>\n",
       "    .dataframe tbody tr th:only-of-type {\n",
       "        vertical-align: middle;\n",
       "    }\n",
       "\n",
       "    .dataframe tbody tr th {\n",
       "        vertical-align: top;\n",
       "    }\n",
       "\n",
       "    .dataframe thead th {\n",
       "        text-align: right;\n",
       "    }\n",
       "</style>\n",
       "<table border=\"1\" class=\"dataframe\">\n",
       "  <thead>\n",
       "    <tr style=\"text-align: right;\">\n",
       "      <th></th>\n",
       "      <th>loan_amnt</th>\n",
       "      <th>funded_amnt</th>\n",
       "      <th>funded_amnt_inv</th>\n",
       "      <th>int_rate</th>\n",
       "      <th>installment</th>\n",
       "      <th>annual_inc</th>\n",
       "      <th>desc</th>\n",
       "      <th>dti</th>\n",
       "      <th>delinq_2yrs</th>\n",
       "      <th>inq_last_6mths</th>\n",
       "      <th>...</th>\n",
       "      <th>zip_code</th>\n",
       "      <th>addr_state</th>\n",
       "      <th>earliest_cr_line</th>\n",
       "      <th>initial_list_status</th>\n",
       "      <th>last_pymnt_d</th>\n",
       "      <th>last_credit_pull_d</th>\n",
       "      <th>application_type</th>\n",
       "      <th>hardship_flag</th>\n",
       "      <th>disbursement_method</th>\n",
       "      <th>debt_settlement_flag</th>\n",
       "    </tr>\n",
       "  </thead>\n",
       "  <tbody>\n",
       "    <tr>\n",
       "      <td>1000000</td>\n",
       "      <td>20000</td>\n",
       "      <td>20000</td>\n",
       "      <td>20000.0</td>\n",
       "      <td>9.49</td>\n",
       "      <td>640.57</td>\n",
       "      <td>120000.0</td>\n",
       "      <td>0</td>\n",
       "      <td>10.89</td>\n",
       "      <td>0.0</td>\n",
       "      <td>0.0</td>\n",
       "      <td>...</td>\n",
       "      <td>079xx</td>\n",
       "      <td>NJ</td>\n",
       "      <td>May-2009</td>\n",
       "      <td>w</td>\n",
       "      <td>Mar-2018</td>\n",
       "      <td>Apr-2018</td>\n",
       "      <td>Individual</td>\n",
       "      <td>N</td>\n",
       "      <td>Cash</td>\n",
       "      <td>N</td>\n",
       "    </tr>\n",
       "    <tr>\n",
       "      <td>1000001</td>\n",
       "      <td>2500</td>\n",
       "      <td>2500</td>\n",
       "      <td>2500.0</td>\n",
       "      <td>11.47</td>\n",
       "      <td>82.41</td>\n",
       "      <td>35000.0</td>\n",
       "      <td>0</td>\n",
       "      <td>17.35</td>\n",
       "      <td>0.0</td>\n",
       "      <td>0.0</td>\n",
       "      <td>...</td>\n",
       "      <td>752xx</td>\n",
       "      <td>TX</td>\n",
       "      <td>Feb-2005</td>\n",
       "      <td>w</td>\n",
       "      <td>Feb-2018</td>\n",
       "      <td>Feb-2018</td>\n",
       "      <td>Individual</td>\n",
       "      <td>N</td>\n",
       "      <td>Cash</td>\n",
       "      <td>N</td>\n",
       "    </tr>\n",
       "    <tr>\n",
       "      <td>1000002</td>\n",
       "      <td>17825</td>\n",
       "      <td>17825</td>\n",
       "      <td>17825.0</td>\n",
       "      <td>17.99</td>\n",
       "      <td>644.33</td>\n",
       "      <td>119000.0</td>\n",
       "      <td>0</td>\n",
       "      <td>16.87</td>\n",
       "      <td>0.0</td>\n",
       "      <td>1.0</td>\n",
       "      <td>...</td>\n",
       "      <td>473xx</td>\n",
       "      <td>IN</td>\n",
       "      <td>Oct-2006</td>\n",
       "      <td>f</td>\n",
       "      <td>Mar-2018</td>\n",
       "      <td>Aug-2018</td>\n",
       "      <td>Individual</td>\n",
       "      <td>N</td>\n",
       "      <td>Cash</td>\n",
       "      <td>N</td>\n",
       "    </tr>\n",
       "    <tr>\n",
       "      <td>1000003</td>\n",
       "      <td>9500</td>\n",
       "      <td>9500</td>\n",
       "      <td>9500.0</td>\n",
       "      <td>8.18</td>\n",
       "      <td>298.49</td>\n",
       "      <td>82000.0</td>\n",
       "      <td>0</td>\n",
       "      <td>24.69</td>\n",
       "      <td>0.0</td>\n",
       "      <td>1.0</td>\n",
       "      <td>...</td>\n",
       "      <td>850xx</td>\n",
       "      <td>AZ</td>\n",
       "      <td>May-2003</td>\n",
       "      <td>w</td>\n",
       "      <td>Feb-2016</td>\n",
       "      <td>Feb-2019</td>\n",
       "      <td>Individual</td>\n",
       "      <td>N</td>\n",
       "      <td>Cash</td>\n",
       "      <td>N</td>\n",
       "    </tr>\n",
       "    <tr>\n",
       "      <td>1000004</td>\n",
       "      <td>15000</td>\n",
       "      <td>15000</td>\n",
       "      <td>14800.0</td>\n",
       "      <td>12.49</td>\n",
       "      <td>501.74</td>\n",
       "      <td>66287.0</td>\n",
       "      <td>0</td>\n",
       "      <td>13.65</td>\n",
       "      <td>0.0</td>\n",
       "      <td>1.0</td>\n",
       "      <td>...</td>\n",
       "      <td>773xx</td>\n",
       "      <td>TX</td>\n",
       "      <td>Jun-1988</td>\n",
       "      <td>f</td>\n",
       "      <td>Mar-2016</td>\n",
       "      <td>Oct-2016</td>\n",
       "      <td>Individual</td>\n",
       "      <td>N</td>\n",
       "      <td>Cash</td>\n",
       "      <td>N</td>\n",
       "    </tr>\n",
       "    <tr>\n",
       "      <td>1000005</td>\n",
       "      <td>6000</td>\n",
       "      <td>6000</td>\n",
       "      <td>6000.0</td>\n",
       "      <td>9.17</td>\n",
       "      <td>191.28</td>\n",
       "      <td>125000.0</td>\n",
       "      <td>0</td>\n",
       "      <td>9.16</td>\n",
       "      <td>0.0</td>\n",
       "      <td>0.0</td>\n",
       "      <td>...</td>\n",
       "      <td>900xx</td>\n",
       "      <td>CA</td>\n",
       "      <td>Apr-2004</td>\n",
       "      <td>f</td>\n",
       "      <td>Feb-2017</td>\n",
       "      <td>Mar-2017</td>\n",
       "      <td>Individual</td>\n",
       "      <td>N</td>\n",
       "      <td>Cash</td>\n",
       "      <td>N</td>\n",
       "    </tr>\n",
       "    <tr>\n",
       "      <td>1000006</td>\n",
       "      <td>11875</td>\n",
       "      <td>11875</td>\n",
       "      <td>11875.0</td>\n",
       "      <td>14.49</td>\n",
       "      <td>279.34</td>\n",
       "      <td>52000.0</td>\n",
       "      <td>0</td>\n",
       "      <td>27.31</td>\n",
       "      <td>0.0</td>\n",
       "      <td>0.0</td>\n",
       "      <td>...</td>\n",
       "      <td>296xx</td>\n",
       "      <td>SC</td>\n",
       "      <td>Mar-2000</td>\n",
       "      <td>w</td>\n",
       "      <td>May-2018</td>\n",
       "      <td>Feb-2019</td>\n",
       "      <td>Individual</td>\n",
       "      <td>N</td>\n",
       "      <td>Cash</td>\n",
       "      <td>N</td>\n",
       "    </tr>\n",
       "    <tr>\n",
       "      <td>1000007</td>\n",
       "      <td>24000</td>\n",
       "      <td>24000</td>\n",
       "      <td>24000.0</td>\n",
       "      <td>7.90</td>\n",
       "      <td>750.97</td>\n",
       "      <td>65000.0</td>\n",
       "      <td>1</td>\n",
       "      <td>21.84</td>\n",
       "      <td>2.0</td>\n",
       "      <td>0.0</td>\n",
       "      <td>...</td>\n",
       "      <td>809xx</td>\n",
       "      <td>CO</td>\n",
       "      <td>Jul-1994</td>\n",
       "      <td>f</td>\n",
       "      <td>May-2014</td>\n",
       "      <td>May-2014</td>\n",
       "      <td>Individual</td>\n",
       "      <td>N</td>\n",
       "      <td>Cash</td>\n",
       "      <td>N</td>\n",
       "    </tr>\n",
       "    <tr>\n",
       "      <td>1000008</td>\n",
       "      <td>21000</td>\n",
       "      <td>21000</td>\n",
       "      <td>21000.0</td>\n",
       "      <td>16.55</td>\n",
       "      <td>516.84</td>\n",
       "      <td>50000.0</td>\n",
       "      <td>0</td>\n",
       "      <td>20.38</td>\n",
       "      <td>0.0</td>\n",
       "      <td>0.0</td>\n",
       "      <td>...</td>\n",
       "      <td>824xx</td>\n",
       "      <td>WY</td>\n",
       "      <td>Jul-2007</td>\n",
       "      <td>w</td>\n",
       "      <td>Oct-2018</td>\n",
       "      <td>Feb-2019</td>\n",
       "      <td>Individual</td>\n",
       "      <td>N</td>\n",
       "      <td>Cash</td>\n",
       "      <td>N</td>\n",
       "    </tr>\n",
       "    <tr>\n",
       "      <td>1000009</td>\n",
       "      <td>21500</td>\n",
       "      <td>21500</td>\n",
       "      <td>21400.0</td>\n",
       "      <td>9.17</td>\n",
       "      <td>685.40</td>\n",
       "      <td>91000.0</td>\n",
       "      <td>0</td>\n",
       "      <td>31.25</td>\n",
       "      <td>0.0</td>\n",
       "      <td>0.0</td>\n",
       "      <td>...</td>\n",
       "      <td>350xx</td>\n",
       "      <td>AL</td>\n",
       "      <td>May-2000</td>\n",
       "      <td>f</td>\n",
       "      <td>Aug-2017</td>\n",
       "      <td>May-2018</td>\n",
       "      <td>Individual</td>\n",
       "      <td>N</td>\n",
       "      <td>Cash</td>\n",
       "      <td>N</td>\n",
       "    </tr>\n",
       "  </tbody>\n",
       "</table>\n",
       "<p>10 rows × 106 columns</p>\n",
       "</div>"
      ],
      "text/plain": [
       "         loan_amnt  funded_amnt  funded_amnt_inv  int_rate  installment  \\\n",
       "1000000      20000        20000          20000.0      9.49       640.57   \n",
       "1000001       2500         2500           2500.0     11.47        82.41   \n",
       "1000002      17825        17825          17825.0     17.99       644.33   \n",
       "1000003       9500         9500           9500.0      8.18       298.49   \n",
       "1000004      15000        15000          14800.0     12.49       501.74   \n",
       "1000005       6000         6000           6000.0      9.17       191.28   \n",
       "1000006      11875        11875          11875.0     14.49       279.34   \n",
       "1000007      24000        24000          24000.0      7.90       750.97   \n",
       "1000008      21000        21000          21000.0     16.55       516.84   \n",
       "1000009      21500        21500          21400.0      9.17       685.40   \n",
       "\n",
       "         annual_inc  desc    dti  delinq_2yrs  inq_last_6mths  ...  zip_code  \\\n",
       "1000000    120000.0     0  10.89          0.0             0.0  ...     079xx   \n",
       "1000001     35000.0     0  17.35          0.0             0.0  ...     752xx   \n",
       "1000002    119000.0     0  16.87          0.0             1.0  ...     473xx   \n",
       "1000003     82000.0     0  24.69          0.0             1.0  ...     850xx   \n",
       "1000004     66287.0     0  13.65          0.0             1.0  ...     773xx   \n",
       "1000005    125000.0     0   9.16          0.0             0.0  ...     900xx   \n",
       "1000006     52000.0     0  27.31          0.0             0.0  ...     296xx   \n",
       "1000007     65000.0     1  21.84          2.0             0.0  ...     809xx   \n",
       "1000008     50000.0     0  20.38          0.0             0.0  ...     824xx   \n",
       "1000009     91000.0     0  31.25          0.0             0.0  ...     350xx   \n",
       "\n",
       "         addr_state  earliest_cr_line  initial_list_status  last_pymnt_d  \\\n",
       "1000000          NJ          May-2009                    w      Mar-2018   \n",
       "1000001          TX          Feb-2005                    w      Feb-2018   \n",
       "1000002          IN          Oct-2006                    f      Mar-2018   \n",
       "1000003          AZ          May-2003                    w      Feb-2016   \n",
       "1000004          TX          Jun-1988                    f      Mar-2016   \n",
       "1000005          CA          Apr-2004                    f      Feb-2017   \n",
       "1000006          SC          Mar-2000                    w      May-2018   \n",
       "1000007          CO          Jul-1994                    f      May-2014   \n",
       "1000008          WY          Jul-2007                    w      Oct-2018   \n",
       "1000009          AL          May-2000                    f      Aug-2017   \n",
       "\n",
       "         last_credit_pull_d  application_type  hardship_flag  \\\n",
       "1000000            Apr-2018        Individual              N   \n",
       "1000001            Feb-2018        Individual              N   \n",
       "1000002            Aug-2018        Individual              N   \n",
       "1000003            Feb-2019        Individual              N   \n",
       "1000004            Oct-2016        Individual              N   \n",
       "1000005            Mar-2017        Individual              N   \n",
       "1000006            Feb-2019        Individual              N   \n",
       "1000007            May-2014        Individual              N   \n",
       "1000008            Feb-2019        Individual              N   \n",
       "1000009            May-2018        Individual              N   \n",
       "\n",
       "         disbursement_method  debt_settlement_flag  \n",
       "1000000                 Cash                     N  \n",
       "1000001                 Cash                     N  \n",
       "1000002                 Cash                     N  \n",
       "1000003                 Cash                     N  \n",
       "1000004                 Cash                     N  \n",
       "1000005                 Cash                     N  \n",
       "1000006                 Cash                     N  \n",
       "1000007                 Cash                     N  \n",
       "1000008                 Cash                     N  \n",
       "1000009                 Cash                     N  \n",
       "\n",
       "[10 rows x 106 columns]"
      ]
     },
     "execution_count": 27,
     "metadata": {},
     "output_type": "execute_result"
    }
   ],
   "source": [
    "loan_filtered.head(10)"
   ]
  },
  {
   "cell_type": "markdown",
   "metadata": {},
   "source": [
    "There are some variables wich have a lot of categories, more than we can deal with, so we will delete them. Another variables, due to a research, we discover that give us information wich we would not have when we were going to give a loan."
   ]
  },
  {
   "cell_type": "code",
   "execution_count": 28,
   "metadata": {},
   "outputs": [],
   "source": [
    "del loan_filtered['sub_grade']\n",
    "del loan_filtered['emp_title']\n",
    "del loan_filtered['issue_d']\n",
    "del loan_filtered['zip_code']\n",
    "del loan_filtered['addr_state']\n",
    "del loan_filtered['funded_amnt']\n",
    "del loan_filtered['funded_amnt_inv']\n",
    "del loan_filtered['title']\n",
    "del loan_filtered['last_credit_pull_d']\n",
    "del loan_filtered['last_pymnt_d']\n",
    "del loan_filtered['debt_settlement_flag']\n",
    "del loan_filtered['total_pymnt']\n",
    "del loan_filtered['total_pymnt_inv']\n",
    "del loan_filtered['total_rec_int']\n",
    "del loan_filtered['total_rec_late_fee']\n",
    "del loan_filtered['total_rec_prncp']\n",
    "del loan_filtered['last_pymnt_amnt']\n",
    "del loan_filtered['out_prncp']\n",
    "del loan_filtered['out_prncp_inv']\n",
    "del loan_filtered['hardship_flag']\n",
    "del loan_filtered['pymnt_plan']"
   ]
  },
  {
   "cell_type": "code",
   "execution_count": 29,
   "metadata": {},
   "outputs": [
    {
     "name": "stdout",
     "output_type": "stream",
     "text": [
      "<class 'pandas.core.frame.DataFrame'>\n",
      "Int64Index: 332020 entries, 1000000 to 1332019\n",
      "Data columns (total 85 columns):\n",
      "loan_amnt                         332020 non-null int64\n",
      "int_rate                          332020 non-null float64\n",
      "installment                       332020 non-null float64\n",
      "annual_inc                        332020 non-null float64\n",
      "desc                              332020 non-null int64\n",
      "dti                               332020 non-null float64\n",
      "delinq_2yrs                       332020 non-null float64\n",
      "inq_last_6mths                    332020 non-null float64\n",
      "mths_since_last_delinq            332020 non-null float64\n",
      "mths_since_last_record            332020 non-null float64\n",
      "open_acc                          332020 non-null float64\n",
      "pub_rec                           332020 non-null float64\n",
      "revol_bal                         332020 non-null int64\n",
      "revol_util                        332020 non-null float64\n",
      "total_acc                         332020 non-null float64\n",
      "recoveries                        332020 non-null float64\n",
      "collection_recovery_fee           332020 non-null float64\n",
      "collections_12_mths_ex_med        332020 non-null float64\n",
      "mths_since_last_major_derog       332020 non-null float64\n",
      "policy_code                       332020 non-null int64\n",
      "acc_now_delinq                    332020 non-null float64\n",
      "tot_coll_amt                      332020 non-null float64\n",
      "tot_cur_bal                       332020 non-null float64\n",
      "open_acc_6m                       332020 non-null float64\n",
      "open_act_il                       332020 non-null float64\n",
      "open_il_12m                       332020 non-null float64\n",
      "open_il_24m                       332020 non-null float64\n",
      "mths_since_rcnt_il                332020 non-null float64\n",
      "total_bal_il                      332020 non-null float64\n",
      "il_util                           332020 non-null float64\n",
      "open_rv_12m                       332020 non-null float64\n",
      "open_rv_24m                       332020 non-null float64\n",
      "max_bal_bc                        332020 non-null float64\n",
      "all_util                          332020 non-null float64\n",
      "total_rev_hi_lim                  332020 non-null float64\n",
      "inq_fi                            332020 non-null float64\n",
      "total_cu_tl                       332020 non-null float64\n",
      "inq_last_12m                      332020 non-null float64\n",
      "acc_open_past_24mths              332020 non-null float64\n",
      "avg_cur_bal                       332020 non-null float64\n",
      "bc_open_to_buy                    332020 non-null float64\n",
      "bc_util                           332020 non-null float64\n",
      "chargeoff_within_12_mths          332020 non-null float64\n",
      "delinq_amnt                       332020 non-null float64\n",
      "mo_sin_old_il_acct                332020 non-null float64\n",
      "mo_sin_old_rev_tl_op              332020 non-null float64\n",
      "mo_sin_rcnt_rev_tl_op             332020 non-null float64\n",
      "mo_sin_rcnt_tl                    332020 non-null float64\n",
      "mort_acc                          332020 non-null float64\n",
      "mths_since_recent_bc              332020 non-null float64\n",
      "mths_since_recent_bc_dlq          332020 non-null float64\n",
      "mths_since_recent_inq             332020 non-null float64\n",
      "mths_since_recent_revol_delinq    332020 non-null float64\n",
      "num_accts_ever_120_pd             332020 non-null float64\n",
      "num_actv_bc_tl                    332020 non-null float64\n",
      "num_actv_rev_tl                   332020 non-null float64\n",
      "num_bc_sats                       332020 non-null float64\n",
      "num_bc_tl                         332020 non-null float64\n",
      "num_il_tl                         332020 non-null float64\n",
      "num_op_rev_tl                     332020 non-null float64\n",
      "num_rev_accts                     332020 non-null float64\n",
      "num_sats                          332020 non-null float64\n",
      "num_tl_120dpd_2m                  332020 non-null float64\n",
      "num_tl_30dpd                      332020 non-null float64\n",
      "num_tl_90g_dpd_24m                332020 non-null float64\n",
      "num_tl_op_past_12m                332020 non-null float64\n",
      "pct_tl_nvr_dlq                    332020 non-null float64\n",
      "percent_bc_gt_75                  332020 non-null float64\n",
      "pub_rec_bankruptcies              332020 non-null float64\n",
      "tax_liens                         332020 non-null float64\n",
      "tot_hi_cred_lim                   332020 non-null float64\n",
      "total_bal_ex_mort                 332020 non-null float64\n",
      "total_bc_limit                    332020 non-null float64\n",
      "total_il_high_credit_limit        332020 non-null float64\n",
      "target                            332020 non-null int64\n",
      "term                              332020 non-null object\n",
      "grade                             332020 non-null object\n",
      "emp_length                        332020 non-null object\n",
      "home_ownership                    332020 non-null object\n",
      "verification_status               332020 non-null object\n",
      "purpose                           332020 non-null object\n",
      "earliest_cr_line                  332020 non-null object\n",
      "initial_list_status               332020 non-null object\n",
      "application_type                  332020 non-null object\n",
      "disbursement_method               332020 non-null object\n",
      "dtypes: float64(70), int64(5), object(10)\n",
      "memory usage: 217.8+ MB\n"
     ]
    }
   ],
   "source": [
    "loan_filtered.info()"
   ]
  },
  {
   "cell_type": "markdown",
   "metadata": {},
   "source": [
    "There is a variable which we consider of vital importance, 'earliest_cr_line' indicates when the borrower's credit file started, the longer is the credit file, the more we can trust in the borrower."
   ]
  },
  {
   "cell_type": "code",
   "execution_count": 30,
   "metadata": {},
   "outputs": [],
   "source": [
    "x = loan_filtered['earliest_cr_line'] # we do a copy"
   ]
  },
  {
   "cell_type": "code",
   "execution_count": 31,
   "metadata": {},
   "outputs": [],
   "source": [
    "x = x.astype(str) # convert to string"
   ]
  },
  {
   "cell_type": "code",
   "execution_count": 32,
   "metadata": {},
   "outputs": [
    {
     "data": {
      "text/plain": [
       "332020"
      ]
     },
     "execution_count": 32,
     "metadata": {},
     "output_type": "execute_result"
    }
   ],
   "source": [
    "len(x) # show the length"
   ]
  },
  {
   "cell_type": "code",
   "execution_count": 33,
   "metadata": {},
   "outputs": [],
   "source": [
    "x = x.map(lambda x: x.split('-')) # splitting by the '-'"
   ]
  },
  {
   "cell_type": "code",
   "execution_count": 34,
   "metadata": {},
   "outputs": [
    {
     "data": {
      "text/plain": [
       "['Oct', '2006']"
      ]
     },
     "execution_count": 34,
     "metadata": {},
     "output_type": "execute_result"
    }
   ],
   "source": [
    "x.iloc[2] # show a sample"
   ]
  },
  {
   "cell_type": "code",
   "execution_count": 35,
   "metadata": {},
   "outputs": [
    {
     "data": {
      "text/plain": [
       "['Sep', '2015']"
      ]
     },
     "execution_count": 35,
     "metadata": {},
     "output_type": "execute_result"
    }
   ],
   "source": [
    "x.max()"
   ]
  },
  {
   "cell_type": "code",
   "execution_count": 36,
   "metadata": {},
   "outputs": [],
   "source": [
    "# we calculate the length of the credit file substracting the currently year and the year the credit file was born\n",
    "\n",
    "x = x.map(lambda x: 2019 - int(x[1]))"
   ]
  },
  {
   "cell_type": "code",
   "execution_count": 37,
   "metadata": {},
   "outputs": [
    {
     "data": {
      "text/plain": [
       "1000000    10\n",
       "1000001    14\n",
       "1000002    13\n",
       "1000003    16\n",
       "1000004    31\n",
       "           ..\n",
       "1332015    15\n",
       "1332016    18\n",
       "1332017    29\n",
       "1332018    21\n",
       "1332019    11\n",
       "Name: earliest_cr_line, Length: 332020, dtype: int64"
      ]
     },
     "execution_count": 37,
     "metadata": {},
     "output_type": "execute_result"
    }
   ],
   "source": [
    "x # the final result"
   ]
  },
  {
   "cell_type": "code",
   "execution_count": 38,
   "metadata": {},
   "outputs": [
    {
     "data": {
      "image/png": "[encoded data removed]",
      "text/plain": [
       "<Figure size 432x288 with 1 Axes>"
      ]
     },
     "metadata": {
      "needs_background": "light"
     },
     "output_type": "display_data"
    }
   ],
   "source": [
    "# histogram of credit file years\n",
    "\n",
    "sns.distplot(x);"
   ]
  },
  {
   "cell_type": "code",
   "execution_count": 39,
   "metadata": {},
   "outputs": [],
   "source": [
    "loan_filtered['earliest_cr_line'] = x # replacing the variable, now is numeric\n",
    "del x"
   ]
  },
  {
   "cell_type": "markdown",
   "metadata": {},
   "source": [
    "'home_ownership' has a lot of categories, when we will go to make dummies it will return us so many variables, in order to prevent it, we will reduce the dimension of this variable rencoding it."
   ]
  },
  {
   "cell_type": "code",
   "execution_count": 40,
   "metadata": {},
   "outputs": [
    {
     "data": {
      "text/plain": [
       "MORTGAGE    164196\n",
       "RENT        132074\n",
       "OWN          35624\n",
       "ANY             74\n",
       "OTHER           41\n",
       "NONE            11\n",
       "Name: home_ownership, dtype: int64"
      ]
     },
     "execution_count": 40,
     "metadata": {},
     "output_type": "execute_result"
    }
   ],
   "source": [
    "loan_filtered['home_ownership'].value_counts()"
   ]
  },
  {
   "cell_type": "code",
   "execution_count": 41,
   "metadata": {},
   "outputs": [],
   "source": [
    "loan_filtered['home_ownership'] = np.where((loan_filtered['home_ownership'] != 'OWN') & (loan_filtered['home_ownership'] != 'RENT'),\n",
    "                                    'OTHER', loan_filtered['home_ownership'].values)"
   ]
  },
  {
   "cell_type": "code",
   "execution_count": 42,
   "metadata": {},
   "outputs": [
    {
     "data": {
      "text/plain": [
       "OTHER    164322\n",
       "RENT     132074\n",
       "OWN       35624\n",
       "Name: home_ownership, dtype: int64"
      ]
     },
     "execution_count": 42,
     "metadata": {},
     "output_type": "execute_result"
    }
   ],
   "source": [
    "loan_filtered['home_ownership'].value_counts()"
   ]
  },
  {
   "cell_type": "code",
   "execution_count": 43,
   "metadata": {},
   "outputs": [
    {
     "data": {
      "image/png": "[encoded data removed]",
      "text/plain": [
       "<Figure size 432x288 with 1 Axes>"
      ]
     },
     "metadata": {
      "needs_background": "light"
     },
     "output_type": "display_data"
    }
   ],
   "source": [
    "# barplot of homeownership\n",
    "\n",
    "height = loan_filtered['home_ownership'].value_counts()\n",
    "bars = ('OTHER', 'RENT', 'OWN')\n",
    "y_pos = np.arange(len(bars))\n",
    "\n",
    "# Create horizontal bars\n",
    "plt.barh(y_pos, height)\n",
    " \n",
    "# Create names on the y-axis\n",
    "plt.yticks(y_pos, bars)\n",
    " \n",
    "# Show graphic\n",
    "plt.show()"
   ]
  },
  {
   "cell_type": "markdown",
   "metadata": {},
   "source": [
    "The next step will be rencoding the variable 'emp_length', now we have 11 different values, we are going to rencode the variable ir order to have only 2 different values:\n",
    "* From less than 1 year to 5 years.\n",
    "* From 6 years to 10 years or more."
   ]
  },
  {
   "cell_type": "code",
   "execution_count": 44,
   "metadata": {},
   "outputs": [
    {
     "data": {
      "text/plain": [
       "10+ years    128332\n",
       "2 years       29930\n",
       "< 1 year      26601\n",
       "3 years       26404\n",
       "1 year        22042\n",
       "5 years       20835\n",
       "4 years       20138\n",
       "6 years       15394\n",
       "8 years       14988\n",
       "7 years       14743\n",
       "9 years       12613\n",
       "Name: emp_length, dtype: int64"
      ]
     },
     "execution_count": 44,
     "metadata": {},
     "output_type": "execute_result"
    }
   ],
   "source": [
    "loan_filtered['emp_length'].value_counts()"
   ]
  },
  {
   "cell_type": "code",
   "execution_count": 45,
   "metadata": {},
   "outputs": [],
   "source": [
    "loan_filtered['emp_length'] = np.where((loan_filtered['emp_length'] == '< 1 year') | \n",
    "                                       (loan_filtered['emp_length'] == '1 year') |\n",
    "                                       (loan_filtered['emp_length'] == '2 years') | \n",
    "                                       (loan_filtered['emp_length'] == '3 years') | \n",
    "                                       (loan_filtered['emp_length'] == '4 years') | \n",
    "                                       (loan_filtered['emp_length'] == '5 years'), \n",
    "                                       '<= 5 years', '6+ years')"
   ]
  },
  {
   "cell_type": "markdown",
   "metadata": {},
   "source": [
    "We view the new values."
   ]
  },
  {
   "cell_type": "code",
   "execution_count": 46,
   "metadata": {},
   "outputs": [
    {
     "data": {
      "text/plain": [
       "6+ years      186070\n",
       "<= 5 years    145950\n",
       "Name: emp_length, dtype: int64"
      ]
     },
     "execution_count": 46,
     "metadata": {},
     "output_type": "execute_result"
    }
   ],
   "source": [
    "loan_filtered['emp_length'].value_counts()"
   ]
  },
  {
   "cell_type": "code",
   "execution_count": 47,
   "metadata": {},
   "outputs": [
    {
     "data": {
      "image/png": "[encoded data removed]",
      "text/plain": [
       "<Figure size 432x288 with 1 Axes>"
      ]
     },
     "metadata": {
      "needs_background": "light"
     },
     "output_type": "display_data"
    }
   ],
   "source": [
    "# barplot of emp_length\n",
    "\n",
    "height = loan_filtered['emp_length'].value_counts()\n",
    "bars = ('<=5 years', '6+ years')\n",
    "y_pos = np.arange(len(bars))\n",
    "\n",
    "# Create horizontal bars\n",
    "plt.barh(y_pos, height)\n",
    " \n",
    "# Create names on the y-axis\n",
    "plt.yticks(y_pos, bars)\n",
    " \n",
    "# Show graphic\n",
    "plt.show()"
   ]
  },
  {
   "cell_type": "markdown",
   "metadata": {},
   "source": [
    "In order to maintain the variable 'grade' and do not create as dummies as categories has the variable, we will apply an ordinal encondig to the variable. The method will be the following:\n",
    "* We have 7 categories from best grade, 'A', to the worst grade 'G'.\n",
    "* The order is A > B > C > D > E > F > G.\n",
    "* The new encoding will be 6 > 5 > 4 > 3 > 2 > 1 > 0"
   ]
  },
  {
   "cell_type": "code",
   "execution_count": 48,
   "metadata": {},
   "outputs": [
    {
     "data": {
      "text/plain": [
       "B    96161\n",
       "C    94417\n",
       "A    56968\n",
       "D    50419\n",
       "E    23711\n",
       "F     8064\n",
       "G     2280\n",
       "Name: grade, dtype: int64"
      ]
     },
     "execution_count": 48,
     "metadata": {},
     "output_type": "execute_result"
    }
   ],
   "source": [
    "loan_filtered['grade'].value_counts()"
   ]
  },
  {
   "cell_type": "code",
   "execution_count": 49,
   "metadata": {},
   "outputs": [],
   "source": [
    "# first we create a mapper\n",
    "\n",
    "mapper = {'A': 6, 'B': 5, 'C': 4, 'D': 3, 'E': 2, 'F': 1, 'G': 0}\n",
    "\n",
    "# now we map the column and replace the values\n",
    "\n",
    "loan_filtered['grade'] = loan_filtered['grade'].replace(mapper)"
   ]
  },
  {
   "cell_type": "markdown",
   "metadata": {},
   "source": [
    "According to some financial papers, the loan purpose can serve as a method to decide the risk of the loan. We are going to see the different values of our variable 'purpose'."
   ]
  },
  {
   "cell_type": "code",
   "execution_count": 50,
   "metadata": {},
   "outputs": [
    {
     "data": {
      "text/plain": [
       "debt_consolidation    192874\n",
       "credit_card            72508\n",
       "home_improvement       21465\n",
       "other                  19285\n",
       "major_purchase          7256\n",
       "small_business          3829\n",
       "medical                 3806\n",
       "car                     3651\n",
       "moving                  2330\n",
       "vacation                2296\n",
       "house                   1821\n",
       "wedding                  583\n",
       "renewable_energy         222\n",
       "educational               94\n",
       "Name: purpose, dtype: int64"
      ]
     },
     "execution_count": 50,
     "metadata": {},
     "output_type": "execute_result"
    }
   ],
   "source": [
    "loan_filtered['purpose'].value_counts()"
   ]
  },
  {
   "cell_type": "markdown",
   "metadata": {},
   "source": [
    "How does affect the purpose in our target?"
   ]
  },
  {
   "cell_type": "code",
   "execution_count": 51,
   "metadata": {},
   "outputs": [
    {
     "data": {
      "text/plain": [
       "purpose             target\n",
       "car                 0           3088\n",
       "                    1            563\n",
       "credit_card         0          59067\n",
       "                    1          13441\n",
       "debt_consolidation  0         149197\n",
       "                    1          43677\n",
       "educational         0             78\n",
       "                    1             16\n",
       "home_improvement    0          17305\n",
       "                    1           4160\n",
       "house               0           1363\n",
       "                    1            458\n",
       "major_purchase      0           5702\n",
       "                    1           1554\n",
       "medical             0           2897\n",
       "                    1            909\n",
       "moving              0           1760\n",
       "                    1            570\n",
       "other               0          14844\n",
       "                    1           4441\n",
       "renewable_energy    0            180\n",
       "                    1             42\n",
       "small_business      0           2593\n",
       "                    1           1236\n",
       "vacation            0           1807\n",
       "                    1            489\n",
       "wedding             0            523\n",
       "                    1             60\n",
       "Name: target, dtype: int64"
      ]
     },
     "execution_count": 51,
     "metadata": {},
     "output_type": "execute_result"
    }
   ],
   "source": [
    "loan_filtered.groupby('purpose')['target'].value_counts()"
   ]
  },
  {
   "cell_type": "markdown",
   "metadata": {},
   "source": [
    "We need to reduce the number of types, so we will create new 6 new types in which they will be aggregate the currently types. "
   ]
  },
  {
   "cell_type": "markdown",
   "metadata": {},
   "source": [
    "* debt_consolidation: 'debt_consolidation'.\n",
    "* home: which will include 'home_improvement', 'house' and 'moving'.\n",
    "* purchase: includes 'credit_card', 'major_purchase', 'vacation', 'car' and 'wedding'.\n",
    "* investment: includes 'small_business' and 'renewable_energy'.\n",
    "* medical: 'medical'.\n",
    "* other: includes 'other' and 'educational'."
   ]
  },
  {
   "cell_type": "code",
   "execution_count": 52,
   "metadata": {},
   "outputs": [],
   "source": [
    "# home\n",
    "\n",
    "loan_filtered['purpose'] = np.where((loan_filtered['purpose'] == 'home_improvement') | \n",
    "                                    (loan_filtered['purpose'] == 'house') | \n",
    "                                    (loan_filtered['purpose'] == 'moving'), \n",
    "                                   'home', loan_filtered['purpose'].values)"
   ]
  },
  {
   "cell_type": "code",
   "execution_count": 53,
   "metadata": {},
   "outputs": [],
   "source": [
    "# purchase\n",
    "\n",
    "loan_filtered['purpose'] = np.where((loan_filtered['purpose'] == 'credit_card') | \n",
    "                                    (loan_filtered['purpose'] == 'major_purchase') | \n",
    "                                    (loan_filtered['purpose'] == 'vacation') | \n",
    "                                    (loan_filtered['purpose'] == 'wedding') |\n",
    "                                    (loan_filtered['purpose'] == 'car'), \n",
    "                                   'purchase', loan_filtered['purpose'].values)"
   ]
  },
  {
   "cell_type": "code",
   "execution_count": 54,
   "metadata": {},
   "outputs": [],
   "source": [
    "# investment\n",
    "\n",
    "loan_filtered['purpose'] = np.where((loan_filtered['purpose'] == 'small_business') | \n",
    "                                    (loan_filtered['purpose'] == 'renewable_energy'), \n",
    "                                   'investment', loan_filtered['purpose'].values)"
   ]
  },
  {
   "cell_type": "code",
   "execution_count": 55,
   "metadata": {},
   "outputs": [],
   "source": [
    "# other\n",
    "\n",
    "loan_filtered['purpose'] = np.where((loan_filtered['purpose'] == 'other') | \n",
    "                                    (loan_filtered['purpose'] == 'educational'), \n",
    "                                   'other', loan_filtered['purpose'].values)"
   ]
  },
  {
   "cell_type": "code",
   "execution_count": 56,
   "metadata": {},
   "outputs": [
    {
     "data": {
      "text/plain": [
       "debt_consolidation    192874\n",
       "purchase               86294\n",
       "home                   25616\n",
       "other                  19379\n",
       "investment              4051\n",
       "medical                 3806\n",
       "Name: purpose, dtype: int64"
      ]
     },
     "execution_count": 56,
     "metadata": {},
     "output_type": "execute_result"
    }
   ],
   "source": [
    "loan_filtered['purpose'].value_counts()"
   ]
  },
  {
   "cell_type": "code",
   "execution_count": 57,
   "metadata": {},
   "outputs": [
    {
     "data": {
      "image/png": "[encoded data removed]",
      "text/plain": [
       "<Figure size 432x288 with 1 Axes>"
      ]
     },
     "metadata": {
      "needs_background": "light"
     },
     "output_type": "display_data"
    }
   ],
   "source": [
    "df = pd.DataFrame({'purpose':loan_filtered['purpose'].value_counts(), 'group':[\"debt_consolidation\", \n",
    "                                                                                 \"purchase\", \"home\", \"other\", \n",
    "                                                                                 \"investment\", \"medical\"] })\n",
    "import squarify \n",
    "squarify.plot(sizes=df['purpose'], label=df['group'], color=[\"red\",\"green\",\"blue\", \"grey\", \"orange\", \"pink\"], alpha=.8)\n",
    "plt.axis('off')\n",
    "plt.show()"
   ]
  },
  {
   "cell_type": "markdown",
   "metadata": {},
   "source": [
    "There are some variables in our dataset, e.g 'pymnt_plan' or 'hardship_flag', which by themselves are dummies, we only need to rencode them ir order to change their types from categorical to numeric."
   ]
  },
  {
   "cell_type": "code",
   "execution_count": 58,
   "metadata": {},
   "outputs": [
    {
     "data": {
      "text/plain": [
       "initial_list_status  target\n",
       "f                    0         111523\n",
       "                     1          28564\n",
       "w                    0         148881\n",
       "                     1          43052\n",
       "Name: target, dtype: int64"
      ]
     },
     "execution_count": 58,
     "metadata": {},
     "output_type": "execute_result"
    }
   ],
   "source": [
    "loan_filtered.groupby('initial_list_status')['target'].value_counts()"
   ]
  },
  {
   "cell_type": "markdown",
   "metadata": {},
   "source": [
    "'initial_list_status' give us information about if the lending club offered the whole loan to the borrower or only a fraction of the loan. Independently of that, we want to know if the borrower will pay the loan. We do not mind if the loan was given fully or partially. Also, we can see that the percentage of defaults its similar in both types of status."
   ]
  },
  {
   "cell_type": "code",
   "execution_count": 61,
   "metadata": {},
   "outputs": [],
   "source": [
    "del loan_filtered['initial_list_status']"
   ]
  },
  {
   "cell_type": "code",
   "execution_count": 62,
   "metadata": {},
   "outputs": [
    {
     "data": {
      "text/plain": [
       "disbursement_method  target\n",
       "Cash                 0         259270\n",
       "                     1          71185\n",
       "DirectPay            0           1134\n",
       "                     1            431\n",
       "Name: target, dtype: int64"
      ]
     },
     "execution_count": 62,
     "metadata": {},
     "output_type": "execute_result"
    }
   ],
   "source": [
    "loan_filtered.groupby('disbursement_method')['target'].value_counts()"
   ]
  },
  {
   "cell_type": "markdown",
   "metadata": {},
   "source": [
    "According to the same reason we delete 'disbursement_method'."
   ]
  },
  {
   "cell_type": "code",
   "execution_count": 65,
   "metadata": {},
   "outputs": [],
   "source": [
    "del loan_filtered['disbursement_method']"
   ]
  },
  {
   "cell_type": "markdown",
   "metadata": {},
   "source": [
    "Due to all the transformations done, the index of the dataframe has changed and it does not follow the typical sequency of numbers, so we will reset the index to avoid future problems."
   ]
  },
  {
   "cell_type": "code",
   "execution_count": 66,
   "metadata": {},
   "outputs": [],
   "source": [
    "loan_filtered = loan_filtered.reset_index(drop = True)"
   ]
  },
  {
   "cell_type": "code",
   "execution_count": 67,
   "metadata": {},
   "outputs": [
    {
     "name": "stdout",
     "output_type": "stream",
     "text": [
      "<class 'pandas.core.frame.DataFrame'>\n",
      "RangeIndex: 332020 entries, 0 to 332019\n",
      "Data columns (total 6 columns):\n",
      "term                   332020 non-null object\n",
      "emp_length             332020 non-null object\n",
      "home_ownership         332020 non-null object\n",
      "verification_status    332020 non-null object\n",
      "purpose                332020 non-null object\n",
      "application_type       332020 non-null object\n",
      "dtypes: object(6)\n",
      "memory usage: 15.2+ MB\n"
     ]
    }
   ],
   "source": [
    "categoricas = loan_filtered.select_dtypes(include = [np.object])\n",
    "categoricas.info()"
   ]
  },
  {
   "cell_type": "code",
   "execution_count": 68,
   "metadata": {},
   "outputs": [
    {
     "name": "stdout",
     "output_type": "stream",
     "text": [
      "<class 'pandas.core.frame.DataFrame'>\n",
      "RangeIndex: 332020 entries, 0 to 332019\n",
      "Data columns (total 77 columns):\n",
      "loan_amnt                         332020 non-null int64\n",
      "int_rate                          332020 non-null float64\n",
      "installment                       332020 non-null float64\n",
      "annual_inc                        332020 non-null float64\n",
      "desc                              332020 non-null int64\n",
      "dti                               332020 non-null float64\n",
      "delinq_2yrs                       332020 non-null float64\n",
      "inq_last_6mths                    332020 non-null float64\n",
      "mths_since_last_delinq            332020 non-null float64\n",
      "mths_since_last_record            332020 non-null float64\n",
      "open_acc                          332020 non-null float64\n",
      "pub_rec                           332020 non-null float64\n",
      "revol_bal                         332020 non-null int64\n",
      "revol_util                        332020 non-null float64\n",
      "total_acc                         332020 non-null float64\n",
      "recoveries                        332020 non-null float64\n",
      "collection_recovery_fee           332020 non-null float64\n",
      "collections_12_mths_ex_med        332020 non-null float64\n",
      "mths_since_last_major_derog       332020 non-null float64\n",
      "policy_code                       332020 non-null int64\n",
      "acc_now_delinq                    332020 non-null float64\n",
      "tot_coll_amt                      332020 non-null float64\n",
      "tot_cur_bal                       332020 non-null float64\n",
      "open_acc_6m                       332020 non-null float64\n",
      "open_act_il                       332020 non-null float64\n",
      "open_il_12m                       332020 non-null float64\n",
      "open_il_24m                       332020 non-null float64\n",
      "mths_since_rcnt_il                332020 non-null float64\n",
      "total_bal_il                      332020 non-null float64\n",
      "il_util                           332020 non-null float64\n",
      "open_rv_12m                       332020 non-null float64\n",
      "open_rv_24m                       332020 non-null float64\n",
      "max_bal_bc                        332020 non-null float64\n",
      "all_util                          332020 non-null float64\n",
      "total_rev_hi_lim                  332020 non-null float64\n",
      "inq_fi                            332020 non-null float64\n",
      "total_cu_tl                       332020 non-null float64\n",
      "inq_last_12m                      332020 non-null float64\n",
      "acc_open_past_24mths              332020 non-null float64\n",
      "avg_cur_bal                       332020 non-null float64\n",
      "bc_open_to_buy                    332020 non-null float64\n",
      "bc_util                           332020 non-null float64\n",
      "chargeoff_within_12_mths          332020 non-null float64\n",
      "delinq_amnt                       332020 non-null float64\n",
      "mo_sin_old_il_acct                332020 non-null float64\n",
      "mo_sin_old_rev_tl_op              332020 non-null float64\n",
      "mo_sin_rcnt_rev_tl_op             332020 non-null float64\n",
      "mo_sin_rcnt_tl                    332020 non-null float64\n",
      "mort_acc                          332020 non-null float64\n",
      "mths_since_recent_bc              332020 non-null float64\n",
      "mths_since_recent_bc_dlq          332020 non-null float64\n",
      "mths_since_recent_inq             332020 non-null float64\n",
      "mths_since_recent_revol_delinq    332020 non-null float64\n",
      "num_accts_ever_120_pd             332020 non-null float64\n",
      "num_actv_bc_tl                    332020 non-null float64\n",
      "num_actv_rev_tl                   332020 non-null float64\n",
      "num_bc_sats                       332020 non-null float64\n",
      "num_bc_tl                         332020 non-null float64\n",
      "num_il_tl                         332020 non-null float64\n",
      "num_op_rev_tl                     332020 non-null float64\n",
      "num_rev_accts                     332020 non-null float64\n",
      "num_sats                          332020 non-null float64\n",
      "num_tl_120dpd_2m                  332020 non-null float64\n",
      "num_tl_30dpd                      332020 non-null float64\n",
      "num_tl_90g_dpd_24m                332020 non-null float64\n",
      "num_tl_op_past_12m                332020 non-null float64\n",
      "pct_tl_nvr_dlq                    332020 non-null float64\n",
      "percent_bc_gt_75                  332020 non-null float64\n",
      "pub_rec_bankruptcies              332020 non-null float64\n",
      "tax_liens                         332020 non-null float64\n",
      "tot_hi_cred_lim                   332020 non-null float64\n",
      "total_bal_ex_mort                 332020 non-null float64\n",
      "total_bc_limit                    332020 non-null float64\n",
      "total_il_high_credit_limit        332020 non-null float64\n",
      "target                            332020 non-null int64\n",
      "grade                             332020 non-null int64\n",
      "earliest_cr_line                  332020 non-null int64\n",
      "dtypes: float64(70), int64(7)\n",
      "memory usage: 195.0 MB\n"
     ]
    }
   ],
   "source": [
    "numericas = loan_filtered.select_dtypes(include = [np.number])\n",
    "numericas.info()"
   ]
  },
  {
   "cell_type": "markdown",
   "metadata": {},
   "source": [
    "At this moment we have our dataset clean, filtered and dimensionally reduced, so we can continue with other instances."
   ]
  },
  {
   "cell_type": "code",
   "execution_count": 69,
   "metadata": {},
   "outputs": [
    {
     "data": {
      "image/png": "[encoded data removed]",
      "text/plain": [
       "<Figure size 1440x1080 with 16 Axes>"
      ]
     },
     "metadata": {
      "needs_background": "light"
     },
     "output_type": "display_data"
    }
   ],
   "source": [
    "numericas.iloc[:,0:16].hist(bins=50, figsize=(20,15))\n",
    "plt.show()"
   ]
  },
  {
   "cell_type": "code",
   "execution_count": 70,
   "metadata": {},
   "outputs": [
    {
     "data": {
      "image/png": "[encoded data removed]",
      "text/plain": [
       "<Figure size 1440x1080 with 16 Axes>"
      ]
     },
     "metadata": {
      "needs_background": "light"
     },
     "output_type": "display_data"
    }
   ],
   "source": [
    "numericas.iloc[:,16:32].hist(bins=50, figsize=(20,15))\n",
    "plt.show()"
   ]
  },
  {
   "cell_type": "code",
   "execution_count": 71,
   "metadata": {},
   "outputs": [
    {
     "data": {
      "image/png": "[encoded data removed]",
      "text/plain": [
       "<Figure size 1440x1080 with 16 Axes>"
      ]
     },
     "metadata": {
      "needs_background": "light"
     },
     "output_type": "display_data"
    }
   ],
   "source": [
    "numericas.iloc[:,32:48].hist(bins=50, figsize=(20,15))\n",
    "plt.show()"
   ]
  },
  {
   "cell_type": "code",
   "execution_count": 72,
   "metadata": {},
   "outputs": [
    {
     "data": {
      "image/png": "[encoded data removed]",
      "text/plain": [
       "<Figure size 1440x1080 with 16 Axes>"
      ]
     },
     "metadata": {
      "needs_background": "light"
     },
     "output_type": "display_data"
    }
   ],
   "source": [
    "numericas.iloc[:,48:64].hist(bins=50, figsize=(20,15))\n",
    "plt.show()"
   ]
  },
  {
   "cell_type": "code",
   "execution_count": 73,
   "metadata": {},
   "outputs": [
    {
     "data": {
      "image/png": "[encoded data removed]",
      "text/plain": [
       "<Figure size 1440x1080 with 16 Axes>"
      ]
     },
     "metadata": {
      "needs_background": "light"
     },
     "output_type": "display_data"
    }
   ],
   "source": [
    "numericas.iloc[:,64:].hist(bins=50, figsize=(20,15))\n",
    "plt.show()"
   ]
  },
  {
   "cell_type": "markdown",
   "metadata": {},
   "source": [
    "### 4.1 Making dummies "
   ]
  },
  {
   "cell_type": "markdown",
   "metadata": {},
   "source": [
    "These variables are going to be converted to dummies."
   ]
  },
  {
   "cell_type": "code",
   "execution_count": 74,
   "metadata": {},
   "outputs": [
    {
     "data": {
      "text/plain": [
       "['term',\n",
       " 'emp_length',\n",
       " 'home_ownership',\n",
       " 'verification_status',\n",
       " 'purpose',\n",
       " 'application_type']"
      ]
     },
     "execution_count": 74,
     "metadata": {},
     "output_type": "execute_result"
    }
   ],
   "source": [
    "list(categoricas)"
   ]
  },
  {
   "cell_type": "code",
   "execution_count": 75,
   "metadata": {},
   "outputs": [
    {
     "data": {
      "text/html": [
       "<div>\n",
       "<style scoped>\n",
       "    .dataframe tbody tr th:only-of-type {\n",
       "        vertical-align: middle;\n",
       "    }\n",
       "\n",
       "    .dataframe tbody tr th {\n",
       "        vertical-align: top;\n",
       "    }\n",
       "\n",
       "    .dataframe thead th {\n",
       "        text-align: right;\n",
       "    }\n",
       "</style>\n",
       "<table border=\"1\" class=\"dataframe\">\n",
       "  <thead>\n",
       "    <tr style=\"text-align: right;\">\n",
       "      <th></th>\n",
       "      <th>term_ 36 months</th>\n",
       "      <th>term_ 60 months</th>\n",
       "      <th>emp_length_6+ years</th>\n",
       "      <th>emp_length_&lt;= 5 years</th>\n",
       "      <th>home_ownership_OTHER</th>\n",
       "      <th>home_ownership_OWN</th>\n",
       "      <th>home_ownership_RENT</th>\n",
       "      <th>verification_status_Not Verified</th>\n",
       "      <th>verification_status_Source Verified</th>\n",
       "      <th>verification_status_Verified</th>\n",
       "      <th>purpose_debt_consolidation</th>\n",
       "      <th>purpose_home</th>\n",
       "      <th>purpose_investment</th>\n",
       "      <th>purpose_medical</th>\n",
       "      <th>purpose_other</th>\n",
       "      <th>purpose_purchase</th>\n",
       "      <th>application_type_Individual</th>\n",
       "      <th>application_type_Joint App</th>\n",
       "    </tr>\n",
       "  </thead>\n",
       "  <tbody>\n",
       "    <tr>\n",
       "      <td>0</td>\n",
       "      <td>1</td>\n",
       "      <td>0</td>\n",
       "      <td>0</td>\n",
       "      <td>1</td>\n",
       "      <td>0</td>\n",
       "      <td>0</td>\n",
       "      <td>1</td>\n",
       "      <td>0</td>\n",
       "      <td>1</td>\n",
       "      <td>0</td>\n",
       "      <td>0</td>\n",
       "      <td>0</td>\n",
       "      <td>0</td>\n",
       "      <td>0</td>\n",
       "      <td>0</td>\n",
       "      <td>1</td>\n",
       "      <td>1</td>\n",
       "      <td>0</td>\n",
       "    </tr>\n",
       "    <tr>\n",
       "      <td>1</td>\n",
       "      <td>1</td>\n",
       "      <td>0</td>\n",
       "      <td>1</td>\n",
       "      <td>0</td>\n",
       "      <td>0</td>\n",
       "      <td>0</td>\n",
       "      <td>1</td>\n",
       "      <td>0</td>\n",
       "      <td>1</td>\n",
       "      <td>0</td>\n",
       "      <td>0</td>\n",
       "      <td>0</td>\n",
       "      <td>0</td>\n",
       "      <td>0</td>\n",
       "      <td>0</td>\n",
       "      <td>1</td>\n",
       "      <td>1</td>\n",
       "      <td>0</td>\n",
       "    </tr>\n",
       "    <tr>\n",
       "      <td>2</td>\n",
       "      <td>1</td>\n",
       "      <td>0</td>\n",
       "      <td>0</td>\n",
       "      <td>1</td>\n",
       "      <td>0</td>\n",
       "      <td>0</td>\n",
       "      <td>1</td>\n",
       "      <td>0</td>\n",
       "      <td>1</td>\n",
       "      <td>0</td>\n",
       "      <td>1</td>\n",
       "      <td>0</td>\n",
       "      <td>0</td>\n",
       "      <td>0</td>\n",
       "      <td>0</td>\n",
       "      <td>0</td>\n",
       "      <td>1</td>\n",
       "      <td>0</td>\n",
       "    </tr>\n",
       "    <tr>\n",
       "      <td>3</td>\n",
       "      <td>1</td>\n",
       "      <td>0</td>\n",
       "      <td>1</td>\n",
       "      <td>0</td>\n",
       "      <td>1</td>\n",
       "      <td>0</td>\n",
       "      <td>0</td>\n",
       "      <td>0</td>\n",
       "      <td>1</td>\n",
       "      <td>0</td>\n",
       "      <td>0</td>\n",
       "      <td>0</td>\n",
       "      <td>0</td>\n",
       "      <td>0</td>\n",
       "      <td>0</td>\n",
       "      <td>1</td>\n",
       "      <td>1</td>\n",
       "      <td>0</td>\n",
       "    </tr>\n",
       "    <tr>\n",
       "      <td>4</td>\n",
       "      <td>1</td>\n",
       "      <td>0</td>\n",
       "      <td>1</td>\n",
       "      <td>0</td>\n",
       "      <td>0</td>\n",
       "      <td>0</td>\n",
       "      <td>1</td>\n",
       "      <td>0</td>\n",
       "      <td>1</td>\n",
       "      <td>0</td>\n",
       "      <td>1</td>\n",
       "      <td>0</td>\n",
       "      <td>0</td>\n",
       "      <td>0</td>\n",
       "      <td>0</td>\n",
       "      <td>0</td>\n",
       "      <td>1</td>\n",
       "      <td>0</td>\n",
       "    </tr>\n",
       "  </tbody>\n",
       "</table>\n",
       "</div>"
      ],
      "text/plain": [
       "   term_ 36 months  term_ 60 months  emp_length_6+ years  \\\n",
       "0                1                0                    0   \n",
       "1                1                0                    1   \n",
       "2                1                0                    0   \n",
       "3                1                0                    1   \n",
       "4                1                0                    1   \n",
       "\n",
       "   emp_length_<= 5 years  home_ownership_OTHER  home_ownership_OWN  \\\n",
       "0                      1                     0                   0   \n",
       "1                      0                     0                   0   \n",
       "2                      1                     0                   0   \n",
       "3                      0                     1                   0   \n",
       "4                      0                     0                   0   \n",
       "\n",
       "   home_ownership_RENT  verification_status_Not Verified  \\\n",
       "0                    1                                 0   \n",
       "1                    1                                 0   \n",
       "2                    1                                 0   \n",
       "3                    0                                 0   \n",
       "4                    1                                 0   \n",
       "\n",
       "   verification_status_Source Verified  verification_status_Verified  \\\n",
       "0                                    1                             0   \n",
       "1                                    1                             0   \n",
       "2                                    1                             0   \n",
       "3                                    1                             0   \n",
       "4                                    1                             0   \n",
       "\n",
       "   purpose_debt_consolidation  purpose_home  purpose_investment  \\\n",
       "0                           0             0                   0   \n",
       "1                           0             0                   0   \n",
       "2                           1             0                   0   \n",
       "3                           0             0                   0   \n",
       "4                           1             0                   0   \n",
       "\n",
       "   purpose_medical  purpose_other  purpose_purchase  \\\n",
       "0                0              0                 1   \n",
       "1                0              0                 1   \n",
       "2                0              0                 0   \n",
       "3                0              0                 1   \n",
       "4                0              0                 0   \n",
       "\n",
       "   application_type_Individual  application_type_Joint App  \n",
       "0                            1                           0  \n",
       "1                            1                           0  \n",
       "2                            1                           0  \n",
       "3                            1                           0  \n",
       "4                            1                           0  "
      ]
     },
     "execution_count": 75,
     "metadata": {},
     "output_type": "execute_result"
    }
   ],
   "source": [
    "dummies = pd.get_dummies(categoricas)\n",
    "dummies.head()"
   ]
  },
  {
   "cell_type": "code",
   "execution_count": 76,
   "metadata": {},
   "outputs": [
    {
     "name": "stdout",
     "output_type": "stream",
     "text": [
      "<class 'pandas.core.frame.DataFrame'>\n",
      "RangeIndex: 332020 entries, 0 to 332019\n",
      "Data columns (total 18 columns):\n",
      "term_ 36 months                        332020 non-null uint8\n",
      "term_ 60 months                        332020 non-null uint8\n",
      "emp_length_6+ years                    332020 non-null uint8\n",
      "emp_length_<= 5 years                  332020 non-null uint8\n",
      "home_ownership_OTHER                   332020 non-null uint8\n",
      "home_ownership_OWN                     332020 non-null uint8\n",
      "home_ownership_RENT                    332020 non-null uint8\n",
      "verification_status_Not Verified       332020 non-null uint8\n",
      "verification_status_Source Verified    332020 non-null uint8\n",
      "verification_status_Verified           332020 non-null uint8\n",
      "purpose_debt_consolidation             332020 non-null uint8\n",
      "purpose_home                           332020 non-null uint8\n",
      "purpose_investment                     332020 non-null uint8\n",
      "purpose_medical                        332020 non-null uint8\n",
      "purpose_other                          332020 non-null uint8\n",
      "purpose_purchase                       332020 non-null uint8\n",
      "application_type_Individual            332020 non-null uint8\n",
      "application_type_Joint App             332020 non-null uint8\n",
      "dtypes: uint8(18)\n",
      "memory usage: 5.7 MB\n"
     ]
    }
   ],
   "source": [
    "dummies.info()"
   ]
  },
  {
   "cell_type": "code",
   "execution_count": 77,
   "metadata": {},
   "outputs": [],
   "source": [
    "# deletting the original variables to the dataset\n",
    "\n",
    "del loan_filtered['term']\n",
    "del loan_filtered['emp_length']\n",
    "del loan_filtered['home_ownership']\n",
    "del loan_filtered['verification_status']\n",
    "del loan_filtered['purpose']\n",
    "del loan_filtered['application_type']"
   ]
  },
  {
   "cell_type": "code",
   "execution_count": 78,
   "metadata": {},
   "outputs": [],
   "source": [
    "dummies['target'] = loan_filtered['target']\n",
    "dummies['desc'] = loan_filtered['desc']\n",
    "dummies['grade'] = loan_filtered['grade']"
   ]
  },
  {
   "cell_type": "markdown",
   "metadata": {},
   "source": [
    "### 4.2 Scaling"
   ]
  },
  {
   "cell_type": "markdown",
   "metadata": {},
   "source": [
    "Before concatenating the dummies we will scale the numeric variables of the dataset, we are going to use the Standard method."
   ]
  },
  {
   "cell_type": "code",
   "execution_count": 79,
   "metadata": {},
   "outputs": [],
   "source": [
    "del numericas['target']\n",
    "del numericas['desc']\n",
    "del numericas['grade']"
   ]
  },
  {
   "cell_type": "code",
   "execution_count": 80,
   "metadata": {},
   "outputs": [],
   "source": [
    "sc = StandardScaler()\n",
    "num_scaled = sc.fit_transform(numericas)\n",
    "num_scaled = pd.DataFrame(num_scaled, columns = numericas.columns)"
   ]
  },
  {
   "cell_type": "code",
   "execution_count": 81,
   "metadata": {},
   "outputs": [
    {
     "data": {
      "text/html": [
       "<div>\n",
       "<style scoped>\n",
       "    .dataframe tbody tr th:only-of-type {\n",
       "        vertical-align: middle;\n",
       "    }\n",
       "\n",
       "    .dataframe tbody tr th {\n",
       "        vertical-align: top;\n",
       "    }\n",
       "\n",
       "    .dataframe thead th {\n",
       "        text-align: right;\n",
       "    }\n",
       "</style>\n",
       "<table border=\"1\" class=\"dataframe\">\n",
       "  <thead>\n",
       "    <tr style=\"text-align: right;\">\n",
       "      <th></th>\n",
       "      <th>loan_amnt</th>\n",
       "      <th>int_rate</th>\n",
       "      <th>installment</th>\n",
       "      <th>annual_inc</th>\n",
       "      <th>dti</th>\n",
       "      <th>delinq_2yrs</th>\n",
       "      <th>inq_last_6mths</th>\n",
       "      <th>mths_since_last_delinq</th>\n",
       "      <th>mths_since_last_record</th>\n",
       "      <th>open_acc</th>\n",
       "      <th>...</th>\n",
       "      <th>num_tl_op_past_12m</th>\n",
       "      <th>pct_tl_nvr_dlq</th>\n",
       "      <th>percent_bc_gt_75</th>\n",
       "      <th>pub_rec_bankruptcies</th>\n",
       "      <th>tax_liens</th>\n",
       "      <th>tot_hi_cred_lim</th>\n",
       "      <th>total_bal_ex_mort</th>\n",
       "      <th>total_bc_limit</th>\n",
       "      <th>total_il_high_credit_limit</th>\n",
       "      <th>earliest_cr_line</th>\n",
       "    </tr>\n",
       "  </thead>\n",
       "  <tbody>\n",
       "    <tr>\n",
       "      <td>0</td>\n",
       "      <td>0.638293</td>\n",
       "      <td>-0.797711</td>\n",
       "      <td>0.774278</td>\n",
       "      <td>0.705425</td>\n",
       "      <td>-0.633411</td>\n",
       "      <td>-0.358858</td>\n",
       "      <td>-0.691619</td>\n",
       "      <td>0.967457</td>\n",
       "      <td>0.396028</td>\n",
       "      <td>-0.472377</td>\n",
       "      <td>...</td>\n",
       "      <td>-1.214980</td>\n",
       "      <td>0.685161</td>\n",
       "      <td>0.420426</td>\n",
       "      <td>-0.355447</td>\n",
       "      <td>-0.136824</td>\n",
       "      <td>-0.702946</td>\n",
       "      <td>-0.412788</td>\n",
       "      <td>0.470168</td>\n",
       "      <td>-0.715915</td>\n",
       "      <td>-1.353405</td>\n",
       "    </tr>\n",
       "    <tr>\n",
       "      <td>1</td>\n",
       "      <td>-1.370173</td>\n",
       "      <td>-0.383039</td>\n",
       "      <td>-1.362470</td>\n",
       "      <td>-0.655223</td>\n",
       "      <td>-0.080388</td>\n",
       "      <td>-0.358858</td>\n",
       "      <td>-0.691619</td>\n",
       "      <td>-0.734029</td>\n",
       "      <td>0.396028</td>\n",
       "      <td>-1.203703</td>\n",
       "      <td>...</td>\n",
       "      <td>-0.102947</td>\n",
       "      <td>-1.173300</td>\n",
       "      <td>-1.286689</td>\n",
       "      <td>-0.355447</td>\n",
       "      <td>-0.136824</td>\n",
       "      <td>-0.655414</td>\n",
       "      <td>-0.493895</td>\n",
       "      <td>0.408240</td>\n",
       "      <td>-0.304493</td>\n",
       "      <td>-0.827792</td>\n",
       "    </tr>\n",
       "    <tr>\n",
       "      <td>2</td>\n",
       "      <td>0.388670</td>\n",
       "      <td>0.982443</td>\n",
       "      <td>0.788672</td>\n",
       "      <td>0.689418</td>\n",
       "      <td>-0.121479</td>\n",
       "      <td>-0.358858</td>\n",
       "      <td>0.347664</td>\n",
       "      <td>-1.128774</td>\n",
       "      <td>0.396028</td>\n",
       "      <td>0.624610</td>\n",
       "      <td>...</td>\n",
       "      <td>-0.658963</td>\n",
       "      <td>-1.173300</td>\n",
       "      <td>1.558503</td>\n",
       "      <td>-0.355447</td>\n",
       "      <td>-0.136824</td>\n",
       "      <td>-0.510776</td>\n",
       "      <td>0.311324</td>\n",
       "      <td>-0.882717</td>\n",
       "      <td>0.816902</td>\n",
       "      <td>-0.959196</td>\n",
       "    </tr>\n",
       "    <tr>\n",
       "      <td>3</td>\n",
       "      <td>-0.566786</td>\n",
       "      <td>-1.072064</td>\n",
       "      <td>-0.535273</td>\n",
       "      <td>0.097136</td>\n",
       "      <td>0.547969</td>\n",
       "      <td>-0.358858</td>\n",
       "      <td>0.347664</td>\n",
       "      <td>-0.951819</td>\n",
       "      <td>0.396028</td>\n",
       "      <td>0.624610</td>\n",
       "      <td>...</td>\n",
       "      <td>-0.102947</td>\n",
       "      <td>0.249951</td>\n",
       "      <td>0.135907</td>\n",
       "      <td>-0.355447</td>\n",
       "      <td>-0.136824</td>\n",
       "      <td>0.033296</td>\n",
       "      <td>0.234263</td>\n",
       "      <td>-0.234856</td>\n",
       "      <td>0.638838</td>\n",
       "      <td>-0.564986</td>\n",
       "    </tr>\n",
       "    <tr>\n",
       "      <td>4</td>\n",
       "      <td>0.064446</td>\n",
       "      <td>-0.169421</td>\n",
       "      <td>0.242809</td>\n",
       "      <td>-0.154392</td>\n",
       "      <td>-0.397135</td>\n",
       "      <td>-0.358858</td>\n",
       "      <td>0.347664</td>\n",
       "      <td>0.967457</td>\n",
       "      <td>-1.042271</td>\n",
       "      <td>-0.106715</td>\n",
       "      <td>...</td>\n",
       "      <td>1.009087</td>\n",
       "      <td>0.685161</td>\n",
       "      <td>-0.148612</td>\n",
       "      <td>2.294420</td>\n",
       "      <td>-0.136824</td>\n",
       "      <td>-0.766524</td>\n",
       "      <td>-0.493789</td>\n",
       "      <td>-0.244384</td>\n",
       "      <td>-0.511084</td>\n",
       "      <td>1.406062</td>\n",
       "    </tr>\n",
       "    <tr>\n",
       "      <td>5</td>\n",
       "      <td>-0.968480</td>\n",
       "      <td>-0.864728</td>\n",
       "      <td>-0.945694</td>\n",
       "      <td>0.785463</td>\n",
       "      <td>-0.781511</td>\n",
       "      <td>-0.358858</td>\n",
       "      <td>-0.691619</td>\n",
       "      <td>0.967457</td>\n",
       "      <td>0.396028</td>\n",
       "      <td>-1.020871</td>\n",
       "      <td>...</td>\n",
       "      <td>-0.658963</td>\n",
       "      <td>-0.785140</td>\n",
       "      <td>0.135907</td>\n",
       "      <td>-0.355447</td>\n",
       "      <td>-0.136824</td>\n",
       "      <td>1.239022</td>\n",
       "      <td>-0.324758</td>\n",
       "      <td>-0.344421</td>\n",
       "      <td>-0.243060</td>\n",
       "      <td>-0.696389</td>\n",
       "    </tr>\n",
       "    <tr>\n",
       "      <td>6</td>\n",
       "      <td>-0.294209</td>\n",
       "      <td>0.249439</td>\n",
       "      <td>-0.608583</td>\n",
       "      <td>-0.383093</td>\n",
       "      <td>0.772260</td>\n",
       "      <td>-0.358858</td>\n",
       "      <td>-0.691619</td>\n",
       "      <td>0.967457</td>\n",
       "      <td>0.396028</td>\n",
       "      <td>1.538767</td>\n",
       "      <td>...</td>\n",
       "      <td>2.121120</td>\n",
       "      <td>0.685161</td>\n",
       "      <td>-0.066102</td>\n",
       "      <td>-0.355447</td>\n",
       "      <td>-0.136824</td>\n",
       "      <td>-0.069765</td>\n",
       "      <td>-0.180136</td>\n",
       "      <td>-0.696933</td>\n",
       "      <td>-0.544608</td>\n",
       "      <td>-0.170776</td>\n",
       "    </tr>\n",
       "    <tr>\n",
       "      <td>7</td>\n",
       "      <td>1.097371</td>\n",
       "      <td>-1.130704</td>\n",
       "      <td>1.196911</td>\n",
       "      <td>-0.174994</td>\n",
       "      <td>0.303988</td>\n",
       "      <td>1.905254</td>\n",
       "      <td>-0.691619</td>\n",
       "      <td>-1.278504</td>\n",
       "      <td>0.396028</td>\n",
       "      <td>-0.289546</td>\n",
       "      <td>...</td>\n",
       "      <td>1.009087</td>\n",
       "      <td>-0.020584</td>\n",
       "      <td>-1.286689</td>\n",
       "      <td>-0.355447</td>\n",
       "      <td>-0.136824</td>\n",
       "      <td>-0.463238</td>\n",
       "      <td>0.019545</td>\n",
       "      <td>0.765516</td>\n",
       "      <td>0.262367</td>\n",
       "      <td>0.617643</td>\n",
       "    </tr>\n",
       "    <tr>\n",
       "      <td>8</td>\n",
       "      <td>0.753063</td>\n",
       "      <td>0.680864</td>\n",
       "      <td>0.300615</td>\n",
       "      <td>-0.415108</td>\n",
       "      <td>0.179002</td>\n",
       "      <td>-0.358858</td>\n",
       "      <td>-0.691619</td>\n",
       "      <td>0.967457</td>\n",
       "      <td>0.396028</td>\n",
       "      <td>-0.472377</td>\n",
       "      <td>...</td>\n",
       "      <td>-0.658963</td>\n",
       "      <td>0.685161</td>\n",
       "      <td>0.135907</td>\n",
       "      <td>-0.355447</td>\n",
       "      <td>-0.136824</td>\n",
       "      <td>-0.645623</td>\n",
       "      <td>-0.637964</td>\n",
       "      <td>-0.068127</td>\n",
       "      <td>-0.644537</td>\n",
       "      <td>-1.090599</td>\n",
       "    </tr>\n",
       "    <tr>\n",
       "      <td>9</td>\n",
       "      <td>0.810447</td>\n",
       "      <td>-0.864728</td>\n",
       "      <td>0.945896</td>\n",
       "      <td>0.241204</td>\n",
       "      <td>1.109553</td>\n",
       "      <td>-0.358858</td>\n",
       "      <td>-0.691619</td>\n",
       "      <td>-0.965431</td>\n",
       "      <td>0.396028</td>\n",
       "      <td>2.635754</td>\n",
       "      <td>...</td>\n",
       "      <td>2.677137</td>\n",
       "      <td>0.367576</td>\n",
       "      <td>-1.067610</td>\n",
       "      <td>-0.355447</td>\n",
       "      <td>-0.136824</td>\n",
       "      <td>0.164578</td>\n",
       "      <td>1.484062</td>\n",
       "      <td>1.260939</td>\n",
       "      <td>1.997374</td>\n",
       "      <td>-0.170776</td>\n",
       "    </tr>\n",
       "  </tbody>\n",
       "</table>\n",
       "<p>10 rows × 74 columns</p>\n",
       "</div>"
      ],
      "text/plain": [
       "   loan_amnt  int_rate  installment  annual_inc       dti  delinq_2yrs  \\\n",
       "0   0.638293 -0.797711     0.774278    0.705425 -0.633411    -0.358858   \n",
       "1  -1.370173 -0.383039    -1.362470   -0.655223 -0.080388    -0.358858   \n",
       "2   0.388670  0.982443     0.788672    0.689418 -0.121479    -0.358858   \n",
       "3  -0.566786 -1.072064    -0.535273    0.097136  0.547969    -0.358858   \n",
       "4   0.064446 -0.169421     0.242809   -0.154392 -0.397135    -0.358858   \n",
       "5  -0.968480 -0.864728    -0.945694    0.785463 -0.781511    -0.358858   \n",
       "6  -0.294209  0.249439    -0.608583   -0.383093  0.772260    -0.358858   \n",
       "7   1.097371 -1.130704     1.196911   -0.174994  0.303988     1.905254   \n",
       "8   0.753063  0.680864     0.300615   -0.415108  0.179002    -0.358858   \n",
       "9   0.810447 -0.864728     0.945896    0.241204  1.109553    -0.358858   \n",
       "\n",
       "   inq_last_6mths  mths_since_last_delinq  mths_since_last_record  open_acc  \\\n",
       "0       -0.691619                0.967457                0.396028 -0.472377   \n",
       "1       -0.691619               -0.734029                0.396028 -1.203703   \n",
       "2        0.347664               -1.128774                0.396028  0.624610   \n",
       "3        0.347664               -0.951819                0.396028  0.624610   \n",
       "4        0.347664                0.967457               -1.042271 -0.106715   \n",
       "5       -0.691619                0.967457                0.396028 -1.020871   \n",
       "6       -0.691619                0.967457                0.396028  1.538767   \n",
       "7       -0.691619               -1.278504                0.396028 -0.289546   \n",
       "8       -0.691619                0.967457                0.396028 -0.472377   \n",
       "9       -0.691619               -0.965431                0.396028  2.635754   \n",
       "\n",
       "   ...  num_tl_op_past_12m  pct_tl_nvr_dlq  percent_bc_gt_75  \\\n",
       "0  ...           -1.214980        0.685161          0.420426   \n",
       "1  ...           -0.102947       -1.173300         -1.286689   \n",
       "2  ...           -0.658963       -1.173300          1.558503   \n",
       "3  ...           -0.102947        0.249951          0.135907   \n",
       "4  ...            1.009087        0.685161         -0.148612   \n",
       "5  ...           -0.658963       -0.785140          0.135907   \n",
       "6  ...            2.121120        0.685161         -0.066102   \n",
       "7  ...            1.009087       -0.020584         -1.286689   \n",
       "8  ...           -0.658963        0.685161          0.135907   \n",
       "9  ...            2.677137        0.367576         -1.067610   \n",
       "\n",
       "   pub_rec_bankruptcies  tax_liens  tot_hi_cred_lim  total_bal_ex_mort  \\\n",
       "0             -0.355447  -0.136824        -0.702946          -0.412788   \n",
       "1             -0.355447  -0.136824        -0.655414          -0.493895   \n",
       "2             -0.355447  -0.136824        -0.510776           0.311324   \n",
       "3             -0.355447  -0.136824         0.033296           0.234263   \n",
       "4              2.294420  -0.136824        -0.766524          -0.493789   \n",
       "5             -0.355447  -0.136824         1.239022          -0.324758   \n",
       "6             -0.355447  -0.136824        -0.069765          -0.180136   \n",
       "7             -0.355447  -0.136824        -0.463238           0.019545   \n",
       "8             -0.355447  -0.136824        -0.645623          -0.637964   \n",
       "9             -0.355447  -0.136824         0.164578           1.484062   \n",
       "\n",
       "   total_bc_limit  total_il_high_credit_limit  earliest_cr_line  \n",
       "0        0.470168                   -0.715915         -1.353405  \n",
       "1        0.408240                   -0.304493         -0.827792  \n",
       "2       -0.882717                    0.816902         -0.959196  \n",
       "3       -0.234856                    0.638838         -0.564986  \n",
       "4       -0.244384                   -0.511084          1.406062  \n",
       "5       -0.344421                   -0.243060         -0.696389  \n",
       "6       -0.696933                   -0.544608         -0.170776  \n",
       "7        0.765516                    0.262367          0.617643  \n",
       "8       -0.068127                   -0.644537         -1.090599  \n",
       "9        1.260939                    1.997374         -0.170776  \n",
       "\n",
       "[10 rows x 74 columns]"
      ]
     },
     "execution_count": 81,
     "metadata": {},
     "output_type": "execute_result"
    }
   ],
   "source": [
    "num_scaled.head(10)"
   ]
  },
  {
   "cell_type": "code",
   "execution_count": 82,
   "metadata": {},
   "outputs": [
    {
     "name": "stdout",
     "output_type": "stream",
     "text": [
      "<class 'pandas.core.frame.DataFrame'>\n",
      "RangeIndex: 332020 entries, 0 to 332019\n",
      "Data columns (total 95 columns):\n",
      "loan_amnt                              332020 non-null float64\n",
      "int_rate                               332020 non-null float64\n",
      "installment                            332020 non-null float64\n",
      "annual_inc                             332020 non-null float64\n",
      "dti                                    332020 non-null float64\n",
      "delinq_2yrs                            332020 non-null float64\n",
      "inq_last_6mths                         332020 non-null float64\n",
      "mths_since_last_delinq                 332020 non-null float64\n",
      "mths_since_last_record                 332020 non-null float64\n",
      "open_acc                               332020 non-null float64\n",
      "pub_rec                                332020 non-null float64\n",
      "revol_bal                              332020 non-null float64\n",
      "revol_util                             332020 non-null float64\n",
      "total_acc                              332020 non-null float64\n",
      "recoveries                             332020 non-null float64\n",
      "collection_recovery_fee                332020 non-null float64\n",
      "collections_12_mths_ex_med             332020 non-null float64\n",
      "mths_since_last_major_derog            332020 non-null float64\n",
      "policy_code                            332020 non-null float64\n",
      "acc_now_delinq                         332020 non-null float64\n",
      "tot_coll_amt                           332020 non-null float64\n",
      "tot_cur_bal                            332020 non-null float64\n",
      "open_acc_6m                            332020 non-null float64\n",
      "open_act_il                            332020 non-null float64\n",
      "open_il_12m                            332020 non-null float64\n",
      "open_il_24m                            332020 non-null float64\n",
      "mths_since_rcnt_il                     332020 non-null float64\n",
      "total_bal_il                           332020 non-null float64\n",
      "il_util                                332020 non-null float64\n",
      "open_rv_12m                            332020 non-null float64\n",
      "open_rv_24m                            332020 non-null float64\n",
      "max_bal_bc                             332020 non-null float64\n",
      "all_util                               332020 non-null float64\n",
      "total_rev_hi_lim                       332020 non-null float64\n",
      "inq_fi                                 332020 non-null float64\n",
      "total_cu_tl                            332020 non-null float64\n",
      "inq_last_12m                           332020 non-null float64\n",
      "acc_open_past_24mths                   332020 non-null float64\n",
      "avg_cur_bal                            332020 non-null float64\n",
      "bc_open_to_buy                         332020 non-null float64\n",
      "bc_util                                332020 non-null float64\n",
      "chargeoff_within_12_mths               332020 non-null float64\n",
      "delinq_amnt                            332020 non-null float64\n",
      "mo_sin_old_il_acct                     332020 non-null float64\n",
      "mo_sin_old_rev_tl_op                   332020 non-null float64\n",
      "mo_sin_rcnt_rev_tl_op                  332020 non-null float64\n",
      "mo_sin_rcnt_tl                         332020 non-null float64\n",
      "mort_acc                               332020 non-null float64\n",
      "mths_since_recent_bc                   332020 non-null float64\n",
      "mths_since_recent_bc_dlq               332020 non-null float64\n",
      "mths_since_recent_inq                  332020 non-null float64\n",
      "mths_since_recent_revol_delinq         332020 non-null float64\n",
      "num_accts_ever_120_pd                  332020 non-null float64\n",
      "num_actv_bc_tl                         332020 non-null float64\n",
      "num_actv_rev_tl                        332020 non-null float64\n",
      "num_bc_sats                            332020 non-null float64\n",
      "num_bc_tl                              332020 non-null float64\n",
      "num_il_tl                              332020 non-null float64\n",
      "num_op_rev_tl                          332020 non-null float64\n",
      "num_rev_accts                          332020 non-null float64\n",
      "num_sats                               332020 non-null float64\n",
      "num_tl_120dpd_2m                       332020 non-null float64\n",
      "num_tl_30dpd                           332020 non-null float64\n",
      "num_tl_90g_dpd_24m                     332020 non-null float64\n",
      "num_tl_op_past_12m                     332020 non-null float64\n",
      "pct_tl_nvr_dlq                         332020 non-null float64\n",
      "percent_bc_gt_75                       332020 non-null float64\n",
      "pub_rec_bankruptcies                   332020 non-null float64\n",
      "tax_liens                              332020 non-null float64\n",
      "tot_hi_cred_lim                        332020 non-null float64\n",
      "total_bal_ex_mort                      332020 non-null float64\n",
      "total_bc_limit                         332020 non-null float64\n",
      "total_il_high_credit_limit             332020 non-null float64\n",
      "earliest_cr_line                       332020 non-null float64\n",
      "term_ 36 months                        332020 non-null uint8\n",
      "term_ 60 months                        332020 non-null uint8\n",
      "emp_length_6+ years                    332020 non-null uint8\n",
      "emp_length_<= 5 years                  332020 non-null uint8\n",
      "home_ownership_OTHER                   332020 non-null uint8\n",
      "home_ownership_OWN                     332020 non-null uint8\n",
      "home_ownership_RENT                    332020 non-null uint8\n",
      "verification_status_Not Verified       332020 non-null uint8\n",
      "verification_status_Source Verified    332020 non-null uint8\n",
      "verification_status_Verified           332020 non-null uint8\n",
      "purpose_debt_consolidation             332020 non-null uint8\n",
      "purpose_home                           332020 non-null uint8\n",
      "purpose_investment                     332020 non-null uint8\n",
      "purpose_medical                        332020 non-null uint8\n",
      "purpose_other                          332020 non-null uint8\n",
      "purpose_purchase                       332020 non-null uint8\n",
      "application_type_Individual            332020 non-null uint8\n",
      "application_type_Joint App             332020 non-null uint8\n",
      "target                                 332020 non-null int64\n",
      "desc                                   332020 non-null int64\n",
      "grade                                  332020 non-null int64\n",
      "dtypes: float64(74), int64(3), uint8(18)\n",
      "memory usage: 200.7 MB\n"
     ]
    }
   ],
   "source": [
    "# concatenating the dummies\n",
    "\n",
    "loan_filtered_final = pd.merge(num_scaled, dummies, left_index=True, right_index=True)\n",
    "loan_filtered_final.info()"
   ]
  },
  {
   "cell_type": "code",
   "execution_count": 83,
   "metadata": {},
   "outputs": [
    {
     "data": {
      "text/html": [
       "<div>\n",
       "<style scoped>\n",
       "    .dataframe tbody tr th:only-of-type {\n",
       "        vertical-align: middle;\n",
       "    }\n",
       "\n",
       "    .dataframe tbody tr th {\n",
       "        vertical-align: top;\n",
       "    }\n",
       "\n",
       "    .dataframe thead th {\n",
       "        text-align: right;\n",
       "    }\n",
       "</style>\n",
       "<table border=\"1\" class=\"dataframe\">\n",
       "  <thead>\n",
       "    <tr style=\"text-align: right;\">\n",
       "      <th></th>\n",
       "      <th>loan_amnt</th>\n",
       "      <th>int_rate</th>\n",
       "      <th>installment</th>\n",
       "      <th>annual_inc</th>\n",
       "      <th>dti</th>\n",
       "      <th>delinq_2yrs</th>\n",
       "      <th>inq_last_6mths</th>\n",
       "      <th>mths_since_last_delinq</th>\n",
       "      <th>mths_since_last_record</th>\n",
       "      <th>open_acc</th>\n",
       "      <th>...</th>\n",
       "      <th>purpose_home</th>\n",
       "      <th>purpose_investment</th>\n",
       "      <th>purpose_medical</th>\n",
       "      <th>purpose_other</th>\n",
       "      <th>purpose_purchase</th>\n",
       "      <th>application_type_Individual</th>\n",
       "      <th>application_type_Joint App</th>\n",
       "      <th>target</th>\n",
       "      <th>desc</th>\n",
       "      <th>grade</th>\n",
       "    </tr>\n",
       "  </thead>\n",
       "  <tbody>\n",
       "    <tr>\n",
       "      <td>0</td>\n",
       "      <td>0.638293</td>\n",
       "      <td>-0.797711</td>\n",
       "      <td>0.774278</td>\n",
       "      <td>0.705425</td>\n",
       "      <td>-0.633411</td>\n",
       "      <td>-0.358858</td>\n",
       "      <td>-0.691619</td>\n",
       "      <td>0.967457</td>\n",
       "      <td>0.396028</td>\n",
       "      <td>-0.472377</td>\n",
       "      <td>...</td>\n",
       "      <td>0</td>\n",
       "      <td>0</td>\n",
       "      <td>0</td>\n",
       "      <td>0</td>\n",
       "      <td>1</td>\n",
       "      <td>1</td>\n",
       "      <td>0</td>\n",
       "      <td>0</td>\n",
       "      <td>0</td>\n",
       "      <td>5</td>\n",
       "    </tr>\n",
       "    <tr>\n",
       "      <td>1</td>\n",
       "      <td>-1.370173</td>\n",
       "      <td>-0.383039</td>\n",
       "      <td>-1.362470</td>\n",
       "      <td>-0.655223</td>\n",
       "      <td>-0.080388</td>\n",
       "      <td>-0.358858</td>\n",
       "      <td>-0.691619</td>\n",
       "      <td>-0.734029</td>\n",
       "      <td>0.396028</td>\n",
       "      <td>-1.203703</td>\n",
       "      <td>...</td>\n",
       "      <td>0</td>\n",
       "      <td>0</td>\n",
       "      <td>0</td>\n",
       "      <td>0</td>\n",
       "      <td>1</td>\n",
       "      <td>1</td>\n",
       "      <td>0</td>\n",
       "      <td>0</td>\n",
       "      <td>0</td>\n",
       "      <td>5</td>\n",
       "    </tr>\n",
       "    <tr>\n",
       "      <td>2</td>\n",
       "      <td>0.388670</td>\n",
       "      <td>0.982443</td>\n",
       "      <td>0.788672</td>\n",
       "      <td>0.689418</td>\n",
       "      <td>-0.121479</td>\n",
       "      <td>-0.358858</td>\n",
       "      <td>0.347664</td>\n",
       "      <td>-1.128774</td>\n",
       "      <td>0.396028</td>\n",
       "      <td>0.624610</td>\n",
       "      <td>...</td>\n",
       "      <td>0</td>\n",
       "      <td>0</td>\n",
       "      <td>0</td>\n",
       "      <td>0</td>\n",
       "      <td>0</td>\n",
       "      <td>1</td>\n",
       "      <td>0</td>\n",
       "      <td>1</td>\n",
       "      <td>0</td>\n",
       "      <td>3</td>\n",
       "    </tr>\n",
       "    <tr>\n",
       "      <td>3</td>\n",
       "      <td>-0.566786</td>\n",
       "      <td>-1.072064</td>\n",
       "      <td>-0.535273</td>\n",
       "      <td>0.097136</td>\n",
       "      <td>0.547969</td>\n",
       "      <td>-0.358858</td>\n",
       "      <td>0.347664</td>\n",
       "      <td>-0.951819</td>\n",
       "      <td>0.396028</td>\n",
       "      <td>0.624610</td>\n",
       "      <td>...</td>\n",
       "      <td>0</td>\n",
       "      <td>0</td>\n",
       "      <td>0</td>\n",
       "      <td>0</td>\n",
       "      <td>1</td>\n",
       "      <td>1</td>\n",
       "      <td>0</td>\n",
       "      <td>0</td>\n",
       "      <td>0</td>\n",
       "      <td>5</td>\n",
       "    </tr>\n",
       "    <tr>\n",
       "      <td>4</td>\n",
       "      <td>0.064446</td>\n",
       "      <td>-0.169421</td>\n",
       "      <td>0.242809</td>\n",
       "      <td>-0.154392</td>\n",
       "      <td>-0.397135</td>\n",
       "      <td>-0.358858</td>\n",
       "      <td>0.347664</td>\n",
       "      <td>0.967457</td>\n",
       "      <td>-1.042271</td>\n",
       "      <td>-0.106715</td>\n",
       "      <td>...</td>\n",
       "      <td>0</td>\n",
       "      <td>0</td>\n",
       "      <td>0</td>\n",
       "      <td>0</td>\n",
       "      <td>0</td>\n",
       "      <td>1</td>\n",
       "      <td>0</td>\n",
       "      <td>1</td>\n",
       "      <td>0</td>\n",
       "      <td>5</td>\n",
       "    </tr>\n",
       "  </tbody>\n",
       "</table>\n",
       "<p>5 rows × 95 columns</p>\n",
       "</div>"
      ],
      "text/plain": [
       "   loan_amnt  int_rate  installment  annual_inc       dti  delinq_2yrs  \\\n",
       "0   0.638293 -0.797711     0.774278    0.705425 -0.633411    -0.358858   \n",
       "1  -1.370173 -0.383039    -1.362470   -0.655223 -0.080388    -0.358858   \n",
       "2   0.388670  0.982443     0.788672    0.689418 -0.121479    -0.358858   \n",
       "3  -0.566786 -1.072064    -0.535273    0.097136  0.547969    -0.358858   \n",
       "4   0.064446 -0.169421     0.242809   -0.154392 -0.397135    -0.358858   \n",
       "\n",
       "   inq_last_6mths  mths_since_last_delinq  mths_since_last_record  open_acc  \\\n",
       "0       -0.691619                0.967457                0.396028 -0.472377   \n",
       "1       -0.691619               -0.734029                0.396028 -1.203703   \n",
       "2        0.347664               -1.128774                0.396028  0.624610   \n",
       "3        0.347664               -0.951819                0.396028  0.624610   \n",
       "4        0.347664                0.967457               -1.042271 -0.106715   \n",
       "\n",
       "   ...  purpose_home  purpose_investment  purpose_medical  purpose_other  \\\n",
       "0  ...             0                   0                0              0   \n",
       "1  ...             0                   0                0              0   \n",
       "2  ...             0                   0                0              0   \n",
       "3  ...             0                   0                0              0   \n",
       "4  ...             0                   0                0              0   \n",
       "\n",
       "   purpose_purchase  application_type_Individual  application_type_Joint App  \\\n",
       "0                 1                            1                           0   \n",
       "1                 1                            1                           0   \n",
       "2                 0                            1                           0   \n",
       "3                 1                            1                           0   \n",
       "4                 0                            1                           0   \n",
       "\n",
       "   target  desc  grade  \n",
       "0       0     0      5  \n",
       "1       0     0      5  \n",
       "2       1     0      3  \n",
       "3       0     0      5  \n",
       "4       1     0      5  \n",
       "\n",
       "[5 rows x 95 columns]"
      ]
     },
     "execution_count": 83,
     "metadata": {},
     "output_type": "execute_result"
    }
   ],
   "source": [
    "loan_filtered_final.head()"
   ]
  },
  {
   "cell_type": "code",
   "execution_count": 84,
   "metadata": {},
   "outputs": [],
   "source": [
    "loan_filtered_final.to_csv('../data/DE_test_set.csv', index = None, header=True)"
   ]
  }
 ],
 "metadata": {
  "kernelspec": {
   "display_name": "Python 3",
   "language": "python",
   "name": "python3"
  },
  "language_info": {
   "codemirror_mode": {
    "name": "ipython",
    "version": 3
   },
   "file_extension": ".py",
   "mimetype": "text/x-python",
   "name": "python",
   "nbconvert_exporter": "python",
   "pygments_lexer": "ipython3",
   "version": "3.7.4"
  }
 },
 "nbformat": 4,
 "nbformat_minor": 2
}
