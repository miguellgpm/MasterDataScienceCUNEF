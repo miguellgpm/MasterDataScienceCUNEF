{
 "cells": [
  {
   "cell_type": "markdown",
   "metadata": {},
   "source": [
    "# Results of Bayesian Optimization applied over PCA modeling\n",
    "\n",
    "\n",
    "- Authors: Beltrán Aller López and Miguel López Garralón\n",
    "- Date: 13/12/2019\n",
    "- Email: beltran.aller@cunef.edu and m.lopez@cunef.edu\n",
    "- Institution: CUNEF\n",
    "- Version: 1.0"
   ]
  },
  {
   "cell_type": "markdown",
   "metadata": {},
   "source": [
    "The purpose of this book is evaluate the models obtained once we have applied PCA and Bayesian Optimization for hyperparameter tuning."
   ]
  },
  {
   "cell_type": "markdown",
   "metadata": {},
   "source": [
    "Before doing anything, we will import the necessaries libraries."
   ]
  },
  {
   "cell_type": "code",
   "execution_count": 1,
   "metadata": {},
   "outputs": [],
   "source": [
    "# Libraries\n",
    "\n",
    "import numpy as np\n",
    "import pandas as pd\n",
    "import matplotlib\n",
    "from matplotlib import pyplot as plt # plots\n",
    "import seaborn as sns # plots\n",
    "from scipy import stats as sts # normality test JB\n",
    "from sklearn import model_selection\n",
    "from sklearn import linear_model\n",
    "from sklearn import metrics\n",
    "from sklearn.linear_model import Ridge, RidgeCV # Ridge\n",
    "from sklearn.linear_model import Lasso, LassoCV # Lasso\n",
    "from sklearn.linear_model import LogisticRegression # Log Regression\n",
    "from sklearn.metrics import r2_score # R^2\n",
    "from sklearn.metrics import mean_squared_error # MSE\n",
    "from sklearn import preprocessing # estandarization\n",
    "from sklearn.ensemble import IsolationForest # outliers\n",
    "from math import sqrt # sqrt\n",
    "import itertools # aplanar arrays\n",
    "import math\n",
    "from sklearn.svm import SVC # SVM\n",
    "from sklearn.metrics import classification_report, confusion_matrix\n",
    "from sklearn.ensemble import RandomForestRegressor, RandomForestClassifier\n",
    "import xgboost as xgb # XGBOOST\n",
    "from sklearn.metrics import roc_curve, roc_auc_score, plot_roc_curve # ROC Curve\n",
    "from sklearn.datasets import make_classification\n",
    "import random\n",
    "random.seed(1122019)\n",
    "import pickle"
   ]
  },
  {
   "cell_type": "markdown",
   "metadata": {},
   "source": [
    "The following variable indicates the route in which we have our dataset."
   ]
  },
  {
   "cell_type": "code",
   "execution_count": 2,
   "metadata": {},
   "outputs": [],
   "source": [
    "data_path = '../data/PCA_test_set.csv'"
   ]
  },
  {
   "cell_type": "markdown",
   "metadata": {},
   "source": [
    "## 1. READING THE DATA"
   ]
  },
  {
   "cell_type": "markdown",
   "metadata": {},
   "source": [
    "The dataset is kept into the data directory. In the same folder you can find the data dictionary."
   ]
  },
  {
   "cell_type": "code",
   "execution_count": 3,
   "metadata": {},
   "outputs": [],
   "source": [
    "loan = pd.read_csv(data_path)"
   ]
  },
  {
   "cell_type": "code",
   "execution_count": 4,
   "metadata": {},
   "outputs": [
    {
     "name": "stdout",
     "output_type": "stream",
     "text": [
      "<class 'pandas.core.frame.DataFrame'>\n",
      "RangeIndex: 332020 entries, 0 to 332019\n",
      "Data columns (total 42 columns):\n",
      "Component_1                            332020 non-null float64\n",
      "Component_2                            332020 non-null float64\n",
      "Component_3                            332020 non-null float64\n",
      "Component_4                            332020 non-null float64\n",
      "Component_5                            332020 non-null float64\n",
      "Component_6                            332020 non-null float64\n",
      "Component_7                            332020 non-null float64\n",
      "Component_8                            332020 non-null float64\n",
      "Component_9                            332020 non-null float64\n",
      "Component_10                           332020 non-null float64\n",
      "Component_11                           332020 non-null float64\n",
      "Component_12                           332020 non-null float64\n",
      "Component_13                           332020 non-null float64\n",
      "Component_14                           332020 non-null float64\n",
      "Component_15                           332020 non-null float64\n",
      "Component_16                           332020 non-null float64\n",
      "Component_17                           332020 non-null float64\n",
      "Component_18                           332020 non-null float64\n",
      "Component_19                           332020 non-null float64\n",
      "Component_20                           332020 non-null float64\n",
      "Component_21                           332020 non-null float64\n",
      "term_ 36 months                        332020 non-null int64\n",
      "term_ 60 months                        332020 non-null int64\n",
      "emp_length_6+ years                    332020 non-null int64\n",
      "emp_length_<= 5 years                  332020 non-null int64\n",
      "home_ownership_OTHER                   332020 non-null int64\n",
      "home_ownership_OWN                     332020 non-null int64\n",
      "home_ownership_RENT                    332020 non-null int64\n",
      "verification_status_Not Verified       332020 non-null int64\n",
      "verification_status_Source Verified    332020 non-null int64\n",
      "verification_status_Verified           332020 non-null int64\n",
      "purpose_debt_consolidation             332020 non-null int64\n",
      "purpose_home                           332020 non-null int64\n",
      "purpose_investment                     332020 non-null int64\n",
      "purpose_medical                        332020 non-null int64\n",
      "purpose_other                          332020 non-null int64\n",
      "purpose_purchase                       332020 non-null int64\n",
      "application_type_Individual            332020 non-null int64\n",
      "application_type_Joint App             332020 non-null int64\n",
      "target                                 332020 non-null int64\n",
      "desc                                   332020 non-null int64\n",
      "grade                                  332020 non-null int64\n",
      "dtypes: float64(21), int64(21)\n",
      "memory usage: 106.4 MB\n"
     ]
    }
   ],
   "source": [
    "loan.info()"
   ]
  },
  {
   "cell_type": "code",
   "execution_count": 5,
   "metadata": {},
   "outputs": [],
   "source": [
    "X_test = loan.drop('target',axis = 1).values\n",
    "Y_test = loan['target'].values"
   ]
  },
  {
   "cell_type": "markdown",
   "metadata": {},
   "source": [
    "## 2. DEFINING FUNCTIONS"
   ]
  },
  {
   "cell_type": "code",
   "execution_count": 6,
   "metadata": {},
   "outputs": [],
   "source": [
    "def conf_matrix(Y_test, Y_pred):\n",
    "    cnf_matrix_tra = confusion_matrix(Y_test, Y_pred)\n",
    "    conf_plot = sns.heatmap(cnf_matrix_tra, annot=True, cmap='Blues', fmt='g')\n",
    "    bottom, top = conf_plot.get_ylim()\n",
    "    conf_plot.set_ylim(bottom + 0.5, top - 0.5)\n",
    "    conf_plot.set_title(\"Confusion matrix, without normalization\")\n",
    "    conf_plot.set_ylabel('True Label')\n",
    "    conf_plot.set_xlabel('Predicted Label');"
   ]
  },
  {
   "cell_type": "code",
   "execution_count": 7,
   "metadata": {},
   "outputs": [],
   "source": [
    "def show_results(test, predict):\n",
    "    conf_matrix(test, predict)\n",
    "    print(classification_report(test,predict))"
   ]
  },
  {
   "cell_type": "code",
   "execution_count": 8,
   "metadata": {},
   "outputs": [],
   "source": [
    "def show_ROC(predict):\n",
    "    metrics.plot_roc_curve(predict, X_test, Y_test)\n",
    "    plt.show()                     \n",
    "    print(\"Score: \", predict.score(X_test, Y_test))"
   ]
  },
  {
   "cell_type": "code",
   "execution_count": 9,
   "metadata": {},
   "outputs": [],
   "source": [
    "def load_models(filename):\n",
    "    with open(filename, 'rb') as file:\n",
    "        return(pickle.load(file))"
   ]
  },
  {
   "cell_type": "markdown",
   "metadata": {},
   "source": [
    "## 3. RESULTS"
   ]
  },
  {
   "cell_type": "markdown",
   "metadata": {},
   "source": [
    "### Support Vector Machine"
   ]
  },
  {
   "cell_type": "code",
   "execution_count": 10,
   "metadata": {},
   "outputs": [],
   "source": [
    "svm = load_models('../src/Models/PCA_BO/svm_regression')"
   ]
  },
  {
   "cell_type": "code",
   "execution_count": 11,
   "metadata": {},
   "outputs": [
    {
     "name": "stdout",
     "output_type": "stream",
     "text": [
      "              precision    recall  f1-score   support\n",
      "\n",
      "           0       0.90      0.09      0.16    260404\n",
      "           1       0.23      0.96      0.36     71616\n",
      "\n",
      "    accuracy                           0.28    332020\n",
      "   macro avg       0.56      0.53      0.26    332020\n",
      "weighted avg       0.75      0.28      0.21    332020\n",
      "\n"
     ]
    },
    {
     "data": {
      "image/png": "[encoded data removed]",
      "text/plain": [
       "<Figure size 432x288 with 2 Axes>"
      ]
     },
     "metadata": {
      "needs_background": "light"
     },
     "output_type": "display_data"
    }
   ],
   "source": [
    "pred_svm = svm.predict(X_test)\n",
    "conf_matrix(Y_test, pred_svm)\n",
    "print(classification_report(Y_test,pred_svm))"
   ]
  },
  {
   "cell_type": "markdown",
   "metadata": {},
   "source": [
    "We will draw the ROC Curve and calculate the area under the ROC Curve to show the results. It also has been compared the score in the prediction between the sample of the train and test parts."
   ]
  },
  {
   "cell_type": "code",
   "execution_count": 12,
   "metadata": {},
   "outputs": [
    {
     "data": {
      "image/png": "[encoded data removed]",
      "text/plain": [
       "<Figure size 432x288 with 1 Axes>"
      ]
     },
     "metadata": {
      "needs_background": "light"
     },
     "output_type": "display_data"
    },
    {
     "name": "stdout",
     "output_type": "stream",
     "text": [
      "Score:  0.2776007469429552\n"
     ]
    }
   ],
   "source": [
    "show_ROC(svm)"
   ]
  },
  {
   "cell_type": "markdown",
   "metadata": {},
   "source": [
    "The results for SVM are a completely disaster and show the overfitting at the model. As we can see in PCA_Modeling_BO, the accuracy obtained over the train set with the best hyperparameters is approximately 0.75 and here is below 0.30."
   ]
  },
  {
   "cell_type": "markdown",
   "metadata": {},
   "source": [
    "### Random Forest"
   ]
  },
  {
   "cell_type": "code",
   "execution_count": 13,
   "metadata": {},
   "outputs": [],
   "source": [
    "random_forest = load_models('../src/Models/PCA_BO/random_forest_regression')"
   ]
  },
  {
   "cell_type": "markdown",
   "metadata": {},
   "source": [
    "After that, and once the Random Forest model has been estimated, we predict and show the results through the confussion matrix."
   ]
  },
  {
   "cell_type": "code",
   "execution_count": 14,
   "metadata": {},
   "outputs": [
    {
     "name": "stderr",
     "output_type": "stream",
     "text": [
      "[Parallel(n_jobs=12)]: Using backend ThreadingBackend with 12 concurrent workers.\n",
      "[Parallel(n_jobs=12)]: Done  37 tasks      | elapsed:    0.1s\n",
      "[Parallel(n_jobs=12)]: Done 218 tasks      | elapsed:    0.9s\n",
      "[Parallel(n_jobs=12)]: Done 500 out of 500 | elapsed:    2.1s finished\n",
      "C:\\Users\\Beltran\\Anaconda3\\lib\\site-packages\\sklearn\\metrics\\_classification.py:1268: UndefinedMetricWarning: Precision and F-score are ill-defined and being set to 0.0 in labels with no predicted samples. Use `zero_division` parameter to control this behavior.\n",
      "  _warn_prf(average, modifier, msg_start, len(result))\n"
     ]
    },
    {
     "name": "stdout",
     "output_type": "stream",
     "text": [
      "              precision    recall  f1-score   support\n",
      "\n",
      "           0       0.78      1.00      0.88    260404\n",
      "           1       0.00      0.00      0.00     71616\n",
      "\n",
      "    accuracy                           0.78    332020\n",
      "   macro avg       0.39      0.50      0.44    332020\n",
      "weighted avg       0.62      0.78      0.69    332020\n",
      "\n"
     ]
    },
    {
     "data": {
      "image/png": "[encoded data removed]",
      "text/plain": [
       "<Figure size 432x288 with 2 Axes>"
      ]
     },
     "metadata": {
      "needs_background": "light"
     },
     "output_type": "display_data"
    }
   ],
   "source": [
    "pred_rf = random_forest.predict(X_test)\n",
    "conf_matrix(Y_test, pred_svm)\n",
    "print(classification_report(Y_test,pred_rf))"
   ]
  },
  {
   "cell_type": "markdown",
   "metadata": {},
   "source": [
    "Finally, we show the ROC curve and the area under the curve. Also, it has been compared the score in the prediction between the sample of the train and test parts."
   ]
  },
  {
   "cell_type": "code",
   "execution_count": 15,
   "metadata": {},
   "outputs": [
    {
     "name": "stderr",
     "output_type": "stream",
     "text": [
      "[Parallel(n_jobs=12)]: Using backend ThreadingBackend with 12 concurrent workers.\n",
      "[Parallel(n_jobs=12)]: Done  37 tasks      | elapsed:    0.1s\n",
      "[Parallel(n_jobs=12)]: Done 218 tasks      | elapsed:    0.9s\n",
      "[Parallel(n_jobs=12)]: Done 500 out of 500 | elapsed:    2.2s finished\n"
     ]
    },
    {
     "data": {
      "image/png": "[encoded data removed]",
      "text/plain": [
       "<Figure size 432x288 with 1 Axes>"
      ]
     },
     "metadata": {
      "needs_background": "light"
     },
     "output_type": "display_data"
    },
    {
     "name": "stderr",
     "output_type": "stream",
     "text": [
      "[Parallel(n_jobs=12)]: Using backend ThreadingBackend with 12 concurrent workers.\n",
      "[Parallel(n_jobs=12)]: Done  37 tasks      | elapsed:    0.1s\n",
      "[Parallel(n_jobs=12)]: Done 218 tasks      | elapsed:    0.9s\n"
     ]
    },
    {
     "name": "stdout",
     "output_type": "stream",
     "text": [
      "Score:  0.7843021504728631\n"
     ]
    },
    {
     "name": "stderr",
     "output_type": "stream",
     "text": [
      "[Parallel(n_jobs=12)]: Done 500 out of 500 | elapsed:    2.2s finished\n"
     ]
    }
   ],
   "source": [
    "show_ROC(random_forest)"
   ]
  },
  {
   "cell_type": "markdown",
   "metadata": {},
   "source": [
    "Despite of the fact that the model shows a good accuracy, it completely fails on predicting defaults."
   ]
  },
  {
   "cell_type": "markdown",
   "metadata": {},
   "source": [
    "### XGBoost"
   ]
  },
  {
   "cell_type": "code",
   "execution_count": 16,
   "metadata": {},
   "outputs": [],
   "source": [
    "xgb = load_models('../src/Models/PCA_BO/xgboost_regression')"
   ]
  },
  {
   "cell_type": "markdown",
   "metadata": {},
   "source": [
    "Once the XGBoost model has been estimated, we predict and show the results through the confussion matrix."
   ]
  },
  {
   "cell_type": "code",
   "execution_count": 17,
   "metadata": {},
   "outputs": [
    {
     "name": "stdout",
     "output_type": "stream",
     "text": [
      "              precision    recall  f1-score   support\n",
      "\n",
      "           0       0.89      0.79      0.84    260404\n",
      "           1       0.46      0.64      0.54     71616\n",
      "\n",
      "    accuracy                           0.76    332020\n",
      "   macro avg       0.68      0.72      0.69    332020\n",
      "weighted avg       0.80      0.76      0.77    332020\n",
      "\n"
     ]
    },
    {
     "data": {
      "image/png": "[encoded data removed]",
      "text/plain": [
       "<Figure size 432x288 with 2 Axes>"
      ]
     },
     "metadata": {
      "needs_background": "light"
     },
     "output_type": "display_data"
    }
   ],
   "source": [
    "pred_xgb = xgb.predict(X_test)\n",
    "conf_matrix(Y_test, pred_xgb)\n",
    "print(classification_report(Y_test,pred_xgb))"
   ]
  },
  {
   "cell_type": "markdown",
   "metadata": {},
   "source": [
    "Finally, we show the ROC curve and the area under the curve. Also, it has been compared the score in the prediction between the sample of the train and test parts."
   ]
  },
  {
   "cell_type": "code",
   "execution_count": 18,
   "metadata": {},
   "outputs": [
    {
     "data": {
      "image/png": "[encoded data removed]",
      "text/plain": [
       "<Figure size 432x288 with 1 Axes>"
      ]
     },
     "metadata": {
      "needs_background": "light"
     },
     "output_type": "display_data"
    },
    {
     "name": "stdout",
     "output_type": "stream",
     "text": [
      "Score:  0.7621438467562195\n"
     ]
    }
   ],
   "source": [
    "show_ROC(xgb)"
   ]
  },
  {
   "cell_type": "markdown",
   "metadata": {},
   "source": [
    "XGBoost obtained good results in general."
   ]
  },
  {
   "cell_type": "markdown",
   "metadata": {},
   "source": [
    "# ROC Curve comparisson"
   ]
  },
  {
   "cell_type": "code",
   "execution_count": 19,
   "metadata": {},
   "outputs": [
    {
     "name": "stderr",
     "output_type": "stream",
     "text": [
      "[Parallel(n_jobs=12)]: Using backend ThreadingBackend with 12 concurrent workers.\n",
      "[Parallel(n_jobs=12)]: Done  37 tasks      | elapsed:    0.2s\n",
      "[Parallel(n_jobs=12)]: Done 218 tasks      | elapsed:    1.0s\n",
      "[Parallel(n_jobs=12)]: Done 500 out of 500 | elapsed:    2.2s finished\n"
     ]
    },
    {
     "data": {
      "image/png": "[encoded data removed]",
      "text/plain": [
       "<Figure size 432x288 with 1 Axes>"
      ]
     },
     "metadata": {
      "needs_background": "light"
     },
     "output_type": "display_data"
    }
   ],
   "source": [
    "loan_RandomForest_disp = plot_roc_curve(random_forest, X_test, Y_test)\n",
    "loan_XGBoost_disp = plot_roc_curve(xgb, X_test, Y_test, ax=loan_RandomForest_disp.ax_)\n",
    "loan_SVM2_disp = plot_roc_curve(svm, X_test, Y_test, ax=loan_XGBoost_disp.ax_)\n",
    "loan_RandomForest_disp.figure_.suptitle(\"ROC curve comparison\")\n",
    "plt.show()"
   ]
  },
  {
   "cell_type": "code",
   "execution_count": 20,
   "metadata": {},
   "outputs": [
    {
     "name": "stdout",
     "output_type": "stream",
     "text": [
      "Support Vector Machine\n",
      "              precision    recall  f1-score   support\n",
      "\n",
      "           0       0.90      0.09      0.16    260404\n",
      "           1       0.23      0.96      0.36     71616\n",
      "\n",
      "    accuracy                           0.28    332020\n",
      "   macro avg       0.56      0.53      0.26    332020\n",
      "weighted avg       0.75      0.28      0.21    332020\n",
      "\n",
      "Accuracy of Support Vector Machine classifier on test set: 0.28\n",
      "\n",
      "Random Forest\n"
     ]
    },
    {
     "name": "stderr",
     "output_type": "stream",
     "text": [
      "C:\\Users\\Beltran\\Anaconda3\\lib\\site-packages\\sklearn\\metrics\\_classification.py:1268: UndefinedMetricWarning: Precision and F-score are ill-defined and being set to 0.0 in labels with no predicted samples. Use `zero_division` parameter to control this behavior.\n",
      "  _warn_prf(average, modifier, msg_start, len(result))\n"
     ]
    },
    {
     "name": "stdout",
     "output_type": "stream",
     "text": [
      "              precision    recall  f1-score   support\n",
      "\n",
      "           0       0.78      1.00      0.88    260404\n",
      "           1       0.00      0.00      0.00     71616\n",
      "\n",
      "    accuracy                           0.78    332020\n",
      "   macro avg       0.39      0.50      0.44    332020\n",
      "weighted avg       0.62      0.78      0.69    332020\n",
      "\n"
     ]
    },
    {
     "name": "stderr",
     "output_type": "stream",
     "text": [
      "[Parallel(n_jobs=12)]: Using backend ThreadingBackend with 12 concurrent workers.\n",
      "[Parallel(n_jobs=12)]: Done  37 tasks      | elapsed:    0.1s\n",
      "[Parallel(n_jobs=12)]: Done 218 tasks      | elapsed:    0.9s\n",
      "[Parallel(n_jobs=12)]: Done 500 out of 500 | elapsed:    2.1s finished\n"
     ]
    },
    {
     "name": "stdout",
     "output_type": "stream",
     "text": [
      "Accuracy of Random Forest classifier on test set: 0.78\n",
      "\n",
      "XGBoost\n",
      "              precision    recall  f1-score   support\n",
      "\n",
      "           0       0.89      0.79      0.84    260404\n",
      "           1       0.46      0.64      0.54     71616\n",
      "\n",
      "    accuracy                           0.76    332020\n",
      "   macro avg       0.68      0.72      0.69    332020\n",
      "weighted avg       0.80      0.76      0.77    332020\n",
      "\n",
      "Accuracy of XGBoost classifier on test set: 0.76\n",
      "\n"
     ]
    }
   ],
   "source": [
    "print('Support Vector Machine')\n",
    "print(classification_report(Y_test,pred_svm))\n",
    "print('Accuracy of Support Vector Machine classifier on test set: {:.2f}'.format(svm.score(X_test, Y_test)))\n",
    "print('')\n",
    "print('Random Forest')\n",
    "print(classification_report(Y_test,pred_rf))\n",
    "print('Accuracy of Random Forest classifier on test set: {:.2f}'.format(random_forest.score(X_test, Y_test)))\n",
    "print('')\n",
    "print('XGBoost')\n",
    "print(classification_report(Y_test,pred_xgb))\n",
    "print('Accuracy of XGBoost classifier on test set: {:.2f}'.format(xgb.score(X_test, Y_test)))\n",
    "print('')"
   ]
  },
  {
   "cell_type": "markdown",
   "metadata": {},
   "source": [
    "# Conclusions\n",
    "\n"
   ]
  },
  {
   "cell_type": "markdown",
   "metadata": {},
   "source": [
    "XGBoost shows the best results for Bayesian Optimization applied over PCA, so XGBoost is going to be the model chose  in order to compare the different results obtained.\n",
    "\n",
    "As we said in PCA_Modeling_Bo notebook, there is not specific information about what the function does with the inputs to know why the outputs show those very bad results."
   ]
  },
  {
   "cell_type": "markdown",
   "metadata": {},
   "source": [
    "# References:\n",
    "\n",
    "- Sklearn:\n",
    "\n",
    "    1. SVM: https://scikit-learn.org/stable/modules/generated/sklearn.svm.SVC.html\n",
    "    \n",
    "    2. Random Forest: https://scikit-learn.org/stable/modules/generated/sklearn.ensemble.RandomForestClassifier.html\n",
    "    \n",
    "    3. XGBoost: https://www.kaggle.com/stuarthallows/using-xgboost-with-scikit-learn"
   ]
  }
 ],
 "metadata": {
  "kernelspec": {
   "display_name": "Python 3",
   "language": "python",
   "name": "python3"
  },
  "language_info": {
   "codemirror_mode": {
    "name": "ipython",
    "version": 3
   },
   "file_extension": ".py",
   "mimetype": "text/x-python",
   "name": "python",
   "nbconvert_exporter": "python",
   "pygments_lexer": "ipython3",
   "version": "3.7.4"
  }
 },
 "nbformat": 4,
 "nbformat_minor": 2
}
