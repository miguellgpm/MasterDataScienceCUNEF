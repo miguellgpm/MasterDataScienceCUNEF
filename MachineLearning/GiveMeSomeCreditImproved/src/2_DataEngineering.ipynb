{
 "cells": [
  {
   "cell_type": "markdown",
   "metadata": {},
   "source": [
    "# Predicting defaults on Lending Club database\n",
    "\n",
    "\n",
    "- Authors: Beltrán Aller López and Miguel López Garralón\n",
    "- Date: 13/12/2019\n",
    "- Email: beltran.aller@cunef.edu and m.lopez@cunef.edu\n",
    "- Institution: CUNEF\n",
    "- Version: 1.0"
   ]
  },
  {
   "cell_type": "markdown",
   "metadata": {},
   "source": [
    "The main purpose of this project will be predict if a client of the Lending Club will do a default or will no do it. In order to get that, we are going to explore the dataset, analise the data and try to make a predictive model."
   ]
  },
  {
   "cell_type": "markdown",
   "metadata": {},
   "source": [
    "The steps are the following:"
   ]
  },
  {
   "cell_type": "markdown",
   "metadata": {},
   "source": [
    "* Reading the data.\n",
    "* Showing a little part of the data in order to get some knowledge about them.\n",
    "* Choosing the most important variables of the dataset according to the Lending Club Dictionary and our own inquiries into the web.\n",
    "* Filtering the data.\n",
    "* Doing an exploratory data analysis.\n",
    "* Making a predictive model."
   ]
  },
  {
   "cell_type": "markdown",
   "metadata": {},
   "source": [
    "Before doing anything, we will import the necessaries libraries."
   ]
  },
  {
   "cell_type": "code",
   "execution_count": 2,
   "metadata": {},
   "outputs": [],
   "source": [
    "# Libraries\n",
    "\n",
    "import numpy as np\n",
    "import pandas as pd\n",
    "import matplotlib\n",
    "from matplotlib import pyplot as plt # plots\n",
    "import seaborn as sns # plots\n",
    "from scipy import stats as sts # normality test JB\n",
    "from sklearn import model_selection\n",
    "from sklearn import linear_model\n",
    "from sklearn import metrics\n",
    "from sklearn.model_selection import train_test_split # split data\n",
    "from sklearn.metrics import mean_squared_error # MSE\n",
    "from sklearn.preprocessing import StandardScaler \n",
    "from sklearn import preprocessing # estandarization\n",
    "from sklearn.ensemble import IsolationForest # outliers\n",
    "from math import sqrt # sqrt\n",
    "import itertools # aplanar arrays\n",
    "import math\n",
    "import random\n",
    "random.seed(1122019)"
   ]
  },
  {
   "cell_type": "markdown",
   "metadata": {},
   "source": [
    "The following variable indicates the route in which we have our dataset."
   ]
  },
  {
   "cell_type": "code",
   "execution_count": 3,
   "metadata": {},
   "outputs": [],
   "source": [
    "data_path = '../data/EDA_set.csv'"
   ]
  },
  {
   "cell_type": "markdown",
   "metadata": {},
   "source": [
    "## 1. READING THE DATA"
   ]
  },
  {
   "cell_type": "markdown",
   "metadata": {},
   "source": [
    "The dataset is kept into the data directory. In the same folder you can find the data dictionary."
   ]
  },
  {
   "cell_type": "code",
   "execution_count": 4,
   "metadata": {},
   "outputs": [],
   "source": [
    "loan = pd.read_csv(data_path)"
   ]
  },
  {
   "cell_type": "code",
   "execution_count": 5,
   "metadata": {},
   "outputs": [
    {
     "data": {
      "text/html": [
       "<div>\n",
       "<style scoped>\n",
       "    .dataframe tbody tr th:only-of-type {\n",
       "        vertical-align: middle;\n",
       "    }\n",
       "\n",
       "    .dataframe tbody tr th {\n",
       "        vertical-align: top;\n",
       "    }\n",
       "\n",
       "    .dataframe thead th {\n",
       "        text-align: right;\n",
       "    }\n",
       "</style>\n",
       "<table border=\"1\" class=\"dataframe\">\n",
       "  <thead>\n",
       "    <tr style=\"text-align: right;\">\n",
       "      <th></th>\n",
       "      <th>id</th>\n",
       "      <th>member_id</th>\n",
       "      <th>loan_amnt</th>\n",
       "      <th>funded_amnt</th>\n",
       "      <th>funded_amnt_inv</th>\n",
       "      <th>term</th>\n",
       "      <th>int_rate</th>\n",
       "      <th>installment</th>\n",
       "      <th>grade</th>\n",
       "      <th>sub_grade</th>\n",
       "      <th>...</th>\n",
       "      <th>hardship_last_payment_amount</th>\n",
       "      <th>disbursement_method</th>\n",
       "      <th>debt_settlement_flag</th>\n",
       "      <th>debt_settlement_flag_date</th>\n",
       "      <th>settlement_status</th>\n",
       "      <th>settlement_date</th>\n",
       "      <th>settlement_amount</th>\n",
       "      <th>settlement_percentage</th>\n",
       "      <th>settlement_term</th>\n",
       "      <th>target</th>\n",
       "    </tr>\n",
       "  </thead>\n",
       "  <tbody>\n",
       "    <tr>\n",
       "      <td>0</td>\n",
       "      <td>NaN</td>\n",
       "      <td>NaN</td>\n",
       "      <td>19875</td>\n",
       "      <td>19875</td>\n",
       "      <td>19850.0</td>\n",
       "      <td>60 months</td>\n",
       "      <td>20.20</td>\n",
       "      <td>528.79</td>\n",
       "      <td>E</td>\n",
       "      <td>E3</td>\n",
       "      <td>...</td>\n",
       "      <td>NaN</td>\n",
       "      <td>Cash</td>\n",
       "      <td>N</td>\n",
       "      <td>NaN</td>\n",
       "      <td>NaN</td>\n",
       "      <td>NaN</td>\n",
       "      <td>NaN</td>\n",
       "      <td>NaN</td>\n",
       "      <td>NaN</td>\n",
       "      <td>0</td>\n",
       "    </tr>\n",
       "    <tr>\n",
       "      <td>1</td>\n",
       "      <td>NaN</td>\n",
       "      <td>NaN</td>\n",
       "      <td>4000</td>\n",
       "      <td>4000</td>\n",
       "      <td>4000.0</td>\n",
       "      <td>36 months</td>\n",
       "      <td>9.17</td>\n",
       "      <td>127.52</td>\n",
       "      <td>B</td>\n",
       "      <td>B1</td>\n",
       "      <td>...</td>\n",
       "      <td>NaN</td>\n",
       "      <td>Cash</td>\n",
       "      <td>N</td>\n",
       "      <td>NaN</td>\n",
       "      <td>NaN</td>\n",
       "      <td>NaN</td>\n",
       "      <td>NaN</td>\n",
       "      <td>NaN</td>\n",
       "      <td>NaN</td>\n",
       "      <td>0</td>\n",
       "    </tr>\n",
       "    <tr>\n",
       "      <td>2</td>\n",
       "      <td>NaN</td>\n",
       "      <td>NaN</td>\n",
       "      <td>10000</td>\n",
       "      <td>10000</td>\n",
       "      <td>10000.0</td>\n",
       "      <td>36 months</td>\n",
       "      <td>7.90</td>\n",
       "      <td>312.91</td>\n",
       "      <td>A</td>\n",
       "      <td>A4</td>\n",
       "      <td>...</td>\n",
       "      <td>NaN</td>\n",
       "      <td>Cash</td>\n",
       "      <td>N</td>\n",
       "      <td>NaN</td>\n",
       "      <td>NaN</td>\n",
       "      <td>NaN</td>\n",
       "      <td>NaN</td>\n",
       "      <td>NaN</td>\n",
       "      <td>NaN</td>\n",
       "      <td>0</td>\n",
       "    </tr>\n",
       "    <tr>\n",
       "      <td>3</td>\n",
       "      <td>NaN</td>\n",
       "      <td>NaN</td>\n",
       "      <td>3500</td>\n",
       "      <td>3500</td>\n",
       "      <td>3500.0</td>\n",
       "      <td>36 months</td>\n",
       "      <td>10.47</td>\n",
       "      <td>113.71</td>\n",
       "      <td>B</td>\n",
       "      <td>B2</td>\n",
       "      <td>...</td>\n",
       "      <td>NaN</td>\n",
       "      <td>Cash</td>\n",
       "      <td>N</td>\n",
       "      <td>NaN</td>\n",
       "      <td>NaN</td>\n",
       "      <td>NaN</td>\n",
       "      <td>NaN</td>\n",
       "      <td>NaN</td>\n",
       "      <td>NaN</td>\n",
       "      <td>0</td>\n",
       "    </tr>\n",
       "    <tr>\n",
       "      <td>4</td>\n",
       "      <td>NaN</td>\n",
       "      <td>NaN</td>\n",
       "      <td>12250</td>\n",
       "      <td>12250</td>\n",
       "      <td>12250.0</td>\n",
       "      <td>60 months</td>\n",
       "      <td>26.99</td>\n",
       "      <td>373.99</td>\n",
       "      <td>F</td>\n",
       "      <td>F3</td>\n",
       "      <td>...</td>\n",
       "      <td>NaN</td>\n",
       "      <td>Cash</td>\n",
       "      <td>N</td>\n",
       "      <td>NaN</td>\n",
       "      <td>NaN</td>\n",
       "      <td>NaN</td>\n",
       "      <td>NaN</td>\n",
       "      <td>NaN</td>\n",
       "      <td>NaN</td>\n",
       "      <td>1</td>\n",
       "    </tr>\n",
       "    <tr>\n",
       "      <td>5</td>\n",
       "      <td>NaN</td>\n",
       "      <td>NaN</td>\n",
       "      <td>20000</td>\n",
       "      <td>20000</td>\n",
       "      <td>20000.0</td>\n",
       "      <td>36 months</td>\n",
       "      <td>13.98</td>\n",
       "      <td>683.36</td>\n",
       "      <td>C</td>\n",
       "      <td>C3</td>\n",
       "      <td>...</td>\n",
       "      <td>NaN</td>\n",
       "      <td>Cash</td>\n",
       "      <td>N</td>\n",
       "      <td>NaN</td>\n",
       "      <td>NaN</td>\n",
       "      <td>NaN</td>\n",
       "      <td>NaN</td>\n",
       "      <td>NaN</td>\n",
       "      <td>NaN</td>\n",
       "      <td>1</td>\n",
       "    </tr>\n",
       "    <tr>\n",
       "      <td>6</td>\n",
       "      <td>NaN</td>\n",
       "      <td>NaN</td>\n",
       "      <td>13600</td>\n",
       "      <td>13600</td>\n",
       "      <td>13600.0</td>\n",
       "      <td>36 months</td>\n",
       "      <td>16.99</td>\n",
       "      <td>484.81</td>\n",
       "      <td>D</td>\n",
       "      <td>D1</td>\n",
       "      <td>...</td>\n",
       "      <td>NaN</td>\n",
       "      <td>Cash</td>\n",
       "      <td>N</td>\n",
       "      <td>NaN</td>\n",
       "      <td>NaN</td>\n",
       "      <td>NaN</td>\n",
       "      <td>NaN</td>\n",
       "      <td>NaN</td>\n",
       "      <td>NaN</td>\n",
       "      <td>1</td>\n",
       "    </tr>\n",
       "    <tr>\n",
       "      <td>7</td>\n",
       "      <td>NaN</td>\n",
       "      <td>NaN</td>\n",
       "      <td>10000</td>\n",
       "      <td>10000</td>\n",
       "      <td>10000.0</td>\n",
       "      <td>36 months</td>\n",
       "      <td>8.38</td>\n",
       "      <td>315.12</td>\n",
       "      <td>B</td>\n",
       "      <td>B1</td>\n",
       "      <td>...</td>\n",
       "      <td>NaN</td>\n",
       "      <td>Cash</td>\n",
       "      <td>N</td>\n",
       "      <td>NaN</td>\n",
       "      <td>NaN</td>\n",
       "      <td>NaN</td>\n",
       "      <td>NaN</td>\n",
       "      <td>NaN</td>\n",
       "      <td>NaN</td>\n",
       "      <td>0</td>\n",
       "    </tr>\n",
       "    <tr>\n",
       "      <td>8</td>\n",
       "      <td>NaN</td>\n",
       "      <td>NaN</td>\n",
       "      <td>21600</td>\n",
       "      <td>21600</td>\n",
       "      <td>21600.0</td>\n",
       "      <td>36 months</td>\n",
       "      <td>8.90</td>\n",
       "      <td>685.87</td>\n",
       "      <td>A</td>\n",
       "      <td>A5</td>\n",
       "      <td>...</td>\n",
       "      <td>NaN</td>\n",
       "      <td>Cash</td>\n",
       "      <td>N</td>\n",
       "      <td>NaN</td>\n",
       "      <td>NaN</td>\n",
       "      <td>NaN</td>\n",
       "      <td>NaN</td>\n",
       "      <td>NaN</td>\n",
       "      <td>NaN</td>\n",
       "      <td>0</td>\n",
       "    </tr>\n",
       "    <tr>\n",
       "      <td>9</td>\n",
       "      <td>NaN</td>\n",
       "      <td>NaN</td>\n",
       "      <td>20000</td>\n",
       "      <td>20000</td>\n",
       "      <td>20000.0</td>\n",
       "      <td>36 months</td>\n",
       "      <td>15.05</td>\n",
       "      <td>693.80</td>\n",
       "      <td>C</td>\n",
       "      <td>C4</td>\n",
       "      <td>...</td>\n",
       "      <td>NaN</td>\n",
       "      <td>Cash</td>\n",
       "      <td>N</td>\n",
       "      <td>NaN</td>\n",
       "      <td>NaN</td>\n",
       "      <td>NaN</td>\n",
       "      <td>NaN</td>\n",
       "      <td>NaN</td>\n",
       "      <td>NaN</td>\n",
       "      <td>0</td>\n",
       "    </tr>\n",
       "  </tbody>\n",
       "</table>\n",
       "<p>10 rows × 144 columns</p>\n",
       "</div>"
      ],
      "text/plain": [
       "   id  member_id  loan_amnt  funded_amnt  funded_amnt_inv        term  \\\n",
       "0 NaN        NaN      19875        19875          19850.0   60 months   \n",
       "1 NaN        NaN       4000         4000           4000.0   36 months   \n",
       "2 NaN        NaN      10000        10000          10000.0   36 months   \n",
       "3 NaN        NaN       3500         3500           3500.0   36 months   \n",
       "4 NaN        NaN      12250        12250          12250.0   60 months   \n",
       "5 NaN        NaN      20000        20000          20000.0   36 months   \n",
       "6 NaN        NaN      13600        13600          13600.0   36 months   \n",
       "7 NaN        NaN      10000        10000          10000.0   36 months   \n",
       "8 NaN        NaN      21600        21600          21600.0   36 months   \n",
       "9 NaN        NaN      20000        20000          20000.0   36 months   \n",
       "\n",
       "   int_rate  installment grade sub_grade  ... hardship_last_payment_amount  \\\n",
       "0     20.20       528.79     E        E3  ...                          NaN   \n",
       "1      9.17       127.52     B        B1  ...                          NaN   \n",
       "2      7.90       312.91     A        A4  ...                          NaN   \n",
       "3     10.47       113.71     B        B2  ...                          NaN   \n",
       "4     26.99       373.99     F        F3  ...                          NaN   \n",
       "5     13.98       683.36     C        C3  ...                          NaN   \n",
       "6     16.99       484.81     D        D1  ...                          NaN   \n",
       "7      8.38       315.12     B        B1  ...                          NaN   \n",
       "8      8.90       685.87     A        A5  ...                          NaN   \n",
       "9     15.05       693.80     C        C4  ...                          NaN   \n",
       "\n",
       "  disbursement_method debt_settlement_flag  debt_settlement_flag_date  \\\n",
       "0                Cash                    N                        NaN   \n",
       "1                Cash                    N                        NaN   \n",
       "2                Cash                    N                        NaN   \n",
       "3                Cash                    N                        NaN   \n",
       "4                Cash                    N                        NaN   \n",
       "5                Cash                    N                        NaN   \n",
       "6                Cash                    N                        NaN   \n",
       "7                Cash                    N                        NaN   \n",
       "8                Cash                    N                        NaN   \n",
       "9                Cash                    N                        NaN   \n",
       "\n",
       "  settlement_status settlement_date settlement_amount  settlement_percentage  \\\n",
       "0               NaN             NaN               NaN                    NaN   \n",
       "1               NaN             NaN               NaN                    NaN   \n",
       "2               NaN             NaN               NaN                    NaN   \n",
       "3               NaN             NaN               NaN                    NaN   \n",
       "4               NaN             NaN               NaN                    NaN   \n",
       "5               NaN             NaN               NaN                    NaN   \n",
       "6               NaN             NaN               NaN                    NaN   \n",
       "7               NaN             NaN               NaN                    NaN   \n",
       "8               NaN             NaN               NaN                    NaN   \n",
       "9               NaN             NaN               NaN                    NaN   \n",
       "\n",
       "  settlement_term target  \n",
       "0             NaN      0  \n",
       "1             NaN      0  \n",
       "2             NaN      0  \n",
       "3             NaN      0  \n",
       "4             NaN      1  \n",
       "5             NaN      1  \n",
       "6             NaN      1  \n",
       "7             NaN      0  \n",
       "8             NaN      0  \n",
       "9             NaN      0  \n",
       "\n",
       "[10 rows x 144 columns]"
      ]
     },
     "execution_count": 5,
     "metadata": {},
     "output_type": "execute_result"
    }
   ],
   "source": [
    "loan.head(10)"
   ]
  },
  {
   "cell_type": "markdown",
   "metadata": {},
   "source": [
    "## 2. FILTERING DATA"
   ]
  },
  {
   "cell_type": "markdown",
   "metadata": {},
   "source": [
    "We want to keep the biggest number of variables at the beggining, because the more number of variables you have, the more possibilities you have to generate a better prediction model. In order to continue with that philosophy, we will only delete the variables with a percentage over the 95%."
   ]
  },
  {
   "cell_type": "code",
   "execution_count": 7,
   "metadata": {},
   "outputs": [],
   "source": [
    "NaN = pd.DataFrame(round(loan.isnull().sum()/len(loan.index)*100,2),columns=['null_percent'])"
   ]
  },
  {
   "cell_type": "code",
   "execution_count": 7,
   "metadata": {},
   "outputs": [],
   "source": [
    "Filtro = NaN['null_percent']>95\n",
    "Nulls = NaN[Filtro]\n",
    "loan_filtered = loan.drop(list(Nulls.index), axis=1)"
   ]
  },
  {
   "cell_type": "markdown",
   "metadata": {},
   "source": [
    "We check the dimension of the dataset."
   ]
  },
  {
   "cell_type": "code",
   "execution_count": 8,
   "metadata": {},
   "outputs": [
    {
     "name": "stdout",
     "output_type": "stream",
     "text": [
      "<class 'pandas.core.frame.DataFrame'>\n",
      "RangeIndex: 1000000 entries, 0 to 999999\n",
      "Columns: 106 entries, loan_amnt to target\n",
      "dtypes: float64(79), int64(5), object(22)\n",
      "memory usage: 808.7+ MB\n"
     ]
    }
   ],
   "source": [
    "loan_filtered.info()"
   ]
  },
  {
   "cell_type": "markdown",
   "metadata": {},
   "source": [
    "The percentage of NaN is the following."
   ]
  },
  {
   "cell_type": "code",
   "execution_count": 9,
   "metadata": {},
   "outputs": [
    {
     "data": {
      "text/plain": [
       "desc                              0.905674\n",
       "mths_since_last_record            0.829081\n",
       "mths_since_recent_bc_dlq          0.762649\n",
       "mths_since_last_major_derog       0.736670\n",
       "mths_since_recent_revol_delinq    0.665349\n",
       "il_util                           0.659961\n",
       "mths_since_rcnt_il                0.617459\n",
       "all_util                          0.607041\n",
       "open_acc_6m                       0.606998\n",
       "inq_last_12m                      0.606998\n",
       "total_cu_tl                       0.606998\n",
       "open_rv_12m                       0.606997\n",
       "total_bal_il                      0.606997\n",
       "inq_fi                            0.606997\n",
       "open_act_il                       0.606997\n",
       "open_il_24m                       0.606997\n",
       "open_il_12m                       0.606997\n",
       "max_bal_bc                        0.606997\n",
       "open_rv_24m                       0.606997\n",
       "mths_since_last_delinq            0.503222\n",
       "mths_since_recent_inq             0.131105\n",
       "num_tl_120dpd_2m                  0.090212\n",
       "mo_sin_old_il_acct                0.081025\n",
       "emp_title                         0.064022\n",
       "emp_length                        0.058498\n",
       "pct_tl_nvr_dlq                    0.052914\n",
       "avg_cur_bal                       0.052820\n",
       "num_rev_accts                     0.052800\n",
       "mo_sin_old_rev_tl_op              0.052799\n",
       "tot_cur_bal                       0.052799\n",
       "tot_coll_amt                      0.052799\n",
       "total_rev_hi_lim                  0.052799\n",
       "mo_sin_rcnt_rev_tl_op             0.052799\n",
       "total_il_high_credit_limit        0.052799\n",
       "num_tl_op_past_12m                0.052799\n",
       "num_tl_90g_dpd_24m                0.052799\n",
       "num_tl_30dpd                      0.052799\n",
       "num_op_rev_tl                     0.052799\n",
       "num_il_tl                         0.052799\n",
       "num_bc_tl                         0.052799\n",
       "dtype: float64"
      ]
     },
     "execution_count": 9,
     "metadata": {},
     "output_type": "execute_result"
    }
   ],
   "source": [
    "percentage_NaN = loan_filtered.apply(lambda x: sum(x.isna()/len(loan_filtered)))\n",
    "percentage_NaN.sort_values(ascending = False).head(40)"
   ]
  },
  {
   "cell_type": "markdown",
   "metadata": {},
   "source": [
    "We will proceed with the attribution of the NaN, some of those variables could have a NaN as value due to the inexistance of that type of account, so the correctly assignment will be give them a zero or calculateing the maximum. "
   ]
  },
  {
   "cell_type": "markdown",
   "metadata": {},
   "source": [
    "Values will be zero due to the customer has never done that action or now he/she is not commiting it and if he/she has not that type of account at this moment or or he/she has never had that type of account."
   ]
  },
  {
   "cell_type": "markdown",
   "metadata": {},
   "source": [
    "* 'il_util', ratio of total current balance to high credit/credit limit on all install account. \n",
    "* 'all_util', balance to credit limit on all trades. \n",
    "* 'inq_last_12m', number of credit inquiries in past 12 months. \n",
    "* 'total_cu_tl', number of finance trades.\n",
    "* 'open_acc_6m', number of open trades in last 6 months.\n",
    "* 'open_act_il', number of currently active installment trades.\n",
    "* 'inq_fi', number of personal finance inquiries.\n",
    "* 'max_bal_bc', maximum current balance owed on all revolving accounts.\n",
    "* 'open_rv_12m', number of revolving trades opened in past 12 months.\n",
    "* 'open_rv_24m', number of revolving trades opened in past 24 months.\n",
    "* 'total_bal_il', total current balance of all installment accounts.\n",
    "* 'open_il_12m', number of installment accounts opened in past 12 months.\n",
    "* 'open_il_24m', number of installment accounts opened in past 24 months."
   ]
  },
  {
   "cell_type": "markdown",
   "metadata": {},
   "source": [
    "There are other kind of variables that they will be enconding calculateing the maximum of them."
   ]
  },
  {
   "cell_type": "markdown",
   "metadata": {},
   "source": [
    "* 'mths_since_last_record', the number of months since the last public record.\n",
    "* 'mths_since_recent_bc_dlq', months since most recent bankcard delinquency,\n",
    "* 'mths_since_recent_revol_delinq', months since most recent revolving delinquency.\n",
    "* 'mths_since_rcnt_il', months since most recent installment accounts opened.\n",
    "* 'mths_since_last_delinq', the number of months since the borrower's last delinquency.\n",
    "* 'mths_since_recent_inq', months since most recent inquiry."
   ]
  },
  {
   "cell_type": "code",
   "execution_count": 10,
   "metadata": {},
   "outputs": [],
   "source": [
    "def fill_w_0(data, column):\n",
    "    data[column].fillna(0, inplace = True)"
   ]
  },
  {
   "cell_type": "code",
   "execution_count": 11,
   "metadata": {},
   "outputs": [],
   "source": [
    "def fill_max(data, column):\n",
    "    data[column].fillna(data[column].max(), inplace = True) "
   ]
  },
  {
   "cell_type": "code",
   "execution_count": 12,
   "metadata": {},
   "outputs": [],
   "source": [
    "# refilling with 0\n",
    "\n",
    "fill_w_0(loan_filtered, 'il_util')\n",
    "fill_w_0(loan_filtered, 'all_util')\n",
    "fill_w_0(loan_filtered, 'inq_last_12m')\n",
    "fill_w_0(loan_filtered, 'total_cu_tl')\n",
    "fill_w_0(loan_filtered, 'open_acc_6m')\n",
    "fill_w_0(loan_filtered, 'open_act_il')\n",
    "fill_w_0(loan_filtered, 'inq_fi')\n",
    "fill_w_0(loan_filtered, 'max_bal_bc')\n",
    "fill_w_0(loan_filtered, 'open_rv_12m')\n",
    "fill_w_0(loan_filtered, 'open_rv_24m')\n",
    "fill_w_0(loan_filtered, 'total_bal_il')\n",
    "fill_w_0(loan_filtered, 'open_il_12m')\n",
    "fill_w_0(loan_filtered, 'open_il_24m')"
   ]
  },
  {
   "cell_type": "code",
   "execution_count": 13,
   "metadata": {},
   "outputs": [],
   "source": [
    "# refilling with the maximum\n",
    "\n",
    "fill_max(loan_filtered, 'mths_since_last_record')\n",
    "fill_max(loan_filtered, 'mths_since_recent_bc_dlq')\n",
    "fill_max(loan_filtered, 'mths_since_recent_revol_delinq')\n",
    "fill_max(loan_filtered, 'mths_since_last_major_derog')\n",
    "fill_max(loan_filtered, 'mths_since_rcnt_il')\n",
    "fill_max(loan_filtered, 'mths_since_last_delinq')\n",
    "fill_max(loan_filtered, 'mths_since_recent_inq')"
   ]
  },
  {
   "cell_type": "markdown",
   "metadata": {},
   "source": [
    "Now the percentage of NaN is:"
   ]
  },
  {
   "cell_type": "code",
   "execution_count": 14,
   "metadata": {},
   "outputs": [
    {
     "data": {
      "text/plain": [
       "desc                          0.905674\n",
       "num_tl_120dpd_2m              0.090212\n",
       "mo_sin_old_il_acct            0.081025\n",
       "emp_title                     0.064022\n",
       "emp_length                    0.058498\n",
       "pct_tl_nvr_dlq                0.052914\n",
       "avg_cur_bal                   0.052820\n",
       "num_rev_accts                 0.052800\n",
       "tot_coll_amt                  0.052799\n",
       "mo_sin_old_rev_tl_op          0.052799\n",
       "num_actv_bc_tl                0.052799\n",
       "num_actv_rev_tl               0.052799\n",
       "mo_sin_rcnt_rev_tl_op         0.052799\n",
       "num_bc_tl                     0.052799\n",
       "num_il_tl                     0.052799\n",
       "num_op_rev_tl                 0.052799\n",
       "num_tl_op_past_12m            0.052799\n",
       "num_tl_30dpd                  0.052799\n",
       "num_tl_90g_dpd_24m            0.052799\n",
       "mo_sin_rcnt_tl                0.052799\n",
       "tot_hi_cred_lim               0.052799\n",
       "total_rev_hi_lim              0.052799\n",
       "total_il_high_credit_limit    0.052799\n",
       "tot_cur_bal                   0.052799\n",
       "num_accts_ever_120_pd         0.052799\n",
       "dtype: float64"
      ]
     },
     "execution_count": 14,
     "metadata": {},
     "output_type": "execute_result"
    }
   ],
   "source": [
    "percentage_NaN = loan_filtered.apply(lambda x: sum(x.isna()/len(loan_filtered)))\n",
    "percentage_NaN.sort_values(ascending = False).head(25)"
   ]
  },
  {
   "cell_type": "markdown",
   "metadata": {},
   "source": [
    "Now, we are going to fill de NAs values of the 'desc' column with zeros. We will transform this column in a dummy variable, if we don´t have the description we will obtain a 0, if something was written at the description, we will obtain the value = 1."
   ]
  },
  {
   "cell_type": "code",
   "execution_count": 15,
   "metadata": {},
   "outputs": [
    {
     "data": {
      "text/plain": [
       "0    0.905674\n",
       "1    0.094326\n",
       "Name: desc, dtype: float64"
      ]
     },
     "execution_count": 15,
     "metadata": {},
     "output_type": "execute_result"
    }
   ],
   "source": [
    "loan_filtered['desc'].fillna(0, inplace = True)\n",
    "loan_filtered['desc'] = np.where(loan_filtered['desc'] != 0, 1, 0)\n",
    "loan_filtered['desc'].value_counts(normalize=True)"
   ]
  },
  {
   "cell_type": "markdown",
   "metadata": {},
   "source": [
    "We want to know hoy many samples have we got with NAs, so we will count the number rows with NAs."
   ]
  },
  {
   "cell_type": "code",
   "execution_count": 16,
   "metadata": {},
   "outputs": [
    {
     "data": {
      "text/plain": [
       "191941"
      ]
     },
     "execution_count": 16,
     "metadata": {},
     "output_type": "execute_result"
    }
   ],
   "source": [
    "len(loan_filtered) - len(loan_filtered.dropna())"
   ]
  },
  {
   "cell_type": "markdown",
   "metadata": {},
   "source": [
    "We have around 192 000 of rows with NAs."
   ]
  },
  {
   "cell_type": "markdown",
   "metadata": {},
   "source": [
    "Now we will create 2 distinct dataframes ir order to split numerical and categorical variables, we need to work in a different way with them."
   ]
  },
  {
   "cell_type": "code",
   "execution_count": 17,
   "metadata": {},
   "outputs": [],
   "source": [
    "numericas = loan_filtered.select_dtypes(include = [np.number])\n",
    "categoricas = loan_filtered.select_dtypes(include = [np.object])"
   ]
  },
  {
   "cell_type": "code",
   "execution_count": 18,
   "metadata": {},
   "outputs": [
    {
     "name": "stdout",
     "output_type": "stream",
     "text": [
      "<class 'pandas.core.frame.DataFrame'>\n",
      "RangeIndex: 1000000 entries, 0 to 999999\n",
      "Data columns (total 85 columns):\n",
      "loan_amnt                         1000000 non-null int64\n",
      "funded_amnt                       1000000 non-null int64\n",
      "funded_amnt_inv                   1000000 non-null float64\n",
      "int_rate                          1000000 non-null float64\n",
      "installment                       1000000 non-null float64\n",
      "annual_inc                        999996 non-null float64\n",
      "desc                              1000000 non-null int32\n",
      "dti                               999738 non-null float64\n",
      "delinq_2yrs                       999975 non-null float64\n",
      "inq_last_6mths                    999974 non-null float64\n",
      "mths_since_last_delinq            1000000 non-null float64\n",
      "mths_since_last_record            1000000 non-null float64\n",
      "open_acc                          999975 non-null float64\n",
      "pub_rec                           999975 non-null float64\n",
      "revol_bal                         1000000 non-null int64\n",
      "revol_util                        999324 non-null float64\n",
      "total_acc                         999975 non-null float64\n",
      "out_prncp                         1000000 non-null float64\n",
      "out_prncp_inv                     1000000 non-null float64\n",
      "total_pymnt                       1000000 non-null float64\n",
      "total_pymnt_inv                   1000000 non-null float64\n",
      "total_rec_prncp                   1000000 non-null float64\n",
      "total_rec_int                     1000000 non-null float64\n",
      "total_rec_late_fee                1000000 non-null float64\n",
      "recoveries                        1000000 non-null float64\n",
      "collection_recovery_fee           1000000 non-null float64\n",
      "last_pymnt_amnt                   1000000 non-null float64\n",
      "collections_12_mths_ex_med        999886 non-null float64\n",
      "mths_since_last_major_derog       1000000 non-null float64\n",
      "policy_code                       1000000 non-null int64\n",
      "acc_now_delinq                    999975 non-null float64\n",
      "tot_coll_amt                      947201 non-null float64\n",
      "tot_cur_bal                       947201 non-null float64\n",
      "open_acc_6m                       1000000 non-null float64\n",
      "open_act_il                       1000000 non-null float64\n",
      "open_il_12m                       1000000 non-null float64\n",
      "open_il_24m                       1000000 non-null float64\n",
      "mths_since_rcnt_il                1000000 non-null float64\n",
      "total_bal_il                      1000000 non-null float64\n",
      "il_util                           1000000 non-null float64\n",
      "open_rv_12m                       1000000 non-null float64\n",
      "open_rv_24m                       1000000 non-null float64\n",
      "max_bal_bc                        1000000 non-null float64\n",
      "all_util                          1000000 non-null float64\n",
      "total_rev_hi_lim                  947201 non-null float64\n",
      "inq_fi                            1000000 non-null float64\n",
      "total_cu_tl                       1000000 non-null float64\n",
      "inq_last_12m                      1000000 non-null float64\n",
      "acc_open_past_24mths              962376 non-null float64\n",
      "avg_cur_bal                       947180 non-null float64\n",
      "bc_open_to_buy                    952169 non-null float64\n",
      "bc_util                           951605 non-null float64\n",
      "chargeoff_within_12_mths          999886 non-null float64\n",
      "delinq_amnt                       999975 non-null float64\n",
      "mo_sin_old_il_acct                918975 non-null float64\n",
      "mo_sin_old_rev_tl_op              947201 non-null float64\n",
      "mo_sin_rcnt_rev_tl_op             947201 non-null float64\n",
      "mo_sin_rcnt_tl                    947201 non-null float64\n",
      "mort_acc                          962376 non-null float64\n",
      "mths_since_recent_bc              952870 non-null float64\n",
      "mths_since_recent_bc_dlq          1000000 non-null float64\n",
      "mths_since_recent_inq             1000000 non-null float64\n",
      "mths_since_recent_revol_delinq    1000000 non-null float64\n",
      "num_accts_ever_120_pd             947201 non-null float64\n",
      "num_actv_bc_tl                    947201 non-null float64\n",
      "num_actv_rev_tl                   947201 non-null float64\n",
      "num_bc_sats                       956017 non-null float64\n",
      "num_bc_tl                         947201 non-null float64\n",
      "num_il_tl                         947201 non-null float64\n",
      "num_op_rev_tl                     947201 non-null float64\n",
      "num_rev_accts                     947200 non-null float64\n",
      "num_sats                          956017 non-null float64\n",
      "num_tl_120dpd_2m                  909788 non-null float64\n",
      "num_tl_30dpd                      947201 non-null float64\n",
      "num_tl_90g_dpd_24m                947201 non-null float64\n",
      "num_tl_op_past_12m                947201 non-null float64\n",
      "pct_tl_nvr_dlq                    947086 non-null float64\n",
      "percent_bc_gt_75                  951852 non-null float64\n",
      "pub_rec_bankruptcies              998981 non-null float64\n",
      "tax_liens                         999920 non-null float64\n",
      "tot_hi_cred_lim                   947201 non-null float64\n",
      "total_bal_ex_mort                 962376 non-null float64\n",
      "total_bc_limit                    962376 non-null float64\n",
      "total_il_high_credit_limit        947201 non-null float64\n",
      "target                            1000000 non-null int64\n",
      "dtypes: float64(79), int32(1), int64(5)\n",
      "memory usage: 644.7 MB\n"
     ]
    }
   ],
   "source": [
    "numericas.info()"
   ]
  },
  {
   "cell_type": "code",
   "execution_count": 19,
   "metadata": {},
   "outputs": [
    {
     "name": "stdout",
     "output_type": "stream",
     "text": [
      "<class 'pandas.core.frame.DataFrame'>\n",
      "RangeIndex: 1000000 entries, 0 to 999999\n",
      "Data columns (total 21 columns):\n",
      "term                    1000000 non-null object\n",
      "grade                   1000000 non-null object\n",
      "sub_grade               1000000 non-null object\n",
      "emp_title               935978 non-null object\n",
      "emp_length              941502 non-null object\n",
      "home_ownership          1000000 non-null object\n",
      "verification_status     1000000 non-null object\n",
      "issue_d                 1000000 non-null object\n",
      "pymnt_plan              1000000 non-null object\n",
      "purpose                 1000000 non-null object\n",
      "title                   988058 non-null object\n",
      "zip_code                999999 non-null object\n",
      "addr_state              1000000 non-null object\n",
      "earliest_cr_line        999975 non-null object\n",
      "initial_list_status     1000000 non-null object\n",
      "last_pymnt_d            998154 non-null object\n",
      "last_credit_pull_d      999954 non-null object\n",
      "application_type        1000000 non-null object\n",
      "hardship_flag           1000000 non-null object\n",
      "disbursement_method     1000000 non-null object\n",
      "debt_settlement_flag    1000000 non-null object\n",
      "dtypes: object(21)\n",
      "memory usage: 160.2+ MB\n"
     ]
    }
   ],
   "source": [
    "categoricas.info()"
   ]
  },
  {
   "cell_type": "code",
   "execution_count": 20,
   "metadata": {},
   "outputs": [
    {
     "data": {
      "text/plain": [
       "term                         2\n",
       "grade                        7\n",
       "sub_grade                   35\n",
       "emp_title               299777\n",
       "emp_length                  11\n",
       "home_ownership               6\n",
       "verification_status          3\n",
       "issue_d                    139\n",
       "pymnt_plan                   2\n",
       "purpose                     14\n",
       "title                    49416\n",
       "zip_code                   933\n",
       "addr_state                  51\n",
       "earliest_cr_line           731\n",
       "initial_list_status          2\n",
       "last_pymnt_d               135\n",
       "last_credit_pull_d         140\n",
       "application_type             2\n",
       "hardship_flag                2\n",
       "disbursement_method          2\n",
       "debt_settlement_flag         2\n",
       "dtype: int64"
      ]
     },
     "execution_count": 20,
     "metadata": {},
     "output_type": "execute_result"
    }
   ],
   "source": [
    "categoricas.nunique()"
   ]
  },
  {
   "cell_type": "markdown",
   "metadata": {},
   "source": [
    "We impute the NaN of numeric variables by the mean of each variable."
   ]
  },
  {
   "cell_type": "code",
   "execution_count": 21,
   "metadata": {},
   "outputs": [],
   "source": [
    "numericas = numericas.apply(lambda x: x.replace(\"\", np.nan))\n",
    "numericas = numericas.apply(lambda x: x.fillna(x.mean()))"
   ]
  },
  {
   "cell_type": "code",
   "execution_count": 22,
   "metadata": {},
   "outputs": [
    {
     "name": "stdout",
     "output_type": "stream",
     "text": [
      "<class 'pandas.core.frame.DataFrame'>\n",
      "RangeIndex: 1000000 entries, 0 to 999999\n",
      "Data columns (total 85 columns):\n",
      "loan_amnt                         1000000 non-null int64\n",
      "funded_amnt                       1000000 non-null int64\n",
      "funded_amnt_inv                   1000000 non-null float64\n",
      "int_rate                          1000000 non-null float64\n",
      "installment                       1000000 non-null float64\n",
      "annual_inc                        1000000 non-null float64\n",
      "desc                              1000000 non-null int64\n",
      "dti                               1000000 non-null float64\n",
      "delinq_2yrs                       1000000 non-null float64\n",
      "inq_last_6mths                    1000000 non-null float64\n",
      "mths_since_last_delinq            1000000 non-null float64\n",
      "mths_since_last_record            1000000 non-null float64\n",
      "open_acc                          1000000 non-null float64\n",
      "pub_rec                           1000000 non-null float64\n",
      "revol_bal                         1000000 non-null int64\n",
      "revol_util                        1000000 non-null float64\n",
      "total_acc                         1000000 non-null float64\n",
      "out_prncp                         1000000 non-null float64\n",
      "out_prncp_inv                     1000000 non-null float64\n",
      "total_pymnt                       1000000 non-null float64\n",
      "total_pymnt_inv                   1000000 non-null float64\n",
      "total_rec_prncp                   1000000 non-null float64\n",
      "total_rec_int                     1000000 non-null float64\n",
      "total_rec_late_fee                1000000 non-null float64\n",
      "recoveries                        1000000 non-null float64\n",
      "collection_recovery_fee           1000000 non-null float64\n",
      "last_pymnt_amnt                   1000000 non-null float64\n",
      "collections_12_mths_ex_med        1000000 non-null float64\n",
      "mths_since_last_major_derog       1000000 non-null float64\n",
      "policy_code                       1000000 non-null int64\n",
      "acc_now_delinq                    1000000 non-null float64\n",
      "tot_coll_amt                      1000000 non-null float64\n",
      "tot_cur_bal                       1000000 non-null float64\n",
      "open_acc_6m                       1000000 non-null float64\n",
      "open_act_il                       1000000 non-null float64\n",
      "open_il_12m                       1000000 non-null float64\n",
      "open_il_24m                       1000000 non-null float64\n",
      "mths_since_rcnt_il                1000000 non-null float64\n",
      "total_bal_il                      1000000 non-null float64\n",
      "il_util                           1000000 non-null float64\n",
      "open_rv_12m                       1000000 non-null float64\n",
      "open_rv_24m                       1000000 non-null float64\n",
      "max_bal_bc                        1000000 non-null float64\n",
      "all_util                          1000000 non-null float64\n",
      "total_rev_hi_lim                  1000000 non-null float64\n",
      "inq_fi                            1000000 non-null float64\n",
      "total_cu_tl                       1000000 non-null float64\n",
      "inq_last_12m                      1000000 non-null float64\n",
      "acc_open_past_24mths              1000000 non-null float64\n",
      "avg_cur_bal                       1000000 non-null float64\n",
      "bc_open_to_buy                    1000000 non-null float64\n",
      "bc_util                           1000000 non-null float64\n",
      "chargeoff_within_12_mths          1000000 non-null float64\n",
      "delinq_amnt                       1000000 non-null float64\n",
      "mo_sin_old_il_acct                1000000 non-null float64\n",
      "mo_sin_old_rev_tl_op              1000000 non-null float64\n",
      "mo_sin_rcnt_rev_tl_op             1000000 non-null float64\n",
      "mo_sin_rcnt_tl                    1000000 non-null float64\n",
      "mort_acc                          1000000 non-null float64\n",
      "mths_since_recent_bc              1000000 non-null float64\n",
      "mths_since_recent_bc_dlq          1000000 non-null float64\n",
      "mths_since_recent_inq             1000000 non-null float64\n",
      "mths_since_recent_revol_delinq    1000000 non-null float64\n",
      "num_accts_ever_120_pd             1000000 non-null float64\n",
      "num_actv_bc_tl                    1000000 non-null float64\n",
      "num_actv_rev_tl                   1000000 non-null float64\n",
      "num_bc_sats                       1000000 non-null float64\n",
      "num_bc_tl                         1000000 non-null float64\n",
      "num_il_tl                         1000000 non-null float64\n",
      "num_op_rev_tl                     1000000 non-null float64\n",
      "num_rev_accts                     1000000 non-null float64\n",
      "num_sats                          1000000 non-null float64\n",
      "num_tl_120dpd_2m                  1000000 non-null float64\n",
      "num_tl_30dpd                      1000000 non-null float64\n",
      "num_tl_90g_dpd_24m                1000000 non-null float64\n",
      "num_tl_op_past_12m                1000000 non-null float64\n",
      "pct_tl_nvr_dlq                    1000000 non-null float64\n",
      "percent_bc_gt_75                  1000000 non-null float64\n",
      "pub_rec_bankruptcies              1000000 non-null float64\n",
      "tax_liens                         1000000 non-null float64\n",
      "tot_hi_cred_lim                   1000000 non-null float64\n",
      "total_bal_ex_mort                 1000000 non-null float64\n",
      "total_bc_limit                    1000000 non-null float64\n",
      "total_il_high_credit_limit        1000000 non-null float64\n",
      "target                            1000000 non-null int64\n",
      "dtypes: float64(79), int64(6)\n",
      "memory usage: 648.5 MB\n"
     ]
    }
   ],
   "source": [
    "numericas.info()"
   ]
  },
  {
   "cell_type": "markdown",
   "metadata": {},
   "source": [
    "We impute the NaN of categorical variables by the mode of each variable."
   ]
  },
  {
   "cell_type": "code",
   "execution_count": 23,
   "metadata": {},
   "outputs": [],
   "source": [
    "categoricas = categoricas.apply(lambda x: x.replace(\"\", np.nan))\n",
    "categoricas = categoricas.apply(lambda x: x.fillna(x.value_counts().index[0]))"
   ]
  },
  {
   "cell_type": "code",
   "execution_count": 24,
   "metadata": {},
   "outputs": [
    {
     "name": "stdout",
     "output_type": "stream",
     "text": [
      "<class 'pandas.core.frame.DataFrame'>\n",
      "RangeIndex: 1000000 entries, 0 to 999999\n",
      "Data columns (total 21 columns):\n",
      "term                    1000000 non-null object\n",
      "grade                   1000000 non-null object\n",
      "sub_grade               1000000 non-null object\n",
      "emp_title               1000000 non-null object\n",
      "emp_length              1000000 non-null object\n",
      "home_ownership          1000000 non-null object\n",
      "verification_status     1000000 non-null object\n",
      "issue_d                 1000000 non-null object\n",
      "pymnt_plan              1000000 non-null object\n",
      "purpose                 1000000 non-null object\n",
      "title                   1000000 non-null object\n",
      "zip_code                1000000 non-null object\n",
      "addr_state              1000000 non-null object\n",
      "earliest_cr_line        1000000 non-null object\n",
      "initial_list_status     1000000 non-null object\n",
      "last_pymnt_d            1000000 non-null object\n",
      "last_credit_pull_d      1000000 non-null object\n",
      "application_type        1000000 non-null object\n",
      "hardship_flag           1000000 non-null object\n",
      "disbursement_method     1000000 non-null object\n",
      "debt_settlement_flag    1000000 non-null object\n",
      "dtypes: object(21)\n",
      "memory usage: 160.2+ MB\n"
     ]
    }
   ],
   "source": [
    "categoricas.info()"
   ]
  },
  {
   "cell_type": "code",
   "execution_count": 25,
   "metadata": {},
   "outputs": [
    {
     "data": {
      "text/plain": [
       "term                         2\n",
       "grade                        7\n",
       "sub_grade                   35\n",
       "emp_title               299777\n",
       "emp_length                  11\n",
       "home_ownership               6\n",
       "verification_status          3\n",
       "issue_d                    139\n",
       "pymnt_plan                   2\n",
       "purpose                     14\n",
       "title                    49416\n",
       "zip_code                   933\n",
       "addr_state                  51\n",
       "earliest_cr_line           731\n",
       "initial_list_status          2\n",
       "last_pymnt_d               135\n",
       "last_credit_pull_d         140\n",
       "application_type             2\n",
       "hardship_flag                2\n",
       "disbursement_method          2\n",
       "debt_settlement_flag         2\n",
       "dtype: int64"
      ]
     },
     "execution_count": 25,
     "metadata": {},
     "output_type": "execute_result"
    }
   ],
   "source": [
    "categoricas.nunique()"
   ]
  },
  {
   "cell_type": "code",
   "execution_count": 26,
   "metadata": {},
   "outputs": [],
   "source": [
    "loan_filtered = pd.concat([numericas, categoricas], axis = 1)"
   ]
  },
  {
   "cell_type": "code",
   "execution_count": 27,
   "metadata": {},
   "outputs": [
    {
     "data": {
      "text/html": [
       "<div>\n",
       "<style scoped>\n",
       "    .dataframe tbody tr th:only-of-type {\n",
       "        vertical-align: middle;\n",
       "    }\n",
       "\n",
       "    .dataframe tbody tr th {\n",
       "        vertical-align: top;\n",
       "    }\n",
       "\n",
       "    .dataframe thead th {\n",
       "        text-align: right;\n",
       "    }\n",
       "</style>\n",
       "<table border=\"1\" class=\"dataframe\">\n",
       "  <thead>\n",
       "    <tr style=\"text-align: right;\">\n",
       "      <th></th>\n",
       "      <th>loan_amnt</th>\n",
       "      <th>funded_amnt</th>\n",
       "      <th>funded_amnt_inv</th>\n",
       "      <th>int_rate</th>\n",
       "      <th>installment</th>\n",
       "      <th>annual_inc</th>\n",
       "      <th>desc</th>\n",
       "      <th>dti</th>\n",
       "      <th>delinq_2yrs</th>\n",
       "      <th>inq_last_6mths</th>\n",
       "      <th>...</th>\n",
       "      <th>zip_code</th>\n",
       "      <th>addr_state</th>\n",
       "      <th>earliest_cr_line</th>\n",
       "      <th>initial_list_status</th>\n",
       "      <th>last_pymnt_d</th>\n",
       "      <th>last_credit_pull_d</th>\n",
       "      <th>application_type</th>\n",
       "      <th>hardship_flag</th>\n",
       "      <th>disbursement_method</th>\n",
       "      <th>debt_settlement_flag</th>\n",
       "    </tr>\n",
       "  </thead>\n",
       "  <tbody>\n",
       "    <tr>\n",
       "      <td>0</td>\n",
       "      <td>19875</td>\n",
       "      <td>19875</td>\n",
       "      <td>19850.0</td>\n",
       "      <td>20.20</td>\n",
       "      <td>528.79</td>\n",
       "      <td>62000.0</td>\n",
       "      <td>0</td>\n",
       "      <td>19.84</td>\n",
       "      <td>1.0</td>\n",
       "      <td>1.0</td>\n",
       "      <td>...</td>\n",
       "      <td>729xx</td>\n",
       "      <td>AR</td>\n",
       "      <td>Aug-2004</td>\n",
       "      <td>f</td>\n",
       "      <td>Jun-2016</td>\n",
       "      <td>Oct-2018</td>\n",
       "      <td>Individual</td>\n",
       "      <td>N</td>\n",
       "      <td>Cash</td>\n",
       "      <td>N</td>\n",
       "    </tr>\n",
       "    <tr>\n",
       "      <td>1</td>\n",
       "      <td>4000</td>\n",
       "      <td>4000</td>\n",
       "      <td>4000.0</td>\n",
       "      <td>9.17</td>\n",
       "      <td>127.52</td>\n",
       "      <td>35000.0</td>\n",
       "      <td>0</td>\n",
       "      <td>6.76</td>\n",
       "      <td>0.0</td>\n",
       "      <td>0.0</td>\n",
       "      <td>...</td>\n",
       "      <td>071xx</td>\n",
       "      <td>NJ</td>\n",
       "      <td>Jan-2011</td>\n",
       "      <td>w</td>\n",
       "      <td>Feb-2016</td>\n",
       "      <td>Mar-2016</td>\n",
       "      <td>Individual</td>\n",
       "      <td>N</td>\n",
       "      <td>Cash</td>\n",
       "      <td>N</td>\n",
       "    </tr>\n",
       "    <tr>\n",
       "      <td>2</td>\n",
       "      <td>10000</td>\n",
       "      <td>10000</td>\n",
       "      <td>10000.0</td>\n",
       "      <td>7.90</td>\n",
       "      <td>312.91</td>\n",
       "      <td>60000.0</td>\n",
       "      <td>1</td>\n",
       "      <td>5.80</td>\n",
       "      <td>0.0</td>\n",
       "      <td>0.0</td>\n",
       "      <td>...</td>\n",
       "      <td>750xx</td>\n",
       "      <td>TX</td>\n",
       "      <td>Jul-2005</td>\n",
       "      <td>f</td>\n",
       "      <td>Mar-2013</td>\n",
       "      <td>Jul-2015</td>\n",
       "      <td>Individual</td>\n",
       "      <td>N</td>\n",
       "      <td>Cash</td>\n",
       "      <td>N</td>\n",
       "    </tr>\n",
       "    <tr>\n",
       "      <td>3</td>\n",
       "      <td>3500</td>\n",
       "      <td>3500</td>\n",
       "      <td>3500.0</td>\n",
       "      <td>10.47</td>\n",
       "      <td>113.71</td>\n",
       "      <td>75500.0</td>\n",
       "      <td>0</td>\n",
       "      <td>16.80</td>\n",
       "      <td>0.0</td>\n",
       "      <td>1.0</td>\n",
       "      <td>...</td>\n",
       "      <td>750xx</td>\n",
       "      <td>TX</td>\n",
       "      <td>Dec-2005</td>\n",
       "      <td>w</td>\n",
       "      <td>Nov-2018</td>\n",
       "      <td>Dec-2018</td>\n",
       "      <td>Individual</td>\n",
       "      <td>N</td>\n",
       "      <td>Cash</td>\n",
       "      <td>N</td>\n",
       "    </tr>\n",
       "    <tr>\n",
       "      <td>4</td>\n",
       "      <td>12250</td>\n",
       "      <td>12250</td>\n",
       "      <td>12250.0</td>\n",
       "      <td>26.99</td>\n",
       "      <td>373.99</td>\n",
       "      <td>58803.0</td>\n",
       "      <td>0</td>\n",
       "      <td>26.06</td>\n",
       "      <td>0.0</td>\n",
       "      <td>0.0</td>\n",
       "      <td>...</td>\n",
       "      <td>301xx</td>\n",
       "      <td>GA</td>\n",
       "      <td>Nov-2008</td>\n",
       "      <td>w</td>\n",
       "      <td>Feb-2018</td>\n",
       "      <td>Oct-2018</td>\n",
       "      <td>Individual</td>\n",
       "      <td>N</td>\n",
       "      <td>Cash</td>\n",
       "      <td>N</td>\n",
       "    </tr>\n",
       "    <tr>\n",
       "      <td>5</td>\n",
       "      <td>20000</td>\n",
       "      <td>20000</td>\n",
       "      <td>20000.0</td>\n",
       "      <td>13.98</td>\n",
       "      <td>683.36</td>\n",
       "      <td>125000.0</td>\n",
       "      <td>0</td>\n",
       "      <td>20.98</td>\n",
       "      <td>3.0</td>\n",
       "      <td>4.0</td>\n",
       "      <td>...</td>\n",
       "      <td>330xx</td>\n",
       "      <td>FL</td>\n",
       "      <td>Apr-2001</td>\n",
       "      <td>f</td>\n",
       "      <td>Jul-2014</td>\n",
       "      <td>Oct-2016</td>\n",
       "      <td>Individual</td>\n",
       "      <td>N</td>\n",
       "      <td>Cash</td>\n",
       "      <td>N</td>\n",
       "    </tr>\n",
       "    <tr>\n",
       "      <td>6</td>\n",
       "      <td>13600</td>\n",
       "      <td>13600</td>\n",
       "      <td>13600.0</td>\n",
       "      <td>16.99</td>\n",
       "      <td>484.81</td>\n",
       "      <td>47000.0</td>\n",
       "      <td>0</td>\n",
       "      <td>23.17</td>\n",
       "      <td>0.0</td>\n",
       "      <td>1.0</td>\n",
       "      <td>...</td>\n",
       "      <td>430xx</td>\n",
       "      <td>OH</td>\n",
       "      <td>Jul-2005</td>\n",
       "      <td>w</td>\n",
       "      <td>Dec-2016</td>\n",
       "      <td>Feb-2017</td>\n",
       "      <td>Individual</td>\n",
       "      <td>N</td>\n",
       "      <td>Cash</td>\n",
       "      <td>N</td>\n",
       "    </tr>\n",
       "    <tr>\n",
       "      <td>7</td>\n",
       "      <td>10000</td>\n",
       "      <td>10000</td>\n",
       "      <td>10000.0</td>\n",
       "      <td>8.38</td>\n",
       "      <td>315.12</td>\n",
       "      <td>45000.0</td>\n",
       "      <td>0</td>\n",
       "      <td>3.65</td>\n",
       "      <td>0.0</td>\n",
       "      <td>0.0</td>\n",
       "      <td>...</td>\n",
       "      <td>339xx</td>\n",
       "      <td>FL</td>\n",
       "      <td>Oct-2007</td>\n",
       "      <td>w</td>\n",
       "      <td>Oct-2018</td>\n",
       "      <td>Feb-2019</td>\n",
       "      <td>Individual</td>\n",
       "      <td>N</td>\n",
       "      <td>Cash</td>\n",
       "      <td>N</td>\n",
       "    </tr>\n",
       "    <tr>\n",
       "      <td>8</td>\n",
       "      <td>21600</td>\n",
       "      <td>21600</td>\n",
       "      <td>21600.0</td>\n",
       "      <td>8.90</td>\n",
       "      <td>685.87</td>\n",
       "      <td>138000.0</td>\n",
       "      <td>0</td>\n",
       "      <td>18.16</td>\n",
       "      <td>0.0</td>\n",
       "      <td>0.0</td>\n",
       "      <td>...</td>\n",
       "      <td>705xx</td>\n",
       "      <td>LA</td>\n",
       "      <td>Jun-1987</td>\n",
       "      <td>w</td>\n",
       "      <td>Dec-2015</td>\n",
       "      <td>Feb-2019</td>\n",
       "      <td>Individual</td>\n",
       "      <td>N</td>\n",
       "      <td>Cash</td>\n",
       "      <td>N</td>\n",
       "    </tr>\n",
       "    <tr>\n",
       "      <td>9</td>\n",
       "      <td>20000</td>\n",
       "      <td>20000</td>\n",
       "      <td>20000.0</td>\n",
       "      <td>15.05</td>\n",
       "      <td>693.80</td>\n",
       "      <td>105000.0</td>\n",
       "      <td>0</td>\n",
       "      <td>16.22</td>\n",
       "      <td>0.0</td>\n",
       "      <td>0.0</td>\n",
       "      <td>...</td>\n",
       "      <td>072xx</td>\n",
       "      <td>NJ</td>\n",
       "      <td>Mar-2006</td>\n",
       "      <td>f</td>\n",
       "      <td>Oct-2018</td>\n",
       "      <td>Oct-2018</td>\n",
       "      <td>Individual</td>\n",
       "      <td>N</td>\n",
       "      <td>Cash</td>\n",
       "      <td>N</td>\n",
       "    </tr>\n",
       "  </tbody>\n",
       "</table>\n",
       "<p>10 rows × 106 columns</p>\n",
       "</div>"
      ],
      "text/plain": [
       "   loan_amnt  funded_amnt  funded_amnt_inv  int_rate  installment  annual_inc  \\\n",
       "0      19875        19875          19850.0     20.20       528.79     62000.0   \n",
       "1       4000         4000           4000.0      9.17       127.52     35000.0   \n",
       "2      10000        10000          10000.0      7.90       312.91     60000.0   \n",
       "3       3500         3500           3500.0     10.47       113.71     75500.0   \n",
       "4      12250        12250          12250.0     26.99       373.99     58803.0   \n",
       "5      20000        20000          20000.0     13.98       683.36    125000.0   \n",
       "6      13600        13600          13600.0     16.99       484.81     47000.0   \n",
       "7      10000        10000          10000.0      8.38       315.12     45000.0   \n",
       "8      21600        21600          21600.0      8.90       685.87    138000.0   \n",
       "9      20000        20000          20000.0     15.05       693.80    105000.0   \n",
       "\n",
       "   desc    dti  delinq_2yrs  inq_last_6mths  ...  zip_code  addr_state  \\\n",
       "0     0  19.84          1.0             1.0  ...     729xx          AR   \n",
       "1     0   6.76          0.0             0.0  ...     071xx          NJ   \n",
       "2     1   5.80          0.0             0.0  ...     750xx          TX   \n",
       "3     0  16.80          0.0             1.0  ...     750xx          TX   \n",
       "4     0  26.06          0.0             0.0  ...     301xx          GA   \n",
       "5     0  20.98          3.0             4.0  ...     330xx          FL   \n",
       "6     0  23.17          0.0             1.0  ...     430xx          OH   \n",
       "7     0   3.65          0.0             0.0  ...     339xx          FL   \n",
       "8     0  18.16          0.0             0.0  ...     705xx          LA   \n",
       "9     0  16.22          0.0             0.0  ...     072xx          NJ   \n",
       "\n",
       "   earliest_cr_line  initial_list_status  last_pymnt_d  last_credit_pull_d  \\\n",
       "0          Aug-2004                    f      Jun-2016            Oct-2018   \n",
       "1          Jan-2011                    w      Feb-2016            Mar-2016   \n",
       "2          Jul-2005                    f      Mar-2013            Jul-2015   \n",
       "3          Dec-2005                    w      Nov-2018            Dec-2018   \n",
       "4          Nov-2008                    w      Feb-2018            Oct-2018   \n",
       "5          Apr-2001                    f      Jul-2014            Oct-2016   \n",
       "6          Jul-2005                    w      Dec-2016            Feb-2017   \n",
       "7          Oct-2007                    w      Oct-2018            Feb-2019   \n",
       "8          Jun-1987                    w      Dec-2015            Feb-2019   \n",
       "9          Mar-2006                    f      Oct-2018            Oct-2018   \n",
       "\n",
       "   application_type  hardship_flag  disbursement_method  debt_settlement_flag  \n",
       "0        Individual              N                 Cash                     N  \n",
       "1        Individual              N                 Cash                     N  \n",
       "2        Individual              N                 Cash                     N  \n",
       "3        Individual              N                 Cash                     N  \n",
       "4        Individual              N                 Cash                     N  \n",
       "5        Individual              N                 Cash                     N  \n",
       "6        Individual              N                 Cash                     N  \n",
       "7        Individual              N                 Cash                     N  \n",
       "8        Individual              N                 Cash                     N  \n",
       "9        Individual              N                 Cash                     N  \n",
       "\n",
       "[10 rows x 106 columns]"
      ]
     },
     "execution_count": 27,
     "metadata": {},
     "output_type": "execute_result"
    }
   ],
   "source": [
    "loan_filtered.head(10)"
   ]
  },
  {
   "cell_type": "markdown",
   "metadata": {},
   "source": [
    "There are some variables wich have a lot of categories, more than we can deal with, so we will delete them. Another variables, due to a research, we discover that give us information wich we would not have when we were going to give a loan."
   ]
  },
  {
   "cell_type": "code",
   "execution_count": 28,
   "metadata": {},
   "outputs": [],
   "source": [
    "del loan_filtered['sub_grade']\n",
    "del loan_filtered['emp_title']\n",
    "del loan_filtered['issue_d']\n",
    "del loan_filtered['zip_code']\n",
    "del loan_filtered['addr_state']\n",
    "del loan_filtered['funded_amnt']\n",
    "del loan_filtered['funded_amnt_inv']\n",
    "del loan_filtered['title']\n",
    "del loan_filtered['last_credit_pull_d']\n",
    "del loan_filtered['last_pymnt_d']\n",
    "del loan_filtered['debt_settlement_flag']\n",
    "del loan_filtered['total_pymnt']\n",
    "del loan_filtered['total_pymnt_inv']\n",
    "del loan_filtered['total_rec_int']\n",
    "del loan_filtered['total_rec_late_fee']\n",
    "del loan_filtered['total_rec_prncp']\n",
    "del loan_filtered['last_pymnt_amnt']\n",
    "del loan_filtered['out_prncp']\n",
    "del loan_filtered['out_prncp_inv']\n",
    "del loan_filtered['hardship_flag']\n",
    "del loan_filtered['pymnt_plan']"
   ]
  },
  {
   "cell_type": "code",
   "execution_count": 29,
   "metadata": {},
   "outputs": [
    {
     "name": "stdout",
     "output_type": "stream",
     "text": [
      "<class 'pandas.core.frame.DataFrame'>\n",
      "RangeIndex: 1000000 entries, 0 to 999999\n",
      "Data columns (total 85 columns):\n",
      "loan_amnt                         1000000 non-null int64\n",
      "int_rate                          1000000 non-null float64\n",
      "installment                       1000000 non-null float64\n",
      "annual_inc                        1000000 non-null float64\n",
      "desc                              1000000 non-null int64\n",
      "dti                               1000000 non-null float64\n",
      "delinq_2yrs                       1000000 non-null float64\n",
      "inq_last_6mths                    1000000 non-null float64\n",
      "mths_since_last_delinq            1000000 non-null float64\n",
      "mths_since_last_record            1000000 non-null float64\n",
      "open_acc                          1000000 non-null float64\n",
      "pub_rec                           1000000 non-null float64\n",
      "revol_bal                         1000000 non-null int64\n",
      "revol_util                        1000000 non-null float64\n",
      "total_acc                         1000000 non-null float64\n",
      "recoveries                        1000000 non-null float64\n",
      "collection_recovery_fee           1000000 non-null float64\n",
      "collections_12_mths_ex_med        1000000 non-null float64\n",
      "mths_since_last_major_derog       1000000 non-null float64\n",
      "policy_code                       1000000 non-null int64\n",
      "acc_now_delinq                    1000000 non-null float64\n",
      "tot_coll_amt                      1000000 non-null float64\n",
      "tot_cur_bal                       1000000 non-null float64\n",
      "open_acc_6m                       1000000 non-null float64\n",
      "open_act_il                       1000000 non-null float64\n",
      "open_il_12m                       1000000 non-null float64\n",
      "open_il_24m                       1000000 non-null float64\n",
      "mths_since_rcnt_il                1000000 non-null float64\n",
      "total_bal_il                      1000000 non-null float64\n",
      "il_util                           1000000 non-null float64\n",
      "open_rv_12m                       1000000 non-null float64\n",
      "open_rv_24m                       1000000 non-null float64\n",
      "max_bal_bc                        1000000 non-null float64\n",
      "all_util                          1000000 non-null float64\n",
      "total_rev_hi_lim                  1000000 non-null float64\n",
      "inq_fi                            1000000 non-null float64\n",
      "total_cu_tl                       1000000 non-null float64\n",
      "inq_last_12m                      1000000 non-null float64\n",
      "acc_open_past_24mths              1000000 non-null float64\n",
      "avg_cur_bal                       1000000 non-null float64\n",
      "bc_open_to_buy                    1000000 non-null float64\n",
      "bc_util                           1000000 non-null float64\n",
      "chargeoff_within_12_mths          1000000 non-null float64\n",
      "delinq_amnt                       1000000 non-null float64\n",
      "mo_sin_old_il_acct                1000000 non-null float64\n",
      "mo_sin_old_rev_tl_op              1000000 non-null float64\n",
      "mo_sin_rcnt_rev_tl_op             1000000 non-null float64\n",
      "mo_sin_rcnt_tl                    1000000 non-null float64\n",
      "mort_acc                          1000000 non-null float64\n",
      "mths_since_recent_bc              1000000 non-null float64\n",
      "mths_since_recent_bc_dlq          1000000 non-null float64\n",
      "mths_since_recent_inq             1000000 non-null float64\n",
      "mths_since_recent_revol_delinq    1000000 non-null float64\n",
      "num_accts_ever_120_pd             1000000 non-null float64\n",
      "num_actv_bc_tl                    1000000 non-null float64\n",
      "num_actv_rev_tl                   1000000 non-null float64\n",
      "num_bc_sats                       1000000 non-null float64\n",
      "num_bc_tl                         1000000 non-null float64\n",
      "num_il_tl                         1000000 non-null float64\n",
      "num_op_rev_tl                     1000000 non-null float64\n",
      "num_rev_accts                     1000000 non-null float64\n",
      "num_sats                          1000000 non-null float64\n",
      "num_tl_120dpd_2m                  1000000 non-null float64\n",
      "num_tl_30dpd                      1000000 non-null float64\n",
      "num_tl_90g_dpd_24m                1000000 non-null float64\n",
      "num_tl_op_past_12m                1000000 non-null float64\n",
      "pct_tl_nvr_dlq                    1000000 non-null float64\n",
      "percent_bc_gt_75                  1000000 non-null float64\n",
      "pub_rec_bankruptcies              1000000 non-null float64\n",
      "tax_liens                         1000000 non-null float64\n",
      "tot_hi_cred_lim                   1000000 non-null float64\n",
      "total_bal_ex_mort                 1000000 non-null float64\n",
      "total_bc_limit                    1000000 non-null float64\n",
      "total_il_high_credit_limit        1000000 non-null float64\n",
      "target                            1000000 non-null int64\n",
      "term                              1000000 non-null object\n",
      "grade                             1000000 non-null object\n",
      "emp_length                        1000000 non-null object\n",
      "home_ownership                    1000000 non-null object\n",
      "verification_status               1000000 non-null object\n",
      "purpose                           1000000 non-null object\n",
      "earliest_cr_line                  1000000 non-null object\n",
      "initial_list_status               1000000 non-null object\n",
      "application_type                  1000000 non-null object\n",
      "disbursement_method               1000000 non-null object\n",
      "dtypes: float64(70), int64(5), object(10)\n",
      "memory usage: 648.5+ MB\n"
     ]
    }
   ],
   "source": [
    "loan_filtered.info()"
   ]
  },
  {
   "cell_type": "markdown",
   "metadata": {},
   "source": [
    "There is a variable which we consider of vital importance, 'earliest_cr_line' indicates when the borrower's credit file started, the longer is the credit file, the more we can trust in the borrower."
   ]
  },
  {
   "cell_type": "code",
   "execution_count": 30,
   "metadata": {},
   "outputs": [],
   "source": [
    "x = loan_filtered['earliest_cr_line'] # we do a copy"
   ]
  },
  {
   "cell_type": "code",
   "execution_count": 31,
   "metadata": {},
   "outputs": [],
   "source": [
    "x = x.astype(str) # convert to string"
   ]
  },
  {
   "cell_type": "code",
   "execution_count": 32,
   "metadata": {},
   "outputs": [
    {
     "data": {
      "text/plain": [
       "1000000"
      ]
     },
     "execution_count": 32,
     "metadata": {},
     "output_type": "execute_result"
    }
   ],
   "source": [
    "len(x) # show the length"
   ]
  },
  {
   "cell_type": "code",
   "execution_count": 33,
   "metadata": {},
   "outputs": [],
   "source": [
    "x = x.map(lambda x: x.split('-')) # splitting by the '-'"
   ]
  },
  {
   "cell_type": "code",
   "execution_count": 34,
   "metadata": {},
   "outputs": [
    {
     "data": {
      "text/plain": [
       "['Jul', '2005']"
      ]
     },
     "execution_count": 34,
     "metadata": {},
     "output_type": "execute_result"
    }
   ],
   "source": [
    "x.iloc[2] # show a sample"
   ]
  },
  {
   "cell_type": "code",
   "execution_count": 35,
   "metadata": {},
   "outputs": [
    {
     "data": {
      "text/plain": [
       "['Sep', '2015']"
      ]
     },
     "execution_count": 35,
     "metadata": {},
     "output_type": "execute_result"
    }
   ],
   "source": [
    "x.max()"
   ]
  },
  {
   "cell_type": "code",
   "execution_count": 36,
   "metadata": {},
   "outputs": [],
   "source": [
    "# we calculate the length of the credit file substracting the currently year and the year the credit file was born\n",
    "\n",
    "x = x.map(lambda x: 2019 - int(x[1]))"
   ]
  },
  {
   "cell_type": "code",
   "execution_count": 37,
   "metadata": {},
   "outputs": [
    {
     "data": {
      "text/plain": [
       "0         15\n",
       "1          8\n",
       "2         14\n",
       "3         14\n",
       "4         11\n",
       "          ..\n",
       "999995    22\n",
       "999996    18\n",
       "999997    29\n",
       "999998    32\n",
       "999999    31\n",
       "Name: earliest_cr_line, Length: 1000000, dtype: int64"
      ]
     },
     "execution_count": 37,
     "metadata": {},
     "output_type": "execute_result"
    }
   ],
   "source": [
    "x # the final result"
   ]
  },
  {
   "cell_type": "code",
   "execution_count": 38,
   "metadata": {},
   "outputs": [
    {
     "data": {
      "image/png": "[encoded data removed]",
      "text/plain": [
       "<Figure size 432x288 with 1 Axes>"
      ]
     },
     "metadata": {
      "needs_background": "light"
     },
     "output_type": "display_data"
    }
   ],
   "source": [
    "# histogram of credit file years\n",
    "\n",
    "sns.distplot(x);"
   ]
  },
  {
   "cell_type": "code",
   "execution_count": 39,
   "metadata": {},
   "outputs": [],
   "source": [
    "loan_filtered['earliest_cr_line'] = x # replacing the variable, now is numeric\n",
    "del x"
   ]
  },
  {
   "cell_type": "markdown",
   "metadata": {},
   "source": [
    "'home_ownership' has a lot of categories, when we will go to make dummies it will return us so many variables, in order to prevent it, we will reduce the dimension of this variable rencoding it."
   ]
  },
  {
   "cell_type": "code",
   "execution_count": 40,
   "metadata": {},
   "outputs": [
    {
     "data": {
      "text/plain": [
       "MORTGAGE    493699\n",
       "RENT        398309\n",
       "OWN         107600\n",
       "ANY            209\n",
       "OTHER          141\n",
       "NONE            42\n",
       "Name: home_ownership, dtype: int64"
      ]
     },
     "execution_count": 40,
     "metadata": {},
     "output_type": "execute_result"
    }
   ],
   "source": [
    "loan_filtered['home_ownership'].value_counts()"
   ]
  },
  {
   "cell_type": "code",
   "execution_count": 41,
   "metadata": {},
   "outputs": [],
   "source": [
    "loan_filtered['home_ownership'] = np.where((loan_filtered['home_ownership'] != 'OWN') & (loan_filtered['home_ownership'] != 'RENT'),\n",
    "                                    'OTHER', loan_filtered['home_ownership'].values)"
   ]
  },
  {
   "cell_type": "code",
   "execution_count": 42,
   "metadata": {},
   "outputs": [
    {
     "data": {
      "text/plain": [
       "OTHER    494091\n",
       "RENT     398309\n",
       "OWN      107600\n",
       "Name: home_ownership, dtype: int64"
      ]
     },
     "execution_count": 42,
     "metadata": {},
     "output_type": "execute_result"
    }
   ],
   "source": [
    "loan_filtered['home_ownership'].value_counts()"
   ]
  },
  {
   "cell_type": "code",
   "execution_count": 43,
   "metadata": {},
   "outputs": [
    {
     "data": {
      "image/png": "[encoded data removed]",
      "text/plain": [
       "<Figure size 432x288 with 1 Axes>"
      ]
     },
     "metadata": {
      "needs_background": "light"
     },
     "output_type": "display_data"
    }
   ],
   "source": [
    "# barplot of homeownership\n",
    "\n",
    "height = loan_filtered['home_ownership'].value_counts()\n",
    "bars = ('OTHER', 'RENT', 'OWN')\n",
    "y_pos = np.arange(len(bars))\n",
    "\n",
    "# Create horizontal bars\n",
    "plt.barh(y_pos, height)\n",
    " \n",
    "# Create names on the y-axis\n",
    "plt.yticks(y_pos, bars)\n",
    " \n",
    "# Show graphic\n",
    "plt.show()"
   ]
  },
  {
   "cell_type": "markdown",
   "metadata": {},
   "source": [
    "The next step will be rencoding the variable 'emp_length', now we have 11 different values, we are going to rencode the variable ir order to have only 2 different values:\n",
    "* From less than 1 year to 5 years.\n",
    "* From 6 years to 10 years or more."
   ]
  },
  {
   "cell_type": "code",
   "execution_count": 44,
   "metadata": {},
   "outputs": [
    {
     "data": {
      "text/plain": [
       "10+ years    386411\n",
       "2 years       90568\n",
       "< 1 year      80738\n",
       "3 years       80173\n",
       "1 year        65798\n",
       "5 years       62543\n",
       "4 years       59661\n",
       "6 years       46767\n",
       "8 years       45173\n",
       "7 years       44401\n",
       "9 years       37767\n",
       "Name: emp_length, dtype: int64"
      ]
     },
     "execution_count": 44,
     "metadata": {},
     "output_type": "execute_result"
    }
   ],
   "source": [
    "loan_filtered['emp_length'].value_counts()"
   ]
  },
  {
   "cell_type": "code",
   "execution_count": 45,
   "metadata": {},
   "outputs": [],
   "source": [
    "loan_filtered['emp_length'] = np.where((loan_filtered['emp_length'] == '< 1 year') | \n",
    "                                       (loan_filtered['emp_length'] == '1 year') |\n",
    "                                       (loan_filtered['emp_length'] == '2 years') | \n",
    "                                       (loan_filtered['emp_length'] == '3 years') | \n",
    "                                       (loan_filtered['emp_length'] == '4 years') | \n",
    "                                       (loan_filtered['emp_length'] == '5 years'), \n",
    "                                       '<= 5 years', '6+ years')"
   ]
  },
  {
   "cell_type": "markdown",
   "metadata": {},
   "source": [
    "We view the new values."
   ]
  },
  {
   "cell_type": "code",
   "execution_count": 46,
   "metadata": {},
   "outputs": [
    {
     "data": {
      "text/plain": [
       "6+ years      560519\n",
       "<= 5 years    439481\n",
       "Name: emp_length, dtype: int64"
      ]
     },
     "execution_count": 46,
     "metadata": {},
     "output_type": "execute_result"
    }
   ],
   "source": [
    "loan_filtered['emp_length'].value_counts()"
   ]
  },
  {
   "cell_type": "code",
   "execution_count": 47,
   "metadata": {},
   "outputs": [
    {
     "data": {
      "image/png": "[encoded data removed]",
      "text/plain": [
       "<Figure size 432x288 with 1 Axes>"
      ]
     },
     "metadata": {
      "needs_background": "light"
     },
     "output_type": "display_data"
    }
   ],
   "source": [
    "# barplot of emp_length\n",
    "\n",
    "height = loan_filtered['emp_length'].value_counts()\n",
    "bars = ('<=5 years', '6+ years')\n",
    "y_pos = np.arange(len(bars))\n",
    "\n",
    "# Create horizontal bars\n",
    "plt.barh(y_pos, height)\n",
    " \n",
    "# Create names on the y-axis\n",
    "plt.yticks(y_pos, bars)\n",
    " \n",
    "# Show graphic\n",
    "plt.show()"
   ]
  },
  {
   "cell_type": "markdown",
   "metadata": {},
   "source": [
    "In order to maintain the variable 'grade' and do not create as dummies as categories has the variable, we will apply an ordinal encondig to the variable. The method will be the following:\n",
    "* We have 7 categories from best grade, 'A', to the worst grade 'G'.\n",
    "* The order is A > B > C > D > E > F > G.\n",
    "* The new encoding will be 6 > 5 > 4 > 3 > 2 > 1 > 0"
   ]
  },
  {
   "cell_type": "code",
   "execution_count": 48,
   "metadata": {},
   "outputs": [
    {
     "data": {
      "text/plain": [
       "B    289933\n",
       "C    285116\n",
       "A    170956\n",
       "D    151373\n",
       "E     70960\n",
       "F     24500\n",
       "G      7162\n",
       "Name: grade, dtype: int64"
      ]
     },
     "execution_count": 48,
     "metadata": {},
     "output_type": "execute_result"
    }
   ],
   "source": [
    "loan_filtered['grade'].value_counts()"
   ]
  },
  {
   "cell_type": "code",
   "execution_count": 49,
   "metadata": {},
   "outputs": [],
   "source": [
    "# first we create a mapper\n",
    "\n",
    "mapper = {'A': 6, 'B': 5, 'C': 4, 'D': 3, 'E': 2, 'F': 1, 'G': 0}\n",
    "\n",
    "# now we map the column and replace the values\n",
    "\n",
    "loan_filtered['grade'] = loan_filtered['grade'].replace(mapper)"
   ]
  },
  {
   "cell_type": "markdown",
   "metadata": {},
   "source": [
    "According to some financial papers, the loan purpose can serve as a method to decide the risk of the loan. We are going to see the different values of our variable 'purpose'."
   ]
  },
  {
   "cell_type": "code",
   "execution_count": 50,
   "metadata": {},
   "outputs": [
    {
     "data": {
      "text/plain": [
       "debt_consolidation    580649\n",
       "credit_card           218329\n",
       "home_improvement       64945\n",
       "other                  58032\n",
       "major_purchase         21868\n",
       "small_business         11754\n",
       "medical                11648\n",
       "car                    10778\n",
       "moving                  7100\n",
       "vacation                6656\n",
       "house                   5436\n",
       "wedding                 1767\n",
       "renewable_energy         709\n",
       "educational              329\n",
       "Name: purpose, dtype: int64"
      ]
     },
     "execution_count": 50,
     "metadata": {},
     "output_type": "execute_result"
    }
   ],
   "source": [
    "loan_filtered['purpose'].value_counts()"
   ]
  },
  {
   "cell_type": "markdown",
   "metadata": {},
   "source": [
    "How does affect the purpose in our target?"
   ]
  },
  {
   "cell_type": "code",
   "execution_count": 51,
   "metadata": {},
   "outputs": [
    {
     "data": {
      "text/plain": [
       "purpose             target\n",
       "car                 0           9016\n",
       "                    1           1762\n",
       "credit_card         0         178262\n",
       "                    1          40067\n",
       "debt_consolidation  0         448162\n",
       "                    1         132487\n",
       "educational         0            257\n",
       "                    1             72\n",
       "home_improvement    0          52248\n",
       "                    1          12697\n",
       "house               0           4124\n",
       "                    1           1312\n",
       "major_purchase      0          17422\n",
       "                    1           4446\n",
       "medical             0           8871\n",
       "                    1           2777\n",
       "moving              0           5293\n",
       "                    1           1807\n",
       "other               0          44529\n",
       "                    1          13503\n",
       "renewable_energy    0            517\n",
       "                    1            192\n",
       "small_business      0           8041\n",
       "                    1           3713\n",
       "vacation            0           5258\n",
       "                    1           1398\n",
       "wedding             0           1535\n",
       "                    1            232\n",
       "Name: target, dtype: int64"
      ]
     },
     "execution_count": 51,
     "metadata": {},
     "output_type": "execute_result"
    }
   ],
   "source": [
    "loan_filtered.groupby('purpose')['target'].value_counts()"
   ]
  },
  {
   "cell_type": "markdown",
   "metadata": {},
   "source": [
    "We need to reduce the number of types, so we will create new 6 new types in which they will be aggregate the currently types. "
   ]
  },
  {
   "cell_type": "markdown",
   "metadata": {},
   "source": [
    "* debt_consolidation: 'debt_consolidation'.\n",
    "* home: which will include 'home_improvement', 'house' and 'moving'.\n",
    "* purchase: includes 'credit_card', 'major_purchase', 'vacation', 'car' and 'wedding'.\n",
    "* investment: includes 'small_business' and 'renewable_energy'.\n",
    "* medical: 'medical'.\n",
    "* other: includes 'other' and 'educational'."
   ]
  },
  {
   "cell_type": "code",
   "execution_count": 52,
   "metadata": {},
   "outputs": [],
   "source": [
    "# home\n",
    "\n",
    "loan_filtered['purpose'] = np.where((loan_filtered['purpose'] == 'home_improvement') | \n",
    "                                    (loan_filtered['purpose'] == 'house') | \n",
    "                                    (loan_filtered['purpose'] == 'moving'), \n",
    "                                   'home', loan_filtered['purpose'].values)"
   ]
  },
  {
   "cell_type": "code",
   "execution_count": 53,
   "metadata": {},
   "outputs": [],
   "source": [
    "# purchase\n",
    "\n",
    "loan_filtered['purpose'] = np.where((loan_filtered['purpose'] == 'credit_card') | \n",
    "                                    (loan_filtered['purpose'] == 'major_purchase') | \n",
    "                                    (loan_filtered['purpose'] == 'vacation') | \n",
    "                                    (loan_filtered['purpose'] == 'wedding') |\n",
    "                                    (loan_filtered['purpose'] == 'car'), \n",
    "                                   'purchase', loan_filtered['purpose'].values)"
   ]
  },
  {
   "cell_type": "code",
   "execution_count": 54,
   "metadata": {},
   "outputs": [],
   "source": [
    "# investment\n",
    "\n",
    "loan_filtered['purpose'] = np.where((loan_filtered['purpose'] == 'small_business') | \n",
    "                                    (loan_filtered['purpose'] == 'renewable_energy'), \n",
    "                                   'investment', loan_filtered['purpose'].values)"
   ]
  },
  {
   "cell_type": "code",
   "execution_count": 55,
   "metadata": {},
   "outputs": [],
   "source": [
    "# other\n",
    "\n",
    "loan_filtered['purpose'] = np.where((loan_filtered['purpose'] == 'other') | \n",
    "                                    (loan_filtered['purpose'] == 'educational'), \n",
    "                                   'other', loan_filtered['purpose'].values)"
   ]
  },
  {
   "cell_type": "code",
   "execution_count": 56,
   "metadata": {},
   "outputs": [
    {
     "data": {
      "text/plain": [
       "debt_consolidation    580649\n",
       "purchase              259398\n",
       "home                   77481\n",
       "other                  58361\n",
       "investment             12463\n",
       "medical                11648\n",
       "Name: purpose, dtype: int64"
      ]
     },
     "execution_count": 56,
     "metadata": {},
     "output_type": "execute_result"
    }
   ],
   "source": [
    "loan_filtered['purpose'].value_counts()"
   ]
  },
  {
   "cell_type": "code",
   "execution_count": 57,
   "metadata": {},
   "outputs": [
    {
     "data": {
      "image/png": "[encoded data removed]",
      "text/plain": [
       "<Figure size 432x288 with 1 Axes>"
      ]
     },
     "metadata": {
      "needs_background": "light"
     },
     "output_type": "display_data"
    }
   ],
   "source": [
    "df = pd.DataFrame({'purpose':loan_filtered['purpose'].value_counts(), 'group':[\"debt_consolidation\", \n",
    "                                                                                 \"purchase\", \"home\", \"other\", \n",
    "                                                                                 \"investment\", \"medical\"] })\n",
    "import squarify \n",
    "squarify.plot(sizes=df['purpose'], label=df['group'], color=[\"red\",\"green\",\"blue\", \"grey\", \"orange\", \"pink\"], alpha=.8)\n",
    "plt.axis('off')\n",
    "plt.show()"
   ]
  },
  {
   "cell_type": "markdown",
   "metadata": {},
   "source": [
    "There are some variables in our dataset, e.g 'pymnt_plan' or 'hardship_flag', which by themselves are dummies, we only need to rencode them ir order to change their types from categorical to numeric."
   ]
  },
  {
   "cell_type": "code",
   "execution_count": 58,
   "metadata": {},
   "outputs": [
    {
     "data": {
      "text/plain": [
       "initial_list_status  target\n",
       "f                    0         334284\n",
       "                     1          86482\n",
       "w                    0         449251\n",
       "                     1         129983\n",
       "Name: target, dtype: int64"
      ]
     },
     "execution_count": 58,
     "metadata": {},
     "output_type": "execute_result"
    }
   ],
   "source": [
    "loan_filtered.groupby('initial_list_status')['target'].value_counts()"
   ]
  },
  {
   "cell_type": "code",
   "execution_count": 59,
   "metadata": {},
   "outputs": [
    {
     "data": {
      "text/plain": [
       "0.20553466772505383"
      ]
     },
     "execution_count": 59,
     "metadata": {},
     "output_type": "execute_result"
    }
   ],
   "source": [
    "# fractioned\n",
    "\n",
    "86482/(86482+334284)"
   ]
  },
  {
   "cell_type": "code",
   "execution_count": 60,
   "metadata": {},
   "outputs": [
    {
     "data": {
      "text/plain": [
       "0.22440499003856818"
      ]
     },
     "execution_count": 60,
     "metadata": {},
     "output_type": "execute_result"
    }
   ],
   "source": [
    "# whole\n",
    "\n",
    "129983/(129983+449251)"
   ]
  },
  {
   "cell_type": "markdown",
   "metadata": {},
   "source": [
    "'initial_list_status' give us information about if the lending club offered the whole loan to the borrower or only a fraction of the loan. Independently of that, we want to know if the borrower will pay the loan. We do not mind if the loan was given fully or partially. Also, we can see that the percentage of defaults its similar in both types of status."
   ]
  },
  {
   "cell_type": "code",
   "execution_count": 61,
   "metadata": {},
   "outputs": [],
   "source": [
    "del loan_filtered['initial_list_status']"
   ]
  },
  {
   "cell_type": "code",
   "execution_count": 62,
   "metadata": {},
   "outputs": [
    {
     "data": {
      "text/plain": [
       "disbursement_method  target\n",
       "Cash                 0         780103\n",
       "                     1         215109\n",
       "DirectPay            0           3432\n",
       "                     1           1356\n",
       "Name: target, dtype: int64"
      ]
     },
     "execution_count": 62,
     "metadata": {},
     "output_type": "execute_result"
    }
   ],
   "source": [
    "loan_filtered.groupby('disbursement_method')['target'].value_counts()"
   ]
  },
  {
   "cell_type": "code",
   "execution_count": 63,
   "metadata": {},
   "outputs": [
    {
     "data": {
      "text/plain": [
       "0.21614389697873418"
      ]
     },
     "execution_count": 63,
     "metadata": {},
     "output_type": "execute_result"
    }
   ],
   "source": [
    "# cash\n",
    "\n",
    "215109/(215109+780103)"
   ]
  },
  {
   "cell_type": "code",
   "execution_count": 64,
   "metadata": {},
   "outputs": [
    {
     "data": {
      "text/plain": [
       "0.2832080200501253"
      ]
     },
     "execution_count": 64,
     "metadata": {},
     "output_type": "execute_result"
    }
   ],
   "source": [
    "# direct pay\n",
    "\n",
    "1356/(1356+3432)"
   ]
  },
  {
   "cell_type": "markdown",
   "metadata": {},
   "source": [
    "According to the same reason we delete 'disbursement_method'."
   ]
  },
  {
   "cell_type": "code",
   "execution_count": 65,
   "metadata": {},
   "outputs": [],
   "source": [
    "del loan_filtered['disbursement_method']"
   ]
  },
  {
   "cell_type": "markdown",
   "metadata": {},
   "source": [
    "Due to all the transformations done, the index of the dataframe has changed and it does not follow the typical sequency of numbers, so we will reset the index to avoid future problems."
   ]
  },
  {
   "cell_type": "code",
   "execution_count": 66,
   "metadata": {},
   "outputs": [],
   "source": [
    "loan_filtered = loan_filtered.reset_index(drop = True)"
   ]
  },
  {
   "cell_type": "code",
   "execution_count": 67,
   "metadata": {},
   "outputs": [
    {
     "name": "stdout",
     "output_type": "stream",
     "text": [
      "<class 'pandas.core.frame.DataFrame'>\n",
      "RangeIndex: 1000000 entries, 0 to 999999\n",
      "Data columns (total 6 columns):\n",
      "term                   1000000 non-null object\n",
      "emp_length             1000000 non-null object\n",
      "home_ownership         1000000 non-null object\n",
      "verification_status    1000000 non-null object\n",
      "purpose                1000000 non-null object\n",
      "application_type       1000000 non-null object\n",
      "dtypes: object(6)\n",
      "memory usage: 45.8+ MB\n"
     ]
    }
   ],
   "source": [
    "categoricas = loan_filtered.select_dtypes(include = [np.object])\n",
    "categoricas.info()"
   ]
  },
  {
   "cell_type": "code",
   "execution_count": 68,
   "metadata": {},
   "outputs": [
    {
     "name": "stdout",
     "output_type": "stream",
     "text": [
      "<class 'pandas.core.frame.DataFrame'>\n",
      "RangeIndex: 1000000 entries, 0 to 999999\n",
      "Data columns (total 77 columns):\n",
      "loan_amnt                         1000000 non-null int64\n",
      "int_rate                          1000000 non-null float64\n",
      "installment                       1000000 non-null float64\n",
      "annual_inc                        1000000 non-null float64\n",
      "desc                              1000000 non-null int64\n",
      "dti                               1000000 non-null float64\n",
      "delinq_2yrs                       1000000 non-null float64\n",
      "inq_last_6mths                    1000000 non-null float64\n",
      "mths_since_last_delinq            1000000 non-null float64\n",
      "mths_since_last_record            1000000 non-null float64\n",
      "open_acc                          1000000 non-null float64\n",
      "pub_rec                           1000000 non-null float64\n",
      "revol_bal                         1000000 non-null int64\n",
      "revol_util                        1000000 non-null float64\n",
      "total_acc                         1000000 non-null float64\n",
      "recoveries                        1000000 non-null float64\n",
      "collection_recovery_fee           1000000 non-null float64\n",
      "collections_12_mths_ex_med        1000000 non-null float64\n",
      "mths_since_last_major_derog       1000000 non-null float64\n",
      "policy_code                       1000000 non-null int64\n",
      "acc_now_delinq                    1000000 non-null float64\n",
      "tot_coll_amt                      1000000 non-null float64\n",
      "tot_cur_bal                       1000000 non-null float64\n",
      "open_acc_6m                       1000000 non-null float64\n",
      "open_act_il                       1000000 non-null float64\n",
      "open_il_12m                       1000000 non-null float64\n",
      "open_il_24m                       1000000 non-null float64\n",
      "mths_since_rcnt_il                1000000 non-null float64\n",
      "total_bal_il                      1000000 non-null float64\n",
      "il_util                           1000000 non-null float64\n",
      "open_rv_12m                       1000000 non-null float64\n",
      "open_rv_24m                       1000000 non-null float64\n",
      "max_bal_bc                        1000000 non-null float64\n",
      "all_util                          1000000 non-null float64\n",
      "total_rev_hi_lim                  1000000 non-null float64\n",
      "inq_fi                            1000000 non-null float64\n",
      "total_cu_tl                       1000000 non-null float64\n",
      "inq_last_12m                      1000000 non-null float64\n",
      "acc_open_past_24mths              1000000 non-null float64\n",
      "avg_cur_bal                       1000000 non-null float64\n",
      "bc_open_to_buy                    1000000 non-null float64\n",
      "bc_util                           1000000 non-null float64\n",
      "chargeoff_within_12_mths          1000000 non-null float64\n",
      "delinq_amnt                       1000000 non-null float64\n",
      "mo_sin_old_il_acct                1000000 non-null float64\n",
      "mo_sin_old_rev_tl_op              1000000 non-null float64\n",
      "mo_sin_rcnt_rev_tl_op             1000000 non-null float64\n",
      "mo_sin_rcnt_tl                    1000000 non-null float64\n",
      "mort_acc                          1000000 non-null float64\n",
      "mths_since_recent_bc              1000000 non-null float64\n",
      "mths_since_recent_bc_dlq          1000000 non-null float64\n",
      "mths_since_recent_inq             1000000 non-null float64\n",
      "mths_since_recent_revol_delinq    1000000 non-null float64\n",
      "num_accts_ever_120_pd             1000000 non-null float64\n",
      "num_actv_bc_tl                    1000000 non-null float64\n",
      "num_actv_rev_tl                   1000000 non-null float64\n",
      "num_bc_sats                       1000000 non-null float64\n",
      "num_bc_tl                         1000000 non-null float64\n",
      "num_il_tl                         1000000 non-null float64\n",
      "num_op_rev_tl                     1000000 non-null float64\n",
      "num_rev_accts                     1000000 non-null float64\n",
      "num_sats                          1000000 non-null float64\n",
      "num_tl_120dpd_2m                  1000000 non-null float64\n",
      "num_tl_30dpd                      1000000 non-null float64\n",
      "num_tl_90g_dpd_24m                1000000 non-null float64\n",
      "num_tl_op_past_12m                1000000 non-null float64\n",
      "pct_tl_nvr_dlq                    1000000 non-null float64\n",
      "percent_bc_gt_75                  1000000 non-null float64\n",
      "pub_rec_bankruptcies              1000000 non-null float64\n",
      "tax_liens                         1000000 non-null float64\n",
      "tot_hi_cred_lim                   1000000 non-null float64\n",
      "total_bal_ex_mort                 1000000 non-null float64\n",
      "total_bc_limit                    1000000 non-null float64\n",
      "total_il_high_credit_limit        1000000 non-null float64\n",
      "target                            1000000 non-null int64\n",
      "grade                             1000000 non-null int64\n",
      "earliest_cr_line                  1000000 non-null int64\n",
      "dtypes: float64(70), int64(7)\n",
      "memory usage: 587.5 MB\n"
     ]
    }
   ],
   "source": [
    "numericas = loan_filtered.select_dtypes(include = [np.number])\n",
    "numericas.info()"
   ]
  },
  {
   "cell_type": "markdown",
   "metadata": {},
   "source": [
    "At this moment we have our dataset clean, filtered and dimensionally reduced, so we can continue with other instances."
   ]
  },
  {
   "cell_type": "code",
   "execution_count": 69,
   "metadata": {},
   "outputs": [
    {
     "data": {
      "image/png": "[encoded data removed]",
      "text/plain": [
       "<Figure size 1440x1080 with 16 Axes>"
      ]
     },
     "metadata": {
      "needs_background": "light"
     },
     "output_type": "display_data"
    }
   ],
   "source": [
    "numericas.iloc[:,0:16].hist(bins=50, figsize=(20,15))\n",
    "plt.show()"
   ]
  },
  {
   "cell_type": "code",
   "execution_count": 70,
   "metadata": {},
   "outputs": [
    {
     "data": {
      "image/png": "[encoded data removed]",
      "text/plain": [
       "<Figure size 1440x1080 with 16 Axes>"
      ]
     },
     "metadata": {
      "needs_background": "light"
     },
     "output_type": "display_data"
    }
   ],
   "source": [
    "numericas.iloc[:,16:32].hist(bins=50, figsize=(20,15))\n",
    "plt.show()"
   ]
  },
  {
   "cell_type": "code",
   "execution_count": 71,
   "metadata": {},
   "outputs": [
    {
     "data": {
      "image/png": "[encoded data removed]",
      "text/plain": [
       "<Figure size 1440x1080 with 16 Axes>"
      ]
     },
     "metadata": {
      "needs_background": "light"
     },
     "output_type": "display_data"
    }
   ],
   "source": [
    "numericas.iloc[:,32:48].hist(bins=50, figsize=(20,15))\n",
    "plt.show()"
   ]
  },
  {
   "cell_type": "code",
   "execution_count": 72,
   "metadata": {},
   "outputs": [
    {
     "data": {
      "image/png": "[encoded data removed]",
      "text/plain": [
       "<Figure size 1440x1080 with 16 Axes>"
      ]
     },
     "metadata": {
      "needs_background": "light"
     },
     "output_type": "display_data"
    }
   ],
   "source": [
    "numericas.iloc[:,48:64].hist(bins=50, figsize=(20,15))\n",
    "plt.show()"
   ]
  },
  {
   "cell_type": "code",
   "execution_count": 73,
   "metadata": {},
   "outputs": [
    {
     "data": {
      "image/png": "[encoded data removed]",
      "text/plain": [
       "<Figure size 1440x1080 with 16 Axes>"
      ]
     },
     "metadata": {
      "needs_background": "light"
     },
     "output_type": "display_data"
    }
   ],
   "source": [
    "numericas.iloc[:,64:].hist(bins=50, figsize=(20,15))\n",
    "plt.show()"
   ]
  },
  {
   "cell_type": "markdown",
   "metadata": {},
   "source": [
    "### 4.1 Outliers "
   ]
  },
  {
   "cell_type": "markdown",
   "metadata": {},
   "source": [
    "The method we will use for detecting outliers is called Isolation Forest. It explicitly isolates anomalies constructing normal points and regions by assigning a score to each data point. It takes advantage of the fact that anomalies are the minority data points and that they have attribute-values that are very different from those of normal instances. This algorithm works great with very high dimensional datasets and it proved to be a very effective way of detecting anomalies. "
   ]
  },
  {
   "cell_type": "code",
   "execution_count": 74,
   "metadata": {},
   "outputs": [],
   "source": [
    "IF = IsolationForest(max_samples = 100, contamination = 0.05, bootstrap = False, random_state = 1)"
   ]
  },
  {
   "cell_type": "code",
   "execution_count": 75,
   "metadata": {},
   "outputs": [
    {
     "name": "stdout",
     "output_type": "stream",
     "text": [
      "Wall time: 4min 42s\n"
     ]
    },
    {
     "data": {
      "text/plain": [
       "array([1, 1, 1, ..., 1, 1, 1])"
      ]
     },
     "execution_count": 75,
     "metadata": {},
     "output_type": "execute_result"
    }
   ],
   "source": [
    "%%time\n",
    "\n",
    "outliers = IF.fit_predict(numericas)\n",
    "outliers"
   ]
  },
  {
   "cell_type": "markdown",
   "metadata": {},
   "source": [
    "This method is very interesting but, why a sample is considered as an outlier by Isolation Forest? We will extract the first outlier was calculated and see if it is really an outlier."
   ]
  },
  {
   "cell_type": "code",
   "execution_count": 76,
   "metadata": {},
   "outputs": [
    {
     "data": {
      "text/html": [
       "<div>\n",
       "<style scoped>\n",
       "    .dataframe tbody tr th:only-of-type {\n",
       "        vertical-align: middle;\n",
       "    }\n",
       "\n",
       "    .dataframe tbody tr th {\n",
       "        vertical-align: top;\n",
       "    }\n",
       "\n",
       "    .dataframe thead th {\n",
       "        text-align: right;\n",
       "    }\n",
       "</style>\n",
       "<table border=\"1\" class=\"dataframe\">\n",
       "  <thead>\n",
       "    <tr style=\"text-align: right;\">\n",
       "      <th></th>\n",
       "      <th>Valores</th>\n",
       "    </tr>\n",
       "    <tr>\n",
       "      <th>Variable</th>\n",
       "      <th></th>\n",
       "    </tr>\n",
       "  </thead>\n",
       "  <tbody>\n",
       "    <tr>\n",
       "      <td>loan_amnt</td>\n",
       "      <td>4000.00</td>\n",
       "    </tr>\n",
       "    <tr>\n",
       "      <td>int_rate</td>\n",
       "      <td>9.17</td>\n",
       "    </tr>\n",
       "    <tr>\n",
       "      <td>installment</td>\n",
       "      <td>127.52</td>\n",
       "    </tr>\n",
       "    <tr>\n",
       "      <td>annual_inc</td>\n",
       "      <td>35000.00</td>\n",
       "    </tr>\n",
       "    <tr>\n",
       "      <td>desc</td>\n",
       "      <td>0.00</td>\n",
       "    </tr>\n",
       "    <tr>\n",
       "      <td>...</td>\n",
       "      <td>...</td>\n",
       "    </tr>\n",
       "    <tr>\n",
       "      <td>total_bc_limit</td>\n",
       "      <td>3800.00</td>\n",
       "    </tr>\n",
       "    <tr>\n",
       "      <td>total_il_high_credit_limit</td>\n",
       "      <td>1200.00</td>\n",
       "    </tr>\n",
       "    <tr>\n",
       "      <td>target</td>\n",
       "      <td>0.00</td>\n",
       "    </tr>\n",
       "    <tr>\n",
       "      <td>grade</td>\n",
       "      <td>5.00</td>\n",
       "    </tr>\n",
       "    <tr>\n",
       "      <td>earliest_cr_line</td>\n",
       "      <td>8.00</td>\n",
       "    </tr>\n",
       "  </tbody>\n",
       "</table>\n",
       "<p>77 rows × 1 columns</p>\n",
       "</div>"
      ],
      "text/plain": [
       "                             Valores\n",
       "Variable                            \n",
       "loan_amnt                    4000.00\n",
       "int_rate                        9.17\n",
       "installment                   127.52\n",
       "annual_inc                  35000.00\n",
       "desc                            0.00\n",
       "...                              ...\n",
       "total_bc_limit               3800.00\n",
       "total_il_high_credit_limit   1200.00\n",
       "target                          0.00\n",
       "grade                           5.00\n",
       "earliest_cr_line                8.00\n",
       "\n",
       "[77 rows x 1 columns]"
      ]
     },
     "execution_count": 76,
     "metadata": {},
     "output_type": "execute_result"
    }
   ],
   "source": [
    "primer_outlier = pd.DataFrame({\"Variable\":numericas.iloc[1].index, \"Valores\": numericas.iloc[1]}).set_index(\"Variable\")\n",
    "primer_outlier"
   ]
  },
  {
   "cell_type": "code",
   "execution_count": 77,
   "metadata": {},
   "outputs": [
    {
     "data": {
      "image/png": "[encoded data removed]",
      "text/plain": [
       "<Figure size 432x288 with 1 Axes>"
      ]
     },
     "metadata": {
      "needs_background": "light"
     },
     "output_type": "display_data"
    }
   ],
   "source": [
    "sns.violinplot( y=numericas[\"loan_amnt\"] );"
   ]
  },
  {
   "cell_type": "markdown",
   "metadata": {},
   "source": [
    "The loan amount of our outlier is 40 000, it is in the top of the violinplot. According to this variable it could be considered as an outlier."
   ]
  },
  {
   "cell_type": "code",
   "execution_count": 78,
   "metadata": {},
   "outputs": [
    {
     "data": {
      "image/png": "[encoded data removed]",
      "text/plain": [
       "<Figure size 432x288 with 1 Axes>"
      ]
     },
     "metadata": {
      "needs_background": "light"
     },
     "output_type": "display_data"
    }
   ],
   "source": [
    "sns.violinplot( y=numericas[\"int_rate\"] );"
   ]
  },
  {
   "cell_type": "markdown",
   "metadata": {},
   "source": [
    "The interest rate is 9.17%, it is not a high interest rate in comparison withe the rest of the dataset."
   ]
  },
  {
   "cell_type": "code",
   "execution_count": 79,
   "metadata": {},
   "outputs": [
    {
     "data": {
      "image/png": "[encoded data removed]",
      "text/plain": [
       "<Figure size 432x288 with 1 Axes>"
      ]
     },
     "metadata": {
      "needs_background": "light"
     },
     "output_type": "display_data"
    }
   ],
   "source": [
    "sns.violinplot( y=numericas[\"installment\"] );"
   ]
  },
  {
   "cell_type": "markdown",
   "metadata": {},
   "source": [
    "The monthly payment if the loan was conceed, 127.52, is too small so it could be considered as an outlier."
   ]
  },
  {
   "cell_type": "markdown",
   "metadata": {},
   "source": [
    "The loan amount is a clear evidence to consider that sample as an outlier, also we have 2 more variables in addition which have very different values in comparison to the rest of the dataset. "
   ]
  },
  {
   "cell_type": "markdown",
   "metadata": {},
   "source": [
    "First we check both lists have the same length."
   ]
  },
  {
   "cell_type": "code",
   "execution_count": 80,
   "metadata": {},
   "outputs": [
    {
     "data": {
      "text/plain": [
       "1000000"
      ]
     },
     "execution_count": 80,
     "metadata": {},
     "output_type": "execute_result"
    }
   ],
   "source": [
    "len(numericas)"
   ]
  },
  {
   "cell_type": "code",
   "execution_count": 81,
   "metadata": {},
   "outputs": [
    {
     "data": {
      "text/plain": [
       "1000000"
      ]
     },
     "execution_count": 81,
     "metadata": {},
     "output_type": "execute_result"
    }
   ],
   "source": [
    "len(outliers)"
   ]
  },
  {
   "cell_type": "markdown",
   "metadata": {},
   "source": [
    "The Isolation Forest returns us an array with 1 and -1. -1 indicates an outlier, so we need to know their index positions in order to delete the samples from the numerical dataframe."
   ]
  },
  {
   "cell_type": "code",
   "execution_count": 82,
   "metadata": {},
   "outputs": [
    {
     "data": {
      "text/plain": [
       "50000"
      ]
     },
     "execution_count": 82,
     "metadata": {},
     "output_type": "execute_result"
    }
   ],
   "source": [
    "# I do a loop in order to get the index of every -1\n",
    "\n",
    "indices_outliers = []\n",
    "for i in range(0,len(outliers)):\n",
    "    if outliers[i] == -1:\n",
    "        indices_outliers.append(i)\n",
    "\n",
    "        \n",
    "len(indices_outliers)"
   ]
  },
  {
   "cell_type": "markdown",
   "metadata": {},
   "source": [
    "According to the results we have 50 000 outliers. We have a list of the index of every row considered as an outliers, we drop them of the dataset."
   ]
  },
  {
   "cell_type": "code",
   "execution_count": 83,
   "metadata": {},
   "outputs": [],
   "source": [
    "# deletting outliers\n",
    "\n",
    "loan_filtered.drop(indices_outliers, axis = 0, inplace = True)\n",
    "\n",
    "# reseting the index\n",
    "\n",
    "loan_filtered = loan_filtered.reset_index(drop = True)\n",
    "\n",
    "# creating again numericas and categoricas\n",
    "\n",
    "numericas = loan_filtered.select_dtypes(include = [np.number])\n",
    "\n",
    "categoricas = loan_filtered.select_dtypes(include = [np.object])"
   ]
  },
  {
   "cell_type": "code",
   "execution_count": 84,
   "metadata": {},
   "outputs": [
    {
     "name": "stdout",
     "output_type": "stream",
     "text": [
      "<class 'pandas.core.frame.DataFrame'>\n",
      "RangeIndex: 950000 entries, 0 to 949999\n",
      "Data columns (total 77 columns):\n",
      "loan_amnt                         950000 non-null int64\n",
      "int_rate                          950000 non-null float64\n",
      "installment                       950000 non-null float64\n",
      "annual_inc                        950000 non-null float64\n",
      "desc                              950000 non-null int64\n",
      "dti                               950000 non-null float64\n",
      "delinq_2yrs                       950000 non-null float64\n",
      "inq_last_6mths                    950000 non-null float64\n",
      "mths_since_last_delinq            950000 non-null float64\n",
      "mths_since_last_record            950000 non-null float64\n",
      "open_acc                          950000 non-null float64\n",
      "pub_rec                           950000 non-null float64\n",
      "revol_bal                         950000 non-null int64\n",
      "revol_util                        950000 non-null float64\n",
      "total_acc                         950000 non-null float64\n",
      "recoveries                        950000 non-null float64\n",
      "collection_recovery_fee           950000 non-null float64\n",
      "collections_12_mths_ex_med        950000 non-null float64\n",
      "mths_since_last_major_derog       950000 non-null float64\n",
      "policy_code                       950000 non-null int64\n",
      "acc_now_delinq                    950000 non-null float64\n",
      "tot_coll_amt                      950000 non-null float64\n",
      "tot_cur_bal                       950000 non-null float64\n",
      "open_acc_6m                       950000 non-null float64\n",
      "open_act_il                       950000 non-null float64\n",
      "open_il_12m                       950000 non-null float64\n",
      "open_il_24m                       950000 non-null float64\n",
      "mths_since_rcnt_il                950000 non-null float64\n",
      "total_bal_il                      950000 non-null float64\n",
      "il_util                           950000 non-null float64\n",
      "open_rv_12m                       950000 non-null float64\n",
      "open_rv_24m                       950000 non-null float64\n",
      "max_bal_bc                        950000 non-null float64\n",
      "all_util                          950000 non-null float64\n",
      "total_rev_hi_lim                  950000 non-null float64\n",
      "inq_fi                            950000 non-null float64\n",
      "total_cu_tl                       950000 non-null float64\n",
      "inq_last_12m                      950000 non-null float64\n",
      "acc_open_past_24mths              950000 non-null float64\n",
      "avg_cur_bal                       950000 non-null float64\n",
      "bc_open_to_buy                    950000 non-null float64\n",
      "bc_util                           950000 non-null float64\n",
      "chargeoff_within_12_mths          950000 non-null float64\n",
      "delinq_amnt                       950000 non-null float64\n",
      "mo_sin_old_il_acct                950000 non-null float64\n",
      "mo_sin_old_rev_tl_op              950000 non-null float64\n",
      "mo_sin_rcnt_rev_tl_op             950000 non-null float64\n",
      "mo_sin_rcnt_tl                    950000 non-null float64\n",
      "mort_acc                          950000 non-null float64\n",
      "mths_since_recent_bc              950000 non-null float64\n",
      "mths_since_recent_bc_dlq          950000 non-null float64\n",
      "mths_since_recent_inq             950000 non-null float64\n",
      "mths_since_recent_revol_delinq    950000 non-null float64\n",
      "num_accts_ever_120_pd             950000 non-null float64\n",
      "num_actv_bc_tl                    950000 non-null float64\n",
      "num_actv_rev_tl                   950000 non-null float64\n",
      "num_bc_sats                       950000 non-null float64\n",
      "num_bc_tl                         950000 non-null float64\n",
      "num_il_tl                         950000 non-null float64\n",
      "num_op_rev_tl                     950000 non-null float64\n",
      "num_rev_accts                     950000 non-null float64\n",
      "num_sats                          950000 non-null float64\n",
      "num_tl_120dpd_2m                  950000 non-null float64\n",
      "num_tl_30dpd                      950000 non-null float64\n",
      "num_tl_90g_dpd_24m                950000 non-null float64\n",
      "num_tl_op_past_12m                950000 non-null float64\n",
      "pct_tl_nvr_dlq                    950000 non-null float64\n",
      "percent_bc_gt_75                  950000 non-null float64\n",
      "pub_rec_bankruptcies              950000 non-null float64\n",
      "tax_liens                         950000 non-null float64\n",
      "tot_hi_cred_lim                   950000 non-null float64\n",
      "total_bal_ex_mort                 950000 non-null float64\n",
      "total_bc_limit                    950000 non-null float64\n",
      "total_il_high_credit_limit        950000 non-null float64\n",
      "target                            950000 non-null int64\n",
      "grade                             950000 non-null int64\n",
      "earliest_cr_line                  950000 non-null int64\n",
      "dtypes: float64(70), int64(7)\n",
      "memory usage: 558.1 MB\n"
     ]
    }
   ],
   "source": [
    "numericas.info()"
   ]
  },
  {
   "cell_type": "code",
   "execution_count": 85,
   "metadata": {},
   "outputs": [
    {
     "name": "stdout",
     "output_type": "stream",
     "text": [
      "<class 'pandas.core.frame.DataFrame'>\n",
      "RangeIndex: 950000 entries, 0 to 949999\n",
      "Data columns (total 6 columns):\n",
      "term                   950000 non-null object\n",
      "emp_length             950000 non-null object\n",
      "home_ownership         950000 non-null object\n",
      "verification_status    950000 non-null object\n",
      "purpose                950000 non-null object\n",
      "application_type       950000 non-null object\n",
      "dtypes: object(6)\n",
      "memory usage: 43.5+ MB\n"
     ]
    }
   ],
   "source": [
    "categoricas.info()"
   ]
  },
  {
   "cell_type": "markdown",
   "metadata": {},
   "source": [
    "### 4.2 Making dummies "
   ]
  },
  {
   "cell_type": "markdown",
   "metadata": {},
   "source": [
    "These variables are going to be converted to dummies."
   ]
  },
  {
   "cell_type": "code",
   "execution_count": 86,
   "metadata": {},
   "outputs": [
    {
     "data": {
      "text/plain": [
       "['term',\n",
       " 'emp_length',\n",
       " 'home_ownership',\n",
       " 'verification_status',\n",
       " 'purpose',\n",
       " 'application_type']"
      ]
     },
     "execution_count": 86,
     "metadata": {},
     "output_type": "execute_result"
    }
   ],
   "source": [
    "list(categoricas)"
   ]
  },
  {
   "cell_type": "code",
   "execution_count": 87,
   "metadata": {},
   "outputs": [
    {
     "data": {
      "text/html": [
       "<div>\n",
       "<style scoped>\n",
       "    .dataframe tbody tr th:only-of-type {\n",
       "        vertical-align: middle;\n",
       "    }\n",
       "\n",
       "    .dataframe tbody tr th {\n",
       "        vertical-align: top;\n",
       "    }\n",
       "\n",
       "    .dataframe thead th {\n",
       "        text-align: right;\n",
       "    }\n",
       "</style>\n",
       "<table border=\"1\" class=\"dataframe\">\n",
       "  <thead>\n",
       "    <tr style=\"text-align: right;\">\n",
       "      <th></th>\n",
       "      <th>term_ 36 months</th>\n",
       "      <th>term_ 60 months</th>\n",
       "      <th>emp_length_6+ years</th>\n",
       "      <th>emp_length_&lt;= 5 years</th>\n",
       "      <th>home_ownership_OTHER</th>\n",
       "      <th>home_ownership_OWN</th>\n",
       "      <th>home_ownership_RENT</th>\n",
       "      <th>verification_status_Not Verified</th>\n",
       "      <th>verification_status_Source Verified</th>\n",
       "      <th>verification_status_Verified</th>\n",
       "      <th>purpose_debt_consolidation</th>\n",
       "      <th>purpose_home</th>\n",
       "      <th>purpose_investment</th>\n",
       "      <th>purpose_medical</th>\n",
       "      <th>purpose_other</th>\n",
       "      <th>purpose_purchase</th>\n",
       "      <th>application_type_Individual</th>\n",
       "      <th>application_type_Joint App</th>\n",
       "    </tr>\n",
       "  </thead>\n",
       "  <tbody>\n",
       "    <tr>\n",
       "      <td>0</td>\n",
       "      <td>0</td>\n",
       "      <td>1</td>\n",
       "      <td>0</td>\n",
       "      <td>1</td>\n",
       "      <td>1</td>\n",
       "      <td>0</td>\n",
       "      <td>0</td>\n",
       "      <td>1</td>\n",
       "      <td>0</td>\n",
       "      <td>0</td>\n",
       "      <td>1</td>\n",
       "      <td>0</td>\n",
       "      <td>0</td>\n",
       "      <td>0</td>\n",
       "      <td>0</td>\n",
       "      <td>0</td>\n",
       "      <td>1</td>\n",
       "      <td>0</td>\n",
       "    </tr>\n",
       "    <tr>\n",
       "      <td>1</td>\n",
       "      <td>1</td>\n",
       "      <td>0</td>\n",
       "      <td>0</td>\n",
       "      <td>1</td>\n",
       "      <td>0</td>\n",
       "      <td>0</td>\n",
       "      <td>1</td>\n",
       "      <td>1</td>\n",
       "      <td>0</td>\n",
       "      <td>0</td>\n",
       "      <td>1</td>\n",
       "      <td>0</td>\n",
       "      <td>0</td>\n",
       "      <td>0</td>\n",
       "      <td>0</td>\n",
       "      <td>0</td>\n",
       "      <td>1</td>\n",
       "      <td>0</td>\n",
       "    </tr>\n",
       "    <tr>\n",
       "      <td>2</td>\n",
       "      <td>1</td>\n",
       "      <td>0</td>\n",
       "      <td>0</td>\n",
       "      <td>1</td>\n",
       "      <td>1</td>\n",
       "      <td>0</td>\n",
       "      <td>0</td>\n",
       "      <td>1</td>\n",
       "      <td>0</td>\n",
       "      <td>0</td>\n",
       "      <td>1</td>\n",
       "      <td>0</td>\n",
       "      <td>0</td>\n",
       "      <td>0</td>\n",
       "      <td>0</td>\n",
       "      <td>0</td>\n",
       "      <td>1</td>\n",
       "      <td>0</td>\n",
       "    </tr>\n",
       "    <tr>\n",
       "      <td>3</td>\n",
       "      <td>1</td>\n",
       "      <td>0</td>\n",
       "      <td>0</td>\n",
       "      <td>1</td>\n",
       "      <td>1</td>\n",
       "      <td>0</td>\n",
       "      <td>0</td>\n",
       "      <td>0</td>\n",
       "      <td>1</td>\n",
       "      <td>0</td>\n",
       "      <td>0</td>\n",
       "      <td>0</td>\n",
       "      <td>0</td>\n",
       "      <td>0</td>\n",
       "      <td>1</td>\n",
       "      <td>0</td>\n",
       "      <td>1</td>\n",
       "      <td>0</td>\n",
       "    </tr>\n",
       "    <tr>\n",
       "      <td>4</td>\n",
       "      <td>0</td>\n",
       "      <td>1</td>\n",
       "      <td>1</td>\n",
       "      <td>0</td>\n",
       "      <td>0</td>\n",
       "      <td>0</td>\n",
       "      <td>1</td>\n",
       "      <td>0</td>\n",
       "      <td>1</td>\n",
       "      <td>0</td>\n",
       "      <td>1</td>\n",
       "      <td>0</td>\n",
       "      <td>0</td>\n",
       "      <td>0</td>\n",
       "      <td>0</td>\n",
       "      <td>0</td>\n",
       "      <td>1</td>\n",
       "      <td>0</td>\n",
       "    </tr>\n",
       "  </tbody>\n",
       "</table>\n",
       "</div>"
      ],
      "text/plain": [
       "   term_ 36 months  term_ 60 months  emp_length_6+ years  \\\n",
       "0                0                1                    0   \n",
       "1                1                0                    0   \n",
       "2                1                0                    0   \n",
       "3                1                0                    0   \n",
       "4                0                1                    1   \n",
       "\n",
       "   emp_length_<= 5 years  home_ownership_OTHER  home_ownership_OWN  \\\n",
       "0                      1                     1                   0   \n",
       "1                      1                     0                   0   \n",
       "2                      1                     1                   0   \n",
       "3                      1                     1                   0   \n",
       "4                      0                     0                   0   \n",
       "\n",
       "   home_ownership_RENT  verification_status_Not Verified  \\\n",
       "0                    0                                 1   \n",
       "1                    1                                 1   \n",
       "2                    0                                 1   \n",
       "3                    0                                 0   \n",
       "4                    1                                 0   \n",
       "\n",
       "   verification_status_Source Verified  verification_status_Verified  \\\n",
       "0                                    0                             0   \n",
       "1                                    0                             0   \n",
       "2                                    0                             0   \n",
       "3                                    1                             0   \n",
       "4                                    1                             0   \n",
       "\n",
       "   purpose_debt_consolidation  purpose_home  purpose_investment  \\\n",
       "0                           1             0                   0   \n",
       "1                           1             0                   0   \n",
       "2                           1             0                   0   \n",
       "3                           0             0                   0   \n",
       "4                           1             0                   0   \n",
       "\n",
       "   purpose_medical  purpose_other  purpose_purchase  \\\n",
       "0                0              0                 0   \n",
       "1                0              0                 0   \n",
       "2                0              0                 0   \n",
       "3                0              1                 0   \n",
       "4                0              0                 0   \n",
       "\n",
       "   application_type_Individual  application_type_Joint App  \n",
       "0                            1                           0  \n",
       "1                            1                           0  \n",
       "2                            1                           0  \n",
       "3                            1                           0  \n",
       "4                            1                           0  "
      ]
     },
     "execution_count": 87,
     "metadata": {},
     "output_type": "execute_result"
    }
   ],
   "source": [
    "dummies = pd.get_dummies(categoricas)\n",
    "dummies.head()"
   ]
  },
  {
   "cell_type": "code",
   "execution_count": 88,
   "metadata": {},
   "outputs": [
    {
     "name": "stdout",
     "output_type": "stream",
     "text": [
      "<class 'pandas.core.frame.DataFrame'>\n",
      "RangeIndex: 950000 entries, 0 to 949999\n",
      "Data columns (total 18 columns):\n",
      "term_ 36 months                        950000 non-null uint8\n",
      "term_ 60 months                        950000 non-null uint8\n",
      "emp_length_6+ years                    950000 non-null uint8\n",
      "emp_length_<= 5 years                  950000 non-null uint8\n",
      "home_ownership_OTHER                   950000 non-null uint8\n",
      "home_ownership_OWN                     950000 non-null uint8\n",
      "home_ownership_RENT                    950000 non-null uint8\n",
      "verification_status_Not Verified       950000 non-null uint8\n",
      "verification_status_Source Verified    950000 non-null uint8\n",
      "verification_status_Verified           950000 non-null uint8\n",
      "purpose_debt_consolidation             950000 non-null uint8\n",
      "purpose_home                           950000 non-null uint8\n",
      "purpose_investment                     950000 non-null uint8\n",
      "purpose_medical                        950000 non-null uint8\n",
      "purpose_other                          950000 non-null uint8\n",
      "purpose_purchase                       950000 non-null uint8\n",
      "application_type_Individual            950000 non-null uint8\n",
      "application_type_Joint App             950000 non-null uint8\n",
      "dtypes: uint8(18)\n",
      "memory usage: 16.3 MB\n"
     ]
    }
   ],
   "source": [
    "dummies.info()"
   ]
  },
  {
   "cell_type": "code",
   "execution_count": 89,
   "metadata": {},
   "outputs": [],
   "source": [
    "# deletting the original variables to the dataset\n",
    "\n",
    "del loan_filtered['term']\n",
    "del loan_filtered['emp_length']\n",
    "del loan_filtered['home_ownership']\n",
    "del loan_filtered['verification_status']\n",
    "del loan_filtered['purpose']\n",
    "del loan_filtered['application_type']"
   ]
  },
  {
   "cell_type": "code",
   "execution_count": 90,
   "metadata": {},
   "outputs": [],
   "source": [
    "dummies['target'] = loan_filtered['target']\n",
    "dummies['desc'] = loan_filtered['desc']\n",
    "dummies['grade'] = loan_filtered['grade']"
   ]
  },
  {
   "cell_type": "markdown",
   "metadata": {},
   "source": [
    "### 4.3 Scaling"
   ]
  },
  {
   "cell_type": "markdown",
   "metadata": {},
   "source": [
    "Before concatenating the dummies we will scale the numeric variables of the dataset, we are going to use the Standard method."
   ]
  },
  {
   "cell_type": "code",
   "execution_count": 91,
   "metadata": {},
   "outputs": [],
   "source": [
    "del numericas['target']\n",
    "del numericas['desc']\n",
    "del numericas['grade']"
   ]
  },
  {
   "cell_type": "code",
   "execution_count": 92,
   "metadata": {},
   "outputs": [],
   "source": [
    "sc = StandardScaler()\n",
    "num_scaled = sc.fit_transform(numericas)\n",
    "num_scaled = pd.DataFrame(num_scaled, columns = numericas.columns)"
   ]
  },
  {
   "cell_type": "code",
   "execution_count": 93,
   "metadata": {},
   "outputs": [
    {
     "data": {
      "text/html": [
       "<div>\n",
       "<style scoped>\n",
       "    .dataframe tbody tr th:only-of-type {\n",
       "        vertical-align: middle;\n",
       "    }\n",
       "\n",
       "    .dataframe tbody tr th {\n",
       "        vertical-align: top;\n",
       "    }\n",
       "\n",
       "    .dataframe thead th {\n",
       "        text-align: right;\n",
       "    }\n",
       "</style>\n",
       "<table border=\"1\" class=\"dataframe\">\n",
       "  <thead>\n",
       "    <tr style=\"text-align: right;\">\n",
       "      <th></th>\n",
       "      <th>loan_amnt</th>\n",
       "      <th>int_rate</th>\n",
       "      <th>installment</th>\n",
       "      <th>annual_inc</th>\n",
       "      <th>dti</th>\n",
       "      <th>delinq_2yrs</th>\n",
       "      <th>inq_last_6mths</th>\n",
       "      <th>mths_since_last_delinq</th>\n",
       "      <th>mths_since_last_record</th>\n",
       "      <th>open_acc</th>\n",
       "      <th>...</th>\n",
       "      <th>num_tl_op_past_12m</th>\n",
       "      <th>pct_tl_nvr_dlq</th>\n",
       "      <th>percent_bc_gt_75</th>\n",
       "      <th>pub_rec_bankruptcies</th>\n",
       "      <th>tax_liens</th>\n",
       "      <th>tot_hi_cred_lim</th>\n",
       "      <th>total_bal_ex_mort</th>\n",
       "      <th>total_bc_limit</th>\n",
       "      <th>total_il_high_credit_limit</th>\n",
       "      <th>earliest_cr_line</th>\n",
       "    </tr>\n",
       "  </thead>\n",
       "  <tbody>\n",
       "    <tr>\n",
       "      <td>0</td>\n",
       "      <td>0.662751</td>\n",
       "      <td>1.494076</td>\n",
       "      <td>0.382284</td>\n",
       "      <td>-0.172057</td>\n",
       "      <td>0.158557</td>\n",
       "      <td>0.938666</td>\n",
       "      <td>0.384337</td>\n",
       "      <td>-1.227805</td>\n",
       "      <td>0.397505</td>\n",
       "      <td>1.560443</td>\n",
       "      <td>...</td>\n",
       "      <td>0.557541</td>\n",
       "      <td>0.143465</td>\n",
       "      <td>0.974933</td>\n",
       "      <td>-0.354075</td>\n",
       "      <td>-0.119774</td>\n",
       "      <td>-0.239126</td>\n",
       "      <td>-0.457511</td>\n",
       "      <td>-0.662128</td>\n",
       "      <td>-0.249310</td>\n",
       "      <td>-0.688639</td>\n",
       "    </tr>\n",
       "    <tr>\n",
       "      <td>1</td>\n",
       "      <td>-1.195200</td>\n",
       "      <td>-0.862249</td>\n",
       "      <td>-1.191234</td>\n",
       "      <td>-0.567631</td>\n",
       "      <td>-1.060041</td>\n",
       "      <td>-0.370282</td>\n",
       "      <td>-0.680940</td>\n",
       "      <td>0.961941</td>\n",
       "      <td>0.397505</td>\n",
       "      <td>-1.243822</td>\n",
       "      <td>...</td>\n",
       "      <td>-0.047412</td>\n",
       "      <td>0.684600</td>\n",
       "      <td>-1.305244</td>\n",
       "      <td>-0.354075</td>\n",
       "      <td>-0.119774</td>\n",
       "      <td>-0.987159</td>\n",
       "      <td>-1.056284</td>\n",
       "      <td>-0.882313</td>\n",
       "      <td>-1.017492</td>\n",
       "      <td>-1.618679</td>\n",
       "    </tr>\n",
       "    <tr>\n",
       "      <td>2</td>\n",
       "      <td>-0.492982</td>\n",
       "      <td>-1.133558</td>\n",
       "      <td>-0.464256</td>\n",
       "      <td>-0.201359</td>\n",
       "      <td>-1.149479</td>\n",
       "      <td>-0.370282</td>\n",
       "      <td>-0.680940</td>\n",
       "      <td>0.961941</td>\n",
       "      <td>0.397505</td>\n",
       "      <td>-1.644431</td>\n",
       "      <td>...</td>\n",
       "      <td>0.064130</td>\n",
       "      <td>-0.019995</td>\n",
       "      <td>-0.014957</td>\n",
       "      <td>-0.354075</td>\n",
       "      <td>-0.119774</td>\n",
       "      <td>0.060947</td>\n",
       "      <td>0.073032</td>\n",
       "      <td>0.047976</td>\n",
       "      <td>0.061541</td>\n",
       "      <td>-0.821502</td>\n",
       "    </tr>\n",
       "    <tr>\n",
       "      <td>3</td>\n",
       "      <td>-1.253718</td>\n",
       "      <td>-0.584532</td>\n",
       "      <td>-1.245387</td>\n",
       "      <td>0.025730</td>\n",
       "      <td>-0.124664</td>\n",
       "      <td>-0.370282</td>\n",
       "      <td>0.384337</td>\n",
       "      <td>-0.938593</td>\n",
       "      <td>0.397505</td>\n",
       "      <td>0.959529</td>\n",
       "      <td>...</td>\n",
       "      <td>1.767447</td>\n",
       "      <td>-0.313493</td>\n",
       "      <td>-1.305244</td>\n",
       "      <td>-0.354075</td>\n",
       "      <td>-0.119774</td>\n",
       "      <td>0.534851</td>\n",
       "      <td>-0.355360</td>\n",
       "      <td>-0.379033</td>\n",
       "      <td>0.158076</td>\n",
       "      <td>-0.821502</td>\n",
       "    </tr>\n",
       "    <tr>\n",
       "      <td>4</td>\n",
       "      <td>-0.229651</td>\n",
       "      <td>2.944616</td>\n",
       "      <td>-0.224740</td>\n",
       "      <td>-0.218896</td>\n",
       "      <td>0.738043</td>\n",
       "      <td>-0.370282</td>\n",
       "      <td>-0.680940</td>\n",
       "      <td>0.961941</td>\n",
       "      <td>-0.769116</td>\n",
       "      <td>-1.043517</td>\n",
       "      <td>...</td>\n",
       "      <td>-0.047412</td>\n",
       "      <td>0.684600</td>\n",
       "      <td>0.832422</td>\n",
       "      <td>2.319319</td>\n",
       "      <td>-0.119774</td>\n",
       "      <td>-0.690939</td>\n",
       "      <td>0.194608</td>\n",
       "      <td>-0.766978</td>\n",
       "      <td>0.302479</td>\n",
       "      <td>-1.220091</td>\n",
       "    </tr>\n",
       "    <tr>\n",
       "      <td>5</td>\n",
       "      <td>-0.071652</td>\n",
       "      <td>0.808328</td>\n",
       "      <td>0.209823</td>\n",
       "      <td>-0.391820</td>\n",
       "      <td>0.468796</td>\n",
       "      <td>-0.370282</td>\n",
       "      <td>0.384337</td>\n",
       "      <td>-1.124515</td>\n",
       "      <td>0.397505</td>\n",
       "      <td>-0.041994</td>\n",
       "      <td>...</td>\n",
       "      <td>0.557541</td>\n",
       "      <td>-0.169190</td>\n",
       "      <td>1.544977</td>\n",
       "      <td>-0.354075</td>\n",
       "      <td>-0.119774</td>\n",
       "      <td>-0.892211</td>\n",
       "      <td>-0.717293</td>\n",
       "      <td>-0.798433</td>\n",
       "      <td>-0.768687</td>\n",
       "      <td>-0.821502</td>\n",
       "    </tr>\n",
       "    <tr>\n",
       "      <td>6</td>\n",
       "      <td>-0.492982</td>\n",
       "      <td>-1.031016</td>\n",
       "      <td>-0.455590</td>\n",
       "      <td>-0.421122</td>\n",
       "      <td>-1.349784</td>\n",
       "      <td>-0.370282</td>\n",
       "      <td>-0.680940</td>\n",
       "      <td>0.961941</td>\n",
       "      <td>0.397505</td>\n",
       "      <td>-1.644431</td>\n",
       "      <td>...</td>\n",
       "      <td>-0.652365</td>\n",
       "      <td>0.684600</td>\n",
       "      <td>-0.356120</td>\n",
       "      <td>-0.354075</td>\n",
       "      <td>-0.119774</td>\n",
       "      <td>-0.988447</td>\n",
       "      <td>-1.037366</td>\n",
       "      <td>-0.499610</td>\n",
       "      <td>-1.049113</td>\n",
       "      <td>-1.087228</td>\n",
       "    </tr>\n",
       "    <tr>\n",
       "      <td>7</td>\n",
       "      <td>0.864639</td>\n",
       "      <td>-0.919929</td>\n",
       "      <td>0.998248</td>\n",
       "      <td>0.941410</td>\n",
       "      <td>0.002040</td>\n",
       "      <td>-0.370282</td>\n",
       "      <td>-0.680940</td>\n",
       "      <td>0.961941</td>\n",
       "      <td>0.397505</td>\n",
       "      <td>0.158311</td>\n",
       "      <td>...</td>\n",
       "      <td>-0.047412</td>\n",
       "      <td>0.684600</td>\n",
       "      <td>-0.165156</td>\n",
       "      <td>-0.354075</td>\n",
       "      <td>-0.119774</td>\n",
       "      <td>0.609660</td>\n",
       "      <td>0.855929</td>\n",
       "      <td>0.444040</td>\n",
       "      <td>1.381155</td>\n",
       "      <td>1.570029</td>\n",
       "    </tr>\n",
       "    <tr>\n",
       "      <td>8</td>\n",
       "      <td>0.677381</td>\n",
       "      <td>0.393888</td>\n",
       "      <td>1.029344</td>\n",
       "      <td>0.457931</td>\n",
       "      <td>-0.178700</td>\n",
       "      <td>-0.370282</td>\n",
       "      <td>-0.680940</td>\n",
       "      <td>0.961941</td>\n",
       "      <td>0.397505</td>\n",
       "      <td>0.158311</td>\n",
       "      <td>...</td>\n",
       "      <td>-0.047412</td>\n",
       "      <td>0.684600</td>\n",
       "      <td>0.119867</td>\n",
       "      <td>-0.354075</td>\n",
       "      <td>-0.119774</td>\n",
       "      <td>-0.546230</td>\n",
       "      <td>0.138662</td>\n",
       "      <td>1.062655</td>\n",
       "      <td>-0.185856</td>\n",
       "      <td>-0.954365</td>\n",
       "    </tr>\n",
       "    <tr>\n",
       "      <td>9</td>\n",
       "      <td>-0.024837</td>\n",
       "      <td>0.594699</td>\n",
       "      <td>0.238527</td>\n",
       "      <td>-0.421122</td>\n",
       "      <td>-0.791726</td>\n",
       "      <td>0.938666</td>\n",
       "      <td>0.384337</td>\n",
       "      <td>-1.310437</td>\n",
       "      <td>0.397505</td>\n",
       "      <td>-1.043517</td>\n",
       "      <td>...</td>\n",
       "      <td>-0.047412</td>\n",
       "      <td>0.011188</td>\n",
       "      <td>-1.305244</td>\n",
       "      <td>-0.354075</td>\n",
       "      <td>-0.119774</td>\n",
       "      <td>-0.847396</td>\n",
       "      <td>-0.784920</td>\n",
       "      <td>0.648497</td>\n",
       "      <td>-1.049113</td>\n",
       "      <td>-0.290051</td>\n",
       "    </tr>\n",
       "  </tbody>\n",
       "</table>\n",
       "<p>10 rows × 74 columns</p>\n",
       "</div>"
      ],
      "text/plain": [
       "   loan_amnt  int_rate  installment  annual_inc       dti  delinq_2yrs  \\\n",
       "0   0.662751  1.494076     0.382284   -0.172057  0.158557     0.938666   \n",
       "1  -1.195200 -0.862249    -1.191234   -0.567631 -1.060041    -0.370282   \n",
       "2  -0.492982 -1.133558    -0.464256   -0.201359 -1.149479    -0.370282   \n",
       "3  -1.253718 -0.584532    -1.245387    0.025730 -0.124664    -0.370282   \n",
       "4  -0.229651  2.944616    -0.224740   -0.218896  0.738043    -0.370282   \n",
       "5  -0.071652  0.808328     0.209823   -0.391820  0.468796    -0.370282   \n",
       "6  -0.492982 -1.031016    -0.455590   -0.421122 -1.349784    -0.370282   \n",
       "7   0.864639 -0.919929     0.998248    0.941410  0.002040    -0.370282   \n",
       "8   0.677381  0.393888     1.029344    0.457931 -0.178700    -0.370282   \n",
       "9  -0.024837  0.594699     0.238527   -0.421122 -0.791726     0.938666   \n",
       "\n",
       "   inq_last_6mths  mths_since_last_delinq  mths_since_last_record  open_acc  \\\n",
       "0        0.384337               -1.227805                0.397505  1.560443   \n",
       "1       -0.680940                0.961941                0.397505 -1.243822   \n",
       "2       -0.680940                0.961941                0.397505 -1.644431   \n",
       "3        0.384337               -0.938593                0.397505  0.959529   \n",
       "4       -0.680940                0.961941               -0.769116 -1.043517   \n",
       "5        0.384337               -1.124515                0.397505 -0.041994   \n",
       "6       -0.680940                0.961941                0.397505 -1.644431   \n",
       "7       -0.680940                0.961941                0.397505  0.158311   \n",
       "8       -0.680940                0.961941                0.397505  0.158311   \n",
       "9        0.384337               -1.310437                0.397505 -1.043517   \n",
       "\n",
       "   ...  num_tl_op_past_12m  pct_tl_nvr_dlq  percent_bc_gt_75  \\\n",
       "0  ...            0.557541        0.143465          0.974933   \n",
       "1  ...           -0.047412        0.684600         -1.305244   \n",
       "2  ...            0.064130       -0.019995         -0.014957   \n",
       "3  ...            1.767447       -0.313493         -1.305244   \n",
       "4  ...           -0.047412        0.684600          0.832422   \n",
       "5  ...            0.557541       -0.169190          1.544977   \n",
       "6  ...           -0.652365        0.684600         -0.356120   \n",
       "7  ...           -0.047412        0.684600         -0.165156   \n",
       "8  ...           -0.047412        0.684600          0.119867   \n",
       "9  ...           -0.047412        0.011188         -1.305244   \n",
       "\n",
       "   pub_rec_bankruptcies  tax_liens  tot_hi_cred_lim  total_bal_ex_mort  \\\n",
       "0             -0.354075  -0.119774        -0.239126          -0.457511   \n",
       "1             -0.354075  -0.119774        -0.987159          -1.056284   \n",
       "2             -0.354075  -0.119774         0.060947           0.073032   \n",
       "3             -0.354075  -0.119774         0.534851          -0.355360   \n",
       "4              2.319319  -0.119774        -0.690939           0.194608   \n",
       "5             -0.354075  -0.119774        -0.892211          -0.717293   \n",
       "6             -0.354075  -0.119774        -0.988447          -1.037366   \n",
       "7             -0.354075  -0.119774         0.609660           0.855929   \n",
       "8             -0.354075  -0.119774        -0.546230           0.138662   \n",
       "9             -0.354075  -0.119774        -0.847396          -0.784920   \n",
       "\n",
       "   total_bc_limit  total_il_high_credit_limit  earliest_cr_line  \n",
       "0       -0.662128                   -0.249310         -0.688639  \n",
       "1       -0.882313                   -1.017492         -1.618679  \n",
       "2        0.047976                    0.061541         -0.821502  \n",
       "3       -0.379033                    0.158076         -0.821502  \n",
       "4       -0.766978                    0.302479         -1.220091  \n",
       "5       -0.798433                   -0.768687         -0.821502  \n",
       "6       -0.499610                   -1.049113         -1.087228  \n",
       "7        0.444040                    1.381155          1.570029  \n",
       "8        1.062655                   -0.185856         -0.954365  \n",
       "9        0.648497                   -1.049113         -0.290051  \n",
       "\n",
       "[10 rows x 74 columns]"
      ]
     },
     "execution_count": 93,
     "metadata": {},
     "output_type": "execute_result"
    }
   ],
   "source": [
    "num_scaled.head(10)"
   ]
  },
  {
   "cell_type": "code",
   "execution_count": 94,
   "metadata": {},
   "outputs": [
    {
     "name": "stdout",
     "output_type": "stream",
     "text": [
      "<class 'pandas.core.frame.DataFrame'>\n",
      "RangeIndex: 950000 entries, 0 to 949999\n",
      "Data columns (total 95 columns):\n",
      "loan_amnt                              950000 non-null float64\n",
      "int_rate                               950000 non-null float64\n",
      "installment                            950000 non-null float64\n",
      "annual_inc                             950000 non-null float64\n",
      "dti                                    950000 non-null float64\n",
      "delinq_2yrs                            950000 non-null float64\n",
      "inq_last_6mths                         950000 non-null float64\n",
      "mths_since_last_delinq                 950000 non-null float64\n",
      "mths_since_last_record                 950000 non-null float64\n",
      "open_acc                               950000 non-null float64\n",
      "pub_rec                                950000 non-null float64\n",
      "revol_bal                              950000 non-null float64\n",
      "revol_util                             950000 non-null float64\n",
      "total_acc                              950000 non-null float64\n",
      "recoveries                             950000 non-null float64\n",
      "collection_recovery_fee                950000 non-null float64\n",
      "collections_12_mths_ex_med             950000 non-null float64\n",
      "mths_since_last_major_derog            950000 non-null float64\n",
      "policy_code                            950000 non-null float64\n",
      "acc_now_delinq                         950000 non-null float64\n",
      "tot_coll_amt                           950000 non-null float64\n",
      "tot_cur_bal                            950000 non-null float64\n",
      "open_acc_6m                            950000 non-null float64\n",
      "open_act_il                            950000 non-null float64\n",
      "open_il_12m                            950000 non-null float64\n",
      "open_il_24m                            950000 non-null float64\n",
      "mths_since_rcnt_il                     950000 non-null float64\n",
      "total_bal_il                           950000 non-null float64\n",
      "il_util                                950000 non-null float64\n",
      "open_rv_12m                            950000 non-null float64\n",
      "open_rv_24m                            950000 non-null float64\n",
      "max_bal_bc                             950000 non-null float64\n",
      "all_util                               950000 non-null float64\n",
      "total_rev_hi_lim                       950000 non-null float64\n",
      "inq_fi                                 950000 non-null float64\n",
      "total_cu_tl                            950000 non-null float64\n",
      "inq_last_12m                           950000 non-null float64\n",
      "acc_open_past_24mths                   950000 non-null float64\n",
      "avg_cur_bal                            950000 non-null float64\n",
      "bc_open_to_buy                         950000 non-null float64\n",
      "bc_util                                950000 non-null float64\n",
      "chargeoff_within_12_mths               950000 non-null float64\n",
      "delinq_amnt                            950000 non-null float64\n",
      "mo_sin_old_il_acct                     950000 non-null float64\n",
      "mo_sin_old_rev_tl_op                   950000 non-null float64\n",
      "mo_sin_rcnt_rev_tl_op                  950000 non-null float64\n",
      "mo_sin_rcnt_tl                         950000 non-null float64\n",
      "mort_acc                               950000 non-null float64\n",
      "mths_since_recent_bc                   950000 non-null float64\n",
      "mths_since_recent_bc_dlq               950000 non-null float64\n",
      "mths_since_recent_inq                  950000 non-null float64\n",
      "mths_since_recent_revol_delinq         950000 non-null float64\n",
      "num_accts_ever_120_pd                  950000 non-null float64\n",
      "num_actv_bc_tl                         950000 non-null float64\n",
      "num_actv_rev_tl                        950000 non-null float64\n",
      "num_bc_sats                            950000 non-null float64\n",
      "num_bc_tl                              950000 non-null float64\n",
      "num_il_tl                              950000 non-null float64\n",
      "num_op_rev_tl                          950000 non-null float64\n",
      "num_rev_accts                          950000 non-null float64\n",
      "num_sats                               950000 non-null float64\n",
      "num_tl_120dpd_2m                       950000 non-null float64\n",
      "num_tl_30dpd                           950000 non-null float64\n",
      "num_tl_90g_dpd_24m                     950000 non-null float64\n",
      "num_tl_op_past_12m                     950000 non-null float64\n",
      "pct_tl_nvr_dlq                         950000 non-null float64\n",
      "percent_bc_gt_75                       950000 non-null float64\n",
      "pub_rec_bankruptcies                   950000 non-null float64\n",
      "tax_liens                              950000 non-null float64\n",
      "tot_hi_cred_lim                        950000 non-null float64\n",
      "total_bal_ex_mort                      950000 non-null float64\n",
      "total_bc_limit                         950000 non-null float64\n",
      "total_il_high_credit_limit             950000 non-null float64\n",
      "earliest_cr_line                       950000 non-null float64\n",
      "term_ 36 months                        950000 non-null uint8\n",
      "term_ 60 months                        950000 non-null uint8\n",
      "emp_length_6+ years                    950000 non-null uint8\n",
      "emp_length_<= 5 years                  950000 non-null uint8\n",
      "home_ownership_OTHER                   950000 non-null uint8\n",
      "home_ownership_OWN                     950000 non-null uint8\n",
      "home_ownership_RENT                    950000 non-null uint8\n",
      "verification_status_Not Verified       950000 non-null uint8\n",
      "verification_status_Source Verified    950000 non-null uint8\n",
      "verification_status_Verified           950000 non-null uint8\n",
      "purpose_debt_consolidation             950000 non-null uint8\n",
      "purpose_home                           950000 non-null uint8\n",
      "purpose_investment                     950000 non-null uint8\n",
      "purpose_medical                        950000 non-null uint8\n",
      "purpose_other                          950000 non-null uint8\n",
      "purpose_purchase                       950000 non-null uint8\n",
      "application_type_Individual            950000 non-null uint8\n",
      "application_type_Joint App             950000 non-null uint8\n",
      "target                                 950000 non-null int64\n",
      "desc                                   950000 non-null int64\n",
      "grade                                  950000 non-null int64\n",
      "dtypes: float64(74), int64(3), uint8(18)\n",
      "memory usage: 574.4 MB\n"
     ]
    }
   ],
   "source": [
    "# concatenating the dummies\n",
    "\n",
    "loan_filtered_final = pd.merge(num_scaled, dummies, left_index=True, right_index=True)\n",
    "loan_filtered_final.info()"
   ]
  },
  {
   "cell_type": "code",
   "execution_count": 95,
   "metadata": {},
   "outputs": [
    {
     "data": {
      "text/html": [
       "<div>\n",
       "<style scoped>\n",
       "    .dataframe tbody tr th:only-of-type {\n",
       "        vertical-align: middle;\n",
       "    }\n",
       "\n",
       "    .dataframe tbody tr th {\n",
       "        vertical-align: top;\n",
       "    }\n",
       "\n",
       "    .dataframe thead th {\n",
       "        text-align: right;\n",
       "    }\n",
       "</style>\n",
       "<table border=\"1\" class=\"dataframe\">\n",
       "  <thead>\n",
       "    <tr style=\"text-align: right;\">\n",
       "      <th></th>\n",
       "      <th>loan_amnt</th>\n",
       "      <th>int_rate</th>\n",
       "      <th>installment</th>\n",
       "      <th>annual_inc</th>\n",
       "      <th>dti</th>\n",
       "      <th>delinq_2yrs</th>\n",
       "      <th>inq_last_6mths</th>\n",
       "      <th>mths_since_last_delinq</th>\n",
       "      <th>mths_since_last_record</th>\n",
       "      <th>open_acc</th>\n",
       "      <th>...</th>\n",
       "      <th>purpose_home</th>\n",
       "      <th>purpose_investment</th>\n",
       "      <th>purpose_medical</th>\n",
       "      <th>purpose_other</th>\n",
       "      <th>purpose_purchase</th>\n",
       "      <th>application_type_Individual</th>\n",
       "      <th>application_type_Joint App</th>\n",
       "      <th>target</th>\n",
       "      <th>desc</th>\n",
       "      <th>grade</th>\n",
       "    </tr>\n",
       "  </thead>\n",
       "  <tbody>\n",
       "    <tr>\n",
       "      <td>0</td>\n",
       "      <td>0.662751</td>\n",
       "      <td>1.494076</td>\n",
       "      <td>0.382284</td>\n",
       "      <td>-0.172057</td>\n",
       "      <td>0.158557</td>\n",
       "      <td>0.938666</td>\n",
       "      <td>0.384337</td>\n",
       "      <td>-1.227805</td>\n",
       "      <td>0.397505</td>\n",
       "      <td>1.560443</td>\n",
       "      <td>...</td>\n",
       "      <td>0</td>\n",
       "      <td>0</td>\n",
       "      <td>0</td>\n",
       "      <td>0</td>\n",
       "      <td>0</td>\n",
       "      <td>1</td>\n",
       "      <td>0</td>\n",
       "      <td>0</td>\n",
       "      <td>0</td>\n",
       "      <td>2</td>\n",
       "    </tr>\n",
       "    <tr>\n",
       "      <td>1</td>\n",
       "      <td>-1.195200</td>\n",
       "      <td>-0.862249</td>\n",
       "      <td>-1.191234</td>\n",
       "      <td>-0.567631</td>\n",
       "      <td>-1.060041</td>\n",
       "      <td>-0.370282</td>\n",
       "      <td>-0.680940</td>\n",
       "      <td>0.961941</td>\n",
       "      <td>0.397505</td>\n",
       "      <td>-1.243822</td>\n",
       "      <td>...</td>\n",
       "      <td>0</td>\n",
       "      <td>0</td>\n",
       "      <td>0</td>\n",
       "      <td>0</td>\n",
       "      <td>0</td>\n",
       "      <td>1</td>\n",
       "      <td>0</td>\n",
       "      <td>0</td>\n",
       "      <td>0</td>\n",
       "      <td>5</td>\n",
       "    </tr>\n",
       "    <tr>\n",
       "      <td>2</td>\n",
       "      <td>-0.492982</td>\n",
       "      <td>-1.133558</td>\n",
       "      <td>-0.464256</td>\n",
       "      <td>-0.201359</td>\n",
       "      <td>-1.149479</td>\n",
       "      <td>-0.370282</td>\n",
       "      <td>-0.680940</td>\n",
       "      <td>0.961941</td>\n",
       "      <td>0.397505</td>\n",
       "      <td>-1.644431</td>\n",
       "      <td>...</td>\n",
       "      <td>0</td>\n",
       "      <td>0</td>\n",
       "      <td>0</td>\n",
       "      <td>0</td>\n",
       "      <td>0</td>\n",
       "      <td>1</td>\n",
       "      <td>0</td>\n",
       "      <td>0</td>\n",
       "      <td>1</td>\n",
       "      <td>6</td>\n",
       "    </tr>\n",
       "    <tr>\n",
       "      <td>3</td>\n",
       "      <td>-1.253718</td>\n",
       "      <td>-0.584532</td>\n",
       "      <td>-1.245387</td>\n",
       "      <td>0.025730</td>\n",
       "      <td>-0.124664</td>\n",
       "      <td>-0.370282</td>\n",
       "      <td>0.384337</td>\n",
       "      <td>-0.938593</td>\n",
       "      <td>0.397505</td>\n",
       "      <td>0.959529</td>\n",
       "      <td>...</td>\n",
       "      <td>0</td>\n",
       "      <td>0</td>\n",
       "      <td>0</td>\n",
       "      <td>1</td>\n",
       "      <td>0</td>\n",
       "      <td>1</td>\n",
       "      <td>0</td>\n",
       "      <td>0</td>\n",
       "      <td>0</td>\n",
       "      <td>5</td>\n",
       "    </tr>\n",
       "    <tr>\n",
       "      <td>4</td>\n",
       "      <td>-0.229651</td>\n",
       "      <td>2.944616</td>\n",
       "      <td>-0.224740</td>\n",
       "      <td>-0.218896</td>\n",
       "      <td>0.738043</td>\n",
       "      <td>-0.370282</td>\n",
       "      <td>-0.680940</td>\n",
       "      <td>0.961941</td>\n",
       "      <td>-0.769116</td>\n",
       "      <td>-1.043517</td>\n",
       "      <td>...</td>\n",
       "      <td>0</td>\n",
       "      <td>0</td>\n",
       "      <td>0</td>\n",
       "      <td>0</td>\n",
       "      <td>0</td>\n",
       "      <td>1</td>\n",
       "      <td>0</td>\n",
       "      <td>1</td>\n",
       "      <td>0</td>\n",
       "      <td>1</td>\n",
       "    </tr>\n",
       "  </tbody>\n",
       "</table>\n",
       "<p>5 rows × 95 columns</p>\n",
       "</div>"
      ],
      "text/plain": [
       "   loan_amnt  int_rate  installment  annual_inc       dti  delinq_2yrs  \\\n",
       "0   0.662751  1.494076     0.382284   -0.172057  0.158557     0.938666   \n",
       "1  -1.195200 -0.862249    -1.191234   -0.567631 -1.060041    -0.370282   \n",
       "2  -0.492982 -1.133558    -0.464256   -0.201359 -1.149479    -0.370282   \n",
       "3  -1.253718 -0.584532    -1.245387    0.025730 -0.124664    -0.370282   \n",
       "4  -0.229651  2.944616    -0.224740   -0.218896  0.738043    -0.370282   \n",
       "\n",
       "   inq_last_6mths  mths_since_last_delinq  mths_since_last_record  open_acc  \\\n",
       "0        0.384337               -1.227805                0.397505  1.560443   \n",
       "1       -0.680940                0.961941                0.397505 -1.243822   \n",
       "2       -0.680940                0.961941                0.397505 -1.644431   \n",
       "3        0.384337               -0.938593                0.397505  0.959529   \n",
       "4       -0.680940                0.961941               -0.769116 -1.043517   \n",
       "\n",
       "   ...  purpose_home  purpose_investment  purpose_medical  purpose_other  \\\n",
       "0  ...             0                   0                0              0   \n",
       "1  ...             0                   0                0              0   \n",
       "2  ...             0                   0                0              0   \n",
       "3  ...             0                   0                0              1   \n",
       "4  ...             0                   0                0              0   \n",
       "\n",
       "   purpose_purchase  application_type_Individual  application_type_Joint App  \\\n",
       "0                 0                            1                           0   \n",
       "1                 0                            1                           0   \n",
       "2                 0                            1                           0   \n",
       "3                 0                            1                           0   \n",
       "4                 0                            1                           0   \n",
       "\n",
       "   target  desc  grade  \n",
       "0       0     0      2  \n",
       "1       0     0      5  \n",
       "2       0     1      6  \n",
       "3       0     0      5  \n",
       "4       1     0      1  \n",
       "\n",
       "[5 rows x 95 columns]"
      ]
     },
     "execution_count": 95,
     "metadata": {},
     "output_type": "execute_result"
    }
   ],
   "source": [
    "loan_filtered_final.head()"
   ]
  },
  {
   "cell_type": "code",
   "execution_count": 96,
   "metadata": {},
   "outputs": [],
   "source": [
    "loan_filtered_final.to_csv('../data/DE_set.csv', index = None, header=True)"
   ]
  }
 ],
 "metadata": {
  "kernelspec": {
   "display_name": "Python 3",
   "language": "python",
   "name": "python3"
  },
  "language_info": {
   "codemirror_mode": {
    "name": "ipython",
    "version": 3
   },
   "file_extension": ".py",
   "mimetype": "text/x-python",
   "name": "python",
   "nbconvert_exporter": "python",
   "pygments_lexer": "ipython3",
   "version": "3.7.4"
  }
 },
 "nbformat": 4,
 "nbformat_minor": 2
}
