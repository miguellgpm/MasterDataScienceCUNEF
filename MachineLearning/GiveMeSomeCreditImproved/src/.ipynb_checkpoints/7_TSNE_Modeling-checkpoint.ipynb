{
 "cells": [
  {
   "cell_type": "markdown",
   "metadata": {},
   "source": [
    "# Predicting defaults on Lending Club database\n",
    "\n",
    "\n",
    "- Authors: Beltrán Aller López and Miguel López Garralón\n",
    "- Date: 13/12/2019\n",
    "- Email: beltran.aller@cunef.edu and m.lopez@cunef.edu\n",
    "- Institution: CUNEF\n",
    "- Version: 1.0"
   ]
  },
  {
   "cell_type": "markdown",
   "metadata": {},
   "source": [
    "The t-SNE (t-distributed stochastic neighbor embedding) is a dimensionality reduction technique, which is used to show easily a complex dataset in 2 or 3 components. We have used it to reduce the 21 components of the previous PCA analysis to only have to deal with 2 components."
   ]
  },
  {
   "cell_type": "markdown",
   "metadata": {},
   "source": [
    "Before doing anything, we will import the necessaries libraries."
   ]
  },
  {
   "cell_type": "code",
   "execution_count": 1,
   "metadata": {},
   "outputs": [
    {
     "name": "stderr",
     "output_type": "stream",
     "text": [
      "C:\\Users\\migue\\Anaconda3\\lib\\site-packages\\sklearn\\utils\\deprecation.py:144: FutureWarning: The sklearn.manifold.t_sne module is  deprecated in version 0.22 and will be removed in version 0.24. The corresponding classes / functions should instead be imported from sklearn.manifold. Anything that cannot be imported from sklearn.manifold is now part of the private API.\n",
      "  warnings.warn(message, FutureWarning)\n",
      "Using TensorFlow backend.\n"
     ]
    }
   ],
   "source": [
    "# Libraries\n",
    "\n",
    "import numpy as np\n",
    "import pandas as pd\n",
    "import matplotlib\n",
    "from matplotlib import pyplot as plt # plots\n",
    "import seaborn as sns # plots\n",
    "from scipy import stats as sts # normality test JB\n",
    "from sklearn import metrics\n",
    "import itertools # aplanar arrays\n",
    "import math\n",
    "import random\n",
    "random.seed(1122019)\n",
    "from scipy.spatial.distance import pdist\n",
    "from sklearn.manifold.t_sne import _joint_probabilities\n",
    "from scipy import linalg\n",
    "from sklearn.metrics import pairwise_distances\n",
    "from scipy.spatial.distance import squareform\n",
    "from sklearn.manifold import TSNE\n",
    "from imblearn.over_sampling import SMOTE\n",
    "from sklearn import model_selection\n",
    "from sklearn import linear_model\n",
    "from sklearn import metrics\n",
    "from sklearn.model_selection import GridSearchCV\n",
    "from sklearn.linear_model import Ridge, RidgeCV # Ridge\n",
    "from sklearn.linear_model import Lasso, LassoCV # Lasso\n",
    "from sklearn.linear_model import LogisticRegression # Log Regression\n",
    "from sklearn.metrics import r2_score # R^2\n",
    "from sklearn.metrics import mean_squared_error # MSE\n",
    "from sklearn import preprocessing # estandarization\n",
    "from math import sqrt # sqrt\n",
    "import math\n",
    "from sklearn.svm import SVC # SVM\n",
    "from sklearn.metrics import classification_report, confusion_matrix\n",
    "from sklearn.ensemble import RandomForestRegressor, RandomForestClassifier\n",
    "import xgboost as xgb # XGBOOST\n",
    "from sklearn.metrics import roc_curve, roc_auc_score, plot_roc_curve # ROC Curve\n",
    "from sklearn.datasets import make_classification\n",
    "import random\n",
    "random.seed(1122019)\n",
    "import pickle"
   ]
  },
  {
   "cell_type": "markdown",
   "metadata": {},
   "source": [
    "The following variable indicates the route in which we have our dataset."
   ]
  },
  {
   "cell_type": "code",
   "execution_count": 18,
   "metadata": {},
   "outputs": [],
   "source": [
    "data_path = '../data/PCA_set.csv'"
   ]
  },
  {
   "cell_type": "markdown",
   "metadata": {},
   "source": [
    "## 1. READING THE DATA"
   ]
  },
  {
   "cell_type": "markdown",
   "metadata": {},
   "source": [
    "The dataset is kept into the data directory. In the same folder you can find the data dictionary."
   ]
  },
  {
   "cell_type": "code",
   "execution_count": 19,
   "metadata": {},
   "outputs": [],
   "source": [
    "loan = pd.read_csv(data_path)"
   ]
  },
  {
   "cell_type": "code",
   "execution_count": 20,
   "metadata": {},
   "outputs": [
    {
     "name": "stdout",
     "output_type": "stream",
     "text": [
      "<class 'pandas.core.frame.DataFrame'>\n",
      "RangeIndex: 950000 entries, 0 to 949999\n",
      "Data columns (total 42 columns):\n",
      "Component_1                            950000 non-null float64\n",
      "Component_2                            950000 non-null float64\n",
      "Component_3                            950000 non-null float64\n",
      "Component_4                            950000 non-null float64\n",
      "Component_5                            950000 non-null float64\n",
      "Component_6                            950000 non-null float64\n",
      "Component_7                            950000 non-null float64\n",
      "Component_8                            950000 non-null float64\n",
      "Component_9                            950000 non-null float64\n",
      "Component_10                           950000 non-null float64\n",
      "Component_11                           950000 non-null float64\n",
      "Component_12                           950000 non-null float64\n",
      "Component_13                           950000 non-null float64\n",
      "Component_14                           950000 non-null float64\n",
      "Component_15                           950000 non-null float64\n",
      "Component_16                           950000 non-null float64\n",
      "Component_17                           950000 non-null float64\n",
      "Component_18                           950000 non-null float64\n",
      "Component_19                           950000 non-null float64\n",
      "Component_20                           950000 non-null float64\n",
      "Component_21                           950000 non-null float64\n",
      "term_ 36 months                        950000 non-null int64\n",
      "term_ 60 months                        950000 non-null int64\n",
      "emp_length_6+ years                    950000 non-null int64\n",
      "emp_length_<= 5 years                  950000 non-null int64\n",
      "home_ownership_OTHER                   950000 non-null int64\n",
      "home_ownership_OWN                     950000 non-null int64\n",
      "home_ownership_RENT                    950000 non-null int64\n",
      "verification_status_Not Verified       950000 non-null int64\n",
      "verification_status_Source Verified    950000 non-null int64\n",
      "verification_status_Verified           950000 non-null int64\n",
      "purpose_debt_consolidation             950000 non-null int64\n",
      "purpose_home                           950000 non-null int64\n",
      "purpose_investment                     950000 non-null int64\n",
      "purpose_medical                        950000 non-null int64\n",
      "purpose_other                          950000 non-null int64\n",
      "purpose_purchase                       950000 non-null int64\n",
      "application_type_Individual            950000 non-null int64\n",
      "application_type_Joint App             950000 non-null int64\n",
      "target                                 950000 non-null int64\n",
      "desc                                   950000 non-null int64\n",
      "grade                                  950000 non-null int64\n",
      "dtypes: float64(21), int64(21)\n",
      "memory usage: 304.4 MB\n"
     ]
    }
   ],
   "source": [
    "loan.info()"
   ]
  },
  {
   "cell_type": "code",
   "execution_count": 21,
   "metadata": {},
   "outputs": [
    {
     "data": {
      "text/html": [
       "<div>\n",
       "<style scoped>\n",
       "    .dataframe tbody tr th:only-of-type {\n",
       "        vertical-align: middle;\n",
       "    }\n",
       "\n",
       "    .dataframe tbody tr th {\n",
       "        vertical-align: top;\n",
       "    }\n",
       "\n",
       "    .dataframe thead th {\n",
       "        text-align: right;\n",
       "    }\n",
       "</style>\n",
       "<table border=\"1\" class=\"dataframe\">\n",
       "  <thead>\n",
       "    <tr style=\"text-align: right;\">\n",
       "      <th></th>\n",
       "      <th>Component_1</th>\n",
       "      <th>Component_2</th>\n",
       "      <th>Component_3</th>\n",
       "      <th>Component_4</th>\n",
       "      <th>Component_5</th>\n",
       "      <th>Component_6</th>\n",
       "      <th>Component_7</th>\n",
       "      <th>Component_8</th>\n",
       "      <th>Component_9</th>\n",
       "      <th>Component_10</th>\n",
       "      <th>...</th>\n",
       "      <th>purpose_home</th>\n",
       "      <th>purpose_investment</th>\n",
       "      <th>purpose_medical</th>\n",
       "      <th>purpose_other</th>\n",
       "      <th>purpose_purchase</th>\n",
       "      <th>application_type_Individual</th>\n",
       "      <th>application_type_Joint App</th>\n",
       "      <th>target</th>\n",
       "      <th>desc</th>\n",
       "      <th>grade</th>\n",
       "    </tr>\n",
       "  </thead>\n",
       "  <tbody>\n",
       "    <tr>\n",
       "      <td>0</td>\n",
       "      <td>1.907053</td>\n",
       "      <td>2.543472</td>\n",
       "      <td>-2.203070</td>\n",
       "      <td>-0.672149</td>\n",
       "      <td>-2.380300</td>\n",
       "      <td>0.274878</td>\n",
       "      <td>-1.244539</td>\n",
       "      <td>-0.039693</td>\n",
       "      <td>-0.141042</td>\n",
       "      <td>0.126965</td>\n",
       "      <td>...</td>\n",
       "      <td>0</td>\n",
       "      <td>0</td>\n",
       "      <td>0</td>\n",
       "      <td>0</td>\n",
       "      <td>0</td>\n",
       "      <td>1</td>\n",
       "      <td>0</td>\n",
       "      <td>0</td>\n",
       "      <td>0</td>\n",
       "      <td>2</td>\n",
       "    </tr>\n",
       "    <tr>\n",
       "      <td>1</td>\n",
       "      <td>-4.628915</td>\n",
       "      <td>-1.271116</td>\n",
       "      <td>-2.512065</td>\n",
       "      <td>2.245509</td>\n",
       "      <td>1.200862</td>\n",
       "      <td>1.621309</td>\n",
       "      <td>-2.205190</td>\n",
       "      <td>0.782632</td>\n",
       "      <td>-0.221915</td>\n",
       "      <td>0.170649</td>\n",
       "      <td>...</td>\n",
       "      <td>0</td>\n",
       "      <td>0</td>\n",
       "      <td>0</td>\n",
       "      <td>0</td>\n",
       "      <td>0</td>\n",
       "      <td>1</td>\n",
       "      <td>0</td>\n",
       "      <td>0</td>\n",
       "      <td>0</td>\n",
       "      <td>5</td>\n",
       "    </tr>\n",
       "    <tr>\n",
       "      <td>2</td>\n",
       "      <td>-1.776357</td>\n",
       "      <td>1.108659</td>\n",
       "      <td>-0.466338</td>\n",
       "      <td>1.548802</td>\n",
       "      <td>1.332455</td>\n",
       "      <td>0.721802</td>\n",
       "      <td>-1.060844</td>\n",
       "      <td>-0.426989</td>\n",
       "      <td>-0.379828</td>\n",
       "      <td>0.002607</td>\n",
       "      <td>...</td>\n",
       "      <td>0</td>\n",
       "      <td>0</td>\n",
       "      <td>0</td>\n",
       "      <td>0</td>\n",
       "      <td>0</td>\n",
       "      <td>1</td>\n",
       "      <td>0</td>\n",
       "      <td>0</td>\n",
       "      <td>1</td>\n",
       "      <td>6</td>\n",
       "    </tr>\n",
       "    <tr>\n",
       "      <td>3</td>\n",
       "      <td>5.834221</td>\n",
       "      <td>-6.473575</td>\n",
       "      <td>-2.656337</td>\n",
       "      <td>-0.832189</td>\n",
       "      <td>1.606045</td>\n",
       "      <td>1.018129</td>\n",
       "      <td>-0.985833</td>\n",
       "      <td>1.555174</td>\n",
       "      <td>-1.926131</td>\n",
       "      <td>-0.067037</td>\n",
       "      <td>...</td>\n",
       "      <td>0</td>\n",
       "      <td>0</td>\n",
       "      <td>0</td>\n",
       "      <td>1</td>\n",
       "      <td>0</td>\n",
       "      <td>1</td>\n",
       "      <td>0</td>\n",
       "      <td>0</td>\n",
       "      <td>0</td>\n",
       "      <td>5</td>\n",
       "    </tr>\n",
       "    <tr>\n",
       "      <td>4</td>\n",
       "      <td>-0.942222</td>\n",
       "      <td>-6.681008</td>\n",
       "      <td>1.015162</td>\n",
       "      <td>1.364852</td>\n",
       "      <td>-2.104041</td>\n",
       "      <td>0.017317</td>\n",
       "      <td>2.062208</td>\n",
       "      <td>-0.348810</td>\n",
       "      <td>0.429329</td>\n",
       "      <td>0.414534</td>\n",
       "      <td>...</td>\n",
       "      <td>0</td>\n",
       "      <td>0</td>\n",
       "      <td>0</td>\n",
       "      <td>0</td>\n",
       "      <td>0</td>\n",
       "      <td>1</td>\n",
       "      <td>0</td>\n",
       "      <td>1</td>\n",
       "      <td>0</td>\n",
       "      <td>1</td>\n",
       "    </tr>\n",
       "  </tbody>\n",
       "</table>\n",
       "<p>5 rows × 42 columns</p>\n",
       "</div>"
      ],
      "text/plain": [
       "   Component_1  Component_2  Component_3  Component_4  Component_5  \\\n",
       "0     1.907053     2.543472    -2.203070    -0.672149    -2.380300   \n",
       "1    -4.628915    -1.271116    -2.512065     2.245509     1.200862   \n",
       "2    -1.776357     1.108659    -0.466338     1.548802     1.332455   \n",
       "3     5.834221    -6.473575    -2.656337    -0.832189     1.606045   \n",
       "4    -0.942222    -6.681008     1.015162     1.364852    -2.104041   \n",
       "\n",
       "   Component_6  Component_7  Component_8  Component_9  Component_10  ...  \\\n",
       "0     0.274878    -1.244539    -0.039693    -0.141042      0.126965  ...   \n",
       "1     1.621309    -2.205190     0.782632    -0.221915      0.170649  ...   \n",
       "2     0.721802    -1.060844    -0.426989    -0.379828      0.002607  ...   \n",
       "3     1.018129    -0.985833     1.555174    -1.926131     -0.067037  ...   \n",
       "4     0.017317     2.062208    -0.348810     0.429329      0.414534  ...   \n",
       "\n",
       "   purpose_home  purpose_investment  purpose_medical  purpose_other  \\\n",
       "0             0                   0                0              0   \n",
       "1             0                   0                0              0   \n",
       "2             0                   0                0              0   \n",
       "3             0                   0                0              1   \n",
       "4             0                   0                0              0   \n",
       "\n",
       "   purpose_purchase  application_type_Individual  application_type_Joint App  \\\n",
       "0                 0                            1                           0   \n",
       "1                 0                            1                           0   \n",
       "2                 0                            1                           0   \n",
       "3                 0                            1                           0   \n",
       "4                 0                            1                           0   \n",
       "\n",
       "   target  desc  grade  \n",
       "0       0     0      2  \n",
       "1       0     0      5  \n",
       "2       0     1      6  \n",
       "3       0     0      5  \n",
       "4       1     0      1  \n",
       "\n",
       "[5 rows x 42 columns]"
      ]
     },
     "execution_count": 21,
     "metadata": {},
     "output_type": "execute_result"
    }
   ],
   "source": [
    "loan.head()"
   ]
  },
  {
   "cell_type": "markdown",
   "metadata": {},
   "source": [
    "The first thing we have to do is splitting the dataset between numerical and categorical variables."
   ]
  },
  {
   "cell_type": "code",
   "execution_count": 22,
   "metadata": {},
   "outputs": [],
   "source": [
    "numericas = loan.select_dtypes(include = [np.float64])"
   ]
  },
  {
   "cell_type": "code",
   "execution_count": 23,
   "metadata": {},
   "outputs": [
    {
     "name": "stdout",
     "output_type": "stream",
     "text": [
      "<class 'pandas.core.frame.DataFrame'>\n",
      "RangeIndex: 950000 entries, 0 to 949999\n",
      "Data columns (total 21 columns):\n",
      "Component_1     950000 non-null float64\n",
      "Component_2     950000 non-null float64\n",
      "Component_3     950000 non-null float64\n",
      "Component_4     950000 non-null float64\n",
      "Component_5     950000 non-null float64\n",
      "Component_6     950000 non-null float64\n",
      "Component_7     950000 non-null float64\n",
      "Component_8     950000 non-null float64\n",
      "Component_9     950000 non-null float64\n",
      "Component_10    950000 non-null float64\n",
      "Component_11    950000 non-null float64\n",
      "Component_12    950000 non-null float64\n",
      "Component_13    950000 non-null float64\n",
      "Component_14    950000 non-null float64\n",
      "Component_15    950000 non-null float64\n",
      "Component_16    950000 non-null float64\n",
      "Component_17    950000 non-null float64\n",
      "Component_18    950000 non-null float64\n",
      "Component_19    950000 non-null float64\n",
      "Component_20    950000 non-null float64\n",
      "Component_21    950000 non-null float64\n",
      "dtypes: float64(21)\n",
      "memory usage: 152.2 MB\n"
     ]
    }
   ],
   "source": [
    "numericas.info()"
   ]
  },
  {
   "cell_type": "code",
   "execution_count": 24,
   "metadata": {},
   "outputs": [],
   "source": [
    "categoricas = loan.drop(list(numericas.columns), axis = 1)"
   ]
  },
  {
   "cell_type": "code",
   "execution_count": 25,
   "metadata": {},
   "outputs": [
    {
     "name": "stdout",
     "output_type": "stream",
     "text": [
      "<class 'pandas.core.frame.DataFrame'>\n",
      "RangeIndex: 950000 entries, 0 to 949999\n",
      "Data columns (total 21 columns):\n",
      "term_ 36 months                        950000 non-null int64\n",
      "term_ 60 months                        950000 non-null int64\n",
      "emp_length_6+ years                    950000 non-null int64\n",
      "emp_length_<= 5 years                  950000 non-null int64\n",
      "home_ownership_OTHER                   950000 non-null int64\n",
      "home_ownership_OWN                     950000 non-null int64\n",
      "home_ownership_RENT                    950000 non-null int64\n",
      "verification_status_Not Verified       950000 non-null int64\n",
      "verification_status_Source Verified    950000 non-null int64\n",
      "verification_status_Verified           950000 non-null int64\n",
      "purpose_debt_consolidation             950000 non-null int64\n",
      "purpose_home                           950000 non-null int64\n",
      "purpose_investment                     950000 non-null int64\n",
      "purpose_medical                        950000 non-null int64\n",
      "purpose_other                          950000 non-null int64\n",
      "purpose_purchase                       950000 non-null int64\n",
      "application_type_Individual            950000 non-null int64\n",
      "application_type_Joint App             950000 non-null int64\n",
      "target                                 950000 non-null int64\n",
      "desc                                   950000 non-null int64\n",
      "grade                                  950000 non-null int64\n",
      "dtypes: int64(21)\n",
      "memory usage: 152.2 MB\n"
     ]
    }
   ],
   "source": [
    "categoricas.info()"
   ]
  },
  {
   "cell_type": "markdown",
   "metadata": {},
   "source": [
    "## 2. TSNE"
   ]
  },
  {
   "cell_type": "code",
   "execution_count": 26,
   "metadata": {},
   "outputs": [
    {
     "name": "stdout",
     "output_type": "stream",
     "text": [
      "Wall time: 1h 47min 53s\n"
     ]
    }
   ],
   "source": [
    "%%time\n",
    "tsne = TSNE(n_components=2, random_state=0, n_iter=300, perplexity=30.0, n_jobs=-1)\n",
    "tsne_obj = tsne.fit_transform(numericas)"
   ]
  },
  {
   "cell_type": "code",
   "execution_count": 27,
   "metadata": {},
   "outputs": [
    {
     "data": {
      "text/plain": [
       "array([[-1.4236489e-06,  2.9465079e-06],\n",
       "       [ 8.7107046e-06,  2.2677959e-06],\n",
       "       [ 5.9731988e-06, -1.8280170e-06],\n",
       "       ...,\n",
       "       [ 3.0490985e-06, -9.1836887e-07],\n",
       "       [-4.0202750e-07, -1.4265829e-06],\n",
       "       [ 1.0479480e-06,  1.5246010e-06]], dtype=float32)"
      ]
     },
     "execution_count": 27,
     "metadata": {},
     "output_type": "execute_result"
    }
   ],
   "source": [
    "tsne_obj"
   ]
  },
  {
   "cell_type": "code",
   "execution_count": 28,
   "metadata": {},
   "outputs": [
    {
     "data": {
      "text/html": [
       "<div>\n",
       "<style scoped>\n",
       "    .dataframe tbody tr th:only-of-type {\n",
       "        vertical-align: middle;\n",
       "    }\n",
       "\n",
       "    .dataframe tbody tr th {\n",
       "        vertical-align: top;\n",
       "    }\n",
       "\n",
       "    .dataframe thead th {\n",
       "        text-align: right;\n",
       "    }\n",
       "</style>\n",
       "<table border=\"1\" class=\"dataframe\">\n",
       "  <thead>\n",
       "    <tr style=\"text-align: right;\">\n",
       "      <th></th>\n",
       "      <th>X</th>\n",
       "      <th>Y</th>\n",
       "    </tr>\n",
       "  </thead>\n",
       "  <tbody>\n",
       "    <tr>\n",
       "      <td>0</td>\n",
       "      <td>-1.423649e-06</td>\n",
       "      <td>0.000003</td>\n",
       "    </tr>\n",
       "    <tr>\n",
       "      <td>1</td>\n",
       "      <td>8.710705e-06</td>\n",
       "      <td>0.000002</td>\n",
       "    </tr>\n",
       "    <tr>\n",
       "      <td>2</td>\n",
       "      <td>5.973199e-06</td>\n",
       "      <td>-0.000002</td>\n",
       "    </tr>\n",
       "    <tr>\n",
       "      <td>3</td>\n",
       "      <td>-6.691831e-07</td>\n",
       "      <td>-0.000002</td>\n",
       "    </tr>\n",
       "    <tr>\n",
       "      <td>4</td>\n",
       "      <td>1.412745e-06</td>\n",
       "      <td>-0.000004</td>\n",
       "    </tr>\n",
       "  </tbody>\n",
       "</table>\n",
       "</div>"
      ],
      "text/plain": [
       "              X         Y\n",
       "0 -1.423649e-06  0.000003\n",
       "1  8.710705e-06  0.000002\n",
       "2  5.973199e-06 -0.000002\n",
       "3 -6.691831e-07 -0.000002\n",
       "4  1.412745e-06 -0.000004"
      ]
     },
     "execution_count": 28,
     "metadata": {},
     "output_type": "execute_result"
    }
   ],
   "source": [
    "tsne_df = pd.DataFrame({'X':tsne_obj[:,0],\n",
    "                        'Y':tsne_obj[:,1]})\n",
    "tsne_df.head()"
   ]
  },
  {
   "cell_type": "code",
   "execution_count": 29,
   "metadata": {},
   "outputs": [
    {
     "name": "stdout",
     "output_type": "stream",
     "text": [
      "<class 'pandas.core.frame.DataFrame'>\n",
      "RangeIndex: 950000 entries, 0 to 949999\n",
      "Data columns (total 2 columns):\n",
      "X    950000 non-null float32\n",
      "Y    950000 non-null float32\n",
      "dtypes: float32(2)\n",
      "memory usage: 7.2 MB\n"
     ]
    }
   ],
   "source": [
    "tsne_df.info()"
   ]
  },
  {
   "cell_type": "code",
   "execution_count": 30,
   "metadata": {},
   "outputs": [
    {
     "data": {
      "image/png": "[encoded data removed]",
      "text/plain": [
       "<Figure size 432x288 with 1 Axes>"
      ]
     },
     "metadata": {
      "needs_background": "light"
     },
     "output_type": "display_data"
    }
   ],
   "source": [
    "sns.scatterplot(x=\"X\", y=\"Y\",\n",
    "              data=tsne_df);"
   ]
  },
  {
   "cell_type": "markdown",
   "metadata": {},
   "source": [
    "In the train sample we have obtained a bad result with the dimensionality reduction with t-SNE as we can see above. We can only see a point where all the observations are around, with no possible division."
   ]
  },
  {
   "cell_type": "code",
   "execution_count": 40,
   "metadata": {},
   "outputs": [],
   "source": [
    "tsne_df.columns = ['Component_1', 'Component_2']"
   ]
  },
  {
   "cell_type": "code",
   "execution_count": 41,
   "metadata": {},
   "outputs": [
    {
     "name": "stdout",
     "output_type": "stream",
     "text": [
      "<class 'pandas.core.frame.DataFrame'>\n",
      "RangeIndex: 950000 entries, 0 to 949999\n",
      "Data columns (total 2 columns):\n",
      "Component_1    950000 non-null float32\n",
      "Component_2    950000 non-null float32\n",
      "dtypes: float32(2)\n",
      "memory usage: 7.2 MB\n"
     ]
    }
   ],
   "source": [
    "tsne_df.info()"
   ]
  },
  {
   "cell_type": "code",
   "execution_count": 42,
   "metadata": {},
   "outputs": [],
   "source": [
    "loan_final = pd.concat([tsne_df, categoricas], axis = 1)"
   ]
  },
  {
   "cell_type": "code",
   "execution_count": 43,
   "metadata": {},
   "outputs": [
    {
     "name": "stdout",
     "output_type": "stream",
     "text": [
      "<class 'pandas.core.frame.DataFrame'>\n",
      "RangeIndex: 950000 entries, 0 to 949999\n",
      "Data columns (total 23 columns):\n",
      "Component_1                            950000 non-null float32\n",
      "Component_2                            950000 non-null float32\n",
      "term_ 36 months                        950000 non-null int64\n",
      "term_ 60 months                        950000 non-null int64\n",
      "emp_length_6+ years                    950000 non-null int64\n",
      "emp_length_<= 5 years                  950000 non-null int64\n",
      "home_ownership_OTHER                   950000 non-null int64\n",
      "home_ownership_OWN                     950000 non-null int64\n",
      "home_ownership_RENT                    950000 non-null int64\n",
      "verification_status_Not Verified       950000 non-null int64\n",
      "verification_status_Source Verified    950000 non-null int64\n",
      "verification_status_Verified           950000 non-null int64\n",
      "purpose_debt_consolidation             950000 non-null int64\n",
      "purpose_home                           950000 non-null int64\n",
      "purpose_investment                     950000 non-null int64\n",
      "purpose_medical                        950000 non-null int64\n",
      "purpose_other                          950000 non-null int64\n",
      "purpose_purchase                       950000 non-null int64\n",
      "application_type_Individual            950000 non-null int64\n",
      "application_type_Joint App             950000 non-null int64\n",
      "target                                 950000 non-null int64\n",
      "desc                                   950000 non-null int64\n",
      "grade                                  950000 non-null int64\n",
      "dtypes: float32(2), int64(21)\n",
      "memory usage: 159.5 MB\n"
     ]
    }
   ],
   "source": [
    "loan_final.info()"
   ]
  },
  {
   "cell_type": "code",
   "execution_count": 44,
   "metadata": {},
   "outputs": [],
   "source": [
    "loan_final.to_csv('../data/TSNE_set.csv', index = None, header=True)"
   ]
  },
  {
   "cell_type": "code",
   "execution_count": 2,
   "metadata": {},
   "outputs": [],
   "source": [
    "data_path_tsne = '../data/TSNE_set.csv'"
   ]
  },
  {
   "cell_type": "code",
   "execution_count": 3,
   "metadata": {},
   "outputs": [],
   "source": [
    "loan_final_tsne = pd.read_csv(data_path_tsne)"
   ]
  },
  {
   "cell_type": "code",
   "execution_count": 4,
   "metadata": {},
   "outputs": [
    {
     "data": {
      "text/html": [
       "<div>\n",
       "<style scoped>\n",
       "    .dataframe tbody tr th:only-of-type {\n",
       "        vertical-align: middle;\n",
       "    }\n",
       "\n",
       "    .dataframe tbody tr th {\n",
       "        vertical-align: top;\n",
       "    }\n",
       "\n",
       "    .dataframe thead th {\n",
       "        text-align: right;\n",
       "    }\n",
       "</style>\n",
       "<table border=\"1\" class=\"dataframe\">\n",
       "  <thead>\n",
       "    <tr style=\"text-align: right;\">\n",
       "      <th></th>\n",
       "      <th>Component_1</th>\n",
       "      <th>Component_2</th>\n",
       "      <th>term_ 36 months</th>\n",
       "      <th>term_ 60 months</th>\n",
       "      <th>emp_length_6+ years</th>\n",
       "      <th>emp_length_&lt;= 5 years</th>\n",
       "      <th>home_ownership_OTHER</th>\n",
       "      <th>home_ownership_OWN</th>\n",
       "      <th>home_ownership_RENT</th>\n",
       "      <th>verification_status_Not Verified</th>\n",
       "      <th>...</th>\n",
       "      <th>purpose_home</th>\n",
       "      <th>purpose_investment</th>\n",
       "      <th>purpose_medical</th>\n",
       "      <th>purpose_other</th>\n",
       "      <th>purpose_purchase</th>\n",
       "      <th>application_type_Individual</th>\n",
       "      <th>application_type_Joint App</th>\n",
       "      <th>target</th>\n",
       "      <th>desc</th>\n",
       "      <th>grade</th>\n",
       "    </tr>\n",
       "  </thead>\n",
       "  <tbody>\n",
       "    <tr>\n",
       "      <td>0</td>\n",
       "      <td>-1.423649e-06</td>\n",
       "      <td>2.946508e-06</td>\n",
       "      <td>0</td>\n",
       "      <td>1</td>\n",
       "      <td>0</td>\n",
       "      <td>1</td>\n",
       "      <td>1</td>\n",
       "      <td>0</td>\n",
       "      <td>0</td>\n",
       "      <td>1</td>\n",
       "      <td>...</td>\n",
       "      <td>0</td>\n",
       "      <td>0</td>\n",
       "      <td>0</td>\n",
       "      <td>0</td>\n",
       "      <td>0</td>\n",
       "      <td>1</td>\n",
       "      <td>0</td>\n",
       "      <td>0</td>\n",
       "      <td>0</td>\n",
       "      <td>2</td>\n",
       "    </tr>\n",
       "    <tr>\n",
       "      <td>1</td>\n",
       "      <td>8.710705e-06</td>\n",
       "      <td>2.267796e-06</td>\n",
       "      <td>1</td>\n",
       "      <td>0</td>\n",
       "      <td>0</td>\n",
       "      <td>1</td>\n",
       "      <td>0</td>\n",
       "      <td>0</td>\n",
       "      <td>1</td>\n",
       "      <td>1</td>\n",
       "      <td>...</td>\n",
       "      <td>0</td>\n",
       "      <td>0</td>\n",
       "      <td>0</td>\n",
       "      <td>0</td>\n",
       "      <td>0</td>\n",
       "      <td>1</td>\n",
       "      <td>0</td>\n",
       "      <td>0</td>\n",
       "      <td>0</td>\n",
       "      <td>5</td>\n",
       "    </tr>\n",
       "    <tr>\n",
       "      <td>2</td>\n",
       "      <td>5.973199e-06</td>\n",
       "      <td>-1.828017e-06</td>\n",
       "      <td>1</td>\n",
       "      <td>0</td>\n",
       "      <td>0</td>\n",
       "      <td>1</td>\n",
       "      <td>1</td>\n",
       "      <td>0</td>\n",
       "      <td>0</td>\n",
       "      <td>1</td>\n",
       "      <td>...</td>\n",
       "      <td>0</td>\n",
       "      <td>0</td>\n",
       "      <td>0</td>\n",
       "      <td>0</td>\n",
       "      <td>0</td>\n",
       "      <td>1</td>\n",
       "      <td>0</td>\n",
       "      <td>0</td>\n",
       "      <td>1</td>\n",
       "      <td>6</td>\n",
       "    </tr>\n",
       "    <tr>\n",
       "      <td>3</td>\n",
       "      <td>-6.691831e-07</td>\n",
       "      <td>-1.619879e-06</td>\n",
       "      <td>1</td>\n",
       "      <td>0</td>\n",
       "      <td>0</td>\n",
       "      <td>1</td>\n",
       "      <td>1</td>\n",
       "      <td>0</td>\n",
       "      <td>0</td>\n",
       "      <td>0</td>\n",
       "      <td>...</td>\n",
       "      <td>0</td>\n",
       "      <td>0</td>\n",
       "      <td>0</td>\n",
       "      <td>1</td>\n",
       "      <td>0</td>\n",
       "      <td>1</td>\n",
       "      <td>0</td>\n",
       "      <td>0</td>\n",
       "      <td>0</td>\n",
       "      <td>5</td>\n",
       "    </tr>\n",
       "    <tr>\n",
       "      <td>4</td>\n",
       "      <td>1.412745e-06</td>\n",
       "      <td>-3.848568e-06</td>\n",
       "      <td>0</td>\n",
       "      <td>1</td>\n",
       "      <td>1</td>\n",
       "      <td>0</td>\n",
       "      <td>0</td>\n",
       "      <td>0</td>\n",
       "      <td>1</td>\n",
       "      <td>0</td>\n",
       "      <td>...</td>\n",
       "      <td>0</td>\n",
       "      <td>0</td>\n",
       "      <td>0</td>\n",
       "      <td>0</td>\n",
       "      <td>0</td>\n",
       "      <td>1</td>\n",
       "      <td>0</td>\n",
       "      <td>1</td>\n",
       "      <td>0</td>\n",
       "      <td>1</td>\n",
       "    </tr>\n",
       "    <tr>\n",
       "      <td>...</td>\n",
       "      <td>...</td>\n",
       "      <td>...</td>\n",
       "      <td>...</td>\n",
       "      <td>...</td>\n",
       "      <td>...</td>\n",
       "      <td>...</td>\n",
       "      <td>...</td>\n",
       "      <td>...</td>\n",
       "      <td>...</td>\n",
       "      <td>...</td>\n",
       "      <td>...</td>\n",
       "      <td>...</td>\n",
       "      <td>...</td>\n",
       "      <td>...</td>\n",
       "      <td>...</td>\n",
       "      <td>...</td>\n",
       "      <td>...</td>\n",
       "      <td>...</td>\n",
       "      <td>...</td>\n",
       "      <td>...</td>\n",
       "      <td>...</td>\n",
       "    </tr>\n",
       "    <tr>\n",
       "      <td>949995</td>\n",
       "      <td>-1.297330e-06</td>\n",
       "      <td>-4.068214e-06</td>\n",
       "      <td>1</td>\n",
       "      <td>0</td>\n",
       "      <td>0</td>\n",
       "      <td>1</td>\n",
       "      <td>0</td>\n",
       "      <td>0</td>\n",
       "      <td>1</td>\n",
       "      <td>0</td>\n",
       "      <td>...</td>\n",
       "      <td>0</td>\n",
       "      <td>0</td>\n",
       "      <td>0</td>\n",
       "      <td>0</td>\n",
       "      <td>0</td>\n",
       "      <td>1</td>\n",
       "      <td>0</td>\n",
       "      <td>0</td>\n",
       "      <td>0</td>\n",
       "      <td>4</td>\n",
       "    </tr>\n",
       "    <tr>\n",
       "      <td>949996</td>\n",
       "      <td>3.065928e-06</td>\n",
       "      <td>-1.647495e-06</td>\n",
       "      <td>1</td>\n",
       "      <td>0</td>\n",
       "      <td>0</td>\n",
       "      <td>1</td>\n",
       "      <td>0</td>\n",
       "      <td>1</td>\n",
       "      <td>0</td>\n",
       "      <td>1</td>\n",
       "      <td>...</td>\n",
       "      <td>0</td>\n",
       "      <td>0</td>\n",
       "      <td>0</td>\n",
       "      <td>0</td>\n",
       "      <td>0</td>\n",
       "      <td>1</td>\n",
       "      <td>0</td>\n",
       "      <td>0</td>\n",
       "      <td>0</td>\n",
       "      <td>3</td>\n",
       "    </tr>\n",
       "    <tr>\n",
       "      <td>949997</td>\n",
       "      <td>3.049099e-06</td>\n",
       "      <td>-9.183689e-07</td>\n",
       "      <td>0</td>\n",
       "      <td>1</td>\n",
       "      <td>1</td>\n",
       "      <td>0</td>\n",
       "      <td>0</td>\n",
       "      <td>0</td>\n",
       "      <td>1</td>\n",
       "      <td>1</td>\n",
       "      <td>...</td>\n",
       "      <td>0</td>\n",
       "      <td>0</td>\n",
       "      <td>0</td>\n",
       "      <td>0</td>\n",
       "      <td>0</td>\n",
       "      <td>1</td>\n",
       "      <td>0</td>\n",
       "      <td>0</td>\n",
       "      <td>0</td>\n",
       "      <td>3</td>\n",
       "    </tr>\n",
       "    <tr>\n",
       "      <td>949998</td>\n",
       "      <td>-4.020275e-07</td>\n",
       "      <td>-1.426583e-06</td>\n",
       "      <td>1</td>\n",
       "      <td>0</td>\n",
       "      <td>1</td>\n",
       "      <td>0</td>\n",
       "      <td>0</td>\n",
       "      <td>1</td>\n",
       "      <td>0</td>\n",
       "      <td>0</td>\n",
       "      <td>...</td>\n",
       "      <td>0</td>\n",
       "      <td>0</td>\n",
       "      <td>0</td>\n",
       "      <td>0</td>\n",
       "      <td>0</td>\n",
       "      <td>1</td>\n",
       "      <td>0</td>\n",
       "      <td>0</td>\n",
       "      <td>0</td>\n",
       "      <td>2</td>\n",
       "    </tr>\n",
       "    <tr>\n",
       "      <td>949999</td>\n",
       "      <td>1.047948e-06</td>\n",
       "      <td>1.524601e-06</td>\n",
       "      <td>1</td>\n",
       "      <td>0</td>\n",
       "      <td>1</td>\n",
       "      <td>0</td>\n",
       "      <td>1</td>\n",
       "      <td>0</td>\n",
       "      <td>0</td>\n",
       "      <td>0</td>\n",
       "      <td>...</td>\n",
       "      <td>0</td>\n",
       "      <td>0</td>\n",
       "      <td>0</td>\n",
       "      <td>0</td>\n",
       "      <td>1</td>\n",
       "      <td>1</td>\n",
       "      <td>0</td>\n",
       "      <td>0</td>\n",
       "      <td>0</td>\n",
       "      <td>4</td>\n",
       "    </tr>\n",
       "  </tbody>\n",
       "</table>\n",
       "<p>950000 rows × 23 columns</p>\n",
       "</div>"
      ],
      "text/plain": [
       "         Component_1   Component_2  term_ 36 months  term_ 60 months  \\\n",
       "0      -1.423649e-06  2.946508e-06                0                1   \n",
       "1       8.710705e-06  2.267796e-06                1                0   \n",
       "2       5.973199e-06 -1.828017e-06                1                0   \n",
       "3      -6.691831e-07 -1.619879e-06                1                0   \n",
       "4       1.412745e-06 -3.848568e-06                0                1   \n",
       "...              ...           ...              ...              ...   \n",
       "949995 -1.297330e-06 -4.068214e-06                1                0   \n",
       "949996  3.065928e-06 -1.647495e-06                1                0   \n",
       "949997  3.049099e-06 -9.183689e-07                0                1   \n",
       "949998 -4.020275e-07 -1.426583e-06                1                0   \n",
       "949999  1.047948e-06  1.524601e-06                1                0   \n",
       "\n",
       "        emp_length_6+ years  emp_length_<= 5 years  home_ownership_OTHER  \\\n",
       "0                         0                      1                     1   \n",
       "1                         0                      1                     0   \n",
       "2                         0                      1                     1   \n",
       "3                         0                      1                     1   \n",
       "4                         1                      0                     0   \n",
       "...                     ...                    ...                   ...   \n",
       "949995                    0                      1                     0   \n",
       "949996                    0                      1                     0   \n",
       "949997                    1                      0                     0   \n",
       "949998                    1                      0                     0   \n",
       "949999                    1                      0                     1   \n",
       "\n",
       "        home_ownership_OWN  home_ownership_RENT  \\\n",
       "0                        0                    0   \n",
       "1                        0                    1   \n",
       "2                        0                    0   \n",
       "3                        0                    0   \n",
       "4                        0                    1   \n",
       "...                    ...                  ...   \n",
       "949995                   0                    1   \n",
       "949996                   1                    0   \n",
       "949997                   0                    1   \n",
       "949998                   1                    0   \n",
       "949999                   0                    0   \n",
       "\n",
       "        verification_status_Not Verified  ...  purpose_home  \\\n",
       "0                                      1  ...             0   \n",
       "1                                      1  ...             0   \n",
       "2                                      1  ...             0   \n",
       "3                                      0  ...             0   \n",
       "4                                      0  ...             0   \n",
       "...                                  ...  ...           ...   \n",
       "949995                                 0  ...             0   \n",
       "949996                                 1  ...             0   \n",
       "949997                                 1  ...             0   \n",
       "949998                                 0  ...             0   \n",
       "949999                                 0  ...             0   \n",
       "\n",
       "        purpose_investment  purpose_medical  purpose_other  purpose_purchase  \\\n",
       "0                        0                0              0                 0   \n",
       "1                        0                0              0                 0   \n",
       "2                        0                0              0                 0   \n",
       "3                        0                0              1                 0   \n",
       "4                        0                0              0                 0   \n",
       "...                    ...              ...            ...               ...   \n",
       "949995                   0                0              0                 0   \n",
       "949996                   0                0              0                 0   \n",
       "949997                   0                0              0                 0   \n",
       "949998                   0                0              0                 0   \n",
       "949999                   0                0              0                 1   \n",
       "\n",
       "        application_type_Individual  application_type_Joint App  target  desc  \\\n",
       "0                                 1                           0       0     0   \n",
       "1                                 1                           0       0     0   \n",
       "2                                 1                           0       0     1   \n",
       "3                                 1                           0       0     0   \n",
       "4                                 1                           0       1     0   \n",
       "...                             ...                         ...     ...   ...   \n",
       "949995                            1                           0       0     0   \n",
       "949996                            1                           0       0     0   \n",
       "949997                            1                           0       0     0   \n",
       "949998                            1                           0       0     0   \n",
       "949999                            1                           0       0     0   \n",
       "\n",
       "        grade  \n",
       "0           2  \n",
       "1           5  \n",
       "2           6  \n",
       "3           5  \n",
       "4           1  \n",
       "...       ...  \n",
       "949995      4  \n",
       "949996      3  \n",
       "949997      3  \n",
       "949998      2  \n",
       "949999      4  \n",
       "\n",
       "[950000 rows x 23 columns]"
      ]
     },
     "execution_count": 4,
     "metadata": {},
     "output_type": "execute_result"
    }
   ],
   "source": [
    "loan_final_tsne"
   ]
  },
  {
   "cell_type": "markdown",
   "metadata": {},
   "source": [
    "## 2. MODELING"
   ]
  },
  {
   "cell_type": "markdown",
   "metadata": {},
   "source": [
    "To do the logistic regression (and the other methods) we have to split the dataset into two parts, train and test. We know that the dataset is imbalanced, we have a lot of cases of non default and a few cases os default in comparisson. To solve that problem, we will apply a method of oversampling called Smote. Smote function creates synthetic samples of the minority class making the minority class equal to the majority class. To do that Smote selects similar records."
   ]
  },
  {
   "cell_type": "code",
   "execution_count": 5,
   "metadata": {},
   "outputs": [],
   "source": [
    "X = loan_final_tsne.drop(['target'], axis = 1).values\n",
    "Y = loan_final_tsne['target'].values"
   ]
  },
  {
   "cell_type": "code",
   "execution_count": 6,
   "metadata": {},
   "outputs": [
    {
     "name": "stdout",
     "output_type": "stream",
     "text": [
      "(1055384, 22)\n"
     ]
    }
   ],
   "source": [
    "sm = SMOTE(random_state=40, sampling_strategy = 0.4)\n",
    "X_train, Y_train = sm.fit_sample(X, Y)\n",
    "print(X_train.shape); "
   ]
  },
  {
   "cell_type": "markdown",
   "metadata": {},
   "source": [
    "Realise that we only do that over the train, the test must stay with the original distribution."
   ]
  },
  {
   "cell_type": "code",
   "execution_count": 50,
   "metadata": {},
   "outputs": [],
   "source": [
    "ytrain_df = pd.DataFrame(Y_train, columns = ['target'])"
   ]
  },
  {
   "cell_type": "markdown",
   "metadata": {},
   "source": [
    "Here we can see the distribution of defaults and non defaults in the training set."
   ]
  },
  {
   "cell_type": "code",
   "execution_count": 51,
   "metadata": {},
   "outputs": [
    {
     "data": {
      "text/plain": [
       "0    0.714286\n",
       "1    0.285714\n",
       "Name: target, dtype: float64"
      ]
     },
     "execution_count": 51,
     "metadata": {},
     "output_type": "execute_result"
    }
   ],
   "source": [
    "ytrain_df['target'].value_counts(normalize=True)"
   ]
  },
  {
   "cell_type": "markdown",
   "metadata": {},
   "source": [
    "# Logistic Regression"
   ]
  },
  {
   "cell_type": "markdown",
   "metadata": {},
   "source": [
    "Logistic regression is a statistical method for analyzing a dataset in which there are one or more independent variables that determine an outcome. The outcome is measured with a dichotomous variable (in which there are only two possible outcomes)."
   ]
  },
  {
   "cell_type": "code",
   "execution_count": 54,
   "metadata": {},
   "outputs": [
    {
     "name": "stdout",
     "output_type": "stream",
     "text": [
      "Wall time: 30.7 s\n"
     ]
    }
   ],
   "source": [
    "%%time\n",
    "logit_loan = LogisticRegression(random_state=40, solver=\"saga\", penalty=\"l1\", class_weight=\"balanced\", C=1.0, max_iter=500)\n",
    "logit_loan.fit(X_train, Y_train)\n",
    "logit_probs = logit_loan.predict_proba(X_train)\n",
    "logit_scores = logit_probs[:,1]"
   ]
  },
  {
   "cell_type": "markdown",
   "metadata": {},
   "source": [
    "Once we have calculated our model, we will save it in order tu use it in the future. Due to we will need to save some models, we are going to make a function to not repeat the code as many times as models we will save."
   ]
  },
  {
   "cell_type": "code",
   "execution_count": 7,
   "metadata": {},
   "outputs": [],
   "source": [
    "def save_models(filename, model):\n",
    "    with open(filename, 'wb') as file:\n",
    "        pickle.dump(model, file)"
   ]
  },
  {
   "cell_type": "code",
   "execution_count": 56,
   "metadata": {},
   "outputs": [],
   "source": [
    "save_models('../src/Models/WithTSNE/logistic_regression_TSNE', logit_loan)"
   ]
  },
  {
   "cell_type": "markdown",
   "metadata": {},
   "source": [
    "# Support Vector Machine"
   ]
  },
  {
   "cell_type": "markdown",
   "metadata": {},
   "source": [
    "A Support Vector Machine (SVM) is a discriminative classifier formally defined by a separating hyperplane. In other words, given labeled training data (supervised learning), the algorithm outputs an optimal hyperplane which categorizes new examples. In two dimentional space this hyperplane is a line dividing a plane in two parts where in each class lay in either side."
   ]
  },
  {
   "cell_type": "markdown",
   "metadata": {},
   "source": [
    "We will do a grid search in order to find the optimus hyperparameters of our SVM."
   ]
  },
  {
   "cell_type": "code",
   "execution_count": 60,
   "metadata": {},
   "outputs": [
    {
     "name": "stderr",
     "output_type": "stream",
     "text": [
      "C:\\Users\\migue\\Anaconda3\\lib\\site-packages\\sklearn\\model_selection\\_search.py:825: FutureWarning: The parameter 'iid' is deprecated in 0.22 and will be removed in 0.24.\n",
      "  \"removed in 0.24.\", FutureWarning\n"
     ]
    },
    {
     "name": "stdout",
     "output_type": "stream",
     "text": [
      "Wall time: 12min 32s\n"
     ]
    },
    {
     "name": "stderr",
     "output_type": "stream",
     "text": [
      "C:\\Users\\migue\\Anaconda3\\lib\\site-packages\\sklearn\\svm\\_base.py:231: ConvergenceWarning: Solver terminated early (max_iter=1000).  Consider pre-processing your data with StandardScaler or MinMaxScaler.\n",
      "  % self.max_iter, ConvergenceWarning)\n"
     ]
    },
    {
     "data": {
      "text/plain": [
       "GridSearchCV(cv=5, error_score=nan,\n",
       "             estimator=SVC(C=1.0, break_ties=False, cache_size=200,\n",
       "                           class_weight=None, coef0=0.0,\n",
       "                           decision_function_shape='ovr', degree=3,\n",
       "                           gamma='scale', kernel='rbf', max_iter=1000,\n",
       "                           probability=False, random_state=None, shrinking=True,\n",
       "                           tol=0.001, verbose=False),\n",
       "             iid=False, n_jobs=-1,\n",
       "             param_grid={'C': [1, 10], 'kernel': ('linear', 'rbf')},\n",
       "             pre_dispatch='2*n_jobs', refit=True, return_train_score=False,\n",
       "             scoring='roc_auc', verbose=0)"
      ]
     },
     "execution_count": 60,
     "metadata": {},
     "output_type": "execute_result"
    }
   ],
   "source": [
    "%%time\n",
    "param_test3 = {'C': [1, 10], 'kernel': ('linear', 'rbf')}\n",
    "gsearch_SVM = GridSearchCV(estimator=SVC(max_iter = 1000),\n",
    "             param_grid= param_test3 , scoring='roc_auc', n_jobs=-1, iid=False, cv=5)\n",
    "gsearch_SVM.fit(X_train, Y_train)"
   ]
  },
  {
   "cell_type": "markdown",
   "metadata": {},
   "source": [
    "Here we have the best hyperparameters of our SVM."
   ]
  },
  {
   "cell_type": "code",
   "execution_count": 61,
   "metadata": {},
   "outputs": [
    {
     "data": {
      "text/plain": [
       "SVC(C=1, break_ties=False, cache_size=200, class_weight=None, coef0=0.0,\n",
       "    decision_function_shape='ovr', degree=3, gamma='scale', kernel='rbf',\n",
       "    max_iter=1000, probability=False, random_state=None, shrinking=True,\n",
       "    tol=0.001, verbose=False)"
      ]
     },
     "execution_count": 61,
     "metadata": {},
     "output_type": "execute_result"
    }
   ],
   "source": [
    "gsearch_SVM.best_estimator_"
   ]
  },
  {
   "cell_type": "code",
   "execution_count": 62,
   "metadata": {},
   "outputs": [
    {
     "name": "stdout",
     "output_type": "stream",
     "text": [
      "Wall time: 3min 21s\n"
     ]
    },
    {
     "name": "stderr",
     "output_type": "stream",
     "text": [
      "C:\\Users\\migue\\Anaconda3\\lib\\site-packages\\sklearn\\svm\\_base.py:231: ConvergenceWarning: Solver terminated early (max_iter=1000).  Consider pre-processing your data with StandardScaler or MinMaxScaler.\n",
      "  % self.max_iter, ConvergenceWarning)\n"
     ]
    },
    {
     "data": {
      "text/plain": [
       "SVC(C=1, break_ties=False, cache_size=200, class_weight=None, coef0=0.0,\n",
       "    decision_function_shape='ovr', degree=3, gamma='scale', kernel='rbf',\n",
       "    max_iter=1000, probability=False, random_state=None, shrinking=True,\n",
       "    tol=0.001, verbose=False)"
      ]
     },
     "execution_count": 62,
     "metadata": {},
     "output_type": "execute_result"
    }
   ],
   "source": [
    "%%time\n",
    "gsearch_SVM2 = gsearch_SVM.best_estimator_\n",
    "gsearch_SVM2.fit(X_train, Y_train)"
   ]
  },
  {
   "cell_type": "code",
   "execution_count": 63,
   "metadata": {},
   "outputs": [],
   "source": [
    "save_models('../src/Models/WithTSNE/svm_regression_TSNE', gsearch_SVM2)"
   ]
  },
  {
   "cell_type": "markdown",
   "metadata": {},
   "source": [
    "# Random Forest"
   ]
  },
  {
   "cell_type": "markdown",
   "metadata": {},
   "source": [
    "Random Forest, in this case, is a method for classification using an ensamble of many different decision trees. In this method the decision to classify in one class or in other comes frome making the mean of the results of all the decision trees. Random Forest has small variance and is difficult to have overfitting. We use this method because a unique decision tree is so unstable and, for that reason, we train the model with a lot of decision tress."
   ]
  },
  {
   "cell_type": "code",
   "execution_count": 10,
   "metadata": {},
   "outputs": [
    {
     "name": "stderr",
     "output_type": "stream",
     "text": [
      "C:\\Users\\migue\\Anaconda3\\lib\\site-packages\\sklearn\\model_selection\\_search.py:825: FutureWarning: The parameter 'iid' is deprecated in 0.22 and will be removed in 0.24.\n",
      "  \"removed in 0.24.\", FutureWarning\n"
     ]
    },
    {
     "name": "stdout",
     "output_type": "stream",
     "text": [
      "Wall time: 1h 7min 38s\n"
     ]
    },
    {
     "data": {
      "text/plain": [
       "GridSearchCV(cv=3, error_score=nan,\n",
       "             estimator=RandomForestClassifier(bootstrap=True, ccp_alpha=0.0,\n",
       "                                              class_weight=None,\n",
       "                                              criterion='gini', max_depth=None,\n",
       "                                              max_features='auto',\n",
       "                                              max_leaf_nodes=None,\n",
       "                                              max_samples=None,\n",
       "                                              min_impurity_decrease=0.0,\n",
       "                                              min_impurity_split=None,\n",
       "                                              min_samples_leaf=1,\n",
       "                                              min_samples_split=2,\n",
       "                                              min_weight_fraction_leaf=0.0,\n",
       "                                              n_estimators=500, n_jobs=None,\n",
       "                                              oob_score=False,\n",
       "                                              random_state=None, verbose=0,\n",
       "                                              warm_start=False),\n",
       "             iid=False, n_jobs=-1,\n",
       "             param_grid={'criterion': ['gini', 'entropy'], 'max_depth': [4, 8],\n",
       "                         'max_features': ['auto', 'sqrt', 'log2']},\n",
       "             pre_dispatch='2*n_jobs', refit=True, return_train_score=False,\n",
       "             scoring='roc_auc', verbose=0)"
      ]
     },
     "execution_count": 10,
     "metadata": {},
     "output_type": "execute_result"
    }
   ],
   "source": [
    "%%time\n",
    "param_test1 = {\n",
    "    'max_depth' : [4,8],\n",
    "    'max_features': ['auto', 'sqrt', 'log2'],\n",
    "    'criterion' :['gini', 'entropy']\n",
    " }\n",
    "gsearch_RandomForest = GridSearchCV(estimator = RandomForestClassifier(500), \n",
    "                               param_grid = param_test1, scoring='roc_auc',n_jobs=-1, iid=False, cv=3)\n",
    "gsearch_RandomForest.fit(X_train, Y_train)"
   ]
  },
  {
   "cell_type": "code",
   "execution_count": 11,
   "metadata": {},
   "outputs": [
    {
     "data": {
      "text/plain": [
       "{'criterion': 'entropy', 'max_depth': 8, 'max_features': 'log2'}"
      ]
     },
     "execution_count": 11,
     "metadata": {},
     "output_type": "execute_result"
    }
   ],
   "source": [
    "gsearch_RandomForest.best_params_"
   ]
  },
  {
   "cell_type": "markdown",
   "metadata": {},
   "source": [
    "Here we have the best hyperparameters of our Random Forest model."
   ]
  },
  {
   "cell_type": "code",
   "execution_count": 12,
   "metadata": {},
   "outputs": [
    {
     "data": {
      "text/plain": [
       "RandomForestClassifier(bootstrap=True, ccp_alpha=0.0, class_weight=None,\n",
       "                       criterion='entropy', max_depth=8, max_features='log2',\n",
       "                       max_leaf_nodes=None, max_samples=None,\n",
       "                       min_impurity_decrease=0.0, min_impurity_split=None,\n",
       "                       min_samples_leaf=1, min_samples_split=2,\n",
       "                       min_weight_fraction_leaf=0.0, n_estimators=500,\n",
       "                       n_jobs=None, oob_score=False, random_state=None,\n",
       "                       verbose=0, warm_start=False)"
      ]
     },
     "execution_count": 12,
     "metadata": {},
     "output_type": "execute_result"
    }
   ],
   "source": [
    "gsearch_RandomForest.best_estimator_"
   ]
  },
  {
   "cell_type": "code",
   "execution_count": 13,
   "metadata": {},
   "outputs": [
    {
     "name": "stdout",
     "output_type": "stream",
     "text": [
      "Wall time: 9min 31s\n"
     ]
    },
    {
     "data": {
      "text/plain": [
       "RandomForestClassifier(bootstrap=True, ccp_alpha=0.0, class_weight=None,\n",
       "                       criterion='entropy', max_depth=8, max_features='log2',\n",
       "                       max_leaf_nodes=None, max_samples=None,\n",
       "                       min_impurity_decrease=0.0, min_impurity_split=None,\n",
       "                       min_samples_leaf=1, min_samples_split=2,\n",
       "                       min_weight_fraction_leaf=0.0, n_estimators=500,\n",
       "                       n_jobs=None, oob_score=False, random_state=None,\n",
       "                       verbose=0, warm_start=False)"
      ]
     },
     "execution_count": 13,
     "metadata": {},
     "output_type": "execute_result"
    }
   ],
   "source": [
    "%%time\n",
    "gsearch_RandomForest2 = gsearch_RandomForest.best_estimator_\n",
    "gsearch_RandomForest2.fit(X_train, Y_train)"
   ]
  },
  {
   "cell_type": "code",
   "execution_count": 14,
   "metadata": {},
   "outputs": [
    {
     "name": "stdout",
     "output_type": "stream",
     "text": [
      "[5.35445087e-03 5.89613936e-03 1.53696890e-01 1.50767189e-01\n",
      " 1.55771164e-03 1.42149208e-03 4.52262249e-02 3.54103083e-03\n",
      " 3.89863556e-02 3.30517946e-02 4.05832249e-03 1.09584807e-02\n",
      " 1.56679024e-03 6.33927240e-04 3.04959374e-03 4.19151047e-04\n",
      " 8.63260195e-04 6.61465999e-03 6.28211342e-03 6.49686495e-03\n",
      " 1.69905212e-02 5.02567036e-01]\n"
     ]
    },
    {
     "data": {
      "image/png": "[encoded data removed]",
      "text/plain": [
       "<Figure size 432x288 with 1 Axes>"
      ]
     },
     "metadata": {
      "needs_background": "light"
     },
     "output_type": "display_data"
    }
   ],
   "source": [
    "print(gsearch_RandomForest2.feature_importances_)\n",
    "\n",
    "list(gsearch_RandomForest2.feature_importances_)\n",
    "\n",
    "plt.bar(range(len(gsearch_RandomForest2.feature_importances_)), gsearch_RandomForest2.feature_importances_)\n",
    "plt.show()"
   ]
  },
  {
   "cell_type": "code",
   "execution_count": 17,
   "metadata": {},
   "outputs": [
    {
     "data": {
      "text/html": [
       "<div>\n",
       "<style scoped>\n",
       "    .dataframe tbody tr th:only-of-type {\n",
       "        vertical-align: middle;\n",
       "    }\n",
       "\n",
       "    .dataframe tbody tr th {\n",
       "        vertical-align: top;\n",
       "    }\n",
       "\n",
       "    .dataframe thead th {\n",
       "        text-align: right;\n",
       "    }\n",
       "</style>\n",
       "<table border=\"1\" class=\"dataframe\">\n",
       "  <thead>\n",
       "    <tr style=\"text-align: right;\">\n",
       "      <th></th>\n",
       "      <th>Importance</th>\n",
       "    </tr>\n",
       "  </thead>\n",
       "  <tbody>\n",
       "    <tr>\n",
       "      <td>Component_1</td>\n",
       "      <td>0.005354</td>\n",
       "    </tr>\n",
       "    <tr>\n",
       "      <td>Component_2</td>\n",
       "      <td>0.005896</td>\n",
       "    </tr>\n",
       "    <tr>\n",
       "      <td>term_ 36 months</td>\n",
       "      <td>0.153697</td>\n",
       "    </tr>\n",
       "    <tr>\n",
       "      <td>term_ 60 months</td>\n",
       "      <td>0.150767</td>\n",
       "    </tr>\n",
       "    <tr>\n",
       "      <td>emp_length_6+ years</td>\n",
       "      <td>0.001558</td>\n",
       "    </tr>\n",
       "    <tr>\n",
       "      <td>emp_length_&lt;= 5 years</td>\n",
       "      <td>0.001421</td>\n",
       "    </tr>\n",
       "    <tr>\n",
       "      <td>home_ownership_OTHER</td>\n",
       "      <td>0.045226</td>\n",
       "    </tr>\n",
       "    <tr>\n",
       "      <td>home_ownership_OWN</td>\n",
       "      <td>0.003541</td>\n",
       "    </tr>\n",
       "    <tr>\n",
       "      <td>home_ownership_RENT</td>\n",
       "      <td>0.038986</td>\n",
       "    </tr>\n",
       "    <tr>\n",
       "      <td>verification_status_Not Verified</td>\n",
       "      <td>0.033052</td>\n",
       "    </tr>\n",
       "    <tr>\n",
       "      <td>verification_status_Source Verified</td>\n",
       "      <td>0.004058</td>\n",
       "    </tr>\n",
       "    <tr>\n",
       "      <td>verification_status_Verified</td>\n",
       "      <td>0.010958</td>\n",
       "    </tr>\n",
       "    <tr>\n",
       "      <td>purpose_debt_consolidation</td>\n",
       "      <td>0.001567</td>\n",
       "    </tr>\n",
       "    <tr>\n",
       "      <td>purpose_home</td>\n",
       "      <td>0.000634</td>\n",
       "    </tr>\n",
       "    <tr>\n",
       "      <td>purpose_investment</td>\n",
       "      <td>0.003050</td>\n",
       "    </tr>\n",
       "    <tr>\n",
       "      <td>purpose_medical</td>\n",
       "      <td>0.000419</td>\n",
       "    </tr>\n",
       "    <tr>\n",
       "      <td>purpose_other</td>\n",
       "      <td>0.000863</td>\n",
       "    </tr>\n",
       "    <tr>\n",
       "      <td>purpose_purchase</td>\n",
       "      <td>0.006615</td>\n",
       "    </tr>\n",
       "    <tr>\n",
       "      <td>application_type_Individual</td>\n",
       "      <td>0.006282</td>\n",
       "    </tr>\n",
       "    <tr>\n",
       "      <td>application_type_Joint App</td>\n",
       "      <td>0.006497</td>\n",
       "    </tr>\n",
       "    <tr>\n",
       "      <td>desc</td>\n",
       "      <td>0.016991</td>\n",
       "    </tr>\n",
       "    <tr>\n",
       "      <td>grade</td>\n",
       "      <td>0.502567</td>\n",
       "    </tr>\n",
       "  </tbody>\n",
       "</table>\n",
       "</div>"
      ],
      "text/plain": [
       "                                     Importance\n",
       "Component_1                            0.005354\n",
       "Component_2                            0.005896\n",
       "term_ 36 months                        0.153697\n",
       "term_ 60 months                        0.150767\n",
       "emp_length_6+ years                    0.001558\n",
       "emp_length_<= 5 years                  0.001421\n",
       "home_ownership_OTHER                   0.045226\n",
       "home_ownership_OWN                     0.003541\n",
       "home_ownership_RENT                    0.038986\n",
       "verification_status_Not Verified       0.033052\n",
       "verification_status_Source Verified    0.004058\n",
       "verification_status_Verified           0.010958\n",
       "purpose_debt_consolidation             0.001567\n",
       "purpose_home                           0.000634\n",
       "purpose_investment                     0.003050\n",
       "purpose_medical                        0.000419\n",
       "purpose_other                          0.000863\n",
       "purpose_purchase                       0.006615\n",
       "application_type_Individual            0.006282\n",
       "application_type_Joint App             0.006497\n",
       "desc                                   0.016991\n",
       "grade                                  0.502567"
      ]
     },
     "execution_count": 17,
     "metadata": {},
     "output_type": "execute_result"
    }
   ],
   "source": [
    "pd.DataFrame(gsearch_RandomForest2.feature_importances_, loan_final_tsne.drop('target', axis=1).columns, columns = ['Importance'])"
   ]
  },
  {
   "cell_type": "code",
   "execution_count": 18,
   "metadata": {},
   "outputs": [],
   "source": [
    "save_models('../src/Models/WithTSNE/random_forest_regression_TSNE', gsearch_RandomForest2)"
   ]
  },
  {
   "cell_type": "markdown",
   "metadata": {},
   "source": [
    "# XGBoost"
   ]
  },
  {
   "cell_type": "markdown",
   "metadata": {},
   "source": [
    "XGBoost is a method for classification similar to the Random Forest model, that uses an ensamble of many different decision trees. The difference with the Random Forest is that XGBoost has more variance, it could have problems with overfitting and it usually has more accuracy with less number of estimators. In this method the cases that have failed previously in their classification have more importance for the model, so they are used again in next samples to try to classify them correctly."
   ]
  },
  {
   "cell_type": "code",
   "execution_count": 8,
   "metadata": {},
   "outputs": [
    {
     "name": "stderr",
     "output_type": "stream",
     "text": [
      "C:\\Users\\migue\\Anaconda3\\lib\\site-packages\\sklearn\\model_selection\\_search.py:825: FutureWarning: The parameter 'iid' is deprecated in 0.22 and will be removed in 0.24.\n",
      "  \"removed in 0.24.\", FutureWarning\n"
     ]
    },
    {
     "name": "stdout",
     "output_type": "stream",
     "text": [
      "Wall time: 37min 13s\n"
     ]
    },
    {
     "data": {
      "text/plain": [
       "GridSearchCV(cv=3, error_score=nan,\n",
       "             estimator=XGBClassifier(base_score=0.5, booster='gbtree',\n",
       "                                     colsample_bylevel=1, colsample_bynode=1,\n",
       "                                     colsample_bytree=0.8, gamma=0,\n",
       "                                     learning_rate=0.1, max_delta_step=0,\n",
       "                                     max_depth=3, min_child_weight=1,\n",
       "                                     missing=None, n_estimators=500, n_jobs=1,\n",
       "                                     nthread=6, objective='binary:logistic',\n",
       "                                     random_state=0, reg_alpha=0, reg_lambda=1,\n",
       "                                     scale_pos_weight=1, seed=40, silent=None,\n",
       "                                     subsample=0.8, verbosity=1),\n",
       "             iid=False, n_jobs=-1,\n",
       "             param_grid={'gamma': [0.5, 1, 1.5],\n",
       "                         'learning_rate': array([0.1, 0.3, 0.5, 0.7, 0.9])},\n",
       "             pre_dispatch='2*n_jobs', refit=True, return_train_score=False,\n",
       "             scoring='roc_auc', verbose=0)"
      ]
     },
     "execution_count": 8,
     "metadata": {},
     "output_type": "execute_result"
    }
   ],
   "source": [
    "%%time\n",
    "param_test2 = {\n",
    " 'learning_rate':np.arange(0.1,1.0,0.2),\n",
    " 'gamma': [0.5, 1, 1.5]\n",
    "}\n",
    "gsearch_XGBoost = GridSearchCV(estimator = xgb.XGBClassifier(n_estimators=500, subsample=0.8,\n",
    "                                                             colsample_bytree=0.8,objective= 'binary:logistic',\n",
    "                                                             scale_pos_weight=1, seed=40, nthread = 6), \n",
    "                               param_grid = param_test2, scoring='roc_auc',n_jobs=-1,iid=False, cv=3)\n",
    "gsearch_XGBoost.fit(X_train, Y_train)"
   ]
  },
  {
   "cell_type": "code",
   "execution_count": 9,
   "metadata": {},
   "outputs": [
    {
     "data": {
      "text/plain": [
       "{'gamma': 0.5, 'learning_rate': 0.1}"
      ]
     },
     "execution_count": 9,
     "metadata": {},
     "output_type": "execute_result"
    }
   ],
   "source": [
    "gsearch_XGBoost.best_params_"
   ]
  },
  {
   "cell_type": "markdown",
   "metadata": {},
   "source": [
    "Here we have the best hyperparameters of our XGBoost Model."
   ]
  },
  {
   "cell_type": "code",
   "execution_count": 10,
   "metadata": {},
   "outputs": [
    {
     "data": {
      "text/plain": [
       "XGBClassifier(base_score=0.5, booster='gbtree', colsample_bylevel=1,\n",
       "              colsample_bynode=1, colsample_bytree=0.8, gamma=0.5,\n",
       "              learning_rate=0.1, max_delta_step=0, max_depth=3,\n",
       "              min_child_weight=1, missing=None, n_estimators=500, n_jobs=1,\n",
       "              nthread=6, objective='binary:logistic', random_state=0,\n",
       "              reg_alpha=0, reg_lambda=1, scale_pos_weight=1, seed=40,\n",
       "              silent=None, subsample=0.8, verbosity=1)"
      ]
     },
     "execution_count": 10,
     "metadata": {},
     "output_type": "execute_result"
    }
   ],
   "source": [
    "gsearch_XGBoost.best_estimator_"
   ]
  },
  {
   "cell_type": "code",
   "execution_count": 11,
   "metadata": {},
   "outputs": [
    {
     "name": "stdout",
     "output_type": "stream",
     "text": [
      "Wall time: 1min 11s\n"
     ]
    },
    {
     "data": {
      "text/plain": [
       "XGBClassifier(base_score=0.5, booster='gbtree', colsample_bylevel=1,\n",
       "              colsample_bynode=1, colsample_bytree=0.8, gamma=0.5,\n",
       "              learning_rate=0.1, max_delta_step=0, max_depth=3,\n",
       "              min_child_weight=1, missing=None, n_estimators=500, n_jobs=1,\n",
       "              nthread=6, objective='binary:logistic', random_state=0,\n",
       "              reg_alpha=0, reg_lambda=1, scale_pos_weight=1, seed=40,\n",
       "              silent=None, subsample=0.8, verbosity=1)"
      ]
     },
     "execution_count": 11,
     "metadata": {},
     "output_type": "execute_result"
    }
   ],
   "source": [
    "%%time\n",
    "gsearch_XGBoost2 = gsearch_XGBoost.best_estimator_\n",
    "gsearch_XGBoost2.fit(X_train, Y_train)"
   ]
  },
  {
   "cell_type": "code",
   "execution_count": 12,
   "metadata": {},
   "outputs": [
    {
     "name": "stdout",
     "output_type": "stream",
     "text": [
      "[0.01009996 0.02430241 0.14239673 0.05289824 0.00854442 0.0052577\n",
      " 0.0863913  0.00293299 0.0741662  0.05760775 0.00279596 0.00411489\n",
      " 0.0044546  0.00362894 0.01156762 0.00421463 0.00341845 0.00391449\n",
      " 0.02559358 0.03798175 0.03503767 0.3986798 ]\n"
     ]
    },
    {
     "data": {
      "image/png": "[encoded data removed]",
      "text/plain": [
       "<Figure size 432x288 with 1 Axes>"
      ]
     },
     "metadata": {
      "needs_background": "light"
     },
     "output_type": "display_data"
    }
   ],
   "source": [
    "print(gsearch_XGBoost2.feature_importances_)\n",
    "\n",
    "list(gsearch_XGBoost2.feature_importances_)\n",
    "\n",
    "plt.bar(range(len(gsearch_XGBoost2.feature_importances_)), gsearch_XGBoost2.feature_importances_)\n",
    "plt.show()"
   ]
  },
  {
   "cell_type": "code",
   "execution_count": 13,
   "metadata": {},
   "outputs": [
    {
     "data": {
      "text/html": [
       "<div>\n",
       "<style scoped>\n",
       "    .dataframe tbody tr th:only-of-type {\n",
       "        vertical-align: middle;\n",
       "    }\n",
       "\n",
       "    .dataframe tbody tr th {\n",
       "        vertical-align: top;\n",
       "    }\n",
       "\n",
       "    .dataframe thead th {\n",
       "        text-align: right;\n",
       "    }\n",
       "</style>\n",
       "<table border=\"1\" class=\"dataframe\">\n",
       "  <thead>\n",
       "    <tr style=\"text-align: right;\">\n",
       "      <th></th>\n",
       "      <th>Importance</th>\n",
       "    </tr>\n",
       "  </thead>\n",
       "  <tbody>\n",
       "    <tr>\n",
       "      <td>Component_1</td>\n",
       "      <td>0.010100</td>\n",
       "    </tr>\n",
       "    <tr>\n",
       "      <td>Component_2</td>\n",
       "      <td>0.024302</td>\n",
       "    </tr>\n",
       "    <tr>\n",
       "      <td>term_ 36 months</td>\n",
       "      <td>0.142397</td>\n",
       "    </tr>\n",
       "    <tr>\n",
       "      <td>term_ 60 months</td>\n",
       "      <td>0.052898</td>\n",
       "    </tr>\n",
       "    <tr>\n",
       "      <td>emp_length_6+ years</td>\n",
       "      <td>0.008544</td>\n",
       "    </tr>\n",
       "    <tr>\n",
       "      <td>emp_length_&lt;= 5 years</td>\n",
       "      <td>0.005258</td>\n",
       "    </tr>\n",
       "    <tr>\n",
       "      <td>home_ownership_OTHER</td>\n",
       "      <td>0.086391</td>\n",
       "    </tr>\n",
       "    <tr>\n",
       "      <td>home_ownership_OWN</td>\n",
       "      <td>0.002933</td>\n",
       "    </tr>\n",
       "    <tr>\n",
       "      <td>home_ownership_RENT</td>\n",
       "      <td>0.074166</td>\n",
       "    </tr>\n",
       "    <tr>\n",
       "      <td>verification_status_Not Verified</td>\n",
       "      <td>0.057608</td>\n",
       "    </tr>\n",
       "    <tr>\n",
       "      <td>verification_status_Source Verified</td>\n",
       "      <td>0.002796</td>\n",
       "    </tr>\n",
       "    <tr>\n",
       "      <td>verification_status_Verified</td>\n",
       "      <td>0.004115</td>\n",
       "    </tr>\n",
       "    <tr>\n",
       "      <td>purpose_debt_consolidation</td>\n",
       "      <td>0.004455</td>\n",
       "    </tr>\n",
       "    <tr>\n",
       "      <td>purpose_home</td>\n",
       "      <td>0.003629</td>\n",
       "    </tr>\n",
       "    <tr>\n",
       "      <td>purpose_investment</td>\n",
       "      <td>0.011568</td>\n",
       "    </tr>\n",
       "    <tr>\n",
       "      <td>purpose_medical</td>\n",
       "      <td>0.004215</td>\n",
       "    </tr>\n",
       "    <tr>\n",
       "      <td>purpose_other</td>\n",
       "      <td>0.003418</td>\n",
       "    </tr>\n",
       "    <tr>\n",
       "      <td>purpose_purchase</td>\n",
       "      <td>0.003914</td>\n",
       "    </tr>\n",
       "    <tr>\n",
       "      <td>application_type_Individual</td>\n",
       "      <td>0.025594</td>\n",
       "    </tr>\n",
       "    <tr>\n",
       "      <td>application_type_Joint App</td>\n",
       "      <td>0.037982</td>\n",
       "    </tr>\n",
       "    <tr>\n",
       "      <td>desc</td>\n",
       "      <td>0.035038</td>\n",
       "    </tr>\n",
       "    <tr>\n",
       "      <td>grade</td>\n",
       "      <td>0.398680</td>\n",
       "    </tr>\n",
       "  </tbody>\n",
       "</table>\n",
       "</div>"
      ],
      "text/plain": [
       "                                     Importance\n",
       "Component_1                            0.010100\n",
       "Component_2                            0.024302\n",
       "term_ 36 months                        0.142397\n",
       "term_ 60 months                        0.052898\n",
       "emp_length_6+ years                    0.008544\n",
       "emp_length_<= 5 years                  0.005258\n",
       "home_ownership_OTHER                   0.086391\n",
       "home_ownership_OWN                     0.002933\n",
       "home_ownership_RENT                    0.074166\n",
       "verification_status_Not Verified       0.057608\n",
       "verification_status_Source Verified    0.002796\n",
       "verification_status_Verified           0.004115\n",
       "purpose_debt_consolidation             0.004455\n",
       "purpose_home                           0.003629\n",
       "purpose_investment                     0.011568\n",
       "purpose_medical                        0.004215\n",
       "purpose_other                          0.003418\n",
       "purpose_purchase                       0.003914\n",
       "application_type_Individual            0.025594\n",
       "application_type_Joint App             0.037982\n",
       "desc                                   0.035038\n",
       "grade                                  0.398680"
      ]
     },
     "execution_count": 13,
     "metadata": {},
     "output_type": "execute_result"
    }
   ],
   "source": [
    "pd.DataFrame(gsearch_XGBoost2.feature_importances_, loan_final_tsne.drop('target', axis=1).columns, columns = ['Importance'])"
   ]
  },
  {
   "cell_type": "code",
   "execution_count": 14,
   "metadata": {},
   "outputs": [],
   "source": [
    "save_models('../src/Models/WithTSNE/xgboost_regression_TSNE',gsearch_XGBoost2)"
   ]
  }
 ],
 "metadata": {
  "kernelspec": {
   "display_name": "Python 3",
   "language": "python",
   "name": "python3"
  },
  "language_info": {
   "codemirror_mode": {
    "name": "ipython",
    "version": 3
   },
   "file_extension": ".py",
   "mimetype": "text/x-python",
   "name": "python",
   "nbconvert_exporter": "python",
   "pygments_lexer": "ipython3",
   "version": "3.7.4"
  }
 },
 "nbformat": 4,
 "nbformat_minor": 2
}
