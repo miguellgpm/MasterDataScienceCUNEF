{
 "cells": [
  {
   "cell_type": "markdown",
   "metadata": {},
   "source": [
    "# Predicting defaults on Lending Club database\n",
    "\n",
    "\n",
    "- Authors: Beltrán Aller López and Miguel López Garralón\n",
    "- Date: 13/12/2019\n",
    "- Email: beltran.aller@cunef.edu and m.lopez@cunef.edu\n",
    "- Institution: CUNEF\n",
    "- Version: 1.0"
   ]
  },
  {
   "cell_type": "markdown",
   "metadata": {},
   "source": [
    "Before doing anything, we will import the necessaries libraries."
   ]
  },
  {
   "cell_type": "code",
   "execution_count": 1,
   "metadata": {},
   "outputs": [],
   "source": [
    "# Libraries\n",
    "\n",
    "import numpy as np\n",
    "import pandas as pd\n",
    "import matplotlib\n",
    "from matplotlib import pyplot as plt # plots\n",
    "import seaborn as sns # plots\n",
    "from scipy import stats as sts # normality test JB\n",
    "from sklearn import metrics\n",
    "import itertools # aplanar arrays\n",
    "import math\n",
    "import random\n",
    "random.seed(1122019)\n",
    "from sklearn.decomposition import PCA"
   ]
  },
  {
   "cell_type": "markdown",
   "metadata": {},
   "source": [
    "The following variable indicates the route in which we have our dataset."
   ]
  },
  {
   "cell_type": "code",
   "execution_count": 2,
   "metadata": {},
   "outputs": [],
   "source": [
    "data_path = '../data/DE_set.csv'"
   ]
  },
  {
   "cell_type": "markdown",
   "metadata": {},
   "source": [
    "## 1. READING THE DATA"
   ]
  },
  {
   "cell_type": "markdown",
   "metadata": {},
   "source": [
    "The dataset is kept into the data directory. In the same folder you can find the data dictionary."
   ]
  },
  {
   "cell_type": "code",
   "execution_count": 3,
   "metadata": {},
   "outputs": [],
   "source": [
    "loan = pd.read_csv(data_path)"
   ]
  },
  {
   "cell_type": "code",
   "execution_count": 4,
   "metadata": {},
   "outputs": [
    {
     "name": "stdout",
     "output_type": "stream",
     "text": [
      "<class 'pandas.core.frame.DataFrame'>\n",
      "RangeIndex: 950000 entries, 0 to 949999\n",
      "Data columns (total 95 columns):\n",
      "loan_amnt                              950000 non-null float64\n",
      "int_rate                               950000 non-null float64\n",
      "installment                            950000 non-null float64\n",
      "annual_inc                             950000 non-null float64\n",
      "dti                                    950000 non-null float64\n",
      "delinq_2yrs                            950000 non-null float64\n",
      "inq_last_6mths                         950000 non-null float64\n",
      "mths_since_last_delinq                 950000 non-null float64\n",
      "mths_since_last_record                 950000 non-null float64\n",
      "open_acc                               950000 non-null float64\n",
      "pub_rec                                950000 non-null float64\n",
      "revol_bal                              950000 non-null float64\n",
      "revol_util                             950000 non-null float64\n",
      "total_acc                              950000 non-null float64\n",
      "recoveries                             950000 non-null float64\n",
      "collection_recovery_fee                950000 non-null float64\n",
      "collections_12_mths_ex_med             950000 non-null float64\n",
      "mths_since_last_major_derog            950000 non-null float64\n",
      "policy_code                            950000 non-null float64\n",
      "acc_now_delinq                         950000 non-null float64\n",
      "tot_coll_amt                           950000 non-null float64\n",
      "tot_cur_bal                            950000 non-null float64\n",
      "open_acc_6m                            950000 non-null float64\n",
      "open_act_il                            950000 non-null float64\n",
      "open_il_12m                            950000 non-null float64\n",
      "open_il_24m                            950000 non-null float64\n",
      "mths_since_rcnt_il                     950000 non-null float64\n",
      "total_bal_il                           950000 non-null float64\n",
      "il_util                                950000 non-null float64\n",
      "open_rv_12m                            950000 non-null float64\n",
      "open_rv_24m                            950000 non-null float64\n",
      "max_bal_bc                             950000 non-null float64\n",
      "all_util                               950000 non-null float64\n",
      "total_rev_hi_lim                       950000 non-null float64\n",
      "inq_fi                                 950000 non-null float64\n",
      "total_cu_tl                            950000 non-null float64\n",
      "inq_last_12m                           950000 non-null float64\n",
      "acc_open_past_24mths                   950000 non-null float64\n",
      "avg_cur_bal                            950000 non-null float64\n",
      "bc_open_to_buy                         950000 non-null float64\n",
      "bc_util                                950000 non-null float64\n",
      "chargeoff_within_12_mths               950000 non-null float64\n",
      "delinq_amnt                            950000 non-null float64\n",
      "mo_sin_old_il_acct                     950000 non-null float64\n",
      "mo_sin_old_rev_tl_op                   950000 non-null float64\n",
      "mo_sin_rcnt_rev_tl_op                  950000 non-null float64\n",
      "mo_sin_rcnt_tl                         950000 non-null float64\n",
      "mort_acc                               950000 non-null float64\n",
      "mths_since_recent_bc                   950000 non-null float64\n",
      "mths_since_recent_bc_dlq               950000 non-null float64\n",
      "mths_since_recent_inq                  950000 non-null float64\n",
      "mths_since_recent_revol_delinq         950000 non-null float64\n",
      "num_accts_ever_120_pd                  950000 non-null float64\n",
      "num_actv_bc_tl                         950000 non-null float64\n",
      "num_actv_rev_tl                        950000 non-null float64\n",
      "num_bc_sats                            950000 non-null float64\n",
      "num_bc_tl                              950000 non-null float64\n",
      "num_il_tl                              950000 non-null float64\n",
      "num_op_rev_tl                          950000 non-null float64\n",
      "num_rev_accts                          950000 non-null float64\n",
      "num_sats                               950000 non-null float64\n",
      "num_tl_120dpd_2m                       950000 non-null float64\n",
      "num_tl_30dpd                           950000 non-null float64\n",
      "num_tl_90g_dpd_24m                     950000 non-null float64\n",
      "num_tl_op_past_12m                     950000 non-null float64\n",
      "pct_tl_nvr_dlq                         950000 non-null float64\n",
      "percent_bc_gt_75                       950000 non-null float64\n",
      "pub_rec_bankruptcies                   950000 non-null float64\n",
      "tax_liens                              950000 non-null float64\n",
      "tot_hi_cred_lim                        950000 non-null float64\n",
      "total_bal_ex_mort                      950000 non-null float64\n",
      "total_bc_limit                         950000 non-null float64\n",
      "total_il_high_credit_limit             950000 non-null float64\n",
      "earliest_cr_line                       950000 non-null float64\n",
      "term_ 36 months                        950000 non-null int64\n",
      "term_ 60 months                        950000 non-null int64\n",
      "emp_length_6+ years                    950000 non-null int64\n",
      "emp_length_<= 5 years                  950000 non-null int64\n",
      "home_ownership_OTHER                   950000 non-null int64\n",
      "home_ownership_OWN                     950000 non-null int64\n",
      "home_ownership_RENT                    950000 non-null int64\n",
      "verification_status_Not Verified       950000 non-null int64\n",
      "verification_status_Source Verified    950000 non-null int64\n",
      "verification_status_Verified           950000 non-null int64\n",
      "purpose_debt_consolidation             950000 non-null int64\n",
      "purpose_home                           950000 non-null int64\n",
      "purpose_investment                     950000 non-null int64\n",
      "purpose_medical                        950000 non-null int64\n",
      "purpose_other                          950000 non-null int64\n",
      "purpose_purchase                       950000 non-null int64\n",
      "application_type_Individual            950000 non-null int64\n",
      "application_type_Joint App             950000 non-null int64\n",
      "target                                 950000 non-null int64\n",
      "desc                                   950000 non-null int64\n",
      "grade                                  950000 non-null int64\n",
      "dtypes: float64(74), int64(21)\n",
      "memory usage: 688.6 MB\n"
     ]
    }
   ],
   "source": [
    "loan.info()"
   ]
  },
  {
   "cell_type": "code",
   "execution_count": 5,
   "metadata": {},
   "outputs": [
    {
     "data": {
      "text/html": [
       "<div>\n",
       "<style scoped>\n",
       "    .dataframe tbody tr th:only-of-type {\n",
       "        vertical-align: middle;\n",
       "    }\n",
       "\n",
       "    .dataframe tbody tr th {\n",
       "        vertical-align: top;\n",
       "    }\n",
       "\n",
       "    .dataframe thead th {\n",
       "        text-align: right;\n",
       "    }\n",
       "</style>\n",
       "<table border=\"1\" class=\"dataframe\">\n",
       "  <thead>\n",
       "    <tr style=\"text-align: right;\">\n",
       "      <th></th>\n",
       "      <th>loan_amnt</th>\n",
       "      <th>int_rate</th>\n",
       "      <th>installment</th>\n",
       "      <th>annual_inc</th>\n",
       "      <th>dti</th>\n",
       "      <th>delinq_2yrs</th>\n",
       "      <th>inq_last_6mths</th>\n",
       "      <th>mths_since_last_delinq</th>\n",
       "      <th>mths_since_last_record</th>\n",
       "      <th>open_acc</th>\n",
       "      <th>...</th>\n",
       "      <th>purpose_home</th>\n",
       "      <th>purpose_investment</th>\n",
       "      <th>purpose_medical</th>\n",
       "      <th>purpose_other</th>\n",
       "      <th>purpose_purchase</th>\n",
       "      <th>application_type_Individual</th>\n",
       "      <th>application_type_Joint App</th>\n",
       "      <th>target</th>\n",
       "      <th>desc</th>\n",
       "      <th>grade</th>\n",
       "    </tr>\n",
       "  </thead>\n",
       "  <tbody>\n",
       "    <tr>\n",
       "      <td>0</td>\n",
       "      <td>0.662751</td>\n",
       "      <td>1.494076</td>\n",
       "      <td>0.382284</td>\n",
       "      <td>-0.172057</td>\n",
       "      <td>0.158557</td>\n",
       "      <td>0.938666</td>\n",
       "      <td>0.384337</td>\n",
       "      <td>-1.227805</td>\n",
       "      <td>0.397505</td>\n",
       "      <td>1.560443</td>\n",
       "      <td>...</td>\n",
       "      <td>0</td>\n",
       "      <td>0</td>\n",
       "      <td>0</td>\n",
       "      <td>0</td>\n",
       "      <td>0</td>\n",
       "      <td>1</td>\n",
       "      <td>0</td>\n",
       "      <td>0</td>\n",
       "      <td>0</td>\n",
       "      <td>2</td>\n",
       "    </tr>\n",
       "    <tr>\n",
       "      <td>1</td>\n",
       "      <td>-1.195200</td>\n",
       "      <td>-0.862249</td>\n",
       "      <td>-1.191234</td>\n",
       "      <td>-0.567631</td>\n",
       "      <td>-1.060041</td>\n",
       "      <td>-0.370282</td>\n",
       "      <td>-0.680940</td>\n",
       "      <td>0.961941</td>\n",
       "      <td>0.397505</td>\n",
       "      <td>-1.243822</td>\n",
       "      <td>...</td>\n",
       "      <td>0</td>\n",
       "      <td>0</td>\n",
       "      <td>0</td>\n",
       "      <td>0</td>\n",
       "      <td>0</td>\n",
       "      <td>1</td>\n",
       "      <td>0</td>\n",
       "      <td>0</td>\n",
       "      <td>0</td>\n",
       "      <td>5</td>\n",
       "    </tr>\n",
       "    <tr>\n",
       "      <td>2</td>\n",
       "      <td>-0.492982</td>\n",
       "      <td>-1.133558</td>\n",
       "      <td>-0.464256</td>\n",
       "      <td>-0.201359</td>\n",
       "      <td>-1.149479</td>\n",
       "      <td>-0.370282</td>\n",
       "      <td>-0.680940</td>\n",
       "      <td>0.961941</td>\n",
       "      <td>0.397505</td>\n",
       "      <td>-1.644431</td>\n",
       "      <td>...</td>\n",
       "      <td>0</td>\n",
       "      <td>0</td>\n",
       "      <td>0</td>\n",
       "      <td>0</td>\n",
       "      <td>0</td>\n",
       "      <td>1</td>\n",
       "      <td>0</td>\n",
       "      <td>0</td>\n",
       "      <td>1</td>\n",
       "      <td>6</td>\n",
       "    </tr>\n",
       "    <tr>\n",
       "      <td>3</td>\n",
       "      <td>-1.253718</td>\n",
       "      <td>-0.584532</td>\n",
       "      <td>-1.245387</td>\n",
       "      <td>0.025730</td>\n",
       "      <td>-0.124664</td>\n",
       "      <td>-0.370282</td>\n",
       "      <td>0.384337</td>\n",
       "      <td>-0.938593</td>\n",
       "      <td>0.397505</td>\n",
       "      <td>0.959529</td>\n",
       "      <td>...</td>\n",
       "      <td>0</td>\n",
       "      <td>0</td>\n",
       "      <td>0</td>\n",
       "      <td>1</td>\n",
       "      <td>0</td>\n",
       "      <td>1</td>\n",
       "      <td>0</td>\n",
       "      <td>0</td>\n",
       "      <td>0</td>\n",
       "      <td>5</td>\n",
       "    </tr>\n",
       "    <tr>\n",
       "      <td>4</td>\n",
       "      <td>-0.229651</td>\n",
       "      <td>2.944616</td>\n",
       "      <td>-0.224740</td>\n",
       "      <td>-0.218896</td>\n",
       "      <td>0.738043</td>\n",
       "      <td>-0.370282</td>\n",
       "      <td>-0.680940</td>\n",
       "      <td>0.961941</td>\n",
       "      <td>-0.769116</td>\n",
       "      <td>-1.043517</td>\n",
       "      <td>...</td>\n",
       "      <td>0</td>\n",
       "      <td>0</td>\n",
       "      <td>0</td>\n",
       "      <td>0</td>\n",
       "      <td>0</td>\n",
       "      <td>1</td>\n",
       "      <td>0</td>\n",
       "      <td>1</td>\n",
       "      <td>0</td>\n",
       "      <td>1</td>\n",
       "    </tr>\n",
       "  </tbody>\n",
       "</table>\n",
       "<p>5 rows × 95 columns</p>\n",
       "</div>"
      ],
      "text/plain": [
       "   loan_amnt  int_rate  installment  annual_inc       dti  delinq_2yrs  \\\n",
       "0   0.662751  1.494076     0.382284   -0.172057  0.158557     0.938666   \n",
       "1  -1.195200 -0.862249    -1.191234   -0.567631 -1.060041    -0.370282   \n",
       "2  -0.492982 -1.133558    -0.464256   -0.201359 -1.149479    -0.370282   \n",
       "3  -1.253718 -0.584532    -1.245387    0.025730 -0.124664    -0.370282   \n",
       "4  -0.229651  2.944616    -0.224740   -0.218896  0.738043    -0.370282   \n",
       "\n",
       "   inq_last_6mths  mths_since_last_delinq  mths_since_last_record  open_acc  \\\n",
       "0        0.384337               -1.227805                0.397505  1.560443   \n",
       "1       -0.680940                0.961941                0.397505 -1.243822   \n",
       "2       -0.680940                0.961941                0.397505 -1.644431   \n",
       "3        0.384337               -0.938593                0.397505  0.959529   \n",
       "4       -0.680940                0.961941               -0.769116 -1.043517   \n",
       "\n",
       "   ...  purpose_home  purpose_investment  purpose_medical  purpose_other  \\\n",
       "0  ...             0                   0                0              0   \n",
       "1  ...             0                   0                0              0   \n",
       "2  ...             0                   0                0              0   \n",
       "3  ...             0                   0                0              1   \n",
       "4  ...             0                   0                0              0   \n",
       "\n",
       "   purpose_purchase  application_type_Individual  application_type_Joint App  \\\n",
       "0                 0                            1                           0   \n",
       "1                 0                            1                           0   \n",
       "2                 0                            1                           0   \n",
       "3                 0                            1                           0   \n",
       "4                 0                            1                           0   \n",
       "\n",
       "   target  desc  grade  \n",
       "0       0     0      2  \n",
       "1       0     0      5  \n",
       "2       0     1      6  \n",
       "3       0     0      5  \n",
       "4       1     0      1  \n",
       "\n",
       "[5 rows x 95 columns]"
      ]
     },
     "execution_count": 5,
     "metadata": {},
     "output_type": "execute_result"
    }
   ],
   "source": [
    "loan.head()"
   ]
  },
  {
   "cell_type": "markdown",
   "metadata": {},
   "source": [
    "The first thing we have to do is splitting the dataset between numerical and categorical variables."
   ]
  },
  {
   "cell_type": "code",
   "execution_count": 6,
   "metadata": {},
   "outputs": [],
   "source": [
    "numericas = loan.select_dtypes(include = [np.float64])"
   ]
  },
  {
   "cell_type": "code",
   "execution_count": 7,
   "metadata": {},
   "outputs": [
    {
     "name": "stdout",
     "output_type": "stream",
     "text": [
      "<class 'pandas.core.frame.DataFrame'>\n",
      "RangeIndex: 950000 entries, 0 to 949999\n",
      "Data columns (total 74 columns):\n",
      "loan_amnt                         950000 non-null float64\n",
      "int_rate                          950000 non-null float64\n",
      "installment                       950000 non-null float64\n",
      "annual_inc                        950000 non-null float64\n",
      "dti                               950000 non-null float64\n",
      "delinq_2yrs                       950000 non-null float64\n",
      "inq_last_6mths                    950000 non-null float64\n",
      "mths_since_last_delinq            950000 non-null float64\n",
      "mths_since_last_record            950000 non-null float64\n",
      "open_acc                          950000 non-null float64\n",
      "pub_rec                           950000 non-null float64\n",
      "revol_bal                         950000 non-null float64\n",
      "revol_util                        950000 non-null float64\n",
      "total_acc                         950000 non-null float64\n",
      "recoveries                        950000 non-null float64\n",
      "collection_recovery_fee           950000 non-null float64\n",
      "collections_12_mths_ex_med        950000 non-null float64\n",
      "mths_since_last_major_derog       950000 non-null float64\n",
      "policy_code                       950000 non-null float64\n",
      "acc_now_delinq                    950000 non-null float64\n",
      "tot_coll_amt                      950000 non-null float64\n",
      "tot_cur_bal                       950000 non-null float64\n",
      "open_acc_6m                       950000 non-null float64\n",
      "open_act_il                       950000 non-null float64\n",
      "open_il_12m                       950000 non-null float64\n",
      "open_il_24m                       950000 non-null float64\n",
      "mths_since_rcnt_il                950000 non-null float64\n",
      "total_bal_il                      950000 non-null float64\n",
      "il_util                           950000 non-null float64\n",
      "open_rv_12m                       950000 non-null float64\n",
      "open_rv_24m                       950000 non-null float64\n",
      "max_bal_bc                        950000 non-null float64\n",
      "all_util                          950000 non-null float64\n",
      "total_rev_hi_lim                  950000 non-null float64\n",
      "inq_fi                            950000 non-null float64\n",
      "total_cu_tl                       950000 non-null float64\n",
      "inq_last_12m                      950000 non-null float64\n",
      "acc_open_past_24mths              950000 non-null float64\n",
      "avg_cur_bal                       950000 non-null float64\n",
      "bc_open_to_buy                    950000 non-null float64\n",
      "bc_util                           950000 non-null float64\n",
      "chargeoff_within_12_mths          950000 non-null float64\n",
      "delinq_amnt                       950000 non-null float64\n",
      "mo_sin_old_il_acct                950000 non-null float64\n",
      "mo_sin_old_rev_tl_op              950000 non-null float64\n",
      "mo_sin_rcnt_rev_tl_op             950000 non-null float64\n",
      "mo_sin_rcnt_tl                    950000 non-null float64\n",
      "mort_acc                          950000 non-null float64\n",
      "mths_since_recent_bc              950000 non-null float64\n",
      "mths_since_recent_bc_dlq          950000 non-null float64\n",
      "mths_since_recent_inq             950000 non-null float64\n",
      "mths_since_recent_revol_delinq    950000 non-null float64\n",
      "num_accts_ever_120_pd             950000 non-null float64\n",
      "num_actv_bc_tl                    950000 non-null float64\n",
      "num_actv_rev_tl                   950000 non-null float64\n",
      "num_bc_sats                       950000 non-null float64\n",
      "num_bc_tl                         950000 non-null float64\n",
      "num_il_tl                         950000 non-null float64\n",
      "num_op_rev_tl                     950000 non-null float64\n",
      "num_rev_accts                     950000 non-null float64\n",
      "num_sats                          950000 non-null float64\n",
      "num_tl_120dpd_2m                  950000 non-null float64\n",
      "num_tl_30dpd                      950000 non-null float64\n",
      "num_tl_90g_dpd_24m                950000 non-null float64\n",
      "num_tl_op_past_12m                950000 non-null float64\n",
      "pct_tl_nvr_dlq                    950000 non-null float64\n",
      "percent_bc_gt_75                  950000 non-null float64\n",
      "pub_rec_bankruptcies              950000 non-null float64\n",
      "tax_liens                         950000 non-null float64\n",
      "tot_hi_cred_lim                   950000 non-null float64\n",
      "total_bal_ex_mort                 950000 non-null float64\n",
      "total_bc_limit                    950000 non-null float64\n",
      "total_il_high_credit_limit        950000 non-null float64\n",
      "earliest_cr_line                  950000 non-null float64\n",
      "dtypes: float64(74)\n",
      "memory usage: 536.3 MB\n"
     ]
    }
   ],
   "source": [
    "numericas.info()"
   ]
  },
  {
   "cell_type": "code",
   "execution_count": 8,
   "metadata": {},
   "outputs": [],
   "source": [
    "categoricas = loan.drop(list(numericas.columns), axis = 1)"
   ]
  },
  {
   "cell_type": "code",
   "execution_count": 9,
   "metadata": {},
   "outputs": [
    {
     "name": "stdout",
     "output_type": "stream",
     "text": [
      "<class 'pandas.core.frame.DataFrame'>\n",
      "RangeIndex: 950000 entries, 0 to 949999\n",
      "Data columns (total 21 columns):\n",
      "term_ 36 months                        950000 non-null int64\n",
      "term_ 60 months                        950000 non-null int64\n",
      "emp_length_6+ years                    950000 non-null int64\n",
      "emp_length_<= 5 years                  950000 non-null int64\n",
      "home_ownership_OTHER                   950000 non-null int64\n",
      "home_ownership_OWN                     950000 non-null int64\n",
      "home_ownership_RENT                    950000 non-null int64\n",
      "verification_status_Not Verified       950000 non-null int64\n",
      "verification_status_Source Verified    950000 non-null int64\n",
      "verification_status_Verified           950000 non-null int64\n",
      "purpose_debt_consolidation             950000 non-null int64\n",
      "purpose_home                           950000 non-null int64\n",
      "purpose_investment                     950000 non-null int64\n",
      "purpose_medical                        950000 non-null int64\n",
      "purpose_other                          950000 non-null int64\n",
      "purpose_purchase                       950000 non-null int64\n",
      "application_type_Individual            950000 non-null int64\n",
      "application_type_Joint App             950000 non-null int64\n",
      "target                                 950000 non-null int64\n",
      "desc                                   950000 non-null int64\n",
      "grade                                  950000 non-null int64\n",
      "dtypes: int64(21)\n",
      "memory usage: 152.2 MB\n"
     ]
    }
   ],
   "source": [
    "categoricas.info()"
   ]
  },
  {
   "cell_type": "markdown",
   "metadata": {},
   "source": [
    "## 2. PCA"
   ]
  },
  {
   "cell_type": "markdown",
   "metadata": {},
   "source": [
    "We have made a dimensionality reduction analysis with PCA to reduce the number of numerical variables. In the first moment, we have 74 numerical variables, and we want to have less variables. "
   ]
  },
  {
   "cell_type": "code",
   "execution_count": 10,
   "metadata": {},
   "outputs": [],
   "source": [
    "pca = PCA()\n",
    "num_scaled_pca = pca.fit_transform(numericas)"
   ]
  },
  {
   "cell_type": "code",
   "execution_count": 11,
   "metadata": {},
   "outputs": [],
   "source": [
    "# to select the number of components\n",
    "explained_variance = pca.explained_variance_ratio_"
   ]
  },
  {
   "cell_type": "code",
   "execution_count": 12,
   "metadata": {},
   "outputs": [
    {
     "data": {
      "image/png": "[encoded data removed]",
      "text/plain": [
       "<Figure size 432x288 with 1 Axes>"
      ]
     },
     "metadata": {
      "needs_background": "light"
     },
     "output_type": "display_data"
    }
   ],
   "source": [
    "plt.plot(np.cumsum(pca.explained_variance_ratio_))\n",
    "plt.xlabel('number of components')\n",
    "plt.ylabel('cumulative explained variance');"
   ]
  },
  {
   "cell_type": "code",
   "execution_count": 13,
   "metadata": {},
   "outputs": [
    {
     "data": {
      "text/html": [
       "<div>\n",
       "<style scoped>\n",
       "    .dataframe tbody tr th:only-of-type {\n",
       "        vertical-align: middle;\n",
       "    }\n",
       "\n",
       "    .dataframe tbody tr th {\n",
       "        vertical-align: top;\n",
       "    }\n",
       "\n",
       "    .dataframe thead th {\n",
       "        text-align: right;\n",
       "    }\n",
       "</style>\n",
       "<table border=\"1\" class=\"dataframe\">\n",
       "  <thead>\n",
       "    <tr style=\"text-align: right;\">\n",
       "      <th></th>\n",
       "      <th>Percentage of variance explained</th>\n",
       "    </tr>\n",
       "  </thead>\n",
       "  <tbody>\n",
       "    <tr>\n",
       "      <td>0</td>\n",
       "      <td>0.117660</td>\n",
       "    </tr>\n",
       "    <tr>\n",
       "      <td>1</td>\n",
       "      <td>0.108646</td>\n",
       "    </tr>\n",
       "    <tr>\n",
       "      <td>2</td>\n",
       "      <td>0.067449</td>\n",
       "    </tr>\n",
       "    <tr>\n",
       "      <td>3</td>\n",
       "      <td>0.062593</td>\n",
       "    </tr>\n",
       "    <tr>\n",
       "      <td>4</td>\n",
       "      <td>0.047976</td>\n",
       "    </tr>\n",
       "    <tr>\n",
       "      <td>5</td>\n",
       "      <td>0.040899</td>\n",
       "    </tr>\n",
       "    <tr>\n",
       "      <td>6</td>\n",
       "      <td>0.036475</td>\n",
       "    </tr>\n",
       "    <tr>\n",
       "      <td>7</td>\n",
       "      <td>0.033605</td>\n",
       "    </tr>\n",
       "    <tr>\n",
       "      <td>8</td>\n",
       "      <td>0.028206</td>\n",
       "    </tr>\n",
       "    <tr>\n",
       "      <td>9</td>\n",
       "      <td>0.026448</td>\n",
       "    </tr>\n",
       "    <tr>\n",
       "      <td>10</td>\n",
       "      <td>0.023002</td>\n",
       "    </tr>\n",
       "    <tr>\n",
       "      <td>11</td>\n",
       "      <td>0.019781</td>\n",
       "    </tr>\n",
       "    <tr>\n",
       "      <td>12</td>\n",
       "      <td>0.018821</td>\n",
       "    </tr>\n",
       "    <tr>\n",
       "      <td>13</td>\n",
       "      <td>0.018233</td>\n",
       "    </tr>\n",
       "    <tr>\n",
       "      <td>14</td>\n",
       "      <td>0.016977</td>\n",
       "    </tr>\n",
       "    <tr>\n",
       "      <td>15</td>\n",
       "      <td>0.016119</td>\n",
       "    </tr>\n",
       "    <tr>\n",
       "      <td>16</td>\n",
       "      <td>0.015051</td>\n",
       "    </tr>\n",
       "    <tr>\n",
       "      <td>17</td>\n",
       "      <td>0.014733</td>\n",
       "    </tr>\n",
       "    <tr>\n",
       "      <td>18</td>\n",
       "      <td>0.014059</td>\n",
       "    </tr>\n",
       "    <tr>\n",
       "      <td>19</td>\n",
       "      <td>0.013716</td>\n",
       "    </tr>\n",
       "  </tbody>\n",
       "</table>\n",
       "</div>"
      ],
      "text/plain": [
       "    Percentage of variance explained\n",
       "0                           0.117660\n",
       "1                           0.108646\n",
       "2                           0.067449\n",
       "3                           0.062593\n",
       "4                           0.047976\n",
       "5                           0.040899\n",
       "6                           0.036475\n",
       "7                           0.033605\n",
       "8                           0.028206\n",
       "9                           0.026448\n",
       "10                          0.023002\n",
       "11                          0.019781\n",
       "12                          0.018821\n",
       "13                          0.018233\n",
       "14                          0.016977\n",
       "15                          0.016119\n",
       "16                          0.015051\n",
       "17                          0.014733\n",
       "18                          0.014059\n",
       "19                          0.013716"
      ]
     },
     "execution_count": 13,
     "metadata": {},
     "output_type": "execute_result"
    }
   ],
   "source": [
    "explained_variance_df = pd.DataFrame(explained_variance, columns=['Percentage of variance explained'])\n",
    "explained_variance_df.head(20)"
   ]
  },
  {
   "cell_type": "code",
   "execution_count": 14,
   "metadata": {},
   "outputs": [
    {
     "data": {
      "text/plain": [
       "<matplotlib.axes._subplots.AxesSubplot at 0x1bd783a2188>"
      ]
     },
     "execution_count": 14,
     "metadata": {},
     "output_type": "execute_result"
    },
    {
     "data": {
      "image/png": "[encoded data removed]",
      "text/plain": [
       "<Figure size 1080x432 with 1 Axes>"
      ]
     },
     "metadata": {
      "needs_background": "light"
     },
     "output_type": "display_data"
    }
   ],
   "source": [
    "figura, ax1 = plt.subplots(1,  figsize = (15,6))\n",
    "explained_variance_df.plot(ax=ax1, kind = 'bar')"
   ]
  },
  {
   "cell_type": "code",
   "execution_count": 15,
   "metadata": {},
   "outputs": [
    {
     "data": {
      "text/plain": [
       "Percentage of variance explained    0.631561\n",
       "dtype: float64"
      ]
     },
     "execution_count": 15,
     "metadata": {},
     "output_type": "execute_result"
    }
   ],
   "source": [
    "# 13 elements\n",
    "\n",
    "explained_variance_df.loc[0:12,].sum()"
   ]
  },
  {
   "cell_type": "code",
   "execution_count": 16,
   "metadata": {},
   "outputs": [
    {
     "data": {
      "text/plain": [
       "Percentage of variance explained    0.753897\n",
       "dtype: float64"
      ]
     },
     "execution_count": 16,
     "metadata": {},
     "output_type": "execute_result"
    }
   ],
   "source": [
    "# 21 elements\n",
    "\n",
    "explained_variance_df.loc[0:20,].sum()"
   ]
  },
  {
   "cell_type": "markdown",
   "metadata": {},
   "source": [
    "According to the results we have obtained, finally we will decide to select 21 elements."
   ]
  },
  {
   "cell_type": "code",
   "execution_count": 17,
   "metadata": {},
   "outputs": [],
   "source": [
    "pca = PCA(n_components=21)\n",
    "num_scaled_pca = pca.fit_transform(numericas)"
   ]
  },
  {
   "cell_type": "code",
   "execution_count": 18,
   "metadata": {},
   "outputs": [
    {
     "data": {
      "image/png": "[encoded data removed]",
      "text/plain": [
       "<Figure size 432x288 with 2 Axes>"
      ]
     },
     "metadata": {
      "needs_background": "light"
     },
     "output_type": "display_data"
    }
   ],
   "source": [
    "plt.scatter(num_scaled_pca[:, 0], num_scaled_pca[:, 1],\n",
    "            c=loan.target, edgecolor='none', alpha=0.5)\n",
    "plt.xlabel('component 1')\n",
    "plt.ylabel('component 2')\n",
    "plt.colorbar();"
   ]
  },
  {
   "cell_type": "code",
   "execution_count": 19,
   "metadata": {},
   "outputs": [],
   "source": [
    "num_scaled_pca = pd.DataFrame(num_scaled_pca, columns = ['Component_1', 'Component_2', 'Component_3', 'Component_4',\n",
    "                                                           'Component_5', 'Component_6', 'Component_7', 'Component_8',\n",
    "                                                           'Component_9', 'Component_10', 'Component_11', 'Component_12',\n",
    "                                                           'Component_13', 'Component_14', 'Component_15', 'Component_16',\n",
    "                                                           'Component_17', 'Component_18', 'Component_19', 'Component_20',\n",
    "                                                           'Component_21',])"
   ]
  },
  {
   "cell_type": "code",
   "execution_count": 20,
   "metadata": {},
   "outputs": [
    {
     "name": "stdout",
     "output_type": "stream",
     "text": [
      "<class 'pandas.core.frame.DataFrame'>\n",
      "RangeIndex: 950000 entries, 0 to 949999\n",
      "Data columns (total 21 columns):\n",
      "Component_1     950000 non-null float64\n",
      "Component_2     950000 non-null float64\n",
      "Component_3     950000 non-null float64\n",
      "Component_4     950000 non-null float64\n",
      "Component_5     950000 non-null float64\n",
      "Component_6     950000 non-null float64\n",
      "Component_7     950000 non-null float64\n",
      "Component_8     950000 non-null float64\n",
      "Component_9     950000 non-null float64\n",
      "Component_10    950000 non-null float64\n",
      "Component_11    950000 non-null float64\n",
      "Component_12    950000 non-null float64\n",
      "Component_13    950000 non-null float64\n",
      "Component_14    950000 non-null float64\n",
      "Component_15    950000 non-null float64\n",
      "Component_16    950000 non-null float64\n",
      "Component_17    950000 non-null float64\n",
      "Component_18    950000 non-null float64\n",
      "Component_19    950000 non-null float64\n",
      "Component_20    950000 non-null float64\n",
      "Component_21    950000 non-null float64\n",
      "dtypes: float64(21)\n",
      "memory usage: 152.2 MB\n"
     ]
    }
   ],
   "source": [
    "num_scaled_pca.info()"
   ]
  },
  {
   "cell_type": "code",
   "execution_count": 21,
   "metadata": {},
   "outputs": [],
   "source": [
    "loan_final = pd.concat([num_scaled_pca, categoricas], axis = 1)"
   ]
  },
  {
   "cell_type": "code",
   "execution_count": 22,
   "metadata": {},
   "outputs": [
    {
     "name": "stdout",
     "output_type": "stream",
     "text": [
      "<class 'pandas.core.frame.DataFrame'>\n",
      "RangeIndex: 950000 entries, 0 to 949999\n",
      "Data columns (total 42 columns):\n",
      "Component_1                            950000 non-null float64\n",
      "Component_2                            950000 non-null float64\n",
      "Component_3                            950000 non-null float64\n",
      "Component_4                            950000 non-null float64\n",
      "Component_5                            950000 non-null float64\n",
      "Component_6                            950000 non-null float64\n",
      "Component_7                            950000 non-null float64\n",
      "Component_8                            950000 non-null float64\n",
      "Component_9                            950000 non-null float64\n",
      "Component_10                           950000 non-null float64\n",
      "Component_11                           950000 non-null float64\n",
      "Component_12                           950000 non-null float64\n",
      "Component_13                           950000 non-null float64\n",
      "Component_14                           950000 non-null float64\n",
      "Component_15                           950000 non-null float64\n",
      "Component_16                           950000 non-null float64\n",
      "Component_17                           950000 non-null float64\n",
      "Component_18                           950000 non-null float64\n",
      "Component_19                           950000 non-null float64\n",
      "Component_20                           950000 non-null float64\n",
      "Component_21                           950000 non-null float64\n",
      "term_ 36 months                        950000 non-null int64\n",
      "term_ 60 months                        950000 non-null int64\n",
      "emp_length_6+ years                    950000 non-null int64\n",
      "emp_length_<= 5 years                  950000 non-null int64\n",
      "home_ownership_OTHER                   950000 non-null int64\n",
      "home_ownership_OWN                     950000 non-null int64\n",
      "home_ownership_RENT                    950000 non-null int64\n",
      "verification_status_Not Verified       950000 non-null int64\n",
      "verification_status_Source Verified    950000 non-null int64\n",
      "verification_status_Verified           950000 non-null int64\n",
      "purpose_debt_consolidation             950000 non-null int64\n",
      "purpose_home                           950000 non-null int64\n",
      "purpose_investment                     950000 non-null int64\n",
      "purpose_medical                        950000 non-null int64\n",
      "purpose_other                          950000 non-null int64\n",
      "purpose_purchase                       950000 non-null int64\n",
      "application_type_Individual            950000 non-null int64\n",
      "application_type_Joint App             950000 non-null int64\n",
      "target                                 950000 non-null int64\n",
      "desc                                   950000 non-null int64\n",
      "grade                                  950000 non-null int64\n",
      "dtypes: float64(21), int64(21)\n",
      "memory usage: 304.4 MB\n"
     ]
    }
   ],
   "source": [
    "loan_final.info()"
   ]
  },
  {
   "cell_type": "code",
   "execution_count": 23,
   "metadata": {},
   "outputs": [],
   "source": [
    "loan_final.to_csv('../data/PCA_set.csv', index = None, header=True)"
   ]
  }
 ],
 "metadata": {
  "kernelspec": {
   "display_name": "Python 3",
   "language": "python",
   "name": "python3"
  },
  "language_info": {
   "codemirror_mode": {
    "name": "ipython",
    "version": 3
   },
   "file_extension": ".py",
   "mimetype": "text/x-python",
   "name": "python",
   "nbconvert_exporter": "python",
   "pygments_lexer": "ipython3",
   "version": "3.7.4"
  }
 },
 "nbformat": 4,
 "nbformat_minor": 2
}
